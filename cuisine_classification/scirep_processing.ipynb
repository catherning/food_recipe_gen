{
 "cells": [
  {
   "cell_type": "code",
   "execution_count": 1,
   "metadata": {},
   "outputs": [],
   "source": [
    "import os\n",
    "import pandas as pd\n",
    "import matplotlib.pyplot as plt\n",
    "from collections import Counter\n",
    "import numpy as np\n",
    "\n",
    "from sklearn.feature_extraction.text import CountVectorizer\n",
    "from sklearn.cluster import MiniBatchKMeans\n",
    "from sklearn.decomposition import TruncatedSVD\n",
    "from sklearn.metrics import pairwise_distances_argmin_min"
   ]
  },
  {
   "cell_type": "code",
   "execution_count": 2,
   "metadata": {},
   "outputs": [],
   "source": [
    "FOLDER_PATH = \"D:\\\\Google Drive\\\\Catherning Folder\\\\THU\\\\Thesis\\\\Recipe datasets\\\\scirep-cuisines-detail\"\n",
    "FILES = [\"allr_recipes.txt\",\"epic_recipes.txt\",\"menu_recipes.txt\"]"
   ]
  },
  {
   "cell_type": "code",
   "execution_count": 3,
   "metadata": {},
   "outputs": [],
   "source": [
    "recipes = []\n",
    "for file in FILES:\n",
    "    with open(os.path.join(FOLDER_PATH,file)) as f:\n",
    "        for i,recipe in enumerate(f):\n",
    "            data = recipe.strip('\\n').split('\\t')\n",
    "            recipes.append({\"cuisine\":data[0],\"id\":i,\"ingredients\":data[1:]})\n",
    "        \n",
    "df_train = pd.DataFrame(recipes)\n",
    "df_train['all_ingredients'] = df_train['ingredients'].map(\";\".join)"
   ]
  },
  {
   "cell_type": "markdown",
   "metadata": {},
   "source": [
    "### Data cleaning"
   ]
  },
  {
   "cell_type": "code",
   "execution_count": 4,
   "metadata": {},
   "outputs": [
    {
     "data": {
      "text/html": [
       "<div>\n",
       "<style scoped>\n",
       "    .dataframe tbody tr th:only-of-type {\n",
       "        vertical-align: middle;\n",
       "    }\n",
       "\n",
       "    .dataframe tbody tr th {\n",
       "        vertical-align: top;\n",
       "    }\n",
       "\n",
       "    .dataframe thead th {\n",
       "        text-align: right;\n",
       "    }\n",
       "</style>\n",
       "<table border=\"1\" class=\"dataframe\">\n",
       "  <thead>\n",
       "    <tr style=\"text-align: right;\">\n",
       "      <th></th>\n",
       "      <th>cuisine</th>\n",
       "      <th>id</th>\n",
       "      <th>ingredients</th>\n",
       "      <th>all_ingredients</th>\n",
       "    </tr>\n",
       "  </thead>\n",
       "  <tbody>\n",
       "    <tr>\n",
       "      <td>0</td>\n",
       "      <td>Canada</td>\n",
       "      <td>0</td>\n",
       "      <td>[egg, yeast, wheat, milk, lard]</td>\n",
       "      <td>egg;yeast;wheat;milk;lard</td>\n",
       "    </tr>\n",
       "    <tr>\n",
       "      <td>1</td>\n",
       "      <td>Canada</td>\n",
       "      <td>1</td>\n",
       "      <td>[pork, carrot, pea, onion, potato]</td>\n",
       "      <td>pork;carrot;pea;onion;potato</td>\n",
       "    </tr>\n",
       "    <tr>\n",
       "      <td>2</td>\n",
       "      <td>Canada</td>\n",
       "      <td>2</td>\n",
       "      <td>[maple_syrup]</td>\n",
       "      <td>maple_syrup</td>\n",
       "    </tr>\n",
       "    <tr>\n",
       "      <td>3</td>\n",
       "      <td>Canada</td>\n",
       "      <td>3</td>\n",
       "      <td>[wheat, yeast, almond, honey, oat, date, veget...</td>\n",
       "      <td>wheat;yeast;almond;honey;oat;date;vegetable_oi...</td>\n",
       "    </tr>\n",
       "    <tr>\n",
       "      <td>4</td>\n",
       "      <td>Canada</td>\n",
       "      <td>4</td>\n",
       "      <td>[butter, lovage, clam, wheat, onion, thyme, po...</td>\n",
       "      <td>butter;lovage;clam;wheat;onion;thyme;potato;ye...</td>\n",
       "    </tr>\n",
       "    <tr>\n",
       "      <td>...</td>\n",
       "      <td>...</td>\n",
       "      <td>...</td>\n",
       "      <td>...</td>\n",
       "      <td>...</td>\n",
       "    </tr>\n",
       "    <tr>\n",
       "      <td>57686</td>\n",
       "      <td>Italian</td>\n",
       "      <td>2453</td>\n",
       "      <td>[kiwi, olive_oil, clam, white_wine, orange, sa...</td>\n",
       "      <td>kiwi;olive_oil;clam;white_wine;orange;salmon;f...</td>\n",
       "    </tr>\n",
       "    <tr>\n",
       "      <td>57687</td>\n",
       "      <td>Italian</td>\n",
       "      <td>2454</td>\n",
       "      <td>[tomato, butter, beef, onion, red_wine, black_...</td>\n",
       "      <td>tomato;butter;beef;onion;red_wine;black_pepper...</td>\n",
       "    </tr>\n",
       "    <tr>\n",
       "      <td>57688</td>\n",
       "      <td>Italian</td>\n",
       "      <td>2455</td>\n",
       "      <td>[vegetable, wheat, egg, cheese, olive_oil]</td>\n",
       "      <td>vegetable;wheat;egg;cheese;olive_oil</td>\n",
       "    </tr>\n",
       "    <tr>\n",
       "      <td>57689</td>\n",
       "      <td>Italian</td>\n",
       "      <td>2456</td>\n",
       "      <td>[tomato, clam, black_pepper, parsley, celery, ...</td>\n",
       "      <td>tomato;clam;black_pepper;parsley;celery;macaroni</td>\n",
       "    </tr>\n",
       "    <tr>\n",
       "      <td>57690</td>\n",
       "      <td>Italian</td>\n",
       "      <td>2457</td>\n",
       "      <td>[cheese, onion, bacon, black_pepper, parsley, ...</td>\n",
       "      <td>cheese;onion;bacon;black_pepper;parsley;macaro...</td>\n",
       "    </tr>\n",
       "  </tbody>\n",
       "</table>\n",
       "<p>57691 rows × 4 columns</p>\n",
       "</div>"
      ],
      "text/plain": [
       "       cuisine    id                                        ingredients  \\\n",
       "0       Canada     0                    [egg, yeast, wheat, milk, lard]   \n",
       "1       Canada     1                 [pork, carrot, pea, onion, potato]   \n",
       "2       Canada     2                                      [maple_syrup]   \n",
       "3       Canada     3  [wheat, yeast, almond, honey, oat, date, veget...   \n",
       "4       Canada     4  [butter, lovage, clam, wheat, onion, thyme, po...   \n",
       "...        ...   ...                                                ...   \n",
       "57686  Italian  2453  [kiwi, olive_oil, clam, white_wine, orange, sa...   \n",
       "57687  Italian  2454  [tomato, butter, beef, onion, red_wine, black_...   \n",
       "57688  Italian  2455         [vegetable, wheat, egg, cheese, olive_oil]   \n",
       "57689  Italian  2456  [tomato, clam, black_pepper, parsley, celery, ...   \n",
       "57690  Italian  2457  [cheese, onion, bacon, black_pepper, parsley, ...   \n",
       "\n",
       "                                         all_ingredients  \n",
       "0                              egg;yeast;wheat;milk;lard  \n",
       "1                           pork;carrot;pea;onion;potato  \n",
       "2                                            maple_syrup  \n",
       "3      wheat;yeast;almond;honey;oat;date;vegetable_oi...  \n",
       "4      butter;lovage;clam;wheat;onion;thyme;potato;ye...  \n",
       "...                                                  ...  \n",
       "57686  kiwi;olive_oil;clam;white_wine;orange;salmon;f...  \n",
       "57687  tomato;butter;beef;onion;red_wine;black_pepper...  \n",
       "57688               vegetable;wheat;egg;cheese;olive_oil  \n",
       "57689   tomato;clam;black_pepper;parsley;celery;macaroni  \n",
       "57690  cheese;onion;bacon;black_pepper;parsley;macaro...  \n",
       "\n",
       "[57691 rows x 4 columns]"
      ]
     },
     "execution_count": 4,
     "metadata": {},
     "output_type": "execute_result"
    }
   ],
   "source": [
    "# Fusion of the same cuisines\n",
    "df_train=df_train.replace({\"Mexico\":\"Mexican\",\n",
    "                           \"mexico\":\"Mexican\",\n",
    "                           \"chinese\":\"Chinese\",\n",
    "                           \"China\":\"Chinese\",\n",
    "                           \"France\":\"French\",\n",
    "                           \"japanese\":\"Japanese\",\n",
    "                           \"Japan\":\"Japanese\",\n",
    "                           \"Thailand\":\"Thai\",\n",
    "                           \"German\":\"Germany\",\n",
    "                           \"India\":\"Indian\",\n",
    "                           \"Israel\":\"Jewish\",\n",
    "                           \"italian\":\"Italian\",\n",
    "                           \"Italy\":\"Italian\",\n",
    "                           \"Scandinavia\":\"Scandinavian\",\n",
    "                           \"Vietnam\":\"Vietnamese\",\n",
    "                           \"Korea\":\"Korean\",\n",
    "                           \"korean\":\"Korean\",\n",
    "                           \"EasternEuropean_Russian\":\"Eastern-Europe\",\n",
    "                           'Spain':'Spanish_Portuguese'})\n",
    "df_train"
   ]
  },
  {
   "cell_type": "markdown",
   "metadata": {},
   "source": [
    "## Removing cuisines with not enough recipes"
   ]
  },
  {
   "cell_type": "code",
   "execution_count": 5,
   "metadata": {},
   "outputs": [],
   "source": [
    "RECIPE_THRESHOLD=10\n",
    "cuisine_count= df_train['cuisine'].value_counts()\n",
    "to_drop = [cuisine_count[cuisine_count == el].index[0] for el in cuisine_count if el<RECIPE_THRESHOLD]\n",
    "df_train = df_train[~df_train[\"cuisine\"].isin(to_drop)]"
   ]
  },
  {
   "cell_type": "code",
   "execution_count": 6,
   "metadata": {},
   "outputs": [],
   "source": [
    "# Saving the cleaned data\n",
    "df_train.to_pickle(os.path.join(FOLDER_PATH,\"full_data.pkl\"))"
   ]
  },
  {
   "cell_type": "markdown",
   "metadata": {},
   "source": [
    "### Removing part of the american recipes"
   ]
  },
  {
   "cell_type": "markdown",
   "metadata": {},
   "source": [
    "#### Random sampling"
   ]
  },
  {
   "cell_type": "code",
   "execution_count": 7,
   "metadata": {},
   "outputs": [],
   "source": [
    "# american_df = df_train[df_train[\"cuisine\"]==\"American\"].sample(frac=0.9)\n",
    "# df_train=df_train[~df_train.isin(american_df).all(1)]\n",
    "\n",
    "# df_train = df_train[(df_train[\"cuisine\"]!=\"American\")]"
   ]
  },
  {
   "cell_type": "markdown",
   "metadata": {},
   "source": [
    "#### PCA"
   ]
  },
  {
   "cell_type": "code",
   "execution_count": 8,
   "metadata": {},
   "outputs": [
    {
     "name": "stderr",
     "output_type": "stream",
     "text": [
      "D:\\Applications\\Anaconda3\\envs\\pandas_analysis\\lib\\site-packages\\pandas\\core\\indexing.py:376: SettingWithCopyWarning: \n",
      "A value is trying to be set on a copy of a slice from a DataFrame.\n",
      "Try using .loc[row_indexer,col_indexer] = value instead\n",
      "\n",
      "See the caveats in the documentation: http://pandas.pydata.org/pandas-docs/stable/user_guide/indexing.html#returning-a-view-versus-a-copy\n",
      "  self.obj[key] = _infer_fill_value(value)\n",
      "D:\\Applications\\Anaconda3\\envs\\pandas_analysis\\lib\\site-packages\\pandas\\core\\indexing.py:494: SettingWithCopyWarning: \n",
      "A value is trying to be set on a copy of a slice from a DataFrame.\n",
      "Try using .loc[row_indexer,col_indexer] = value instead\n",
      "\n",
      "See the caveats in the documentation: http://pandas.pydata.org/pandas-docs/stable/user_guide/indexing.html#returning-a-view-versus-a-copy\n",
      "  self.obj[item] = s\n"
     ]
    },
    {
     "data": {
      "text/html": [
       "<div>\n",
       "<style scoped>\n",
       "    .dataframe tbody tr th:only-of-type {\n",
       "        vertical-align: middle;\n",
       "    }\n",
       "\n",
       "    .dataframe tbody tr th {\n",
       "        vertical-align: top;\n",
       "    }\n",
       "\n",
       "    .dataframe thead th {\n",
       "        text-align: right;\n",
       "    }\n",
       "</style>\n",
       "<table border=\"1\" class=\"dataframe\">\n",
       "  <thead>\n",
       "    <tr style=\"text-align: right;\">\n",
       "      <th></th>\n",
       "      <th>cuisine</th>\n",
       "      <th>id</th>\n",
       "      <th>ingredients</th>\n",
       "      <th>all_ingredients</th>\n",
       "      <th>american_id</th>\n",
       "    </tr>\n",
       "  </thead>\n",
       "  <tbody>\n",
       "    <tr>\n",
       "      <td>4437</td>\n",
       "      <td>American</td>\n",
       "      <td>4437</td>\n",
       "      <td>[tomato, honey, chicken, mustard, onion]</td>\n",
       "      <td>tomato;honey;chicken;mustard;onion</td>\n",
       "      <td>0.0</td>\n",
       "    </tr>\n",
       "    <tr>\n",
       "      <td>4438</td>\n",
       "      <td>American</td>\n",
       "      <td>4438</td>\n",
       "      <td>[feta_cheese, black_pepper, ginger, pecan, chi...</td>\n",
       "      <td>feta_cheese;black_pepper;ginger;pecan;chicken;...</td>\n",
       "      <td>1.0</td>\n",
       "    </tr>\n",
       "    <tr>\n",
       "      <td>4439</td>\n",
       "      <td>American</td>\n",
       "      <td>4439</td>\n",
       "      <td>[cocoa, milk]</td>\n",
       "      <td>cocoa;milk</td>\n",
       "      <td>2.0</td>\n",
       "    </tr>\n",
       "    <tr>\n",
       "      <td>4440</td>\n",
       "      <td>American</td>\n",
       "      <td>4440</td>\n",
       "      <td>[tomato, olive_oil, parmesan_cheese, macaroni,...</td>\n",
       "      <td>tomato;olive_oil;parmesan_cheese;macaroni;basi...</td>\n",
       "      <td>3.0</td>\n",
       "    </tr>\n",
       "    <tr>\n",
       "      <td>4441</td>\n",
       "      <td>American</td>\n",
       "      <td>4441</td>\n",
       "      <td>[olive_oil, pepper, onion, thyme, potato, whit...</td>\n",
       "      <td>olive_oil;pepper;onion;thyme;potato;white_wine...</td>\n",
       "      <td>4.0</td>\n",
       "    </tr>\n",
       "    <tr>\n",
       "      <td>...</td>\n",
       "      <td>...</td>\n",
       "      <td>...</td>\n",
       "      <td>...</td>\n",
       "      <td>...</td>\n",
       "      <td>...</td>\n",
       "    </tr>\n",
       "    <tr>\n",
       "      <td>49622</td>\n",
       "      <td>American</td>\n",
       "      <td>7797</td>\n",
       "      <td>[tomato, vinegar, okra, onion, lima_bean, corn...</td>\n",
       "      <td>tomato;vinegar;okra;onion;lima_bean;corn;cayen...</td>\n",
       "      <td>40145.0</td>\n",
       "    </tr>\n",
       "    <tr>\n",
       "      <td>49623</td>\n",
       "      <td>American</td>\n",
       "      <td>7798</td>\n",
       "      <td>[orange, olive_oil, pork, garlic, oregano]</td>\n",
       "      <td>orange;olive_oil;pork;garlic;oregano</td>\n",
       "      <td>40146.0</td>\n",
       "    </tr>\n",
       "    <tr>\n",
       "      <td>49624</td>\n",
       "      <td>American</td>\n",
       "      <td>7799</td>\n",
       "      <td>[butter, cane_molasses, wheat, vanilla, walnut...</td>\n",
       "      <td>butter;cane_molasses;wheat;vanilla;walnut;coco...</td>\n",
       "      <td>40147.0</td>\n",
       "    </tr>\n",
       "    <tr>\n",
       "      <td>49625</td>\n",
       "      <td>American</td>\n",
       "      <td>7800</td>\n",
       "      <td>[butter, cane_molasses, wheat, blueberry, milk...</td>\n",
       "      <td>butter;cane_molasses;wheat;blueberry;milk_fat;...</td>\n",
       "      <td>40148.0</td>\n",
       "    </tr>\n",
       "    <tr>\n",
       "      <td>49626</td>\n",
       "      <td>American</td>\n",
       "      <td>7801</td>\n",
       "      <td>[olive_oil, pork, mustard, onion, white_wine, ...</td>\n",
       "      <td>olive_oil;pork;mustard;onion;white_wine;fennel...</td>\n",
       "      <td>40149.0</td>\n",
       "    </tr>\n",
       "  </tbody>\n",
       "</table>\n",
       "<p>40150 rows × 5 columns</p>\n",
       "</div>"
      ],
      "text/plain": [
       "        cuisine    id                                        ingredients  \\\n",
       "4437   American  4437           [tomato, honey, chicken, mustard, onion]   \n",
       "4438   American  4438  [feta_cheese, black_pepper, ginger, pecan, chi...   \n",
       "4439   American  4439                                      [cocoa, milk]   \n",
       "4440   American  4440  [tomato, olive_oil, parmesan_cheese, macaroni,...   \n",
       "4441   American  4441  [olive_oil, pepper, onion, thyme, potato, whit...   \n",
       "...         ...   ...                                                ...   \n",
       "49622  American  7797  [tomato, vinegar, okra, onion, lima_bean, corn...   \n",
       "49623  American  7798         [orange, olive_oil, pork, garlic, oregano]   \n",
       "49624  American  7799  [butter, cane_molasses, wheat, vanilla, walnut...   \n",
       "49625  American  7800  [butter, cane_molasses, wheat, blueberry, milk...   \n",
       "49626  American  7801  [olive_oil, pork, mustard, onion, white_wine, ...   \n",
       "\n",
       "                                         all_ingredients  american_id  \n",
       "4437                  tomato;honey;chicken;mustard;onion          0.0  \n",
       "4438   feta_cheese;black_pepper;ginger;pecan;chicken;...          1.0  \n",
       "4439                                          cocoa;milk          2.0  \n",
       "4440   tomato;olive_oil;parmesan_cheese;macaroni;basi...          3.0  \n",
       "4441   olive_oil;pepper;onion;thyme;potato;white_wine...          4.0  \n",
       "...                                                  ...          ...  \n",
       "49622  tomato;vinegar;okra;onion;lima_bean;corn;cayen...      40145.0  \n",
       "49623               orange;olive_oil;pork;garlic;oregano      40146.0  \n",
       "49624  butter;cane_molasses;wheat;vanilla;walnut;coco...      40147.0  \n",
       "49625  butter;cane_molasses;wheat;blueberry;milk_fat;...      40148.0  \n",
       "49626  olive_oil;pork;mustard;onion;white_wine;fennel...      40149.0  \n",
       "\n",
       "[40150 rows x 5 columns]"
      ]
     },
     "execution_count": 8,
     "metadata": {},
     "output_type": "execute_result"
    }
   ],
   "source": [
    "cv = CountVectorizer()\n",
    "\n",
    "x_american=cv.fit_transform(df_train[df_train[\"cuisine\"]==\"American\"]['all_ingredients'].values)\n",
    "df_train.loc[df_train[\"cuisine\"]==\"American\",\"american_id\"]=[i for i in range(x_american.shape[0])]\n",
    "df_train[df_train[\"cuisine\"]==\"American\"]"
   ]
  },
  {
   "cell_type": "code",
   "execution_count": 9,
   "metadata": {},
   "outputs": [
    {
     "data": {
      "text/plain": [
       "array([ 99,  20,  79, ...,  83, 106,  10])"
      ]
     },
     "execution_count": 9,
     "metadata": {},
     "output_type": "execute_result"
    }
   ],
   "source": [
    "K_clusters=200\n",
    "\n",
    "reduced_data = TruncatedSVD(n_components=2).fit_transform(x_american)\n",
    "kmeans = MiniBatchKMeans(n_clusters=K_clusters, n_init=10)\n",
    "kmeans.fit(reduced_data)\n",
    "kmeans.labels_"
   ]
  },
  {
   "cell_type": "code",
   "execution_count": 10,
   "metadata": {},
   "outputs": [],
   "source": [
    "closest,_ = pairwise_distances_argmin_min(kmeans.cluster_centers_, reduced_data)\n",
    "if np.unique(closest).shape[0]!=K_clusters:\n",
    "    print(np.unique(closest).shape)\n",
    "    print(\"https://stackoverflow.com/questions/21660937/get-nearest-point-to-centroid-scikit-learn\")"
   ]
  },
  {
   "cell_type": "code",
   "execution_count": 11,
   "metadata": {},
   "outputs": [
    {
     "data": {
      "image/png": "[encoded data removed]",
      "text/plain": [
       "<Figure size 432x288 with 1 Axes>"
      ]
     },
     "metadata": {},
     "output_type": "display_data"
    }
   ],
   "source": [
    "reduced_data = reduced_data[:2000]\n",
    "\n",
    "# Step size of the mesh. Decrease to increase the quality of the VQ.\n",
    "h = .02     # point in the mesh [x_min, x_max]x[y_min, y_max].\n",
    "\n",
    "# Plot the decision boundary. For that, we will assign a color to each\n",
    "x_min, x_max = reduced_data[:, 0].min() - 1, reduced_data[:, 0].max() + 1\n",
    "y_min, y_max = reduced_data[:, 1].min() - 1, reduced_data[:, 1].max() + 1\n",
    "xx, yy = np.meshgrid(np.arange(x_min, x_max, h), np.arange(y_min, y_max, h))\n",
    "\n",
    "# Obtain labels for each point in mesh. Use last trained model.\n",
    "Z = kmeans.predict(np.c_[xx.ravel(), yy.ravel()])\n",
    "\n",
    "# Put the result into a color plot\n",
    "Z = Z.reshape(xx.shape)\n",
    "plt.figure(1)\n",
    "plt.clf()\n",
    "plt.imshow(Z, interpolation='nearest',\n",
    "           extent=(xx.min(), xx.max(), yy.min(), yy.max()),\n",
    "           cmap=plt.cm.Paired,\n",
    "           aspect='auto', origin='lower')\n",
    "\n",
    "plt.plot(reduced_data[:, 0], reduced_data[:, 1], 'k.', markersize=2)\n",
    "\n",
    "# Plot the centroids as a white X\n",
    "centroids = kmeans.cluster_centers_\n",
    "plt.scatter(centroids[:, 0], centroids[:, 1],\n",
    "            marker='x', s=169, linewidths=3,\n",
    "            color='w', zorder=10)\n",
    "plt.title('K-means clustering on the digits dataset (SVD-reduced data)\\n'\n",
    "          'Centroids are marked with white cross')\n",
    "plt.xlim(x_min, x_max)\n",
    "plt.ylim(y_min, y_max)\n",
    "plt.xticks(())\n",
    "plt.yticks(())\n",
    "plt.show()"
   ]
  },
  {
   "cell_type": "code",
   "execution_count": 12,
   "metadata": {},
   "outputs": [],
   "source": [
    "# Saving the cleaned data\n",
    "df_train.to_pickle(os.path.join(FOLDER_PATH,\"cleaned_data.pkl\"))"
   ]
  }
 ],
 "metadata": {
  "kernelspec": {
   "display_name": "Python 3",
   "language": "python",
   "name": "python3"
  },
  "language_info": {
   "codemirror_mode": {
    "name": "ipython",
    "version": 3
   },
   "file_extension": ".py",
   "mimetype": "text/x-python",
   "name": "python",
   "nbconvert_exporter": "python",
   "pygments_lexer": "ipython3",
   "version": "3.7.4"
  }
 },
 "nbformat": 4,
 "nbformat_minor": 2
}
