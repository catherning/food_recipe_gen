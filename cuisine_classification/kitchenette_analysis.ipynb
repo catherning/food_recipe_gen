{
 "cells": [
  {
   "cell_type": "code",
   "execution_count": 20,
   "metadata": {},
   "outputs": [],
   "source": [
    "import os\n",
    "import pandas as pd\n",
    "import matplotlib.pyplot as plt\n",
    "from collections import Counter\n",
    "import numpy as np\n",
    "\n",
    "import sys\n",
    "from os.path import isfile, join\n",
    "sys.path.insert(0, join(os.getcwd(),os.pardir))\n",
    "\n",
    "from recipe_gen.pairing_utils import PairingData"
   ]
  },
  {
   "cell_type": "code",
   "execution_count": 23,
   "metadata": {},
   "outputs": [],
   "source": [
    "FOLDER_PATH = \"F:\\\\user\\\\Google Drive\\\\Catherning Folder\\\\THU\\\\Thesis\\\\Work\\\\Recipe datasets\"\n",
    "DATASET = [\"scirep-cuisines-detail\",\"Yummly28\"]\n",
    "FILES = [\"cleaned_data.pkl\",\"full_data.pkl\"]\n",
    "\n",
    "known_path = os.path.join(os.getcwd(),os.pardir,\"KitcheNette-master\",\"data\",\"kitchenette_pairing_scores.csv\")\n",
    "unk_path = os.path.join(os.getcwd(),os.pardir,\"KitcheNette-master\",\"results\",\"prediction_unknowns_kitchenette_pretrained.mdl.csv\")\n",
    "pairing_pickle = os.path.join(os.getcwd(),os.pardir,\"KitcheNette-master\",\"results\",\"full_pairings.pkl\")"
   ]
  },
  {
   "cell_type": "code",
   "execution_count": 24,
   "metadata": {},
   "outputs": [
    {
     "data": {
      "text/plain": [
       "Index(['index', 'cuisine', 'ingredients', 'all_ingredients'], dtype='object')"
      ]
     },
     "execution_count": 24,
     "metadata": {},
     "output_type": "execute_result"
    }
   ],
   "source": [
    "# FROM NN_classification\n",
    "def createDFrame(file):\n",
    "    \n",
    "    dataset = DATASET[1]\n",
    "    df = pd.read_pickle(os.path.join(\n",
    "        FOLDER_PATH, dataset, file))\n",
    "    df = df.set_index(\"id\")\n",
    "    len1 = len(df)\n",
    "\n",
    "    dataset = DATASET[0]\n",
    "    df2 = pd.read_pickle(os.path.join(\n",
    "        FOLDER_PATH, dataset, file))\n",
    "    df2[\"id\"] = [len(df)+i for i in range(len(df2))]\n",
    "    df2 = df2.set_index(\"id\")\n",
    "    df = pd.concat([df, df2],sort=False)\n",
    "    if len(df)!=len1+len(df2):\n",
    "        print(\"Error! Missing data\")\n",
    "\n",
    "    return df\n",
    "\n",
    "df_train = createDFrame(FILES[1])\n",
    "df_train.columns"
   ]
  },
  {
   "cell_type": "code",
   "execution_count": null,
   "metadata": {},
   "outputs": [
    {
     "name": "stdout",
     "output_type": "stream",
     "text": [
      "717 pairs in total\n",
      "25158 pair(s) not added because of an absent ingredient in the vocab or false ingredient\n"
     ]
    }
   ],
   "source": [
    "pairing = PairingData([unk_path,known_path], pickle_file=pairing_pickle, min_score=-1,trim=False)"
   ]
  },
  {
   "cell_type": "code",
   "execution_count": 19,
   "metadata": {},
   "outputs": [
    {
     "ename": "SyntaxError",
     "evalue": "unexpected EOF while parsing (<ipython-input-19-7f7dac1b5500>, line 7)",
     "output_type": "error",
     "traceback": [
      "\u001b[1;36m  File \u001b[1;32m\"<ipython-input-19-7f7dac1b5500>\"\u001b[1;36m, line \u001b[1;32m7\u001b[0m\n\u001b[1;33m    \u001b[0m\n\u001b[1;37m    ^\u001b[0m\n\u001b[1;31mSyntaxError\u001b[0m\u001b[1;31m:\u001b[0m unexpected EOF while parsing\n"
     ]
    }
   ],
   "source": [
    "for index, row in df_train.iterrows():\n",
    "    if index==5:\n",
    "        break\n",
    "    for i,ingr1 in enumerate(row[\"ingredients\"]):\n",
    "        for ingr2 in row[\"ingredients\"][i:]:\n",
    "            \n",
    "            "
   ]
  },
  {
   "cell_type": "code",
   "execution_count": null,
   "metadata": {},
   "outputs": [],
   "source": []
  },
  {
   "cell_type": "code",
   "execution_count": null,
   "metadata": {},
   "outputs": [],
   "source": []
  }
 ],
 "metadata": {
  "kernelspec": {
   "display_name": "Python 3",
   "language": "python",
   "name": "python3"
  },
  "language_info": {
   "codemirror_mode": {
    "name": "ipython",
    "version": 3
   },
   "file_extension": ".py",
   "mimetype": "text/x-python",
   "name": "python",
   "nbconvert_exporter": "python",
   "pygments_lexer": "ipython3",
   "version": "3.6.10"
  }
 },
 "nbformat": 4,
 "nbformat_minor": 4
}
