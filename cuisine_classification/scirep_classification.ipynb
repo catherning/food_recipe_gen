{
 "cells": [
  {
   "cell_type": "code",
   "execution_count": 27,
   "metadata": {},
   "outputs": [],
   "source": [
    "import os\n",
    "import pandas as pd\n",
    "import matplotlib.pyplot as plt\n",
    "from collections import Counter"
   ]
  },
  {
   "cell_type": "code",
   "execution_count": 2,
   "metadata": {},
   "outputs": [],
   "source": [
    "FOLDER_PATH = \"D:\\\\Google Drive\\\\Catherning Folder\\\\THU\\\\Thesis\\\\Recipe datasets\\\\scirep-cuisines-detail\"\n",
    "FILES = [\"allr_recipes.txt\",\"epic_recipes.txt\",\"menu_recipes.txt\"]"
   ]
  },
  {
   "cell_type": "code",
   "execution_count": 25,
   "metadata": {},
   "outputs": [
    {
     "data": {
      "text/html": [
       "<div>\n",
       "<style scoped>\n",
       "    .dataframe tbody tr th:only-of-type {\n",
       "        vertical-align: middle;\n",
       "    }\n",
       "\n",
       "    .dataframe tbody tr th {\n",
       "        vertical-align: top;\n",
       "    }\n",
       "\n",
       "    .dataframe thead th {\n",
       "        text-align: right;\n",
       "    }\n",
       "</style>\n",
       "<table border=\"1\" class=\"dataframe\">\n",
       "  <thead>\n",
       "    <tr style=\"text-align: right;\">\n",
       "      <th></th>\n",
       "      <th>cuisine</th>\n",
       "      <th>id</th>\n",
       "      <th>ingredients</th>\n",
       "    </tr>\n",
       "  </thead>\n",
       "  <tbody>\n",
       "    <tr>\n",
       "      <td>0</td>\n",
       "      <td>Canada</td>\n",
       "      <td>0</td>\n",
       "      <td>[egg, yeast, wheat, milk, lard]</td>\n",
       "    </tr>\n",
       "    <tr>\n",
       "      <td>1</td>\n",
       "      <td>Canada</td>\n",
       "      <td>1</td>\n",
       "      <td>[pork, carrot, pea, onion, potato]</td>\n",
       "    </tr>\n",
       "    <tr>\n",
       "      <td>2</td>\n",
       "      <td>Canada</td>\n",
       "      <td>2</td>\n",
       "      <td>[maple_syrup]</td>\n",
       "    </tr>\n",
       "    <tr>\n",
       "      <td>3</td>\n",
       "      <td>Canada</td>\n",
       "      <td>3</td>\n",
       "      <td>[wheat, yeast, almond, honey, oat, date, veget...</td>\n",
       "    </tr>\n",
       "    <tr>\n",
       "      <td>4</td>\n",
       "      <td>Canada</td>\n",
       "      <td>4</td>\n",
       "      <td>[butter, lovage, clam, wheat, onion, thyme, po...</td>\n",
       "    </tr>\n",
       "    <tr>\n",
       "      <td>...</td>\n",
       "      <td>...</td>\n",
       "      <td>...</td>\n",
       "      <td>...</td>\n",
       "    </tr>\n",
       "    <tr>\n",
       "      <td>57686</td>\n",
       "      <td>italian</td>\n",
       "      <td>2453</td>\n",
       "      <td>[kiwi, olive_oil, clam, white_wine, orange, sa...</td>\n",
       "    </tr>\n",
       "    <tr>\n",
       "      <td>57687</td>\n",
       "      <td>italian</td>\n",
       "      <td>2454</td>\n",
       "      <td>[tomato, butter, beef, onion, red_wine, black_...</td>\n",
       "    </tr>\n",
       "    <tr>\n",
       "      <td>57688</td>\n",
       "      <td>italian</td>\n",
       "      <td>2455</td>\n",
       "      <td>[vegetable, wheat, egg, cheese, olive_oil]</td>\n",
       "    </tr>\n",
       "    <tr>\n",
       "      <td>57689</td>\n",
       "      <td>italian</td>\n",
       "      <td>2456</td>\n",
       "      <td>[tomato, clam, black_pepper, parsley, celery, ...</td>\n",
       "    </tr>\n",
       "    <tr>\n",
       "      <td>57690</td>\n",
       "      <td>italian</td>\n",
       "      <td>2457</td>\n",
       "      <td>[cheese, onion, bacon, black_pepper, parsley, ...</td>\n",
       "    </tr>\n",
       "  </tbody>\n",
       "</table>\n",
       "<p>57691 rows × 3 columns</p>\n",
       "</div>"
      ],
      "text/plain": [
       "       cuisine    id                                        ingredients\n",
       "0       Canada     0                    [egg, yeast, wheat, milk, lard]\n",
       "1       Canada     1                 [pork, carrot, pea, onion, potato]\n",
       "2       Canada     2                                      [maple_syrup]\n",
       "3       Canada     3  [wheat, yeast, almond, honey, oat, date, veget...\n",
       "4       Canada     4  [butter, lovage, clam, wheat, onion, thyme, po...\n",
       "...        ...   ...                                                ...\n",
       "57686  italian  2453  [kiwi, olive_oil, clam, white_wine, orange, sa...\n",
       "57687  italian  2454  [tomato, butter, beef, onion, red_wine, black_...\n",
       "57688  italian  2455         [vegetable, wheat, egg, cheese, olive_oil]\n",
       "57689  italian  2456  [tomato, clam, black_pepper, parsley, celery, ...\n",
       "57690  italian  2457  [cheese, onion, bacon, black_pepper, parsley, ...\n",
       "\n",
       "[57691 rows x 3 columns]"
      ]
     },
     "execution_count": 25,
     "metadata": {},
     "output_type": "execute_result"
    }
   ],
   "source": [
    "recipes = []\n",
    "for file in FILES:\n",
    "    with open(os.path.join(FOLDER_PATH,file)) as f:\n",
    "        for i,recipe in enumerate(f):\n",
    "            data = recipe.strip('\\n').split('\\t')\n",
    "            recipes.append({\"cuisine\":data[0],\"id\":i,\"ingredients\":data[1:]})\n",
    "        \n",
    "df_train = pd.DataFrame(recipes)\n",
    "df_train"
   ]
  },
  {
   "cell_type": "code",
   "execution_count": 36,
   "metadata": {},
   "outputs": [
    {
     "data": {
      "text/plain": [
       "American        40150\n",
       "Mexico           1754\n",
       "Italian          1715\n",
       "Italy            1461\n",
       "Asian            1176\n",
       "                ...  \n",
       "Indonesia          12\n",
       "East-African       11\n",
       "Belgium            11\n",
       "Israel              9\n",
       "Bangladesh          4\n",
       "Name: cuisine, Length: 69, dtype: int64"
      ]
     },
     "execution_count": 36,
     "metadata": {},
     "output_type": "execute_result"
    },
    {
     "data": {
      "image/png": "[encoded data removed]",
      "text/plain": [
       "<Figure size 432x288 with 1 Axes>"
      ]
     },
     "metadata": {},
     "output_type": "display_data"
    }
   ],
   "source": [
    "%matplotlib inline\n",
    "\n",
    "plt.style.use('ggplot')\n",
    "df_train['cuisine'].value_counts().head(10).plot(kind='bar')\n",
    "\n",
    "df_train['cuisine'].value_counts()"
   ]
  },
  {
   "cell_type": "code",
   "execution_count": 28,
   "metadata": {},
   "outputs": [],
   "source": [
    "counters = {}\n",
    "for cuisine in df_train['cuisine'].unique():\n",
    "    counters[cuisine] = Counter()\n",
    "    indices = (df_train['cuisine'] == cuisine)\n",
    "    for ingredients in df_train[indices]['ingredients']:\n",
    "        counters[cuisine].update(ingredients)"
   ]
  },
  {
   "cell_type": "code",
   "execution_count": 29,
   "metadata": {},
   "outputs": [
    {
     "data": {
      "text/plain": [
       "[('black_pepper', 54),\n",
       " ('olive_oil', 40),\n",
       " ('onion', 37),\n",
       " ('garlic', 32),\n",
       " ('macaroni', 30),\n",
       " ('tomato', 29),\n",
       " ('wheat', 28),\n",
       " ('butter', 27),\n",
       " ('white_wine', 21),\n",
       " ('basil', 20)]"
      ]
     },
     "execution_count": 29,
     "metadata": {},
     "output_type": "execute_result"
    }
   ],
   "source": [
    "counters['italian'].most_common(10)"
   ]
  },
  {
   "cell_type": "code",
   "execution_count": 37,
   "metadata": {},
   "outputs": [
    {
     "data": {
      "text/html": [
       "<div>\n",
       "<style scoped>\n",
       "    .dataframe tbody tr th:only-of-type {\n",
       "        vertical-align: middle;\n",
       "    }\n",
       "\n",
       "    .dataframe tbody tr th {\n",
       "        vertical-align: top;\n",
       "    }\n",
       "\n",
       "    .dataframe thead th {\n",
       "        text-align: right;\n",
       "    }\n",
       "</style>\n",
       "<table border=\"1\" class=\"dataframe\">\n",
       "  <thead>\n",
       "    <tr style=\"text-align: right;\">\n",
       "      <th></th>\n",
       "      <th>top1</th>\n",
       "      <th>top2</th>\n",
       "      <th>top3</th>\n",
       "      <th>top4</th>\n",
       "      <th>top5</th>\n",
       "      <th>top6</th>\n",
       "      <th>top7</th>\n",
       "      <th>top8</th>\n",
       "      <th>top9</th>\n",
       "      <th>top10</th>\n",
       "    </tr>\n",
       "  </thead>\n",
       "  <tbody>\n",
       "    <tr>\n",
       "      <td>Canada</td>\n",
       "      <td>wheat</td>\n",
       "      <td>butter</td>\n",
       "      <td>egg</td>\n",
       "      <td>onion</td>\n",
       "      <td>garlic</td>\n",
       "      <td>milk</td>\n",
       "      <td>black_pepper</td>\n",
       "      <td>cane_molasses</td>\n",
       "      <td>vegetable_oil</td>\n",
       "      <td>pepper</td>\n",
       "    </tr>\n",
       "    <tr>\n",
       "      <td>Turkey</td>\n",
       "      <td>garlic</td>\n",
       "      <td>onion</td>\n",
       "      <td>tomato</td>\n",
       "      <td>butter</td>\n",
       "      <td>wheat</td>\n",
       "      <td>yogurt</td>\n",
       "      <td>olive_oil</td>\n",
       "      <td>bell_pepper</td>\n",
       "      <td>pepper</td>\n",
       "      <td>egg</td>\n",
       "    </tr>\n",
       "    <tr>\n",
       "      <td>Caribbean</td>\n",
       "      <td>onion</td>\n",
       "      <td>garlic</td>\n",
       "      <td>vegetable_oil</td>\n",
       "      <td>black_pepper</td>\n",
       "      <td>tomato</td>\n",
       "      <td>olive_oil</td>\n",
       "      <td>pepper</td>\n",
       "      <td>cayenne</td>\n",
       "      <td>bell_pepper</td>\n",
       "      <td>chicken</td>\n",
       "    </tr>\n",
       "    <tr>\n",
       "      <td>Bangladesh</td>\n",
       "      <td>onion</td>\n",
       "      <td>cayenne</td>\n",
       "      <td>vegetable_oil</td>\n",
       "      <td>turmeric</td>\n",
       "      <td>garlic</td>\n",
       "      <td>cilantro</td>\n",
       "      <td>coriander</td>\n",
       "      <td>beef</td>\n",
       "      <td>potato</td>\n",
       "      <td>cardamom</td>\n",
       "    </tr>\n",
       "    <tr>\n",
       "      <td>India</td>\n",
       "      <td>cumin</td>\n",
       "      <td>onion</td>\n",
       "      <td>turmeric</td>\n",
       "      <td>garlic</td>\n",
       "      <td>cayenne</td>\n",
       "      <td>coriander</td>\n",
       "      <td>ginger</td>\n",
       "      <td>vegetable_oil</td>\n",
       "      <td>pepper</td>\n",
       "      <td>tomato</td>\n",
       "    </tr>\n",
       "    <tr>\n",
       "      <td>...</td>\n",
       "      <td>...</td>\n",
       "      <td>...</td>\n",
       "      <td>...</td>\n",
       "      <td>...</td>\n",
       "      <td>...</td>\n",
       "      <td>...</td>\n",
       "      <td>...</td>\n",
       "      <td>...</td>\n",
       "      <td>...</td>\n",
       "      <td>...</td>\n",
       "    </tr>\n",
       "    <tr>\n",
       "      <td>east_asian</td>\n",
       "      <td>garlic</td>\n",
       "      <td>soy_sauce</td>\n",
       "      <td>scallion</td>\n",
       "      <td>cayenne</td>\n",
       "      <td>sesame_oil</td>\n",
       "      <td>black_pepper</td>\n",
       "      <td>rice</td>\n",
       "      <td>ginger</td>\n",
       "      <td>vegetable_oil</td>\n",
       "      <td>soybean</td>\n",
       "    </tr>\n",
       "    <tr>\n",
       "      <td>asian</td>\n",
       "      <td>rice</td>\n",
       "      <td>black_pepper</td>\n",
       "      <td>coriander</td>\n",
       "      <td>cayenne</td>\n",
       "      <td>onion</td>\n",
       "      <td>garlic</td>\n",
       "      <td>vegetable</td>\n",
       "      <td>fish</td>\n",
       "      <td>cucumber</td>\n",
       "      <td>shrimp</td>\n",
       "    </tr>\n",
       "    <tr>\n",
       "      <td>western</td>\n",
       "      <td>egg</td>\n",
       "      <td>wheat</td>\n",
       "      <td>butter</td>\n",
       "      <td>black_pepper</td>\n",
       "      <td>onion</td>\n",
       "      <td>milk</td>\n",
       "      <td>vegetable_oil</td>\n",
       "      <td>tomato</td>\n",
       "      <td>garlic</td>\n",
       "      <td>vinegar</td>\n",
       "    </tr>\n",
       "    <tr>\n",
       "      <td>korean</td>\n",
       "      <td>garlic</td>\n",
       "      <td>scallion</td>\n",
       "      <td>cayenne</td>\n",
       "      <td>soy_sauce</td>\n",
       "      <td>sesame_oil</td>\n",
       "      <td>black_pepper</td>\n",
       "      <td>rice</td>\n",
       "      <td>soybean</td>\n",
       "      <td>roasted_sesame_seed</td>\n",
       "      <td>vegetable</td>\n",
       "    </tr>\n",
       "    <tr>\n",
       "      <td>italian</td>\n",
       "      <td>black_pepper</td>\n",
       "      <td>olive_oil</td>\n",
       "      <td>onion</td>\n",
       "      <td>garlic</td>\n",
       "      <td>macaroni</td>\n",
       "      <td>tomato</td>\n",
       "      <td>wheat</td>\n",
       "      <td>butter</td>\n",
       "      <td>white_wine</td>\n",
       "      <td>basil</td>\n",
       "    </tr>\n",
       "  </tbody>\n",
       "</table>\n",
       "<p>69 rows × 10 columns</p>\n",
       "</div>"
      ],
      "text/plain": [
       "                    top1          top2           top3          top4  \\\n",
       "Canada             wheat        butter            egg         onion   \n",
       "Turkey            garlic         onion         tomato        butter   \n",
       "Caribbean          onion        garlic  vegetable_oil  black_pepper   \n",
       "Bangladesh         onion       cayenne  vegetable_oil      turmeric   \n",
       "India              cumin         onion       turmeric        garlic   \n",
       "...                  ...           ...            ...           ...   \n",
       "east_asian        garlic     soy_sauce       scallion       cayenne   \n",
       "asian               rice  black_pepper      coriander       cayenne   \n",
       "western              egg         wheat         butter  black_pepper   \n",
       "korean            garlic      scallion        cayenne     soy_sauce   \n",
       "italian     black_pepper     olive_oil          onion        garlic   \n",
       "\n",
       "                  top5          top6           top7           top8  \\\n",
       "Canada          garlic          milk   black_pepper  cane_molasses   \n",
       "Turkey           wheat        yogurt      olive_oil    bell_pepper   \n",
       "Caribbean       tomato     olive_oil         pepper        cayenne   \n",
       "Bangladesh      garlic      cilantro      coriander           beef   \n",
       "India          cayenne     coriander         ginger  vegetable_oil   \n",
       "...                ...           ...            ...            ...   \n",
       "east_asian  sesame_oil  black_pepper           rice         ginger   \n",
       "asian            onion        garlic      vegetable           fish   \n",
       "western          onion          milk  vegetable_oil         tomato   \n",
       "korean      sesame_oil  black_pepper           rice        soybean   \n",
       "italian       macaroni        tomato          wheat         butter   \n",
       "\n",
       "                           top9      top10  \n",
       "Canada            vegetable_oil     pepper  \n",
       "Turkey                   pepper        egg  \n",
       "Caribbean           bell_pepper    chicken  \n",
       "Bangladesh               potato   cardamom  \n",
       "India                    pepper     tomato  \n",
       "...                         ...        ...  \n",
       "east_asian        vegetable_oil    soybean  \n",
       "asian                  cucumber     shrimp  \n",
       "western                  garlic    vinegar  \n",
       "korean      roasted_sesame_seed  vegetable  \n",
       "italian              white_wine      basil  \n",
       "\n",
       "[69 rows x 10 columns]"
      ]
     },
     "execution_count": 37,
     "metadata": {},
     "output_type": "execute_result"
    }
   ],
   "source": [
    "top10 = pd.DataFrame([[items[0] for items in counters[cuisine].most_common(10)] for cuisine in counters],\n",
    "            index=[cuisine for cuisine in counters],\n",
    "            columns=['top{}'.format(i) for i in range(1, 11)])\n",
    "top10"
   ]
  },
  {
   "cell_type": "code",
   "execution_count": 39,
   "metadata": {},
   "outputs": [
    {
     "data": {
      "text/html": [
       "<div>\n",
       "<style scoped>\n",
       "    .dataframe tbody tr th:only-of-type {\n",
       "        vertical-align: middle;\n",
       "    }\n",
       "\n",
       "    .dataframe tbody tr th {\n",
       "        vertical-align: top;\n",
       "    }\n",
       "\n",
       "    .dataframe thead th {\n",
       "        text-align: right;\n",
       "    }\n",
       "</style>\n",
       "<table border=\"1\" class=\"dataframe\">\n",
       "  <thead>\n",
       "    <tr style=\"text-align: right;\">\n",
       "      <th></th>\n",
       "      <th>cuisine</th>\n",
       "      <th>id</th>\n",
       "      <th>ingredients</th>\n",
       "      <th>all_ingredients</th>\n",
       "    </tr>\n",
       "  </thead>\n",
       "  <tbody>\n",
       "    <tr>\n",
       "      <td>0</td>\n",
       "      <td>Canada</td>\n",
       "      <td>0</td>\n",
       "      <td>[egg, yeast, wheat, milk, lard]</td>\n",
       "      <td>egg;yeast;wheat;milk;lard</td>\n",
       "    </tr>\n",
       "    <tr>\n",
       "      <td>1</td>\n",
       "      <td>Canada</td>\n",
       "      <td>1</td>\n",
       "      <td>[pork, carrot, pea, onion, potato]</td>\n",
       "      <td>pork;carrot;pea;onion;potato</td>\n",
       "    </tr>\n",
       "    <tr>\n",
       "      <td>2</td>\n",
       "      <td>Canada</td>\n",
       "      <td>2</td>\n",
       "      <td>[maple_syrup]</td>\n",
       "      <td>maple_syrup</td>\n",
       "    </tr>\n",
       "    <tr>\n",
       "      <td>3</td>\n",
       "      <td>Canada</td>\n",
       "      <td>3</td>\n",
       "      <td>[wheat, yeast, almond, honey, oat, date, veget...</td>\n",
       "      <td>wheat;yeast;almond;honey;oat;date;vegetable_oi...</td>\n",
       "    </tr>\n",
       "    <tr>\n",
       "      <td>4</td>\n",
       "      <td>Canada</td>\n",
       "      <td>4</td>\n",
       "      <td>[butter, lovage, clam, wheat, onion, thyme, po...</td>\n",
       "      <td>butter;lovage;clam;wheat;onion;thyme;potato;ye...</td>\n",
       "    </tr>\n",
       "  </tbody>\n",
       "</table>\n",
       "</div>"
      ],
      "text/plain": [
       "  cuisine  id                                        ingredients  \\\n",
       "0  Canada   0                    [egg, yeast, wheat, milk, lard]   \n",
       "1  Canada   1                 [pork, carrot, pea, onion, potato]   \n",
       "2  Canada   2                                      [maple_syrup]   \n",
       "3  Canada   3  [wheat, yeast, almond, honey, oat, date, veget...   \n",
       "4  Canada   4  [butter, lovage, clam, wheat, onion, thyme, po...   \n",
       "\n",
       "                                     all_ingredients  \n",
       "0                          egg;yeast;wheat;milk;lard  \n",
       "1                       pork;carrot;pea;onion;potato  \n",
       "2                                        maple_syrup  \n",
       "3  wheat;yeast;almond;honey;oat;date;vegetable_oi...  \n",
       "4  butter;lovage;clam;wheat;onion;thyme;potato;ye...  "
      ]
     },
     "execution_count": 39,
     "metadata": {},
     "output_type": "execute_result"
    }
   ],
   "source": [
    "df_train['all_ingredients'] = df_train['ingredients'].map(\";\".join)\n",
    "\n",
    "df_train.head()\n",
    "\n"
   ]
  },
  {
   "cell_type": "code",
   "execution_count": 57,
   "metadata": {},
   "outputs": [
    {
     "data": {
      "text/plain": [
       "False    40226\n",
       "True     17465\n",
       "Name: all_ingredients, dtype: int64"
      ]
     },
     "execution_count": 57,
     "metadata": {},
     "output_type": "execute_result"
    }
   ],
   "source": [
    "df_train['all_ingredients'].str.contains('garlic').value_counts()"
   ]
  },
  {
   "cell_type": "code",
   "execution_count": 60,
   "metadata": {},
   "outputs": [
    {
     "data": {
      "text/plain": [
       "<matplotlib.axes._subplots.AxesSubplot at 0x241d76d17c8>"
      ]
     },
     "execution_count": 60,
     "metadata": {},
     "output_type": "execute_result"
    },
    {
     "data": {
      "image/png": "[encoded data removed]",
      "text/plain": [
       "<Figure size 432x288 with 1 Axes>"
      ]
     },
     "metadata": {},
     "output_type": "display_data"
    }
   ],
   "source": [
    "indices = df_train['all_ingredients'].str.contains('garlic')\n",
    "df_train[indices]['cuisine'].value_counts().head(10).plot(kind='bar',\n",
    "                                                 title='garlic as found per cuisine')"
   ]
  },
  {
   "cell_type": "code",
   "execution_count": 64,
   "metadata": {},
   "outputs": [
    {
     "data": {
      "text/plain": [
       "<matplotlib.axes._subplots.AxesSubplot at 0x241d7824288>"
      ]
     },
     "execution_count": 64,
     "metadata": {},
     "output_type": "execute_result"
    },
    {
     "data": {
      "image/png": "[encoded data removed]",
      "text/plain": [
       "<Figure size 432x288 with 1 Axes>"
      ]
     },
     "metadata": {},
     "output_type": "display_data"
    }
   ],
   "source": [
    "relative_freq = (df_train[indices]['cuisine'].value_counts() / df_train['cuisine'].value_counts())\n",
    "relative_freq.sort_values(inplace=True)\n",
    "relative_freq.head(10).plot(kind='bar')\n"
   ]
  },
  {
   "cell_type": "code",
   "execution_count": null,
   "metadata": {},
   "outputs": [],
   "source": []
  }
 ],
 "metadata": {
  "kernelspec": {
   "display_name": "Python 3",
   "language": "python",
   "name": "python3"
  },
  "language_info": {
   "codemirror_mode": {
    "name": "ipython",
    "version": 3
   },
   "file_extension": ".py",
   "mimetype": "text/x-python",
   "name": "python",
   "nbconvert_exporter": "python",
   "pygments_lexer": "ipython3",
   "version": "3.7.4"
  }
 },
 "nbformat": 4,
 "nbformat_minor": 2
}
