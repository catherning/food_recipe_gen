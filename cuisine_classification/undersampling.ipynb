{
 "cells": [
  {
   "cell_type": "code",
   "execution_count": 176,
   "metadata": {},
   "outputs": [],
   "source": [
    "import os\n",
    "import pandas as pd\n",
    "import matplotlib.pyplot as plt\n",
    "from collections import Counter\n",
    "import numpy as np\n",
    "\n",
    "from sklearn.feature_extraction.text import CountVectorizer\n",
    "from sklearn.cluster import MiniBatchKMeans\n",
    "from sklearn.decomposition import TruncatedSVD\n",
    "from sklearn.metrics import pairwise_distances_argmin_min"
   ]
  },
  {
   "cell_type": "code",
   "execution_count": 177,
   "metadata": {},
   "outputs": [],
   "source": [
    "FOLDER_PATH = \"D:\\\\Google Drive\\\\Catherning Folder\\\\THU\\\\Thesis\\\\Recipe datasets\\\\\"\n",
    "DATASET = [\"scirep-cuisines-detail\",\"Yummly28\"]\n",
    "FILE = \"full_data.pkl\"\n",
    "\n",
    "METHODS = [\"random\",\"cluster_centroid\"] \n",
    "method = METHODS[0]\n",
    "dataset = DATASET[0]"
   ]
  },
  {
   "cell_type": "code",
   "execution_count": 178,
   "metadata": {},
   "outputs": [],
   "source": [
    "df_train=pd.read_pickle(os.path.join(FOLDER_PATH,dataset,FILE))\n",
    "df_train=df_train.reset_index()"
   ]
  },
  {
   "cell_type": "markdown",
   "metadata": {},
   "source": [
    "# Undersampling biggest class (american recipes)"
   ]
  },
  {
   "cell_type": "markdown",
   "metadata": {},
   "source": [
    "https://towardsdatascience.com/sampling-techniques-for-extremely-imbalanced-data-part-i-under-sampling-a8dbc3d8d6d8\n",
    "\n",
    "https://imbalanced-learn.readthedocs.io/en/stable/under_sampling.html"
   ]
  },
  {
   "cell_type": "markdown",
   "metadata": {},
   "source": [
    "#### Random sampling"
   ]
  },
  {
   "cell_type": "code",
   "execution_count": 179,
   "metadata": {},
   "outputs": [],
   "source": [
    "if method==METHODS[0]:\n",
    "    american_df = df_train[df_train[\"cuisine\"]==\"American\"].sample(frac=0.9)\n",
    "    df_train = df_train[~df_train.isin(american_df).all(1)]"
   ]
  },
  {
   "cell_type": "markdown",
   "metadata": {},
   "source": [
    "#### PCA"
   ]
  },
  {
   "cell_type": "code",
   "execution_count": 180,
   "metadata": {},
   "outputs": [],
   "source": [
    "if method==METHODS[1]:\n",
    "    cv = CountVectorizer()\n",
    "\n",
    "    x_american=cv.fit_transform(df_train[df_train[\"cuisine\"]==\"American\"]['all_ingredients'].values)\n",
    "    df_train.loc[df_train[\"cuisine\"]==\"American\",\"american_id\"]=[i for i in range(x_american.shape[0])]"
   ]
  },
  {
   "cell_type": "code",
   "execution_count": 181,
   "metadata": {},
   "outputs": [],
   "source": [
    "if method==METHODS[1]:\n",
    "    print(len(df_train[df_train[\"cuisine\"]==\"American\"])*0.1)\n",
    "\n",
    "    K_clusters=900\n",
    "\n",
    "    reduced_data = TruncatedSVD(n_components=2).fit_transform(x_american)\n",
    "    kmeans = MiniBatchKMeans(n_clusters=K_clusters, n_init=10, init_size=3*K_clusters)\n",
    "    kmeans.fit(reduced_data)\n",
    "    kmeans.labels_"
   ]
  },
  {
   "cell_type": "code",
   "execution_count": 182,
   "metadata": {},
   "outputs": [],
   "source": [
    "if method==METHODS[1]:\n",
    "    closest,_ = pairwise_distances_argmin_min(kmeans.cluster_centers_, reduced_data)\n",
    "    if np.unique(closest).shape[0]!=K_clusters:\n",
    "        print(np.unique(closest).shape)\n",
    "        print(\"https://stackoverflow.com/questions/21660937/get-nearest-point-to-centroid-scikit-learn\")\n",
    "    \n",
    "    df_train = df_train[df_train[\"american_id\"].isin(closest) | df_train[\"american_id\"].isnull()]"
   ]
  },
  {
   "cell_type": "code",
   "execution_count": 183,
   "metadata": {},
   "outputs": [],
   "source": [
    "if method==METHODS[1]:\n",
    "    reduced_data = reduced_data[:2000]\n",
    "\n",
    "    # Step size of the mesh. Decrease to increase the quality of the VQ.\n",
    "    h = .02     # point in the mesh [x_min, x_max]x[y_min, y_max].\n",
    "\n",
    "    # Plot the decision boundary. For that, we will assign a color to each\n",
    "    x_min, x_max = reduced_data[:, 0].min() - 1, reduced_data[:, 0].max() + 1\n",
    "    y_min, y_max = reduced_data[:, 1].min() - 1, reduced_data[:, 1].max() + 1\n",
    "    xx, yy = np.meshgrid(np.arange(x_min, x_max, h), np.arange(y_min, y_max, h))\n",
    "\n",
    "    # Obtain labels for each point in mesh. Use last trained model.\n",
    "    Z = kmeans.predict(np.c_[xx.ravel(), yy.ravel()])\n",
    "\n",
    "    # Put the result into a color plot\n",
    "    Z = Z.reshape(xx.shape)\n",
    "    plt.figure(1)\n",
    "    plt.clf()\n",
    "    plt.imshow(Z, interpolation='nearest',\n",
    "               extent=(xx.min(), xx.max(), yy.min(), yy.max()),\n",
    "               cmap=plt.cm.Paired,\n",
    "               aspect='auto', origin='lower')\n",
    "\n",
    "    plt.plot(reduced_data[:, 0], reduced_data[:, 1], 'k.', markersize=2)\n",
    "\n",
    "    # Plot the centroids as a white X\n",
    "    centroids = kmeans.cluster_centers_\n",
    "    plt.scatter(centroids[:, 0], centroids[:, 1],\n",
    "                marker='x', s=169, linewidths=3,\n",
    "                color='w', zorder=10)\n",
    "    plt.title('K-means clustering on the digits dataset (SVD-reduced data)\\n'\n",
    "              'Centroids are marked with white cross')\n",
    "    plt.xlim(x_min, x_max)\n",
    "    plt.ylim(y_min, y_max)\n",
    "    plt.xticks(())\n",
    "    plt.yticks(())\n",
    "    plt.show()"
   ]
  },
  {
   "cell_type": "code",
   "execution_count": 184,
   "metadata": {},
   "outputs": [],
   "source": [
    "# Saving the cleaned data\n",
    "df_train.to_pickle(os.path.join(FOLDER_PATH,dataset, f\"{method}_data.pkl\"))"
   ]
  }
 ],
 "metadata": {
  "kernelspec": {
   "display_name": "Python 3",
   "language": "python",
   "name": "python3"
  },
  "language_info": {
   "codemirror_mode": {
    "name": "ipython",
    "version": 3
   },
   "file_extension": ".py",
   "mimetype": "text/x-python",
   "name": "python",
   "nbconvert_exporter": "python",
   "pygments_lexer": "ipython3",
   "version": "3.7.4"
  }
 },
 "nbformat": 4,
 "nbformat_minor": 2
}
