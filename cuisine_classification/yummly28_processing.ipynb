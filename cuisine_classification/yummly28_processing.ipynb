{
 "cells": [
  {
   "cell_type": "code",
   "execution_count": 21,
   "metadata": {},
   "outputs": [],
   "source": [
    "from os import listdir\n",
    "from os.path import isfile, join\n",
    "import json\n",
    "import pandas as pd "
   ]
  },
  {
   "cell_type": "code",
   "execution_count": 22,
   "metadata": {},
   "outputs": [],
   "source": [
    "PATH = \"D:\\\\Google Drive\\\\Catherning Folder\\\\THU\\\\Thesis\\\\Recipe datasets\\\\Yummly28\\\\metadata27638\""
   ]
  },
  {
   "cell_type": "code",
   "execution_count": 23,
   "metadata": {},
   "outputs": [],
   "source": [
    "files = [f for f in listdir(PATH) if isfile(join(PATH, f))]\n",
    "NB_RECIPE = len(files)"
   ]
  },
  {
   "cell_type": "code",
   "execution_count": 34,
   "metadata": {},
   "outputs": [
    {
     "data": {
      "text/plain": [
       "{'ingredientLines': ['2 whole garlic heads',\n",
       "  '2 tablespoons plus 2 teaspoons extra-virgin olive oil, divided',\n",
       "  '1/2 cup plus 2 tablespoons Madeira, divided',\n",
       "  '5 cups unsalted chicken stock, divided',\n",
       "  '1/2 cup dried porcini mushrooms (1/2 ounce)',\n",
       "  '1 3/4 cups chopped onion',\n",
       "  '3 cups thinly sliced cremini mushrooms (about 8 ounces)',\n",
       "  '2 1/2 cups thinly sliced shiitake mushroom caps (about 8 ounces)',\n",
       "  '1 1/2 cups uncooked Arborio rice',\n",
       "  '2 ounces Parmesan cheese, grated (about 1/2 cup)',\n",
       "  '1 teaspoon kosher salt',\n",
       "  '1/2 teaspoon freshly ground black pepper',\n",
       "  '2 tablespoons chopped fresh sage',\n",
       "  'Whole sage leaves (optional)'],\n",
       " 'name': 'Mushroom and Roasted Garlic Risotto',\n",
       " 'rating': 3,\n",
       " 'numberOfServings': 1,\n",
       " 'flavors': {'Sweet': 0.3333,\n",
       "  'Sour': 0.8333,\n",
       "  'Salty': 0.3333,\n",
       "  'Piquant': 0.0,\n",
       "  'Bitter': 1.0,\n",
       "  'Meaty': 0.5},\n",
       " 'attributes': {'course': ['Main Dishes'], 'cuisine': ['Italian']}}"
      ]
     },
     "execution_count": 34,
     "metadata": {},
     "output_type": "execute_result"
    }
   ],
   "source": [
    "with open(join(PATH,files[2])) as json_file:\n",
    "    dict_data = json.load(json_file)\n",
    "    \n",
    "    # TODO use nutrition estimages, totalTime (in s?) in the future\n",
    "    for key in [\"totalTime\",\"source\",\"images\",\"id\",\"totalTimeInSeconds\",'attribution','nutritionEstimates','yield']:\n",
    "        del dict_data[key]\n",
    "dict_data\n",
    "\n",
    "#     data = pd.DataFrame.from_dict(dict_data)\n",
    "#     data.reset_index(level=0, inplace=True)"
   ]
  },
  {
   "cell_type": "code",
   "execution_count": null,
   "metadata": {},
   "outputs": [],
   "source": []
  }
 ],
 "metadata": {
  "kernelspec": {
   "display_name": "Python 3",
   "language": "python",
   "name": "python3"
  },
  "language_info": {
   "codemirror_mode": {
    "name": "ipython",
    "version": 3
   },
   "file_extension": ".py",
   "mimetype": "text/x-python",
   "name": "python",
   "nbconvert_exporter": "python",
   "pygments_lexer": "ipython3",
   "version": "3.7.4"
  }
 },
 "nbformat": 4,
 "nbformat_minor": 2
}
