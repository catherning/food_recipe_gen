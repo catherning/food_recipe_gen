{
 "cells": [
  {
   "cell_type": "code",
   "execution_count": 1,
   "metadata": {},
   "outputs": [],
   "source": [
    "import sys\n",
    "sys.path.insert(0, \"D:\\\\Documents\\\\food_recipe_gen\\\\recipe_1m_analysis\")\n",
    "from os import listdir\n",
    "from os.path import isfile, join\n",
    "import json\n",
    "import pandas as pd \n",
    "\n",
    "from ingr_normalization import normalize_ingredient"
   ]
  },
  {
   "cell_type": "code",
   "execution_count": 2,
   "metadata": {},
   "outputs": [],
   "source": [
    "PATH = \"D:\\\\Google Drive\\\\Catherning Folder\\\\THU\\\\Thesis\\\\Recipe datasets\\\\Yummly28\"\n",
    "PATH2 = \"D:\\\\Documents\\\\Recipe datasets\\\\metadata27638_yummly28\"\n",
    "FOLDER_PATH = join(PATH,\"metadata27638\")\n",
    "raw_present = False"
   ]
  },
  {
   "cell_type": "code",
   "execution_count": 3,
   "metadata": {},
   "outputs": [],
   "source": [
    "if not raw_present:\n",
    "    files = [f for f in listdir(PATH2) if isfile(join(PATH2, f))]\n",
    "    NB_RECIPE = len(files)\n",
    "    recipes=[]\n",
    "    for i in range(NB_RECIPE):\n",
    "        with open(join(PATH2,files[i]),encoding=\"utf8\") as json_file:\n",
    "            dict_data = json.load(json_file)\n",
    "        # TODO use nutrition estimages, totalTime (in s?) in the future, \n",
    "        # useless keys for now:\n",
    "        # \"totalTime\",\"source\",\"images\",\"id\",\"totalTimeInSeconds\",'attribution','nutritionEstimates','yield', \"flavours\", etc.\n",
    "\n",
    "        list_ingr=[]\n",
    "        for ingr_raw in dict_data[\"ingredientLines\"]:\n",
    "            try:\n",
    "                list_ingr.append(normalize_ingredient(ingr_raw).name)\n",
    "            except:\n",
    "                continue\n",
    "        # use flavours etc.\n",
    "        recipes.append({\n",
    "            \"id\":i,\n",
    "            \"cuisine\":dict_data[\"attributes\"][\"cuisine\"][0],\n",
    "            \"ingredients\":list_ingr,\n",
    "            \"all_ingredients\":\";\".join(list_ingr)    \n",
    "        })\n",
    "\n",
    "    df = pd.DataFrame(recipes)\n",
    "    df.to_pickle(join(PATH,\"raw_data.pkl\"))\n",
    "else:\n",
    "    df=pd.read_pickle(join(PATH,\"raw_data.pkl\"))\n",
    "    df=df_train.reset_index()\n",
    "    NB_RECIPES = len(df)"
   ]
  },
  {
   "cell_type": "code",
   "execution_count": 5,
   "metadata": {},
   "outputs": [
    {
     "data": {
      "text/plain": [
       "American                11729\n",
       "Italian                  4571\n",
       "Mexican                  3394\n",
       "Asian                    1951\n",
       "French                   1562\n",
       "Indian                   1457\n",
       "Kid-Friendly              962\n",
       "Southwestern              600\n",
       "Thai                      347\n",
       "Barbecue                  338\n",
       "Chinese                   266\n",
       "Southern & Soul Food      151\n",
       "Greek                      80\n",
       "Mediterranean              72\n",
       "Spanish                    58\n",
       "Cuban                      31\n",
       "Cajun & Creole             18\n",
       "Moroccan                   11\n",
       "Japanese                   10\n",
       "Irish                       9\n",
       "English                     6\n",
       "Hawaiian                    5\n",
       "German                      4\n",
       "Hungarian                   3\n",
       "Portuguese                  2\n",
       "Vietnamese                  1\n",
       "Name: cuisine, dtype: int64"
      ]
     },
     "execution_count": 5,
     "metadata": {},
     "output_type": "execute_result"
    }
   ],
   "source": [
    "df['cuisine'].value_counts()"
   ]
  },
  {
   "cell_type": "code",
   "execution_count": 6,
   "metadata": {},
   "outputs": [],
   "source": [
    "df[\"cuisine\"]=df[\"cuisine\"].replace({\"Vietnamese\":\"Asian\",\n",
    "                                     \"Portuguese\":\"Spanish_Portuguese\",\n",
    "                                     \"Spanish\":\"Spanish_Portuguese\",\n",
    "                                     \"Irish\":\"English_Irish\",\n",
    "                                    \"English\":\"English_Irish\",\n",
    "                                     \"Japanese\":\"Asian\", # more fusion\n",
    "                                     \"Chinese\":\"Asian\", \n",
    "                                     \"Greek\":\"Mediterranean\",\n",
    "                                     \"Cajun & Creole\":\"American\",\n",
    "                                     \"Southern & Soul Food\":\"American\",\n",
    "                                     \"Thai\":\"Asian\",\n",
    "                                     \"Southwestern\":\"Mexican\"\n",
    "                                    })\n",
    "\n",
    "df = df[~df[\"cuisine\"].isin([\"Kid-Friendly\",\"Barbecue\"])]"
   ]
  },
  {
   "cell_type": "code",
   "execution_count": 7,
   "metadata": {},
   "outputs": [
    {
     "data": {
      "text/plain": [
       "American              11898\n",
       "Italian                4571\n",
       "Mexican                3994\n",
       "Asian                  2575\n",
       "French                 1562\n",
       "Indian                 1457\n",
       "Mediterranean           152\n",
       "Spanish_Portuguese       60\n",
       "Cuban                    31\n",
       "English_Irish            15\n",
       "Moroccan                 11\n",
       "Hawaiian                  5\n",
       "German                    4\n",
       "Hungarian                 3\n",
       "Name: cuisine, dtype: int64"
      ]
     },
     "execution_count": 7,
     "metadata": {},
     "output_type": "execute_result"
    }
   ],
   "source": [
    "df['cuisine'].value_counts()"
   ]
  },
  {
   "cell_type": "markdown",
   "metadata": {},
   "source": [
    "## Removing cuisines with not enough recipes"
   ]
  },
  {
   "cell_type": "code",
   "execution_count": 8,
   "metadata": {},
   "outputs": [],
   "source": [
    "RECIPE_THRESHOLD=10\n",
    "cuisine_count= df['cuisine'].value_counts()\n",
    "to_drop = [cuisine_count[cuisine_count == el].index[0] for el in cuisine_count if el<RECIPE_THRESHOLD]\n",
    "df=df[~df[\"cuisine\"].isin(to_drop)]"
   ]
  },
  {
   "cell_type": "markdown",
   "metadata": {},
   "source": [
    "## Normalizing ingredients"
   ]
  },
  {
   "cell_type": "code",
   "execution_count": 10,
   "metadata": {},
   "outputs": [],
   "source": [
    "df.to_pickle(join(PATH,\"full_data.pkl\"))"
   ]
  }
 ],
 "metadata": {
  "kernelspec": {
   "display_name": "Python 3",
   "language": "python",
   "name": "python3"
  },
  "language_info": {
   "codemirror_mode": {
    "name": "ipython",
    "version": 3
   },
   "file_extension": ".py",
   "mimetype": "text/x-python",
   "name": "python",
   "nbconvert_exporter": "python",
   "pygments_lexer": "ipython3",
   "version": "3.7.4"
  }
 },
 "nbformat": 4,
 "nbformat_minor": 2
}
