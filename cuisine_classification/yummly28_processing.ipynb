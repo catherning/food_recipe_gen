{
 "cells": [
  {
   "cell_type": "code",
   "execution_count": 1,
   "metadata": {},
   "outputs": [],
   "source": [
    "import sys\n",
    "import os\n",
    "from os import listdir\n",
    "from os.path import isfile, join\n",
    "sys.path.insert(0, join(os.getcwd(),os.pardir))\n",
    "import json\n",
    "import pandas as pd \n",
    "\n",
    "from recipe_1m_analysis.ingr_normalization import normalize_ingredient"
   ]
  },
  {
   "cell_type": "code",
   "execution_count": 2,
   "metadata": {},
   "outputs": [],
   "source": [
    "PATH = \"F:\\\\user\\\\Google Drive\\\\Catherning Folder\\\\THU\\\\Thesis\\\\Work\\\\Recipe datasets\\\\Yummly28\"\n",
    "PATH2 = \"D:\\\\Documents\\\\Recipe datasets\\\\metadata27638_yummly28\"\n",
    "FOLDER_PATH = join(PATH,\"metadata27638\")\n",
    "map_file = \"map.txt\"\n",
    "raw_present = True"
   ]
  },
  {
   "cell_type": "code",
   "execution_count": 21,
   "metadata": {},
   "outputs": [],
   "source": [
    "if not raw_present:\n",
    "    files = [f for f in listdir(PATH2) if isfile(join(PATH2, f))]\n",
    "    NB_RECIPE = len(files)\n",
    "    recipes=[]\n",
    "    for i in range(NB_RECIPE):\n",
    "        with open(join(PATH2,files[i]),encoding=\"utf8\") as json_file:\n",
    "            dict_data = json.load(json_file)\n",
    "        # TODO: use nutrition estimages, totalTime (in s?) in the future, \n",
    "        # useless keys for now:\n",
    "        # \"totalTime\",\"source\",\"images\",\"id\",\"totalTimeInSeconds\",'attribution','nutritionEstimates','yield', \"flavours\", etc.\n",
    "\n",
    "        list_ingr={}\n",
    "        for ingr_raw in dict_data[\"ingredientLines\"]:\n",
    "            try:\n",
    "                list_ingr.add(normalize_ingredient(ingr_raw).name)\n",
    "            except:\n",
    "                continue\n",
    "        # use flavours etc.\n",
    "        recipes.append({\n",
    "            \"id\":i,\n",
    "            \"cuisine\":dict_data[\"attributes\"][\"cuisine\"][0],\n",
    "            \"ingredients\":list(list_ingr),\n",
    "            \"all_ingredients\":\";\".join(list_ingr)    \n",
    "        })\n",
    "\n",
    "    df = pd.DataFrame(recipes)\n",
    "    df.to_pickle(join(PATH,\"raw_data.pkl\"))\n",
    "else:\n",
    "    df_train=pd.read_pickle(join(PATH,\"raw_data.pkl\"))\n",
    "    df=df_train.reset_index()\n",
    "    df=df.drop(columns=[\"index\"])\n",
    "    NB_RECIPES = len(df)"
   ]
  },
  {
   "cell_type": "markdown",
   "metadata": {},
   "source": [
    "## Data cleaning for fusion with scirep regions"
   ]
  },
  {
   "cell_type": "code",
   "execution_count": 23,
   "metadata": {},
   "outputs": [
    {
     "data": {
      "text/plain": [
       "<matplotlib.axes._subplots.AxesSubplot at 0x266222d76a0>"
      ]
     },
     "execution_count": 23,
     "metadata": {},
     "output_type": "execute_result"
    },
    {
     "data": {
      "image/png": "[encoded data removed]",
      "text/plain": [
       "<Figure size 432x288 with 1 Axes>"
      ]
     },
     "metadata": {
      "needs_background": "light"
     },
     "output_type": "display_data"
    }
   ],
   "source": [
    "df['cuisine'].value_counts()\n",
    "df_train['cuisine'].value_counts().head(10).plot(kind='bar')"
   ]
  },
  {
   "cell_type": "code",
   "execution_count": 24,
   "metadata": {},
   "outputs": [
    {
     "data": {
      "text/plain": [
       "0.4243794775309357"
      ]
     },
     "execution_count": 24,
     "metadata": {},
     "output_type": "execute_result"
    }
   ],
   "source": [
    "# american : 11729 total 27638\n",
    "11729/27638"
   ]
  },
  {
   "cell_type": "code",
   "execution_count": 25,
   "metadata": {},
   "outputs": [],
   "source": [
    "to_reverse = {\"Mexico\":\"Mexican\",\n",
    "                           \"mexico\":\"Mexican\",\n",
    "                           \"chinese\":\"Chinese\",\n",
    "                           \"China\":\"Chinese\",\n",
    "                           \"France\":\"French\",\n",
    "                           \"japanese\":\"Japanese\",\n",
    "                           \"Japan\":\"Japanese\",\n",
    "                           \"Thailand\":\"Thai\",\n",
    "                           \"German\":\"Germany\",\n",
    "                           \"India\":\"Indian\",\n",
    "                           \"Israel\":\"Jewish\",\n",
    "                           \"italian\":\"Italian\",\n",
    "                           \"Italy\":\"Italian\",\n",
    "                           \"Scandinavia\":\"Scandinavian\",\n",
    "                           \"Vietnam\":\"Vietnamese\",\n",
    "                           \"Korea\":\"Korean\",\n",
    "                           \"korean\":\"Korean\",\n",
    "                           \"EasternEuropean_Russian\":\"Eastern-Europe\",\n",
    "                           'Spain':'Spanish_Portuguese'}\n",
    "replace_dict = {v:k for k,v in to_reverse.items()}"
   ]
  },
  {
   "cell_type": "code",
   "execution_count": 26,
   "metadata": {},
   "outputs": [],
   "source": [
    "replace_dict_to_regions = {}\n",
    "with open(os.path.join(PATH,map_file)) as f:\n",
    "    for line in f:\n",
    "        l = line.split()\n",
    "        try:\n",
    "            replace_dict_to_regions[l[0]]=l[1]\n",
    "        except IndexError:\n",
    "            pass\n",
    "\n",
    "replace_dict[\"asian\"]=\"Asian\"\n",
    "replace_dict[\"Southern & Soul Food\"]=\"NorthAmerican\"\n",
    "replace_dict[\"Spanish\"]=\"SouthernEuropean\"\n",
    "replace_dict[\"Cuban\"]=\"LatinAmerican\"\n",
    "replace_dict[\"Cajun & Creole\"]=\"NorthAmerican\"\n",
    "replace_dict[\"English\"]=\"WesternEuropean\"\n",
    "replace_dict[\"Hawaiian\"]=\"LatinAmerican\"\n",
    "replace_dict[\"Hungarian\"]=\"WesternEuropean\"\n",
    "replace_dict[\"Portuguese\"]=\"SouthernEuropean\""
   ]
  },
  {
   "cell_type": "code",
   "execution_count": 27,
   "metadata": {},
   "outputs": [
    {
     "data": {
      "text/plain": [
       "NorthAmerican       12498\n",
       "SouthernEuropean     4783\n",
       "LatinAmerican        3430\n",
       "Asian                1951\n",
       "WesternEuropean      1584\n",
       "SouthAsian           1457\n",
       "Kid-Friendly          962\n",
       "SoutheastAsian        348\n",
       "Barbecue              338\n",
       "EastAsian             276\n",
       "African                11\n",
       "Name: cuisine, dtype: int64"
      ]
     },
     "execution_count": 27,
     "metadata": {},
     "output_type": "execute_result"
    }
   ],
   "source": [
    "df[\"cuisine\"]=df[\"cuisine\"].replace(replace_dict)\n",
    "df[\"cuisine\"]=df[\"cuisine\"].replace(replace_dict_to_regions)\n",
    "df['cuisine'].value_counts()"
   ]
  },
  {
   "cell_type": "raw",
   "metadata": {},
   "source": [
    "#df[\"cuisine\"]=df[\"cuisine\"].replace({\"Vietnamese\":\"Asian\",\n",
    "                                     \"Portuguese\":\"Spanish_Portuguese\",\n",
    "                                     \"Spanish\":\"Spanish_Portuguese\",\n",
    "                                     \"Irish\":\"English_Irish\",\n",
    "                                    \"English\":\"English_Irish\",\n",
    "                                     \"Japanese\":\"Asian\", # more fusion\n",
    "                                     \"Chinese\":\"Asian\", \n",
    "                                     \"Vietnamese\":\"Asian\"\n",
    "                                     \"Greek\":\"Mediterranean\",\n",
    "                                     \"Cajun & Creole\":\"American\",\n",
    "                                     \"Southern & Soul Food\":\"American\",\n",
    "                                     \"Thai\":\"Asian\",\n",
    "                                     \"Southwestern\":\"Mexican\"\n",
    "                                    })"
   ]
  },
  {
   "cell_type": "code",
   "execution_count": 28,
   "metadata": {},
   "outputs": [],
   "source": [
    "df = df[~df[\"cuisine\"].isin([\"Kid-Friendly\",\"Barbecue\"])]"
   ]
  },
  {
   "cell_type": "code",
   "execution_count": 29,
   "metadata": {},
   "outputs": [
    {
     "data": {
      "text/plain": [
       "NorthAmerican       12498\n",
       "SouthernEuropean     4783\n",
       "LatinAmerican        3430\n",
       "Asian                1951\n",
       "WesternEuropean      1584\n",
       "SouthAsian           1457\n",
       "SoutheastAsian        348\n",
       "EastAsian             276\n",
       "African                11\n",
       "Name: cuisine, dtype: int64"
      ]
     },
     "execution_count": 29,
     "metadata": {},
     "output_type": "execute_result"
    }
   ],
   "source": [
    "df['cuisine'].value_counts()"
   ]
  },
  {
   "cell_type": "markdown",
   "metadata": {},
   "source": [
    "## Removing cuisines with not enough recipes"
   ]
  },
  {
   "cell_type": "code",
   "execution_count": 30,
   "metadata": {},
   "outputs": [],
   "source": [
    "RECIPE_THRESHOLD=10\n",
    "cuisine_count= df['cuisine'].value_counts()\n",
    "to_drop = [cuisine_count[cuisine_count == el].index[0] for el in cuisine_count if el<RECIPE_THRESHOLD]\n",
    "df=df[~df[\"cuisine\"].isin(to_drop)]"
   ]
  },
  {
   "cell_type": "markdown",
   "metadata": {},
   "source": [
    "## Normalizing ingredients"
   ]
  },
  {
   "cell_type": "code",
   "execution_count": 32,
   "metadata": {},
   "outputs": [],
   "source": [
    "df.to_pickle(join(PATH,\"full_data.pkl\"))"
   ]
  },
  {
   "cell_type": "code",
   "execution_count": null,
   "metadata": {},
   "outputs": [],
   "source": []
  }
 ],
 "metadata": {
  "kernelspec": {
   "display_name": "Python 3",
   "language": "python",
   "name": "python3"
  },
  "language_info": {
   "codemirror_mode": {
    "name": "ipython",
    "version": 3
   },
   "file_extension": ".py",
   "mimetype": "text/x-python",
   "name": "python",
   "nbconvert_exporter": "python",
   "pygments_lexer": "ipython3",
   "version": "3.6.10"
  }
 },
 "nbformat": 4,
 "nbformat_minor": 2
}
