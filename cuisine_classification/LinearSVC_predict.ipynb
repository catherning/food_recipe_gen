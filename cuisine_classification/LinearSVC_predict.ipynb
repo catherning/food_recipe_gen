{
 "cells": [
  {
   "cell_type": "code",
   "execution_count": 1,
   "metadata": {},
   "outputs": [],
   "source": [
    "import os\n",
    "from joblib import dump, load\n",
    "import pickle\n",
    "import sys\n",
    "sys.path.insert(0, os.path.join(os.getcwd(),os.pardir))\n",
    "from collections import Counter\n",
    "import numpy as np\n",
    "import seaborn as sn\n",
    "import pandas as pd\n",
    "import matplotlib.pyplot as plt\n",
    "from nltk.stem.lancaster import LancasterStemmer\n",
    "from mpl_toolkits.mplot3d import Axes3D\n",
    "\n",
    "import sklearn\n",
    "from sklearn.feature_extraction.text import CountVectorizer\n",
    "from sklearn.calibration import CalibratedClassifierCV\n",
    "from sklearn.svm import LinearSVC"
   ]
  },
  {
   "cell_type": "code",
   "execution_count": 2,
   "metadata": {},
   "outputs": [],
   "source": [
    "svc = load(\"best_linearSVC.joblib\")"
   ]
  },
  {
   "cell_type": "code",
   "execution_count": 3,
   "metadata": {},
   "outputs": [],
   "source": [
    "FILES  = [\"train\",\"val\",\"test\"]\n",
    "FOLDER = os.path.join(os.getcwd(),os.pardir,\"recipe_1m_analysis\",\"data\")\n",
    "file = FILES[0]"
   ]
  },
  {
   "cell_type": "code",
   "execution_count": 4,
   "metadata": {},
   "outputs": [],
   "source": [
    "enc = load(\"scikit_vocab_cuisine.joblib\")"
   ]
  },
  {
   "cell_type": "code",
   "execution_count": 5,
   "metadata": {},
   "outputs": [],
   "source": [
    "with open(os.path.join(FOLDER,\"recipe1m_\"+file+\".pkl\"),\"rb\") as f:\n",
    "    data = pickle.load(f)"
   ]
  },
  {
   "cell_type": "code",
   "execution_count": 6,
   "metadata": {},
   "outputs": [
    {
     "data": {
      "text/plain": [
       "268012"
      ]
     },
     "execution_count": 6,
     "metadata": {},
     "output_type": "execute_result"
    }
   ],
   "source": [
    "len(data)"
   ]
  },
  {
   "cell_type": "code",
   "execution_count": 7,
   "metadata": {},
   "outputs": [],
   "source": [
    "ingr_input = [\";\".join([ingr.name for ingr in recipe[\"ingredients\"]]) for recipe in data.values() ]"
   ]
  },
  {
   "cell_type": "code",
   "execution_count": 8,
   "metadata": {},
   "outputs": [],
   "source": [
    "vocab = load(\"scikit_vocab.joblib\")"
   ]
  },
  {
   "cell_type": "code",
   "execution_count": 9,
   "metadata": {},
   "outputs": [
    {
     "data": {
      "text/plain": [
       "70554"
      ]
     },
     "execution_count": 9,
     "metadata": {},
     "output_type": "execute_result"
    }
   ],
   "source": [
    "len(vocab)"
   ]
  },
  {
   "cell_type": "code",
   "execution_count": 10,
   "metadata": {},
   "outputs": [],
   "source": [
    "cv = CountVectorizer(vocabulary=vocab)\n",
    "X = cv.fit_transform(ingr_input)"
   ]
  },
  {
   "cell_type": "code",
   "execution_count": 11,
   "metadata": {},
   "outputs": [
    {
     "data": {
      "text/plain": [
       "268012"
      ]
     },
     "execution_count": 11,
     "metadata": {},
     "output_type": "execute_result"
    }
   ],
   "source": [
    "prediction = svc.predict(X)\n",
    "len(prediction)"
   ]
  },
  {
   "cell_type": "code",
   "execution_count": 12,
   "metadata": {},
   "outputs": [],
   "source": [
    "str_pred =enc.inverse_transform(prediction)"
   ]
  },
  {
   "cell_type": "code",
   "execution_count": 13,
   "metadata": {},
   "outputs": [],
   "source": [
    "counter_svc=Counter(str_pred)"
   ]
  },
  {
   "cell_type": "code",
   "execution_count": 14,
   "metadata": {},
   "outputs": [
    {
     "data": {
      "text/plain": [
       "268012"
      ]
     },
     "execution_count": 14,
     "metadata": {},
     "output_type": "execute_result"
    }
   ],
   "source": [
    "len(str_pred)"
   ]
  },
  {
   "cell_type": "code",
   "execution_count": 15,
   "metadata": {},
   "outputs": [
    {
     "name": "stdout",
     "output_type": "stream",
     "text": [
      "['dilly', 'macaroni', 'salad', 'recipe'] NorthAmerican\n",
      "['gazpacho'] NorthAmerican\n",
      "['cool', \"'\", 'n', 'easy', 'creamy', 'watermelon', 'pie'] NorthAmerican\n",
      "['kombu', 'tea', 'grilled', 'chicken', 'thigh'] NorthAmerican\n",
      "['pink', 'sangria'] NorthAmerican\n",
      "['pineapple', 'loaf'] NorthAmerican\n",
      "['tinklee', \"'s\", 'vanilla', 'crack'] NorthAmerican\n",
      "['erin', \"'s\", 'mashed', 'potatoes'] NorthAmerican\n",
      "['banana', 'cream', 'pie', 'smoothie'] NorthAmerican\n",
      "['frosty', 'lemon', 'ice', 'cream', 'sandwiches'] NorthAmerican\n",
      "['apple', 'cinnamon', 'french', 'toast', 'strata'] NorthAmerican\n",
      "['margarita', 'madras'] NorthAmerican\n",
      "['lobster', 'on', 'the', 'barbie'] NorthAmerican\n",
      "['penne', 'with', 'smoked', 'trout', 'and', 'sugar', 'snap', 'peas'] NorthAmerican\n",
      "['cheesy', 'herbed', 'egg', 'sandwich'] NorthAmerican\n",
      "['balsamic', 'chicken', 'pasta', 'with', 'fresh', 'cheese'] SouthernEuropean\n",
      "['chirashi', '(', 'scattered', ')', 'sushi'] NorthAmerican\n",
      "['hot', 'corned', 'beef', 'buns'] NorthAmerican\n",
      "['creme', 'curd', 'cups'] NorthAmerican\n",
      "['barbecue', 'baked', 'potatoes'] NorthAmerican\n",
      "['spoonriver', 'melon', 'mint', 'soup'] NorthAmerican\n",
      "['revoltillos'] NorthAmerican\n",
      "['grandma', \"'s\", 'caramel', 'corn'] NorthAmerican\n",
      "['shalom', 'bayit', 'kugel', '(', 'potato', 'kugel', ')'] NorthAmerican\n",
      "['cheese', 'omelette'] NorthAmerican\n",
      "['sweet', 'and', 'spicy', 'red', 'pepper', 'dip'] NorthAmerican\n",
      "['mediterranean', 'style', 'lamb', 'and', 'vegetable', 'stir-fry'] NorthAmerican\n",
      "['chicken', 'sausage', 'stir', 'fry'] NorthAmerican\n",
      "['double', 'cherry', 'crumble'] NorthAmerican\n",
      "['my', 'watermelon', 'slushy'] NorthAmerican\n",
      "['natural', 'peanut', 'butter', 'chocolate', 'bon', 'bons'] NorthAmerican\n",
      "['peanut', 'butter', '&', 'jelly', 'pie'] NorthAmerican\n",
      "['easy', 'cheese', 'sauce'] NorthAmerican\n",
      "['barbequed', 'spare', 'ribs', 'recipe'] NorthAmerican\n",
      "['wake-up', 'quesadilla'] NorthAmerican\n",
      "['easy', 'chocolate', 'frosting', 'recipe'] NorthAmerican\n",
      "['lemon', 'gelatin', 'n', 'fruit', 'salad'] NorthAmerican\n",
      "['honey', 'mustard-chicken', 'salad'] NorthAmerican\n",
      "['boiled', 'onions'] NorthAmerican\n",
      "['quick', 'chocolate', 'mousse'] NorthAmerican\n",
      "['spicy', 'korean', 'temple', 'noodles'] NorthAmerican\n",
      "['orange', '-', 'rosemary', 'chicken'] WesternEuropean\n",
      "['grandma', \"'s\", 'split', 'pea', 'soup'] NorthAmerican\n",
      "['creamed', 'broccoli', 'and', 'cauliflower', 'soup', 'recipe'] NorthAmerican\n",
      "['stuffed', 'peppers'] SouthernEuropean\n",
      "['black', 'olive', 'spread'] SouthernEuropean\n",
      "['modenese', 'pork', 'chops'] WesternEuropean\n",
      "['real', 'margaritas'] NorthAmerican\n",
      "['mom', \"'s\", 'swiss', 'steak', 'recipe'] NorthAmerican\n",
      "['lemon', 'whippersnaps'] NorthAmerican\n"
     ]
    }
   ],
   "source": [
    "for i,v in enumerate(data.values()):\n",
    "    v[\"cuisine\"]=str_pred[i]\n",
    "    \n",
    "    if i<50:\n",
    "        print(v[\"title\"],v[\"cuisine\"])"
   ]
  },
  {
   "cell_type": "code",
   "execution_count": 16,
   "metadata": {},
   "outputs": [
    {
     "data": {
      "text/plain": [
       "array([6, 6, 6, ..., 6, 6, 6], dtype=int64)"
      ]
     },
     "execution_count": 16,
     "metadata": {},
     "output_type": "execute_result"
    }
   ],
   "source": [
    "#95% pred\n",
    "threshold=0.95\n",
    "y_pred_prob = svc.predict_proba(X)\n",
    "max_prob = y_pred_prob.max(axis=1)\n",
    "y_pred = y_pred_prob.argmax(axis=1)\n",
    "\n",
    "to_del = np.argwhere(max_prob < threshold).T[0]\n",
    "\n",
    "partial_y_pred = np.delete(y_pred,to_del)\n",
    "partial_y_pred"
   ]
  },
  {
   "cell_type": "code",
   "execution_count": 17,
   "metadata": {},
   "outputs": [
    {
     "data": {
      "text/plain": [
       "7250"
      ]
     },
     "execution_count": 17,
     "metadata": {},
     "output_type": "execute_result"
    }
   ],
   "source": [
    "len(partial_y_pred)"
   ]
  },
  {
   "cell_type": "code",
   "execution_count": 18,
   "metadata": {},
   "outputs": [
    {
     "data": {
      "text/plain": [
       "Counter({6: 7032, 4: 117, 10: 89, 8: 4, 1: 6, 11: 2})"
      ]
     },
     "execution_count": 18,
     "metadata": {},
     "output_type": "execute_result"
    }
   ],
   "source": [
    "Counter(partial_y_pred)"
   ]
  },
  {
   "cell_type": "code",
   "execution_count": 19,
   "metadata": {},
   "outputs": [],
   "source": [
    "with open(os.path.join(FOLDER,\"recipe1m_\"+file+\"_cuisine_svc.pkl\"), \"wb\") as f:\n",
    "    pickle.dump(data, f)"
   ]
  },
  {
   "cell_type": "markdown",
   "metadata": {},
   "source": [
    "## Load NN classified file"
   ]
  },
  {
   "cell_type": "code",
   "execution_count": 20,
   "metadata": {},
   "outputs": [],
   "source": [
    "with open(os.path.join(FOLDER,\"recipe1m_\"+file+\"_cuisine_nn.pkl\"),\"rb\") as f:\n",
    "    data_nn = pickle.load(f)"
   ]
  },
  {
   "cell_type": "code",
   "execution_count": 21,
   "metadata": {},
   "outputs": [],
   "source": [
    "with open(os.path.join(os.getcwd(),\"results\",\"vocab_cuisine.pkl\"), \"rb\") as f:\n",
    "    vocab_cuisine = pickle.load(f)"
   ]
  },
  {
   "cell_type": "code",
   "execution_count": 22,
   "metadata": {},
   "outputs": [],
   "source": [
    "for el in counter_svc.keys():\n",
    "    vocab_cuisine.add_word(el)"
   ]
  },
  {
   "cell_type": "code",
   "execution_count": 23,
   "metadata": {},
   "outputs": [
    {
     "data": {
      "text/plain": [
       "{'NorthAmerican': 0,\n",
       " 'SouthernEuropean': 1,\n",
       " 'LatinAmerican': 2,\n",
       " 'Asian': 3,\n",
       " 'WesternEuropean': 4,\n",
       " 'SouthAsian': 5,\n",
       " 'SoutheastAsian': 6,\n",
       " 'EastAsian': 7,\n",
       " 'African': 8,\n",
       " 'MiddleEastern': 9,\n",
       " 'EasternEuropean': 10,\n",
       " 'NorthernEuropean': 11}"
      ]
     },
     "execution_count": 23,
     "metadata": {},
     "output_type": "execute_result"
    }
   ],
   "source": [
    "vocab_cuisine.word2idx"
   ]
  },
  {
   "cell_type": "code",
   "execution_count": 24,
   "metadata": {},
   "outputs": [],
   "source": [
    "counter_nn=Counter([recp[\"cuisine\"] for recp in data_nn.values()])"
   ]
  },
  {
   "cell_type": "code",
   "execution_count": 61,
   "metadata": {},
   "outputs": [
    {
     "name": "stdout",
     "output_type": "stream",
     "text": [
      "202492\n"
     ]
    }
   ],
   "source": [
    "coherence_matrix = np.zeros((len(counter_nn),len(counter_svc)),dtype=np.int)\n",
    "np.set_printoptions(suppress=True)\n",
    "for idx,recp in data_nn.items():\n",
    "    coherence_matrix[vocab_cuisine.word2idx[recp[\"cuisine\"]]][vocab_cuisine.word2idx[data[idx][\"cuisine\"]]]+=1\n",
    "print(coherence_matrix[0][0])\n",
    "coherence_matrix[0][0]=14000"
   ]
  },
  {
   "cell_type": "raw",
   "metadata": {},
   "source": [
    "%matplotlib notebook\n",
    "\n",
    "# Set up grid and test data\n",
    "x = range(12)\n",
    "y = range(12)\n",
    "\n",
    "hf = plt.figure()\n",
    "ha = hf.add_subplot(111, projection='3d')\n",
    "\n",
    "X, Y = np.meshgrid(x, y)  # `plot_surface` expects `x` and `y` data to be 2D\n",
    "ha.plot_surface(X.T, Y.T, coherence_matrix)\n",
    "ha.set_xlabel('number of ingredients')\n",
    "ha.set_ylabel('number of instructions')\n",
    "\n",
    "plt.show()"
   ]
  },
  {
   "cell_type": "code",
   "execution_count": 40,
   "metadata": {
    "scrolled": true
   },
   "outputs": [
    {
     "data": {
      "image/png": "[encoded data removed]",
      "text/plain": [
       "<Figure size 720x648 with 2 Axes>"
      ]
     },
     "metadata": {},
     "output_type": "display_data"
    }
   ],
   "source": [
    "df_cm = pd.DataFrame(coherence_matrix, index = counter_nn.keys(),\n",
    "                  columns = counter_svc.keys())\n",
    "plt.figure(figsize=(10,9))\n",
    "#sn.set(font_scale=0.8) # for label size\n",
    "sn.heatmap(df_cm, annot=True, annot_kws={\"size\": 8}, fmt='g') # font size\n",
    "plt.xlabel(\"Linear SVC model\")\n",
    "plt.ylabel(\"MLP model\")\n",
    "plt.show()\n"
   ]
  },
  {
   "cell_type": "code",
   "execution_count": 52,
   "metadata": {},
   "outputs": [],
   "source": [
    "a=0.95"
   ]
  },
  {
   "cell_type": "code",
   "execution_count": 53,
   "metadata": {},
   "outputs": [
    {
     "data": {
      "text/plain": [
       "'0.95'"
      ]
     },
     "execution_count": 53,
     "metadata": {},
     "output_type": "execute_result"
    }
   ],
   "source": [
    "str(a)*bool(a)"
   ]
  },
  {
   "cell_type": "code",
   "execution_count": 64,
   "metadata": {},
   "outputs": [
    {
     "data": {
      "text/plain": [
       "231048"
      ]
     },
     "execution_count": 64,
     "metadata": {},
     "output_type": "execute_result"
    }
   ],
   "source": [
    "np.trace(coherence_matrix)-14000+202492"
   ]
  },
  {
   "cell_type": "code",
   "execution_count": 65,
   "metadata": {},
   "outputs": [
    {
     "data": {
      "text/plain": [
       "0.8620808023521335"
      ]
     },
     "execution_count": 65,
     "metadata": {},
     "output_type": "execute_result"
    }
   ],
   "source": [
    "231048/len(data)"
   ]
  },
  {
   "cell_type": "code",
   "execution_count": 55,
   "metadata": {},
   "outputs": [],
   "source": [
    "with open(os.path.join(FOLDER,\"recipe1m_\"+file+\"_cuisine_nn0.95.pkl\"),\"rb\") as f:\n",
    "    data_nn95 = pickle.load(f)"
   ]
  },
  {
   "cell_type": "code",
   "execution_count": 58,
   "metadata": {},
   "outputs": [],
   "source": [
    "predicted = [recp[\"cuisine\"] for recp in data_nn95.values() if \"cuisine\" in recp]"
   ]
  },
  {
   "cell_type": "code",
   "execution_count": 59,
   "metadata": {},
   "outputs": [
    {
     "data": {
      "text/plain": [
       "60967"
      ]
     },
     "execution_count": 59,
     "metadata": {},
     "output_type": "execute_result"
    }
   ],
   "source": [
    "len(predicted)"
   ]
  },
  {
   "cell_type": "code",
   "execution_count": 60,
   "metadata": {},
   "outputs": [
    {
     "data": {
      "text/plain": [
       "Counter({'NorthAmerican': 56636,\n",
       "         'SouthernEuropean': 3868,\n",
       "         'LatinAmerican': 419,\n",
       "         'SouthAsian': 39,\n",
       "         'WesternEuropean': 5})"
      ]
     },
     "execution_count": 60,
     "metadata": {},
     "output_type": "execute_result"
    }
   ],
   "source": [
    "Counter(predicted)"
   ]
  },
  {
   "cell_type": "code",
   "execution_count": 62,
   "metadata": {},
   "outputs": [
    {
     "data": {
      "text/plain": [
       "268012"
      ]
     },
     "execution_count": 62,
     "metadata": {},
     "output_type": "execute_result"
    }
   ],
   "source": [
    "len(data)"
   ]
  },
  {
   "cell_type": "code",
   "execution_count": null,
   "metadata": {},
   "outputs": [],
   "source": []
  }
 ],
 "metadata": {
  "kernelspec": {
   "display_name": "Python 3",
   "language": "python",
   "name": "python3"
  },
  "language_info": {
   "codemirror_mode": {
    "name": "ipython",
    "version": 3
   },
   "file_extension": ".py",
   "mimetype": "text/x-python",
   "name": "python",
   "nbconvert_exporter": "python",
   "pygments_lexer": "ipython3",
   "version": "3.6.10"
  }
 },
 "nbformat": 4,
 "nbformat_minor": 4
}
