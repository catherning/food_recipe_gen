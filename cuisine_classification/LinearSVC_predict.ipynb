{
 "cells": [
  {
   "cell_type": "code",
   "execution_count": 62,
   "metadata": {},
   "outputs": [],
   "source": [
    "import os\n",
    "from joblib import dump, load\n",
    "import pickle\n",
    "import sys\n",
    "sys.path.insert(0, os.path.join(os.getcwd(),os.pardir))\n",
    "from collections import Counter\n",
    "import numpy as np\n",
    "\n",
    "import sklearn\n",
    "from sklearn.feature_extraction.text import CountVectorizer\n",
    "from sklearn.calibration import CalibratedClassifierCV\n",
    "from sklearn.svm import LinearSVC"
   ]
  },
  {
   "cell_type": "code",
   "execution_count": 63,
   "metadata": {},
   "outputs": [],
   "source": [
    "svc = load(\"best_linearSVC.joblib\")"
   ]
  },
  {
   "cell_type": "code",
   "execution_count": 8,
   "metadata": {},
   "outputs": [],
   "source": [
    "FILES  = [\"train\",\"val\",\"test\"]\n",
    "FOLDER = os.path.join(os.getcwd(),os.pardir,\"recipe_1m_analysis\",\"data\")\n",
    "file = FILES[0]"
   ]
  },
  {
   "cell_type": "code",
   "execution_count": 49,
   "metadata": {},
   "outputs": [],
   "source": [
    "enc = load(\"scikit_vocab_cuisine.joblib\")"
   ]
  },
  {
   "cell_type": "code",
   "execution_count": 13,
   "metadata": {},
   "outputs": [],
   "source": [
    "with open(os.path.join(FOLDER,\"recipe1m_\"+file+\".pkl\"),\"rb\") as f:\n",
    "    data = pickle.load(f)"
   ]
  },
  {
   "cell_type": "code",
   "execution_count": 34,
   "metadata": {},
   "outputs": [
    {
     "data": {
      "text/plain": [
       "268012"
      ]
     },
     "execution_count": 34,
     "metadata": {},
     "output_type": "execute_result"
    }
   ],
   "source": [
    "len(data)"
   ]
  },
  {
   "cell_type": "code",
   "execution_count": 25,
   "metadata": {},
   "outputs": [],
   "source": [
    "ingr_input = [\";\".join([ingr.name for ingr in recipe[\"ingredients\"]]) for recipe in data.values() ]"
   ]
  },
  {
   "cell_type": "code",
   "execution_count": 17,
   "metadata": {},
   "outputs": [],
   "source": [
    "vocab = load(\"scikit_vocab.joblib\")"
   ]
  },
  {
   "cell_type": "code",
   "execution_count": 35,
   "metadata": {},
   "outputs": [
    {
     "data": {
      "text/plain": [
       "70554"
      ]
     },
     "execution_count": 35,
     "metadata": {},
     "output_type": "execute_result"
    }
   ],
   "source": [
    "len(vocab)"
   ]
  },
  {
   "cell_type": "code",
   "execution_count": 27,
   "metadata": {},
   "outputs": [],
   "source": [
    "cv = CountVectorizer(vocabulary=vocab)\n",
    "X = cv.fit_transform(ingr_input)"
   ]
  },
  {
   "cell_type": "code",
   "execution_count": 66,
   "metadata": {},
   "outputs": [
    {
     "data": {
      "text/plain": [
       "268012"
      ]
     },
     "execution_count": 66,
     "metadata": {},
     "output_type": "execute_result"
    }
   ],
   "source": [
    "prediction = svc.predict(X)\n",
    "len(prediction)"
   ]
  },
  {
   "cell_type": "code",
   "execution_count": 55,
   "metadata": {},
   "outputs": [],
   "source": [
    "str_pred =enc.inverse_transform(prediction)"
   ]
  },
  {
   "cell_type": "code",
   "execution_count": 56,
   "metadata": {},
   "outputs": [
    {
     "data": {
      "text/plain": [
       "Counter({'NorthAmerican': 227777,\n",
       "         'SouthernEuropean': 17596,\n",
       "         'WesternEuropean': 6502,\n",
       "         'Asian': 3855,\n",
       "         'LatinAmerican': 9505,\n",
       "         'EastAsian': 1259,\n",
       "         'SouthAsian': 1376,\n",
       "         'SoutheastAsian': 89,\n",
       "         'MiddleEastern': 20,\n",
       "         'EasternEuropean': 8,\n",
       "         'NorthernEuropean': 24,\n",
       "         'African': 1})"
      ]
     },
     "execution_count": 56,
     "metadata": {},
     "output_type": "execute_result"
    }
   ],
   "source": [
    "Counter(str_pred)"
   ]
  },
  {
   "cell_type": "code",
   "execution_count": 69,
   "metadata": {},
   "outputs": [
    {
     "data": {
      "text/plain": [
       "268012"
      ]
     },
     "execution_count": 69,
     "metadata": {},
     "output_type": "execute_result"
    }
   ],
   "source": [
    "len(str_pred)"
   ]
  },
  {
   "cell_type": "code",
   "execution_count": 59,
   "metadata": {},
   "outputs": [
    {
     "name": "stdout",
     "output_type": "stream",
     "text": [
      "['dilly', 'macaroni', 'salad', 'recipe'] NorthAmerican\n",
      "['gazpacho'] NorthAmerican\n",
      "['cool', \"'\", 'n', 'easy', 'creamy', 'watermelon', 'pie'] NorthAmerican\n",
      "['kombu', 'tea', 'grilled', 'chicken', 'thigh'] NorthAmerican\n",
      "['pink', 'sangria'] NorthAmerican\n",
      "['pineapple', 'loaf'] NorthAmerican\n",
      "['tinklee', \"'s\", 'vanilla', 'crack'] NorthAmerican\n",
      "['erin', \"'s\", 'mashed', 'potatoes'] NorthAmerican\n",
      "['banana', 'cream', 'pie', 'smoothie'] NorthAmerican\n",
      "['frosty', 'lemon', 'ice', 'cream', 'sandwiches'] NorthAmerican\n",
      "['apple', 'cinnamon', 'french', 'toast', 'strata'] NorthAmerican\n",
      "['margarita', 'madras'] NorthAmerican\n",
      "['lobster', 'on', 'the', 'barbie'] NorthAmerican\n",
      "['penne', 'with', 'smoked', 'trout', 'and', 'sugar', 'snap', 'peas'] NorthAmerican\n",
      "['cheesy', 'herbed', 'egg', 'sandwich'] NorthAmerican\n",
      "['balsamic', 'chicken', 'pasta', 'with', 'fresh', 'cheese'] SouthernEuropean\n",
      "['chirashi', '(', 'scattered', ')', 'sushi'] NorthAmerican\n",
      "['hot', 'corned', 'beef', 'buns'] NorthAmerican\n",
      "['creme', 'curd', 'cups'] NorthAmerican\n",
      "['barbecue', 'baked', 'potatoes'] NorthAmerican\n",
      "['spoonriver', 'melon', 'mint', 'soup'] NorthAmerican\n",
      "['revoltillos'] NorthAmerican\n",
      "['grandma', \"'s\", 'caramel', 'corn'] NorthAmerican\n",
      "['shalom', 'bayit', 'kugel', '(', 'potato', 'kugel', ')'] NorthAmerican\n",
      "['cheese', 'omelette'] NorthAmerican\n",
      "['sweet', 'and', 'spicy', 'red', 'pepper', 'dip'] NorthAmerican\n",
      "['mediterranean', 'style', 'lamb', 'and', 'vegetable', 'stir-fry'] NorthAmerican\n",
      "['chicken', 'sausage', 'stir', 'fry'] NorthAmerican\n",
      "['double', 'cherry', 'crumble'] NorthAmerican\n",
      "['my', 'watermelon', 'slushy'] NorthAmerican\n",
      "['natural', 'peanut', 'butter', 'chocolate', 'bon', 'bons'] NorthAmerican\n",
      "['peanut', 'butter', '&', 'jelly', 'pie'] NorthAmerican\n",
      "['easy', 'cheese', 'sauce'] NorthAmerican\n",
      "['barbequed', 'spare', 'ribs', 'recipe'] NorthAmerican\n",
      "['wake-up', 'quesadilla'] NorthAmerican\n",
      "['easy', 'chocolate', 'frosting', 'recipe'] NorthAmerican\n",
      "['lemon', 'gelatin', 'n', 'fruit', 'salad'] NorthAmerican\n",
      "['honey', 'mustard-chicken', 'salad'] NorthAmerican\n",
      "['boiled', 'onions'] NorthAmerican\n",
      "['quick', 'chocolate', 'mousse'] NorthAmerican\n",
      "['spicy', 'korean', 'temple', 'noodles'] NorthAmerican\n",
      "['orange', '-', 'rosemary', 'chicken'] WesternEuropean\n",
      "['grandma', \"'s\", 'split', 'pea', 'soup'] NorthAmerican\n",
      "['creamed', 'broccoli', 'and', 'cauliflower', 'soup', 'recipe'] NorthAmerican\n",
      "['stuffed', 'peppers'] SouthernEuropean\n",
      "['black', 'olive', 'spread'] SouthernEuropean\n",
      "['modenese', 'pork', 'chops'] WesternEuropean\n",
      "['real', 'margaritas'] NorthAmerican\n",
      "['mom', \"'s\", 'swiss', 'steak', 'recipe'] NorthAmerican\n",
      "['lemon', 'whippersnaps'] NorthAmerican\n",
      "['italian-style', 'scallops', 'with', 'vegetables', 'and', 'pasta'] SouthernEuropean\n",
      "['fresh', 'mozzarella', '&', 'tomato', 'salad', 'with', 'balsamic', 'vinaigrette'] NorthAmerican\n",
      "['pork', 'omelette'] Asian\n",
      "['madame', 'wu', \"'s\", 'spicy', 'noodles'] Asian\n",
      "['miso', 'chicken'] SouthernEuropean\n",
      "['aunt', 'julie', \"'s\", 'pineapple', 'cookies'] NorthAmerican\n",
      "['the', 'cheesy', 'riri'] NorthAmerican\n",
      "['one-pot', 'chicken', '&', 'penne', 'parmesan'] SouthernEuropean\n",
      "['p.', 'f.', 'changs', 'sauce', 'for', 'fried', 'green', 'beans', 'appetizer'] NorthAmerican\n",
      "['broccoli', 'chicken', 'casserole', 'recipe'] NorthAmerican\n",
      "['chicken', 'and', 'stuffing', 'loaf'] NorthAmerican\n",
      "['grilled', 'rosemary', 'salmon', 'spedini'] NorthAmerican\n",
      "['broiled', 'parmesan', 'tomatoes'] NorthAmerican\n",
      "['tomato', 'and', 'spinach', 'casserole'] NorthAmerican\n",
      "['scallop', 'ceviche'] NorthAmerican\n",
      "['marco', 'canora', \"'s\", 'braised', 'red', 'cabbage'] NorthAmerican\n",
      "['shrimp', 'mold'] NorthAmerican\n",
      "['avocado', '``', 'pesto', \"''\", 'recipe'] NorthAmerican\n",
      "['simple', 'peanut', 'butter', 'and', 'tomato', 'sandwich'] NorthAmerican\n",
      "['stuffed', 'papaya', 'boats'] NorthAmerican\n",
      "['bourbon', 'currant', 'cookies'] NorthAmerican\n",
      "['chicken', 'marsala'] SouthernEuropean\n",
      "['chicken', 'diable'] NorthAmerican\n",
      "['chocolate', ',', 'coffee', '&', 'hazelnut', 'loaf'] WesternEuropean\n",
      "['chicken', 'taco', 'bowl'] NorthAmerican\n",
      "['reuben', 'in', 'the', 'round'] NorthAmerican\n",
      "['tomatillo', 'hash', 'with', 'sausage'] LatinAmerican\n",
      "['paella'] NorthAmerican\n",
      "['bread', ',', 'bean', 'and', 'vegetable', 'soup', ',', 'second', 'time', 'around'] SouthernEuropean\n",
      "['garlic', 'and', 'dill', 'salmon'] NorthAmerican\n",
      "['mango', 'lassi'] NorthAmerican\n",
      "['spinach', 'casserole'] NorthAmerican\n",
      "['yellow', 'squash', 'saute'] NorthAmerican\n",
      "['hootenanny', 'pancakes'] NorthAmerican\n",
      "['crunchy', 'exploding', 'snack', 'beans/spicy', 'chili', 'variation'] NorthAmerican\n",
      "['fried', 'rock', 'fish'] NorthAmerican\n",
      "['almond', 'bread', '-', 'no', 'grains', '-', 'no', 'flour', '-', 'no', 'gluten', '-', 'low', 'carb'] NorthAmerican\n",
      "['creamy', 'baked', 'chicken', 'breasts'] NorthAmerican\n",
      "['soda', 'bread', 'with', 'oats'] NorthAmerican\n",
      "['three', 'basil', 'pesto'] NorthAmerican\n",
      "['healthier', 'peanut', 'butter', 'cup', 'pie'] NorthAmerican\n",
      "['cheese', 'puffs'] NorthAmerican\n",
      "['hot', 'cheese', '!'] LatinAmerican\n",
      "['swiss', 'portabella', 'mushroom', 'chicken', 'breasts', 'recipe'] NorthAmerican\n",
      "['turkey', 'porcupine', 'meatballs'] NorthAmerican\n",
      "['cornmeal', 'mush'] NorthAmerican\n",
      "['arugula', ',', 'corn', ',', 'and', 'tomato', 'salad', 'with', 'shaved', 'parmesan', 'recipe'] NorthAmerican\n",
      "['wrapped', 'western-style', 'eggs'] LatinAmerican\n",
      "['chicken', 'taco', 'dinner', 'salad'] LatinAmerican\n",
      "['overnight', 'oats', ':', 'no-cook', 'blueberry-almond', 'oatmeal'] NorthAmerican\n"
     ]
    }
   ],
   "source": [
    "for i,v in enumerate(data.values()):\n",
    "    v[\"cuisine\"]=str_pred[i]\n",
    "    \n",
    "    if i<100:\n",
    "        print(v[\"title\"],v[\"cuisine\"])"
   ]
  },
  {
   "cell_type": "code",
   "execution_count": 70,
   "metadata": {},
   "outputs": [
    {
     "data": {
      "text/plain": [
       "array([6, 6, 6, ..., 6, 6, 6], dtype=int64)"
      ]
     },
     "execution_count": 70,
     "metadata": {},
     "output_type": "execute_result"
    }
   ],
   "source": [
    "#95% pred\n",
    "threshold=0.95\n",
    "y_pred_prob = svc.predict_proba(X)\n",
    "max_prob = y_pred_prob.max(axis=1)\n",
    "y_pred = y_pred_prob.argmax(axis=1)\n",
    "\n",
    "to_del = np.argwhere(max_prob < threshold).T[0]\n",
    "\n",
    "partial_y_pred = np.delete(y_pred,to_del)\n",
    "partial_y_pred"
   ]
  },
  {
   "cell_type": "code",
   "execution_count": 71,
   "metadata": {},
   "outputs": [
    {
     "data": {
      "text/plain": [
       "7250"
      ]
     },
     "execution_count": 71,
     "metadata": {},
     "output_type": "execute_result"
    }
   ],
   "source": [
    "len(partial_y_pred)"
   ]
  },
  {
   "cell_type": "code",
   "execution_count": 72,
   "metadata": {},
   "outputs": [
    {
     "data": {
      "text/plain": [
       "Counter({6: 7032, 4: 117, 10: 89, 8: 4, 1: 6, 11: 2})"
      ]
     },
     "execution_count": 72,
     "metadata": {},
     "output_type": "execute_result"
    }
   ],
   "source": [
    "Counter(partial_y_pred)"
   ]
  },
  {
   "cell_type": "code",
   "execution_count": null,
   "metadata": {},
   "outputs": [],
   "source": []
  }
 ],
 "metadata": {
  "kernelspec": {
   "display_name": "Python 3",
   "language": "python",
   "name": "python3"
  },
  "language_info": {
   "codemirror_mode": {
    "name": "ipython",
    "version": 3
   },
   "file_extension": ".py",
   "mimetype": "text/x-python",
   "name": "python",
   "nbconvert_exporter": "python",
   "pygments_lexer": "ipython3",
   "version": "3.6.10"
  }
 },
 "nbformat": 4,
 "nbformat_minor": 4
}
