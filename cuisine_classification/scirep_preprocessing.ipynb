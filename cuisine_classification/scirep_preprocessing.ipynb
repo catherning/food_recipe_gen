{
 "cells": [
  {
   "cell_type": "code",
   "execution_count": 1,
   "metadata": {},
   "outputs": [],
   "source": [
    "import sys\n",
    "import os\n",
    "from os import listdir\n",
    "from os.path import isfile, join\n",
    "sys.path.insert(0, join(os.getcwd(),os.pardir))\n",
    "import json\n",
    "import pandas as pd \n",
    "\n",
    "from recipe_1m_analysis.ingr_normalization import normalize_ingredient\n",
    "\n",
    "from sklearn.feature_extraction.text import CountVectorizer\n",
    "from sklearn.cluster import MiniBatchKMeans\n",
    "from sklearn.decomposition import TruncatedSVD\n",
    "from sklearn.metrics import pairwise_distances_argmin_min"
   ]
  },
  {
   "cell_type": "code",
   "execution_count": 12,
   "metadata": {},
   "outputs": [],
   "source": [
    "FOLDER_PATH = \"F:\\\\user\\\\Google Drive\\\\Catherning Folder\\\\THU\\\\Thesis\\\\Work\\\\Recipe datasets\\\\scirep-cuisines-detail\"\n",
    "FILES = [\"allr_recipes.txt\",\"epic_recipes.txt\",\"menu_recipes.txt\"]\n",
    "map_file = \"map.txt\""
   ]
  },
  {
   "cell_type": "code",
   "execution_count": 13,
   "metadata": {},
   "outputs": [],
   "source": [
    "recipes = []\n",
    "for file in FILES:\n",
    "    with open(os.path.join(FOLDER_PATH,file)) as f:\n",
    "        for i,recipe in enumerate(f):\n",
    "            data = recipe.strip('\\n').split('\\t')\n",
    "            list_ingr = []\n",
    "            for ingr_raw in data[1:]:\n",
    "                try:\n",
    "                    list_ingr.append(normalize_ingredient(ingr_raw).name)\n",
    "                except AttributeError:\n",
    "                    continue\n",
    "            recipes.append({\"cuisine\":data[0],\"id\":i,\"ingredients\":list_ingr})\n",
    "        \n",
    "df_train = pd.DataFrame(recipes)\n",
    "df_train['all_ingredients'] = df_train['ingredients'].map(\";\".join)"
   ]
  },
  {
   "cell_type": "code",
   "execution_count": 17,
   "metadata": {},
   "outputs": [
    {
     "data": {
      "text/plain": [
       "0.6959491081797854"
      ]
     },
     "execution_count": 17,
     "metadata": {},
     "output_type": "execute_result"
    }
   ],
   "source": [
    "df_train['cuisine'].value_counts()\n",
    "40150/57691"
   ]
  },
  {
   "cell_type": "code",
   "execution_count": 15,
   "metadata": {},
   "outputs": [
    {
     "data": {
      "text/plain": [
       "<matplotlib.axes._subplots.AxesSubplot at 0x1f15c938588>"
      ]
     },
     "execution_count": 15,
     "metadata": {},
     "output_type": "execute_result"
    },
    {
     "data": {
      "image/png": "[encoded data removed]",
      "text/plain": [
       "<Figure size 432x288 with 1 Axes>"
      ]
     },
     "metadata": {
      "needs_background": "light"
     },
     "output_type": "display_data"
    }
   ],
   "source": [
    "df_train['cuisine'].value_counts()\n",
    "df_train['cuisine'].value_counts().head(10).plot(kind='bar')"
   ]
  },
  {
   "cell_type": "markdown",
   "metadata": {},
   "source": [
    "### Data cleaning"
   ]
  },
  {
   "cell_type": "code",
   "execution_count": 6,
   "metadata": {},
   "outputs": [],
   "source": [
    "replace_dict = {}\n",
    "with open(os.path.join(FOLDER_PATH,map_file)) as f:\n",
    "    for line in f:\n",
    "        l = line.split()\n",
    "        try:\n",
    "            replace_dict[l[0]]=l[1]\n",
    "        except IndexError:\n",
    "            pass\n",
    "replace_dict[\"asian\"]=\"Asian\""
   ]
  },
  {
   "cell_type": "code",
   "execution_count": 7,
   "metadata": {},
   "outputs": [
    {
     "data": {
      "text/plain": [
       "NorthAmerican       41524\n",
       "SouthernEuropean     4180\n",
       "LatinAmerican        2917\n",
       "WesternEuropean      2659\n",
       "EastAsian            2512\n",
       "Asian                1193\n",
       "MiddleEastern         645\n",
       "SouthAsian            621\n",
       "SoutheastAsian        457\n",
       "EasternEuropean       381\n",
       "African               352\n",
       "NorthernEuropean      250\n",
       "Name: cuisine, dtype: int64"
      ]
     },
     "execution_count": 7,
     "metadata": {},
     "output_type": "execute_result"
    }
   ],
   "source": [
    "df_train=df_train.replace(replace_dict)\n",
    "df_train['cuisine'].value_counts()"
   ]
  },
  {
   "cell_type": "raw",
   "metadata": {},
   "source": [
    "# Fusion of the same cuisines\n",
    "#df_train=df_train.replace({\"Mexico\":\"Mexican\",\n",
    "                           \"mexico\":\"Mexican\",\n",
    "                           \"chinese\":\"Chinese\",\n",
    "                           \"China\":\"Chinese\",\n",
    "                           \"France\":\"French\",\n",
    "                           \"japanese\":\"Japanese\",\n",
    "                           \"Japan\":\"Japanese\",\n",
    "                           \"Thailand\":\"Thai\",\n",
    "                           \"German\":\"Germany\",\n",
    "                           \"India\":\"Indian\",\n",
    "                           \"Israel\":\"Jewish\",\n",
    "                           \"italian\":\"Italian\",\n",
    "                           \"Italy\":\"Italian\",\n",
    "                           \"Scandinavia\":\"Scandinavian\",\n",
    "                           \"Vietnam\":\"Vietnamese\",\n",
    "                           \"Korea\":\"Korean\",\n",
    "                           \"korean\":\"Korean\",\n",
    "                           \"EasternEuropean_Russian\":\"Eastern-Europe\",\n",
    "                           'Spain':'Spanish_Portuguese'})\n",
    "df_train"
   ]
  },
  {
   "cell_type": "markdown",
   "metadata": {},
   "source": [
    "## Removing cuisines with not enough recipes"
   ]
  },
  {
   "cell_type": "code",
   "execution_count": 9,
   "metadata": {},
   "outputs": [],
   "source": [
    "RECIPE_THRESHOLD=10\n",
    "cuisine_count= df_train['cuisine'].value_counts()\n",
    "to_drop = [cuisine_count[cuisine_count == el].index[0] for el in cuisine_count if el<RECIPE_THRESHOLD]\n",
    "df_train = df_train[~df_train[\"cuisine\"].isin(to_drop)]"
   ]
  },
  {
   "cell_type": "code",
   "execution_count": 23,
   "metadata": {},
   "outputs": [
    {
     "data": {
      "text/plain": [
       "57691"
      ]
     },
     "execution_count": 23,
     "metadata": {},
     "output_type": "execute_result"
    }
   ],
   "source": [
    "len(df_train)"
   ]
  },
  {
   "cell_type": "code",
   "execution_count": 10,
   "metadata": {},
   "outputs": [],
   "source": [
    "# Saving the cleaned data\n",
    "df_train.to_pickle(os.path.join(FOLDER_PATH,\"full_data.pkl\"))"
   ]
  },
  {
   "cell_type": "code",
   "execution_count": null,
   "metadata": {},
   "outputs": [],
   "source": []
  }
 ],
 "metadata": {
  "kernelspec": {
   "display_name": "Python 3",
   "language": "python",
   "name": "python3"
  },
  "language_info": {
   "codemirror_mode": {
    "name": "ipython",
    "version": 3
   },
   "file_extension": ".py",
   "mimetype": "text/x-python",
   "name": "python",
   "nbconvert_exporter": "python",
   "pygments_lexer": "ipython3",
   "version": "3.6.10"
  }
 },
 "nbformat": 4,
 "nbformat_minor": 2
}
