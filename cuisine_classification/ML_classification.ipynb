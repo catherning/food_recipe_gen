{
 "cells": [
  {
   "cell_type": "code",
   "execution_count": 14,
   "metadata": {},
   "outputs": [],
   "source": [
    "import os\n",
    "import pandas as pd\n",
    "import matplotlib.pyplot as plt\n",
    "from collections import Counter\n",
    "import numpy as np\n",
    "from datetime import datetime\n",
    "import csv\n",
    "\n",
    "import sklearn\n",
    "from sklearn.feature_extraction.text import CountVectorizer\n",
    "from sklearn.preprocessing import LabelEncoder\n",
    "from sklearn.model_selection import train_test_split\n",
    "from sklearn.linear_model import LogisticRegression, SGDClassifier\n",
    "from sklearn.ensemble import RandomForestClassifier\n",
    "from sklearn.neighbors import KNeighborsClassifier\n",
    "from sklearn.metrics import confusion_matrix, accuracy_score, classification_report\n",
    "from sklearn.model_selection import GridSearchCV\n",
    "from sklearn.metrics import f1_score, make_scorer\n",
    "from sklearn.naive_bayes import ComplementNB"
   ]
  },
  {
   "cell_type": "code",
   "execution_count": 3,
   "metadata": {},
   "outputs": [],
   "source": [
    "FOLDER_PATH = \"D:\\\\Google Drive\\\\Catherning Folder\\\\THU\\\\Thesis\\\\Recipe datasets\\\\\"\n",
    "DATASET = [\"scirep-cuisines-detail\",\"Yummly28\"]\n",
    "FILES = [\"random\",\"cluster_centroid\",\"full\"]\n",
    "dataset = DATASET[1]\n",
    "file = FILES[2]"
   ]
  },
  {
   "cell_type": "code",
   "execution_count": 4,
   "metadata": {},
   "outputs": [
    {
     "data": {
      "text/html": [
       "<div>\n",
       "<style scoped>\n",
       "    .dataframe tbody tr th:only-of-type {\n",
       "        vertical-align: middle;\n",
       "    }\n",
       "\n",
       "    .dataframe tbody tr th {\n",
       "        vertical-align: top;\n",
       "    }\n",
       "\n",
       "    .dataframe thead th {\n",
       "        text-align: right;\n",
       "    }\n",
       "</style>\n",
       "<table border=\"1\" class=\"dataframe\">\n",
       "  <thead>\n",
       "    <tr style=\"text-align: right;\">\n",
       "      <th></th>\n",
       "      <th>index</th>\n",
       "      <th>id</th>\n",
       "      <th>cuisine</th>\n",
       "      <th>ingredients</th>\n",
       "      <th>all_ingredients</th>\n",
       "    </tr>\n",
       "  </thead>\n",
       "  <tbody>\n",
       "    <tr>\n",
       "      <td>0</td>\n",
       "      <td>0</td>\n",
       "      <td>0</td>\n",
       "      <td>Italian</td>\n",
       "      <td>[baby_bella_mushroom_sliced, arborio_rice, oli...</td>\n",
       "      <td>baby_bella_mushroom_sliced;arborio_rice;olive_...</td>\n",
       "    </tr>\n",
       "    <tr>\n",
       "      <td>1</td>\n",
       "      <td>2</td>\n",
       "      <td>2</td>\n",
       "      <td>Italian</td>\n",
       "      <td>[garlic, extra-virgin_olive_oil_divided, madei...</td>\n",
       "      <td>garlic;extra-virgin_olive_oil_divided;madeira_...</td>\n",
       "    </tr>\n",
       "    <tr>\n",
       "      <td>2</td>\n",
       "      <td>3</td>\n",
       "      <td>3</td>\n",
       "      <td>French</td>\n",
       "      <td>[garlic_halved, cooking_spray, peeled_red_pota...</td>\n",
       "      <td>garlic_halved;cooking_spray;peeled_red_potato_...</td>\n",
       "    </tr>\n",
       "    <tr>\n",
       "      <td>3</td>\n",
       "      <td>5</td>\n",
       "      <td>5</td>\n",
       "      <td>American</td>\n",
       "      <td>[turkey_thawed, maple_syrup, bourbon, pickling...</td>\n",
       "      <td>turkey_thawed;maple_syrup;bourbon;pickling_spi...</td>\n",
       "    </tr>\n",
       "    <tr>\n",
       "      <td>4</td>\n",
       "      <td>6</td>\n",
       "      <td>6</td>\n",
       "      <td>American</td>\n",
       "      <td>[beef_tenderloin__silver_skin_trimmed, worcest...</td>\n",
       "      <td>beef_tenderloin__silver_skin_trimmed;worcester...</td>\n",
       "    </tr>\n",
       "    <tr>\n",
       "      <td>...</td>\n",
       "      <td>...</td>\n",
       "      <td>...</td>\n",
       "      <td>...</td>\n",
       "      <td>...</td>\n",
       "      <td>...</td>\n",
       "    </tr>\n",
       "    <tr>\n",
       "      <td>26321</td>\n",
       "      <td>27633</td>\n",
       "      <td>27633</td>\n",
       "      <td>Italian</td>\n",
       "      <td>[zwiebeln, knoblauchzehen, dose__dicke_weisse_...</td>\n",
       "      <td>zwiebeln;knoblauchzehen;dose__dicke_weisse_boh...</td>\n",
       "    </tr>\n",
       "    <tr>\n",
       "      <td>26322</td>\n",
       "      <td>27634</td>\n",
       "      <td>27634</td>\n",
       "      <td>American</td>\n",
       "      <td>[fresh_lavender_blossom_, sugar, carrot_juice,...</td>\n",
       "      <td>fresh_lavender_blossom_;sugar;carrot_juice;pot...</td>\n",
       "    </tr>\n",
       "    <tr>\n",
       "      <td>26323</td>\n",
       "      <td>27635</td>\n",
       "      <td>27635</td>\n",
       "      <td>French</td>\n",
       "      <td>[gr._bread_flour, ml._water, gr._yeast, gr._st...</td>\n",
       "      <td>gr._bread_flour;ml._water;gr._yeast;gr._strong...</td>\n",
       "    </tr>\n",
       "    <tr>\n",
       "      <td>26324</td>\n",
       "      <td>27636</td>\n",
       "      <td>27636</td>\n",
       "      <td>American</td>\n",
       "      <td>[flour, unsweetened_cocoa_powder, baking_soda,...</td>\n",
       "      <td>flour;unsweetened_cocoa_powder;baking_soda;sal...</td>\n",
       "    </tr>\n",
       "    <tr>\n",
       "      <td>26325</td>\n",
       "      <td>27637</td>\n",
       "      <td>27637</td>\n",
       "      <td>Asian</td>\n",
       "      <td>[dry_uncooked_jasmine_rice, stock_, sized_nub_...</td>\n",
       "      <td>dry_uncooked_jasmine_rice;stock_;sized_nub_gin...</td>\n",
       "    </tr>\n",
       "  </tbody>\n",
       "</table>\n",
       "<p>26326 rows × 5 columns</p>\n",
       "</div>"
      ],
      "text/plain": [
       "       index     id   cuisine  \\\n",
       "0          0      0   Italian   \n",
       "1          2      2   Italian   \n",
       "2          3      3    French   \n",
       "3          5      5  American   \n",
       "4          6      6  American   \n",
       "...      ...    ...       ...   \n",
       "26321  27633  27633   Italian   \n",
       "26322  27634  27634  American   \n",
       "26323  27635  27635    French   \n",
       "26324  27636  27636  American   \n",
       "26325  27637  27637     Asian   \n",
       "\n",
       "                                             ingredients  \\\n",
       "0      [baby_bella_mushroom_sliced, arborio_rice, oli...   \n",
       "1      [garlic, extra-virgin_olive_oil_divided, madei...   \n",
       "2      [garlic_halved, cooking_spray, peeled_red_pota...   \n",
       "3      [turkey_thawed, maple_syrup, bourbon, pickling...   \n",
       "4      [beef_tenderloin__silver_skin_trimmed, worcest...   \n",
       "...                                                  ...   \n",
       "26321  [zwiebeln, knoblauchzehen, dose__dicke_weisse_...   \n",
       "26322  [fresh_lavender_blossom_, sugar, carrot_juice,...   \n",
       "26323  [gr._bread_flour, ml._water, gr._yeast, gr._st...   \n",
       "26324  [flour, unsweetened_cocoa_powder, baking_soda,...   \n",
       "26325  [dry_uncooked_jasmine_rice, stock_, sized_nub_...   \n",
       "\n",
       "                                         all_ingredients  \n",
       "0      baby_bella_mushroom_sliced;arborio_rice;olive_...  \n",
       "1      garlic;extra-virgin_olive_oil_divided;madeira_...  \n",
       "2      garlic_halved;cooking_spray;peeled_red_potato_...  \n",
       "3      turkey_thawed;maple_syrup;bourbon;pickling_spi...  \n",
       "4      beef_tenderloin__silver_skin_trimmed;worcester...  \n",
       "...                                                  ...  \n",
       "26321  zwiebeln;knoblauchzehen;dose__dicke_weisse_boh...  \n",
       "26322  fresh_lavender_blossom_;sugar;carrot_juice;pot...  \n",
       "26323  gr._bread_flour;ml._water;gr._yeast;gr._strong...  \n",
       "26324  flour;unsweetened_cocoa_powder;baking_soda;sal...  \n",
       "26325  dry_uncooked_jasmine_rice;stock_;sized_nub_gin...  \n",
       "\n",
       "[26326 rows x 5 columns]"
      ]
     },
     "execution_count": 4,
     "metadata": {},
     "output_type": "execute_result"
    }
   ],
   "source": [
    "df_train=pd.read_pickle(os.path.join(FOLDER_PATH,dataset,file+\"_data.pkl\"))\n",
    "df_train=df_train.reset_index()\n",
    "df_train"
   ]
  },
  {
   "cell_type": "code",
   "execution_count": 5,
   "metadata": {},
   "outputs": [],
   "source": [
    "cv = CountVectorizer()\n",
    "X = cv.fit_transform(df_train['all_ingredients'].values)"
   ]
  },
  {
   "cell_type": "markdown",
   "metadata": {},
   "source": [
    "## Processing"
   ]
  },
  {
   "cell_type": "code",
   "execution_count": 6,
   "metadata": {
    "scrolled": true
   },
   "outputs": [
    {
     "name": "stdout",
     "output_type": "stream",
     "text": [
      "['American' 'Asian' 'Cuban' 'English_Irish' 'French' 'Indian' 'Italian'\n",
      " 'Mediterranean' 'Mexican' 'Moroccan' 'Spanish_Portuguese']\n"
     ]
    },
    {
     "data": {
      "text/plain": [
       "(11,)"
      ]
     },
     "execution_count": 6,
     "metadata": {},
     "output_type": "execute_result"
    }
   ],
   "source": [
    "enc = LabelEncoder()\n",
    "y = enc.fit_transform(df_train.cuisine)\n",
    "print(enc.classes_)\n",
    "enc.classes_.shape"
   ]
  },
  {
   "cell_type": "code",
   "execution_count": 7,
   "metadata": {},
   "outputs": [
    {
     "data": {
      "text/plain": [
       "{0: 2380,\n",
       " 1: 515,\n",
       " 2: 6,\n",
       " 3: 3,\n",
       " 4: 313,\n",
       " 5: 292,\n",
       " 6: 914,\n",
       " 7: 30,\n",
       " 8: 799,\n",
       " 9: 2,\n",
       " 10: 12}"
      ]
     },
     "execution_count": 7,
     "metadata": {},
     "output_type": "execute_result"
    }
   ],
   "source": [
    "X_train, X_test, y_train, y_test = train_test_split(X, y, test_size=0.2,stratify=y)\n",
    "unique, counts = np.unique(y_test, return_counts=True)\n",
    "dict(zip(unique, counts))"
   ]
  },
  {
   "cell_type": "markdown",
   "metadata": {},
   "source": [
    "# Logistic Regression"
   ]
  },
  {
   "cell_type": "code",
   "execution_count": 8,
   "metadata": {
    "scrolled": true
   },
   "outputs": [
    {
     "name": "stderr",
     "output_type": "stream",
     "text": [
      "D:\\Applications\\Anaconda3\\envs\\pandas_analysis\\lib\\site-packages\\sklearn\\metrics\\classification.py:1437: UndefinedMetricWarning: F-score is ill-defined and being set to 0.0 in labels with no predicted samples.\n",
      "  'precision', 'predicted', average, warn_for)\n",
      "D:\\Applications\\Anaconda3\\envs\\pandas_analysis\\lib\\site-packages\\sklearn\\metrics\\classification.py:1437: UndefinedMetricWarning: F-score is ill-defined and being set to 0.0 in labels with no predicted samples.\n",
      "  'precision', 'predicted', average, warn_for)\n",
      "D:\\Applications\\Anaconda3\\envs\\pandas_analysis\\lib\\site-packages\\sklearn\\metrics\\classification.py:1437: UndefinedMetricWarning: F-score is ill-defined and being set to 0.0 in labels with no predicted samples.\n",
      "  'precision', 'predicted', average, warn_for)\n",
      "D:\\Applications\\Anaconda3\\envs\\pandas_analysis\\lib\\site-packages\\sklearn\\metrics\\classification.py:1437: UndefinedMetricWarning: F-score is ill-defined and being set to 0.0 in labels with no predicted samples.\n",
      "  'precision', 'predicted', average, warn_for)\n",
      "D:\\Applications\\Anaconda3\\envs\\pandas_analysis\\lib\\site-packages\\sklearn\\metrics\\classification.py:1437: UndefinedMetricWarning: F-score is ill-defined and being set to 0.0 in labels with no predicted samples.\n",
      "  'precision', 'predicted', average, warn_for)\n",
      "D:\\Applications\\Anaconda3\\envs\\pandas_analysis\\lib\\site-packages\\sklearn\\metrics\\classification.py:1437: UndefinedMetricWarning: F-score is ill-defined and being set to 0.0 in labels with no predicted samples.\n",
      "  'precision', 'predicted', average, warn_for)\n",
      "D:\\Applications\\Anaconda3\\envs\\pandas_analysis\\lib\\site-packages\\sklearn\\metrics\\classification.py:1437: UndefinedMetricWarning: F-score is ill-defined and being set to 0.0 in labels with no predicted samples.\n",
      "  'precision', 'predicted', average, warn_for)\n",
      "D:\\Applications\\Anaconda3\\envs\\pandas_analysis\\lib\\site-packages\\sklearn\\metrics\\classification.py:1437: UndefinedMetricWarning: F-score is ill-defined and being set to 0.0 in labels with no predicted samples.\n",
      "  'precision', 'predicted', average, warn_for)\n",
      "D:\\Applications\\Anaconda3\\envs\\pandas_analysis\\lib\\site-packages\\sklearn\\metrics\\classification.py:1437: UndefinedMetricWarning: F-score is ill-defined and being set to 0.0 in labels with no predicted samples.\n",
      "  'precision', 'predicted', average, warn_for)\n"
     ]
    },
    {
     "data": {
      "text/plain": [
       "GridSearchCV(cv=4, error_score='raise-deprecating',\n",
       "             estimator=LogisticRegression(C=1.0, class_weight='balanced',\n",
       "                                          dual=False, fit_intercept=True,\n",
       "                                          intercept_scaling=1, l1_ratio=None,\n",
       "                                          max_iter=150, multi_class='auto',\n",
       "                                          n_jobs=None, penalty='l2',\n",
       "                                          random_state=None, solver='warn',\n",
       "                                          tol=0.0001, verbose=0,\n",
       "                                          warm_start=True),\n",
       "             iid='warn', n_jobs=None,\n",
       "             param_grid={'C': [0.4, 0.5, 0.6, 0.7],\n",
       "                         'solver': ('newton-cg', 'liblinear')},\n",
       "             pre_dispatch='2*n_jobs', refit=True, return_train_score=False,\n",
       "             scoring='f1_weighted', verbose=0)"
      ]
     },
     "execution_count": 8,
     "metadata": {},
     "output_type": "execute_result"
    }
   ],
   "source": [
    "parameters = {'C':[0.4,0.5,0.6,0.7],\n",
    "              'solver' : ('newton-cg', 'liblinear')}\n",
    "# sorted(sklearn.metrics.SCORERS.keys())\n",
    "scoring = 'f1_weighted'\n",
    "logistic = LogisticRegression(class_weight=\"balanced\",multi_class=\"auto\",max_iter=150,warm_start=True)\n",
    "\n",
    "clf = GridSearchCV(logistic, parameters, cv=4,scoring=scoring)\n",
    "clf.fit(X_train, y_train)"
   ]
  },
  {
   "cell_type": "markdown",
   "metadata": {},
   "source": [
    "## Results"
   ]
  },
  {
   "cell_type": "code",
   "execution_count": 9,
   "metadata": {},
   "outputs": [
    {
     "name": "stdout",
     "output_type": "stream",
     "text": [
      "LogisticRegression(C=0.7, class_weight='balanced', dual=False,\n",
      "                   fit_intercept=True, intercept_scaling=1, l1_ratio=None,\n",
      "                   max_iter=150, multi_class='auto', n_jobs=None, penalty='l2',\n",
      "                   random_state=None, solver='liblinear', tol=0.0001, verbose=0,\n",
      "                   warm_start=True)\n"
     ]
    },
    {
     "data": {
      "text/plain": [
       "0.8286582369072923"
      ]
     },
     "execution_count": 9,
     "metadata": {},
     "output_type": "execute_result"
    }
   ],
   "source": [
    "# pd.DataFrame(clf.cv_results_)\n",
    "print(clf.best_estimator_)\n",
    "clf.best_score_\n",
    "# LogisticRegression(C=0.6, class_weight='balanced', dual=False,\n",
    "#                    fit_intercept=True, intercept_scaling=1, l1_ratio=None,\n",
    "#                    max_iter=150, multi_class='auto', n_jobs=None, penalty='l2',\n",
    "#                    random_state=None, solver='liblinear', tol=0.0001, verbose=0,\n",
    "#                    warm_start=True)\n",
    "\n",
    "# LogisticRegression(C=0.4, class_weight='balanced', dual=False,\n",
    "#                    fit_intercept=True, intercept_scaling=1, l1_ratio=None,\n",
    "#                    max_iter=150, multi_class='auto', n_jobs=None, penalty='l2',\n",
    "#                    random_state=None, solver='liblinear', tol=0.0001, verbose=0,\n",
    "#                    warm_start=True)"
   ]
  },
  {
   "cell_type": "code",
   "execution_count": 10,
   "metadata": {},
   "outputs": [],
   "source": [
    "test_score = clf.best_estimator_.score(X_test, y_test)"
   ]
  },
  {
   "cell_type": "code",
   "execution_count": 11,
   "metadata": {},
   "outputs": [
    {
     "name": "stdout",
     "output_type": "stream",
     "text": [
      "2815 5266\n"
     ]
    }
   ],
   "source": [
    "# For future predictions, get proba and only classifies if proba is higher than threshold\n",
    "def threshold_classification(clf,X_test,y_test,threshold=0.85):\n",
    "    y_pred_prob = clf.best_estimator_.predict_proba(X_test)\n",
    "    max_prob = y_pred_prob.max(axis=1)\n",
    "    y_pred = y_pred_prob.argmax(axis=1)\n",
    "\n",
    "    to_del = np.argwhere(max_prob < threshold).T[0]\n",
    "\n",
    "    partial_y_pred = np.delete(y_pred,to_del)\n",
    "    partial_y_test = np.delete(y_test,to_del)\n",
    "\n",
    "    print(len(to_del),len(y_pred))\n",
    "    proba_score = accuracy_score(partial_y_test,partial_y_pred) #0.9373983739837398\n",
    "    \n",
    "    return proba_score\n",
    "\n",
    "threshold = 0.85\n",
    "proba_score = threshold_classification(clf,X_test,y_test,threshold=threshold)"
   ]
  },
  {
   "cell_type": "code",
   "execution_count": 12,
   "metadata": {},
   "outputs": [],
   "source": [
    "def confusion_matrix_plot(y_pred,y_labels,save_path):\n",
    "    fig = plt.figure(figsize=(10, 10))\n",
    "\n",
    "    cm = confusion_matrix(y_labels, y_pred)\n",
    "    cm_normalized = cm.astype('float') / cm.sum(axis=1)[:, np.newaxis]\n",
    "\n",
    "    plt.imshow(cm_normalized, interpolation='nearest')\n",
    "    plt.title(\"confusion matrix\")\n",
    "    plt.colorbar(shrink=0.3)\n",
    "    cuisines = df_train['cuisine'].value_counts().index\n",
    "    tick_marks = np.arange(len(cuisines))\n",
    "    plt.xticks(tick_marks, enc.classes_, rotation=90)\n",
    "    plt.yticks(tick_marks, enc.classes_)\n",
    "    plt.tight_layout()\n",
    "    plt.ylabel('True label')\n",
    "    plt.xlabel('Predicted label')\n",
    "    fig.show()\n",
    "    \n",
    "    fig.savefig(save_path, dpi=fig.dpi)"
   ]
  },
  {
   "cell_type": "code",
   "execution_count": 15,
   "metadata": {},
   "outputs": [],
   "source": [
    "date = datetime.now().strftime(\"%m-%d-%H-%M\")\n",
    "RESULTS_FOLDER = os.path.join(FOLDER_PATH,dataset,f\"results_ML_{date}_{file}\")\n",
    "if not os.path.exists(RESULTS_FOLDER):\n",
    "    os.makedirs(RESULTS_FOLDER)"
   ]
  },
  {
   "cell_type": "code",
   "execution_count": 16,
   "metadata": {},
   "outputs": [
    {
     "name": "stderr",
     "output_type": "stream",
     "text": [
      "D:\\Applications\\Anaconda3\\envs\\pandas_analysis\\lib\\site-packages\\ipykernel_launcher.py:17: UserWarning: Matplotlib is currently using module://ipykernel.pylab.backend_inline, which is a non-GUI backend, so cannot show the figure.\n"
     ]
    },
    {
     "data": {
      "image/png": "[encoded data removed]",
      "text/plain": [
       "<Figure size 720x720 with 2 Axes>"
      ]
     },
     "metadata": {
      "needs_background": "light"
     },
     "output_type": "display_data"
    }
   ],
   "source": [
    "y_pred = clf.best_estimator_.predict(X_test)\n",
    "confusion_matrix_plot(y_pred, y_test,os.path.join(RESULTS_FOLDER,'logistic_regression.png'))"
   ]
  },
  {
   "cell_type": "code",
   "execution_count": 20,
   "metadata": {},
   "outputs": [],
   "source": [
    "def classification_report_to_csv(y_test,y_pred,enc,model_type,RESULTS_FOLDER):\n",
    "    report = classification_report(y_test, y_pred, labels=[i for i in range(enc.classes_.shape[0])], target_names=enc.classes_, output_dict=True)\n",
    "    df_report = pd.DataFrame(report).transpose()\n",
    "    df_report.to_csv(os.path.join(RESULTS_FOLDER,f'{model_type}.csv'))\n",
    "    \n",
    "classification_report_to_csv(y_test,y_pred,enc,\"logistic_regression\",RESULTS_FOLDER)    "
   ]
  },
  {
   "cell_type": "markdown",
   "metadata": {},
   "source": [
    "## Saving results"
   ]
  },
  {
   "cell_type": "code",
   "execution_count": 21,
   "metadata": {},
   "outputs": [],
   "source": [
    "results_file = os.path.join(RESULTS_FOLDER,\"results.csv\")\n",
    "with open(results_file,\"w\", newline='') as f:\n",
    "    writer = csv.writer(f, delimiter=';')\n",
    "    writer.writerow([\"model\",\"best parameters\",\"best f1 train score\",\"test score\",\"threshold\",\"proba score\"])\n",
    "    writer.writerow([\"logistic regression\",clf.best_estimator_,clf.best_score_,test_score,threshold,proba_score])"
   ]
  },
  {
   "cell_type": "markdown",
   "metadata": {},
   "source": [
    "# Random Forest\n",
    "\n",
    "much slower and a bit worse"
   ]
  },
  {
   "cell_type": "code",
   "execution_count": 22,
   "metadata": {},
   "outputs": [
    {
     "name": "stderr",
     "output_type": "stream",
     "text": [
      "D:\\Applications\\Anaconda3\\envs\\pandas_analysis\\lib\\site-packages\\sklearn\\metrics\\classification.py:1437: UndefinedMetricWarning: F-score is ill-defined and being set to 0.0 in labels with no predicted samples.\n",
      "  'precision', 'predicted', average, warn_for)\n",
      "D:\\Applications\\Anaconda3\\envs\\pandas_analysis\\lib\\site-packages\\sklearn\\metrics\\classification.py:1437: UndefinedMetricWarning: F-score is ill-defined and being set to 0.0 in labels with no predicted samples.\n",
      "  'precision', 'predicted', average, warn_for)\n",
      "D:\\Applications\\Anaconda3\\envs\\pandas_analysis\\lib\\site-packages\\sklearn\\metrics\\classification.py:1437: UndefinedMetricWarning: F-score is ill-defined and being set to 0.0 in labels with no predicted samples.\n",
      "  'precision', 'predicted', average, warn_for)\n",
      "D:\\Applications\\Anaconda3\\envs\\pandas_analysis\\lib\\site-packages\\sklearn\\metrics\\classification.py:1437: UndefinedMetricWarning: F-score is ill-defined and being set to 0.0 in labels with no predicted samples.\n",
      "  'precision', 'predicted', average, warn_for)\n"
     ]
    },
    {
     "data": {
      "text/plain": [
       "GridSearchCV(cv=4, error_score='raise-deprecating',\n",
       "             estimator=RandomForestClassifier(bootstrap=True,\n",
       "                                              class_weight='balanced',\n",
       "                                              criterion='gini', max_depth=None,\n",
       "                                              max_features='auto',\n",
       "                                              max_leaf_nodes=None,\n",
       "                                              min_impurity_decrease=0.0,\n",
       "                                              min_impurity_split=None,\n",
       "                                              min_samples_leaf=1,\n",
       "                                              min_samples_split=2,\n",
       "                                              min_weight_fraction_leaf=0.0,\n",
       "                                              n_estimators=200, n_jobs=None,\n",
       "                                              oob_score=False, random_state=123,\n",
       "                                              verbose=0, warm_start=False),\n",
       "             iid='warn', n_jobs=None, param_grid={'max_depth': (None, 3, 5, 8)},\n",
       "             pre_dispatch='2*n_jobs', refit=True, return_train_score=False,\n",
       "             scoring='f1_weighted', verbose=0)"
      ]
     },
     "execution_count": 22,
     "metadata": {},
     "output_type": "execute_result"
    }
   ],
   "source": [
    "parameters = {'max_depth':(None,3,5,8)}\n",
    "# sorted(sklearn.metrics.SCORERS.keys())\n",
    "scoring = 'f1_weighted'\n",
    "rf = RandomForestClassifier(n_estimators=200, random_state=123,class_weight=\"balanced\")\n",
    "\n",
    "clf = GridSearchCV(rf, parameters, cv=4,scoring=scoring)\n",
    "clf.fit(X_train, y_train)"
   ]
  },
  {
   "cell_type": "code",
   "execution_count": 23,
   "metadata": {},
   "outputs": [
    {
     "name": "stdout",
     "output_type": "stream",
     "text": [
      "RandomForestClassifier(bootstrap=True, class_weight='balanced',\n",
      "                       criterion='gini', max_depth=None, max_features='auto',\n",
      "                       max_leaf_nodes=None, min_impurity_decrease=0.0,\n",
      "                       min_impurity_split=None, min_samples_leaf=1,\n",
      "                       min_samples_split=2, min_weight_fraction_leaf=0.0,\n",
      "                       n_estimators=200, n_jobs=None, oob_score=False,\n",
      "                       random_state=123, verbose=0, warm_start=False)\n"
     ]
    },
    {
     "data": {
      "text/plain": [
       "0.7258390868300134"
      ]
     },
     "execution_count": 23,
     "metadata": {},
     "output_type": "execute_result"
    }
   ],
   "source": [
    "print(clf.best_estimator_)\n",
    "clf.best_score_"
   ]
  },
  {
   "cell_type": "code",
   "execution_count": 24,
   "metadata": {},
   "outputs": [
    {
     "data": {
      "text/plain": [
       "0.7593999240410179"
      ]
     },
     "execution_count": 24,
     "metadata": {},
     "output_type": "execute_result"
    }
   ],
   "source": [
    "clf.best_estimator_.score(X_test, y_test)"
   ]
  },
  {
   "cell_type": "code",
   "execution_count": 25,
   "metadata": {},
   "outputs": [
    {
     "name": "stdout",
     "output_type": "stream",
     "text": [
      "4016 5266\n"
     ]
    }
   ],
   "source": [
    "proba_score = threshold_classification(clf,X_test,y_test,threshold=threshold)"
   ]
  },
  {
   "cell_type": "markdown",
   "metadata": {},
   "source": [
    "## Results"
   ]
  },
  {
   "cell_type": "code",
   "execution_count": 26,
   "metadata": {},
   "outputs": [
    {
     "name": "stderr",
     "output_type": "stream",
     "text": [
      "D:\\Applications\\Anaconda3\\envs\\pandas_analysis\\lib\\site-packages\\ipykernel_launcher.py:17: UserWarning: Matplotlib is currently using module://ipykernel.pylab.backend_inline, which is a non-GUI backend, so cannot show the figure.\n"
     ]
    },
    {
     "data": {
      "image/png": "[encoded data removed]",
      "text/plain": [
       "<Figure size 720x720 with 2 Axes>"
      ]
     },
     "metadata": {
      "needs_background": "light"
     },
     "output_type": "display_data"
    }
   ],
   "source": [
    "y_pred = clf.predict(X_test)\n",
    "confusion_matrix_plot(y_pred, y_test,os.path.join(RESULTS_FOLDER,'random_forest.png'))"
   ]
  },
  {
   "cell_type": "code",
   "execution_count": 27,
   "metadata": {},
   "outputs": [
    {
     "name": "stderr",
     "output_type": "stream",
     "text": [
      "D:\\Applications\\Anaconda3\\envs\\pandas_analysis\\lib\\site-packages\\sklearn\\metrics\\classification.py:1437: UndefinedMetricWarning: Precision and F-score are ill-defined and being set to 0.0 in labels with no predicted samples.\n",
      "  'precision', 'predicted', average, warn_for)\n"
     ]
    }
   ],
   "source": [
    "classification_report_to_csv(y_test,y_pred,enc,\"logistic_regression\",RESULTS_FOLDER)"
   ]
  },
  {
   "cell_type": "code",
   "execution_count": 28,
   "metadata": {},
   "outputs": [],
   "source": [
    "with open(results_file,\"a\", newline='') as f:\n",
    "    writer = csv.writer(f, delimiter=';')\n",
    "    writer.writerow([\"random forest\",clf.best_estimator_,clf.best_score_,test_score,threshold,proba_score])"
   ]
  },
  {
   "cell_type": "markdown",
   "metadata": {},
   "source": [
    "# SVM"
   ]
  },
  {
   "cell_type": "code",
   "execution_count": 29,
   "metadata": {},
   "outputs": [
    {
     "data": {
      "text/plain": [
       "GridSearchCV(cv=4, error_score='raise-deprecating',\n",
       "             estimator=SGDClassifier(alpha=0.0001, average=False,\n",
       "                                     class_weight='balanced',\n",
       "                                     early_stopping=True, epsilon=0.1, eta0=0.0,\n",
       "                                     fit_intercept=True, l1_ratio=0.15,\n",
       "                                     learning_rate='optimal', loss='hinge',\n",
       "                                     max_iter=1000, n_iter_no_change=5,\n",
       "                                     n_jobs=None, penalty='l2', power_t=0.5,\n",
       "                                     random_state=None, shuffle=True, tol=0.001,\n",
       "                                     validation_fraction=0.1, verbose=0,\n",
       "                                     warm_start=True),\n",
       "             iid='warn', n_jobs=None,\n",
       "             param_grid={'loss': ('hinge', 'log', 'modified_huber',\n",
       "                                  'squared_hinge', 'perceptron')},\n",
       "             pre_dispatch='2*n_jobs', refit=True, return_train_score=False,\n",
       "             scoring='f1_weighted', verbose=0)"
      ]
     },
     "execution_count": 29,
     "metadata": {},
     "output_type": "execute_result"
    }
   ],
   "source": [
    "parameters = {'loss':('hinge', 'log', 'modified_huber', 'squared_hinge', 'perceptron')\n",
    "              }\n",
    "# sorted(sklearn.metrics.SCORERS.keys())\n",
    "scoring = 'f1_weighted'\n",
    "sgd = SGDClassifier(class_weight=\"balanced\",early_stopping=True,warm_start=True)\n",
    "\n",
    "clf = GridSearchCV(sgd, parameters, cv=4,scoring=scoring)\n",
    "clf.fit(X_train, y_train)"
   ]
  },
  {
   "cell_type": "code",
   "execution_count": 30,
   "metadata": {},
   "outputs": [
    {
     "name": "stdout",
     "output_type": "stream",
     "text": [
      "SGDClassifier(alpha=0.0001, average=False, class_weight='balanced',\n",
      "              early_stopping=True, epsilon=0.1, eta0=0.0, fit_intercept=True,\n",
      "              l1_ratio=0.15, learning_rate='optimal', loss='log', max_iter=1000,\n",
      "              n_iter_no_change=5, n_jobs=None, penalty='l2', power_t=0.5,\n",
      "              random_state=None, shuffle=True, tol=0.001,\n",
      "              validation_fraction=0.1, verbose=0, warm_start=True)\n"
     ]
    },
    {
     "data": {
      "text/plain": [
       "0.8258234661096393"
      ]
     },
     "execution_count": 30,
     "metadata": {},
     "output_type": "execute_result"
    }
   ],
   "source": [
    "print(clf.best_estimator_)\n",
    "clf.best_score_"
   ]
  },
  {
   "cell_type": "code",
   "execution_count": 31,
   "metadata": {},
   "outputs": [
    {
     "data": {
      "text/plain": [
       "0.8304215723509305"
      ]
     },
     "execution_count": 31,
     "metadata": {},
     "output_type": "execute_result"
    }
   ],
   "source": [
    "clf.best_estimator_.score(X_test, y_test)"
   ]
  },
  {
   "cell_type": "code",
   "execution_count": 32,
   "metadata": {},
   "outputs": [
    {
     "name": "stdout",
     "output_type": "stream",
     "text": [
      "2850 5266\n"
     ]
    }
   ],
   "source": [
    "proba_score = threshold_classification(clf,X_test,y_test,threshold=threshold)"
   ]
  },
  {
   "cell_type": "code",
   "execution_count": 33,
   "metadata": {},
   "outputs": [
    {
     "name": "stderr",
     "output_type": "stream",
     "text": [
      "D:\\Applications\\Anaconda3\\envs\\pandas_analysis\\lib\\site-packages\\ipykernel_launcher.py:17: UserWarning: Matplotlib is currently using module://ipykernel.pylab.backend_inline, which is a non-GUI backend, so cannot show the figure.\n"
     ]
    },
    {
     "data": {
      "image/png": "[encoded data removed]",
      "text/plain": [
       "<Figure size 720x720 with 2 Axes>"
      ]
     },
     "metadata": {
      "needs_background": "light"
     },
     "output_type": "display_data"
    }
   ],
   "source": [
    "y_pred = clf.predict(X_test)\n",
    "confusion_matrix_plot(y_pred, y_test,os.path.join(RESULTS_FOLDER,'svm.png'))"
   ]
  },
  {
   "cell_type": "code",
   "execution_count": 34,
   "metadata": {},
   "outputs": [],
   "source": [
    "classification_report_to_csv(y_test,y_pred,enc,\"logistic_regression\",RESULTS_FOLDER)    "
   ]
  },
  {
   "cell_type": "code",
   "execution_count": 35,
   "metadata": {},
   "outputs": [],
   "source": [
    "with open(results_file,\"a\", newline='') as f:\n",
    "    writer = csv.writer(f, delimiter=';')\n",
    "    writer.writerow([\"svm\",clf.best_estimator_,clf.best_score_,test_score,threshold,proba_score])"
   ]
  },
  {
   "cell_type": "markdown",
   "metadata": {},
   "source": [
    "# Naive Bayes"
   ]
  },
  {
   "cell_type": "code",
   "execution_count": 36,
   "metadata": {},
   "outputs": [
    {
     "data": {
      "text/plain": [
       "0.8260539308773263"
      ]
     },
     "execution_count": 36,
     "metadata": {},
     "output_type": "execute_result"
    }
   ],
   "source": [
    "clf = ComplementNB()\n",
    "clf.fit(X_train, y_train)\n",
    "clf.score(X_test,y_test)"
   ]
  },
  {
   "cell_type": "code",
   "execution_count": 37,
   "metadata": {},
   "outputs": [
    {
     "ename": "AttributeError",
     "evalue": "'ComplementNB' object has no attribute 'best_estimator_'",
     "output_type": "error",
     "traceback": [
      "\u001b[1;31m---------------------------------------------------------------------------\u001b[0m",
      "\u001b[1;31mAttributeError\u001b[0m                            Traceback (most recent call last)",
      "\u001b[1;32m<ipython-input-37-2ca79bf87e42>\u001b[0m in \u001b[0;36m<module>\u001b[1;34m\u001b[0m\n\u001b[1;32m----> 1\u001b[1;33m \u001b[0mproba_score\u001b[0m \u001b[1;33m=\u001b[0m \u001b[0mthreshold_classification\u001b[0m\u001b[1;33m(\u001b[0m\u001b[0mclf\u001b[0m\u001b[1;33m,\u001b[0m\u001b[0mX_test\u001b[0m\u001b[1;33m,\u001b[0m\u001b[0my_test\u001b[0m\u001b[1;33m,\u001b[0m\u001b[0mthreshold\u001b[0m\u001b[1;33m=\u001b[0m\u001b[0mthreshold\u001b[0m\u001b[1;33m)\u001b[0m\u001b[1;33m\u001b[0m\u001b[1;33m\u001b[0m\u001b[0m\n\u001b[0m",
      "\u001b[1;32m<ipython-input-11-88e7b0ba1a81>\u001b[0m in \u001b[0;36mthreshold_classification\u001b[1;34m(clf, X_test, y_test, threshold)\u001b[0m\n\u001b[0;32m      1\u001b[0m \u001b[1;31m# For future predictions, get proba and only classifies if proba is higher than threshold\u001b[0m\u001b[1;33m\u001b[0m\u001b[1;33m\u001b[0m\u001b[1;33m\u001b[0m\u001b[0m\n\u001b[0;32m      2\u001b[0m \u001b[1;32mdef\u001b[0m \u001b[0mthreshold_classification\u001b[0m\u001b[1;33m(\u001b[0m\u001b[0mclf\u001b[0m\u001b[1;33m,\u001b[0m\u001b[0mX_test\u001b[0m\u001b[1;33m,\u001b[0m\u001b[0my_test\u001b[0m\u001b[1;33m,\u001b[0m\u001b[0mthreshold\u001b[0m\u001b[1;33m=\u001b[0m\u001b[1;36m0.85\u001b[0m\u001b[1;33m)\u001b[0m\u001b[1;33m:\u001b[0m\u001b[1;33m\u001b[0m\u001b[1;33m\u001b[0m\u001b[0m\n\u001b[1;32m----> 3\u001b[1;33m     \u001b[0my_pred_prob\u001b[0m \u001b[1;33m=\u001b[0m \u001b[0mclf\u001b[0m\u001b[1;33m.\u001b[0m\u001b[0mbest_estimator_\u001b[0m\u001b[1;33m.\u001b[0m\u001b[0mpredict_proba\u001b[0m\u001b[1;33m(\u001b[0m\u001b[0mX_test\u001b[0m\u001b[1;33m)\u001b[0m\u001b[1;33m\u001b[0m\u001b[1;33m\u001b[0m\u001b[0m\n\u001b[0m\u001b[0;32m      4\u001b[0m     \u001b[0mmax_prob\u001b[0m \u001b[1;33m=\u001b[0m \u001b[0my_pred_prob\u001b[0m\u001b[1;33m.\u001b[0m\u001b[0mmax\u001b[0m\u001b[1;33m(\u001b[0m\u001b[0maxis\u001b[0m\u001b[1;33m=\u001b[0m\u001b[1;36m1\u001b[0m\u001b[1;33m)\u001b[0m\u001b[1;33m\u001b[0m\u001b[1;33m\u001b[0m\u001b[0m\n\u001b[0;32m      5\u001b[0m     \u001b[0my_pred\u001b[0m \u001b[1;33m=\u001b[0m \u001b[0my_pred_prob\u001b[0m\u001b[1;33m.\u001b[0m\u001b[0margmax\u001b[0m\u001b[1;33m(\u001b[0m\u001b[0maxis\u001b[0m\u001b[1;33m=\u001b[0m\u001b[1;36m1\u001b[0m\u001b[1;33m)\u001b[0m\u001b[1;33m\u001b[0m\u001b[1;33m\u001b[0m\u001b[0m\n",
      "\u001b[1;31mAttributeError\u001b[0m: 'ComplementNB' object has no attribute 'best_estimator_'"
     ]
    }
   ],
   "source": [
    "proba_score = threshold_classification(clf,X_test,y_test,threshold=threshold)"
   ]
  },
  {
   "cell_type": "code",
   "execution_count": null,
   "metadata": {},
   "outputs": [],
   "source": [
    "y_pred = clf.predict(X_test)\n",
    "confusion_matrix_plot(y_pred, y_test,os.path.join(RESULTS_FOLDER,'naive_bayes.png'))"
   ]
  },
  {
   "cell_type": "code",
   "execution_count": null,
   "metadata": {},
   "outputs": [],
   "source": [
    "classification_report_to_csv(y_test,y_pred,enc,\"logistic_regression\",RESULTS_FOLDER)    "
   ]
  },
  {
   "cell_type": "code",
   "execution_count": null,
   "metadata": {},
   "outputs": [],
   "source": [
    "with open(results_file,\"a\", newline='') as f:\n",
    "    writer = csv.writer(f, delimiter=';')\n",
    "    writer.writerow([\"naive bayes\",clf.best_estimator_,clf.best_score_,test_score,threshold,proba_score])"
   ]
  }
 ],
 "metadata": {
  "kernelspec": {
   "display_name": "Python 3",
   "language": "python",
   "name": "python3"
  },
  "language_info": {
   "codemirror_mode": {
    "name": "ipython",
    "version": 3
   },
   "file_extension": ".py",
   "mimetype": "text/x-python",
   "name": "python",
   "nbconvert_exporter": "python",
   "pygments_lexer": "ipython3",
   "version": "3.7.4"
  }
 },
 "nbformat": 4,
 "nbformat_minor": 2
}
