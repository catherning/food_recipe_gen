{
 "cells": [
  {
   "cell_type": "code",
   "execution_count": 1,
   "metadata": {},
   "outputs": [],
   "source": [
    "import os\n",
    "import pandas as pd\n",
    "import matplotlib.pyplot as plt\n",
    "from collections import Counter\n",
    "import numpy as np\n",
    "\n",
    "import sklearn\n",
    "from sklearn.feature_extraction.text import CountVectorizer\n",
    "from sklearn.preprocessing import LabelEncoder\n",
    "from sklearn.model_selection import train_test_split\n",
    "from sklearn.linear_model import LogisticRegression, SGDClassifier\n",
    "from sklearn.ensemble import RandomForestClassifier\n",
    "from sklearn.neighbors import KNeighborsClassifier\n",
    "from sklearn.metrics import confusion_matrix, accuracy_score, classification_report\n",
    "from sklearn.model_selection import GridSearchCV\n",
    "from sklearn.metrics import f1_score, make_scorer"
   ]
  },
  {
   "cell_type": "code",
   "execution_count": 2,
   "metadata": {},
   "outputs": [],
   "source": [
    "FOLDER_PATH = \"D:\\\\Google Drive\\\\Catherning Folder\\\\THU\\\\Thesis\\\\Recipe datasets\\\\\"\n",
    "DATASET = [\"scirep-cuisines-detail\",\"Yummly28\"]\n",
    "FILES = [\"cleaned_data.pkl\",\"full_data.pkl\"]"
   ]
  },
  {
   "cell_type": "code",
   "execution_count": 7,
   "metadata": {},
   "outputs": [
    {
     "data": {
      "text/html": [
       "<div>\n",
       "<style scoped>\n",
       "    .dataframe tbody tr th:only-of-type {\n",
       "        vertical-align: middle;\n",
       "    }\n",
       "\n",
       "    .dataframe tbody tr th {\n",
       "        vertical-align: top;\n",
       "    }\n",
       "\n",
       "    .dataframe thead th {\n",
       "        text-align: right;\n",
       "    }\n",
       "</style>\n",
       "<table border=\"1\" class=\"dataframe\">\n",
       "  <thead>\n",
       "    <tr style=\"text-align: right;\">\n",
       "      <th></th>\n",
       "      <th>index</th>\n",
       "      <th>id</th>\n",
       "      <th>cuisine</th>\n",
       "      <th>ingredients</th>\n",
       "      <th>all_ingredients</th>\n",
       "    </tr>\n",
       "  </thead>\n",
       "  <tbody>\n",
       "    <tr>\n",
       "      <td>0</td>\n",
       "      <td>0</td>\n",
       "      <td>0</td>\n",
       "      <td>Italian</td>\n",
       "      <td>[baby bella mushroom sliced, arborio rice, oli...</td>\n",
       "      <td>baby bella mushroom sliced;arborio rice;olive ...</td>\n",
       "    </tr>\n",
       "    <tr>\n",
       "      <td>1</td>\n",
       "      <td>1</td>\n",
       "      <td>1</td>\n",
       "      <td>Barbecue</td>\n",
       "      <td>[pork country style rib fat trimmed, soy sauce...</td>\n",
       "      <td>pork country style rib fat trimmed;soy sauce;w...</td>\n",
       "    </tr>\n",
       "    <tr>\n",
       "      <td>2</td>\n",
       "      <td>2</td>\n",
       "      <td>2</td>\n",
       "      <td>Italian</td>\n",
       "      <td>[garlic, extra-virgin olive oil divided, madei...</td>\n",
       "      <td>garlic;extra-virgin olive oil divided;madeira ...</td>\n",
       "    </tr>\n",
       "    <tr>\n",
       "      <td>3</td>\n",
       "      <td>3</td>\n",
       "      <td>3</td>\n",
       "      <td>French</td>\n",
       "      <td>[garlic halved, cooking spray, peeled red pota...</td>\n",
       "      <td>garlic halved;cooking spray;peeled red potato;...</td>\n",
       "    </tr>\n",
       "    <tr>\n",
       "      <td>4</td>\n",
       "      <td>4</td>\n",
       "      <td>4</td>\n",
       "      <td>Barbecue</td>\n",
       "      <td>[lean ground beef, worcestershire sauce, liqui...</td>\n",
       "      <td>lean ground beef;worcestershire sauce;liquid s...</td>\n",
       "    </tr>\n",
       "    <tr>\n",
       "      <td>...</td>\n",
       "      <td>...</td>\n",
       "      <td>...</td>\n",
       "      <td>...</td>\n",
       "      <td>...</td>\n",
       "      <td>...</td>\n",
       "    </tr>\n",
       "    <tr>\n",
       "      <td>27621</td>\n",
       "      <td>27633</td>\n",
       "      <td>27633</td>\n",
       "      <td>Italian</td>\n",
       "      <td>[zwiebeln, knoblauchzehen, dose dicke weisse b...</td>\n",
       "      <td>zwiebeln;knoblauchzehen;dose dicke weisse bohn...</td>\n",
       "    </tr>\n",
       "    <tr>\n",
       "      <td>27622</td>\n",
       "      <td>27634</td>\n",
       "      <td>27634</td>\n",
       "      <td>American</td>\n",
       "      <td>[fresh lavender blossom, sugar, carrot juice, ...</td>\n",
       "      <td>fresh lavender blossom;sugar;carrot juice;pota...</td>\n",
       "    </tr>\n",
       "    <tr>\n",
       "      <td>27623</td>\n",
       "      <td>27635</td>\n",
       "      <td>27635</td>\n",
       "      <td>French</td>\n",
       "      <td>[gr. bread flour, ml. water, gr. yeast, gr. st...</td>\n",
       "      <td>gr. bread flour;ml. water;gr. yeast;gr. strong...</td>\n",
       "    </tr>\n",
       "    <tr>\n",
       "      <td>27624</td>\n",
       "      <td>27636</td>\n",
       "      <td>27636</td>\n",
       "      <td>American</td>\n",
       "      <td>[flour, unsweetened cocoa powder, baking soda,...</td>\n",
       "      <td>flour;unsweetened cocoa powder;baking soda;sal...</td>\n",
       "    </tr>\n",
       "    <tr>\n",
       "      <td>27625</td>\n",
       "      <td>27637</td>\n",
       "      <td>27637</td>\n",
       "      <td>Asian</td>\n",
       "      <td>[dry uncooked jasmine rice, stock, sized nub g...</td>\n",
       "      <td>dry uncooked jasmine rice;stock;sized nub ging...</td>\n",
       "    </tr>\n",
       "  </tbody>\n",
       "</table>\n",
       "<p>27626 rows × 5 columns</p>\n",
       "</div>"
      ],
      "text/plain": [
       "       index     id   cuisine  \\\n",
       "0          0      0   Italian   \n",
       "1          1      1  Barbecue   \n",
       "2          2      2   Italian   \n",
       "3          3      3    French   \n",
       "4          4      4  Barbecue   \n",
       "...      ...    ...       ...   \n",
       "27621  27633  27633   Italian   \n",
       "27622  27634  27634  American   \n",
       "27623  27635  27635    French   \n",
       "27624  27636  27636  American   \n",
       "27625  27637  27637     Asian   \n",
       "\n",
       "                                             ingredients  \\\n",
       "0      [baby bella mushroom sliced, arborio rice, oli...   \n",
       "1      [pork country style rib fat trimmed, soy sauce...   \n",
       "2      [garlic, extra-virgin olive oil divided, madei...   \n",
       "3      [garlic halved, cooking spray, peeled red pota...   \n",
       "4      [lean ground beef, worcestershire sauce, liqui...   \n",
       "...                                                  ...   \n",
       "27621  [zwiebeln, knoblauchzehen, dose dicke weisse b...   \n",
       "27622  [fresh lavender blossom, sugar, carrot juice, ...   \n",
       "27623  [gr. bread flour, ml. water, gr. yeast, gr. st...   \n",
       "27624  [flour, unsweetened cocoa powder, baking soda,...   \n",
       "27625  [dry uncooked jasmine rice, stock, sized nub g...   \n",
       "\n",
       "                                         all_ingredients  \n",
       "0      baby bella mushroom sliced;arborio rice;olive ...  \n",
       "1      pork country style rib fat trimmed;soy sauce;w...  \n",
       "2      garlic;extra-virgin olive oil divided;madeira ...  \n",
       "3      garlic halved;cooking spray;peeled red potato;...  \n",
       "4      lean ground beef;worcestershire sauce;liquid s...  \n",
       "...                                                  ...  \n",
       "27621  zwiebeln;knoblauchzehen;dose dicke weisse bohn...  \n",
       "27622  fresh lavender blossom;sugar;carrot juice;pota...  \n",
       "27623  gr. bread flour;ml. water;gr. yeast;gr. strong...  \n",
       "27624  flour;unsweetened cocoa powder;baking soda;sal...  \n",
       "27625  dry uncooked jasmine rice;stock;sized nub ging...  \n",
       "\n",
       "[27626 rows x 5 columns]"
      ]
     },
     "execution_count": 7,
     "metadata": {},
     "output_type": "execute_result"
    }
   ],
   "source": [
    "df_train=pd.read_pickle(os.path.join(FOLDER_PATH,DATASET[1],FILES[1]))\n",
    "df_train=df_train.reset_index()\n",
    "df_train"
   ]
  },
  {
   "cell_type": "code",
   "execution_count": 8,
   "metadata": {},
   "outputs": [],
   "source": [
    "cv = CountVectorizer()\n",
    "X = cv.fit_transform(df_train['all_ingredients'].values)"
   ]
  },
  {
   "cell_type": "markdown",
   "metadata": {},
   "source": [
    "## Processing"
   ]
  },
  {
   "cell_type": "code",
   "execution_count": 9,
   "metadata": {
    "scrolled": true
   },
   "outputs": [
    {
     "name": "stdout",
     "output_type": "stream",
     "text": [
      "['American' 'Asian' 'Barbecue' 'Cajun & Creole' 'Chinese' 'Cuban'\n",
      " 'English_Irish' 'French' 'Greek' 'Indian' 'Italian' 'Japanese'\n",
      " 'Kid-Friendly' 'Mediterranean' 'Mexican' 'Moroccan'\n",
      " 'Southern & Soul Food' 'Southwestern' 'Spanish_Portuguese' 'Thai']\n"
     ]
    },
    {
     "data": {
      "text/plain": [
       "(20,)"
      ]
     },
     "execution_count": 9,
     "metadata": {},
     "output_type": "execute_result"
    }
   ],
   "source": [
    "enc = LabelEncoder()\n",
    "y = enc.fit_transform(df_train.cuisine)\n",
    "print(enc.classes_)\n",
    "enc.classes_.shape"
   ]
  },
  {
   "cell_type": "code",
   "execution_count": 10,
   "metadata": {},
   "outputs": [
    {
     "data": {
      "text/plain": [
       "{0: 2346,\n",
       " 1: 391,\n",
       " 2: 68,\n",
       " 3: 4,\n",
       " 4: 53,\n",
       " 5: 6,\n",
       " 6: 3,\n",
       " 7: 313,\n",
       " 8: 16,\n",
       " 9: 292,\n",
       " 10: 914,\n",
       " 11: 2,\n",
       " 12: 192,\n",
       " 13: 14,\n",
       " 14: 679,\n",
       " 15: 2,\n",
       " 16: 30,\n",
       " 17: 120,\n",
       " 18: 12,\n",
       " 19: 69}"
      ]
     },
     "execution_count": 10,
     "metadata": {},
     "output_type": "execute_result"
    }
   ],
   "source": [
    "X_train, X_test, y_train, y_test = train_test_split(X, y, test_size=0.2,stratify=y)\n",
    "unique, counts = np.unique(y_test, return_counts=True)\n",
    "dict(zip(unique, counts))"
   ]
  },
  {
   "cell_type": "markdown",
   "metadata": {},
   "source": [
    "# Logistic Regression"
   ]
  },
  {
   "cell_type": "code",
   "execution_count": 11,
   "metadata": {},
   "outputs": [
    {
     "name": "stderr",
     "output_type": "stream",
     "text": [
      "D:\\Applications\\Anaconda3\\envs\\pandas_analysis\\lib\\site-packages\\sklearn\\metrics\\classification.py:1437: UndefinedMetricWarning: F-score is ill-defined and being set to 0.0 in labels with no predicted samples.\n",
      "  'precision', 'predicted', average, warn_for)\n",
      "D:\\Applications\\Anaconda3\\envs\\pandas_analysis\\lib\\site-packages\\sklearn\\metrics\\classification.py:1437: UndefinedMetricWarning: F-score is ill-defined and being set to 0.0 in labels with no predicted samples.\n",
      "  'precision', 'predicted', average, warn_for)\n",
      "D:\\Applications\\Anaconda3\\envs\\pandas_analysis\\lib\\site-packages\\sklearn\\metrics\\classification.py:1437: UndefinedMetricWarning: F-score is ill-defined and being set to 0.0 in labels with no predicted samples.\n",
      "  'precision', 'predicted', average, warn_for)\n",
      "D:\\Applications\\Anaconda3\\envs\\pandas_analysis\\lib\\site-packages\\sklearn\\metrics\\classification.py:1437: UndefinedMetricWarning: F-score is ill-defined and being set to 0.0 in labels with no predicted samples.\n",
      "  'precision', 'predicted', average, warn_for)\n",
      "D:\\Applications\\Anaconda3\\envs\\pandas_analysis\\lib\\site-packages\\sklearn\\metrics\\classification.py:1437: UndefinedMetricWarning: F-score is ill-defined and being set to 0.0 in labels with no predicted samples.\n",
      "  'precision', 'predicted', average, warn_for)\n",
      "D:\\Applications\\Anaconda3\\envs\\pandas_analysis\\lib\\site-packages\\sklearn\\metrics\\classification.py:1437: UndefinedMetricWarning: F-score is ill-defined and being set to 0.0 in labels with no predicted samples.\n",
      "  'precision', 'predicted', average, warn_for)\n",
      "D:\\Applications\\Anaconda3\\envs\\pandas_analysis\\lib\\site-packages\\sklearn\\metrics\\classification.py:1437: UndefinedMetricWarning: F-score is ill-defined and being set to 0.0 in labels with no predicted samples.\n",
      "  'precision', 'predicted', average, warn_for)\n",
      "D:\\Applications\\Anaconda3\\envs\\pandas_analysis\\lib\\site-packages\\sklearn\\metrics\\classification.py:1437: UndefinedMetricWarning: F-score is ill-defined and being set to 0.0 in labels with no predicted samples.\n",
      "  'precision', 'predicted', average, warn_for)\n",
      "D:\\Applications\\Anaconda3\\envs\\pandas_analysis\\lib\\site-packages\\sklearn\\metrics\\classification.py:1437: UndefinedMetricWarning: F-score is ill-defined and being set to 0.0 in labels with no predicted samples.\n",
      "  'precision', 'predicted', average, warn_for)\n",
      "D:\\Applications\\Anaconda3\\envs\\pandas_analysis\\lib\\site-packages\\sklearn\\metrics\\classification.py:1437: UndefinedMetricWarning: F-score is ill-defined and being set to 0.0 in labels with no predicted samples.\n",
      "  'precision', 'predicted', average, warn_for)\n",
      "D:\\Applications\\Anaconda3\\envs\\pandas_analysis\\lib\\site-packages\\sklearn\\metrics\\classification.py:1437: UndefinedMetricWarning: F-score is ill-defined and being set to 0.0 in labels with no predicted samples.\n",
      "  'precision', 'predicted', average, warn_for)\n",
      "D:\\Applications\\Anaconda3\\envs\\pandas_analysis\\lib\\site-packages\\sklearn\\metrics\\classification.py:1437: UndefinedMetricWarning: F-score is ill-defined and being set to 0.0 in labels with no predicted samples.\n",
      "  'precision', 'predicted', average, warn_for)\n"
     ]
    },
    {
     "data": {
      "text/plain": [
       "GridSearchCV(cv=4, error_score='raise-deprecating',\n",
       "             estimator=LogisticRegression(C=1.0, class_weight='balanced',\n",
       "                                          dual=False, fit_intercept=True,\n",
       "                                          intercept_scaling=1, l1_ratio=None,\n",
       "                                          max_iter=150, multi_class='auto',\n",
       "                                          n_jobs=None, penalty='l2',\n",
       "                                          random_state=None, solver='warn',\n",
       "                                          tol=0.0001, verbose=0,\n",
       "                                          warm_start=True),\n",
       "             iid='warn', n_jobs=None,\n",
       "             param_grid={'C': [0.1, 0.3, 0.6, 0.9, 1],\n",
       "                         'solver': ('newton-cg', 'liblinear')},\n",
       "             pre_dispatch='2*n_jobs', refit=True, return_train_score=False,\n",
       "             scoring='f1_weighted', verbose=0)"
      ]
     },
     "execution_count": 11,
     "metadata": {},
     "output_type": "execute_result"
    }
   ],
   "source": [
    "parameters = {'C':[0.1,0.3,0.6,0.9,1],\n",
    "              'solver' : ('newton-cg', 'liblinear')}\n",
    "# sorted(sklearn.metrics.SCORERS.keys())\n",
    "scoring = 'f1_weighted'\n",
    "logistic = LogisticRegression(class_weight=\"balanced\",multi_class=\"auto\",max_iter=150,warm_start=True)\n",
    "\n",
    "clf = GridSearchCV(logistic, parameters, cv=4,scoring=scoring)\n",
    "clf.fit(X_train, y_train)"
   ]
  },
  {
   "cell_type": "code",
   "execution_count": 12,
   "metadata": {},
   "outputs": [
    {
     "name": "stdout",
     "output_type": "stream",
     "text": [
      "LogisticRegression(C=0.9, class_weight='balanced', dual=False,\n",
      "                   fit_intercept=True, intercept_scaling=1, l1_ratio=None,\n",
      "                   max_iter=150, multi_class='auto', n_jobs=None, penalty='l2',\n",
      "                   random_state=None, solver='liblinear', tol=0.0001, verbose=0,\n",
      "                   warm_start=True)\n"
     ]
    },
    {
     "data": {
      "text/plain": [
       "0.77491625245778"
      ]
     },
     "execution_count": 12,
     "metadata": {},
     "output_type": "execute_result"
    }
   ],
   "source": [
    "# pd.DataFrame(clf.cv_results_)\n",
    "print(clf.best_estimator_)\n",
    "clf.best_score_"
   ]
  },
  {
   "cell_type": "code",
   "execution_count": 13,
   "metadata": {},
   "outputs": [
    {
     "data": {
      "text/plain": [
       "0.7636626854867897"
      ]
     },
     "execution_count": 13,
     "metadata": {},
     "output_type": "execute_result"
    }
   ],
   "source": [
    "clf.best_estimator_.score(X_test, y_test)"
   ]
  },
  {
   "cell_type": "markdown",
   "metadata": {},
   "source": [
    "## Results"
   ]
  },
  {
   "cell_type": "code",
   "execution_count": 14,
   "metadata": {},
   "outputs": [],
   "source": [
    "def confusion_matrix_plot(y_pred,y_labels):\n",
    "    plt.figure(figsize=(10, 10))\n",
    "\n",
    "    cm = confusion_matrix(y_labels, y_pred)\n",
    "    cm_normalized = cm.astype('float') / cm.sum(axis=1)[:, np.newaxis]\n",
    "\n",
    "    plt.imshow(cm_normalized, interpolation='nearest')\n",
    "    plt.title(\"confusion matrix\")\n",
    "    plt.colorbar(shrink=0.3)\n",
    "    cuisines = df_train['cuisine'].value_counts().index\n",
    "    tick_marks = np.arange(len(cuisines))\n",
    "    plt.xticks(tick_marks, enc.classes_, rotation=90)\n",
    "    plt.yticks(tick_marks, enc.classes_)\n",
    "    plt.tight_layout()\n",
    "    plt.ylabel('True label')\n",
    "    plt.xlabel('Predicted label')"
   ]
  },
  {
   "cell_type": "code",
   "execution_count": 15,
   "metadata": {},
   "outputs": [
    {
     "data": {
      "image/png": "[encoded data removed]",
      "text/plain": [
       "<Figure size 720x720 with 2 Axes>"
      ]
     },
     "metadata": {
      "needs_background": "light"
     },
     "output_type": "display_data"
    }
   ],
   "source": [
    "y_pred = clf.best_estimator_.predict(X_test)\n",
    "confusion_matrix_plot(y_pred, y_test)"
   ]
  },
  {
   "cell_type": "code",
   "execution_count": 16,
   "metadata": {},
   "outputs": [
    {
     "name": "stdout",
     "output_type": "stream",
     "text": [
      "                      precision    recall  f1-score   support\n",
      "\n",
      "            American       0.88      0.78      0.83      2346\n",
      "               Asian       0.72      0.66      0.69       391\n",
      "            Barbecue       0.26      0.44      0.33        68\n",
      "      Cajun & Creole       0.00      0.00      0.00         4\n",
      "             Chinese       0.38      0.38      0.38        53\n",
      "               Cuban       0.12      0.17      0.14         6\n",
      "       English_Irish       0.00      0.00      0.00         3\n",
      "              French       0.63      0.70      0.66       313\n",
      "               Greek       0.27      0.50      0.35        16\n",
      "              Indian       0.80      0.92      0.85       292\n",
      "             Italian       0.87      0.89      0.88       914\n",
      "            Japanese       0.00      0.00      0.00         2\n",
      "        Kid-Friendly       0.49      0.55      0.52       192\n",
      "       Mediterranean       0.04      0.07      0.05        14\n",
      "             Mexican       0.83      0.85      0.84       679\n",
      "            Moroccan       0.00      0.00      0.00         2\n",
      "Southern & Soul Food       0.07      0.17      0.10        30\n",
      "        Southwestern       0.30      0.37      0.33       120\n",
      "  Spanish_Portuguese       0.09      0.17      0.11        12\n",
      "                Thai       0.41      0.45      0.43        69\n",
      "\n",
      "           micro avg       0.76      0.76      0.76      5526\n",
      "           macro avg       0.10      0.12      0.11      5526\n",
      "        weighted avg       0.79      0.76      0.77      5526\n",
      "\n"
     ]
    },
    {
     "name": "stderr",
     "output_type": "stream",
     "text": [
      "D:\\Applications\\Anaconda3\\envs\\pandas_analysis\\lib\\site-packages\\sklearn\\metrics\\classification.py:1870: UserWarning: labels size, 69, does not match size of target_names, 20\n",
      "  .format(len(labels), len(target_names))\n",
      "D:\\Applications\\Anaconda3\\envs\\pandas_analysis\\lib\\site-packages\\sklearn\\metrics\\classification.py:1437: UndefinedMetricWarning: Precision and F-score are ill-defined and being set to 0.0 in labels with no predicted samples.\n",
      "  'precision', 'predicted', average, warn_for)\n",
      "D:\\Applications\\Anaconda3\\envs\\pandas_analysis\\lib\\site-packages\\sklearn\\metrics\\classification.py:1439: UndefinedMetricWarning: Recall and F-score are ill-defined and being set to 0.0 in labels with no true samples.\n",
      "  'recall', 'true', average, warn_for)\n"
     ]
    }
   ],
   "source": [
    "print(classification_report(y_test, y_pred, labels=[i for i in range(69)], target_names=enc.classes_))"
   ]
  },
  {
   "cell_type": "markdown",
   "metadata": {},
   "source": [
    "# Random Forest\n",
    "\n",
    "much slower and a bit worse"
   ]
  },
  {
   "cell_type": "code",
   "execution_count": 17,
   "metadata": {},
   "outputs": [
    {
     "name": "stderr",
     "output_type": "stream",
     "text": [
      "D:\\Applications\\Anaconda3\\envs\\pandas_analysis\\lib\\site-packages\\sklearn\\metrics\\classification.py:1437: UndefinedMetricWarning: F-score is ill-defined and being set to 0.0 in labels with no predicted samples.\n",
      "  'precision', 'predicted', average, warn_for)\n",
      "D:\\Applications\\Anaconda3\\envs\\pandas_analysis\\lib\\site-packages\\sklearn\\metrics\\classification.py:1437: UndefinedMetricWarning: F-score is ill-defined and being set to 0.0 in labels with no predicted samples.\n",
      "  'precision', 'predicted', average, warn_for)\n",
      "D:\\Applications\\Anaconda3\\envs\\pandas_analysis\\lib\\site-packages\\sklearn\\metrics\\classification.py:1437: UndefinedMetricWarning: F-score is ill-defined and being set to 0.0 in labels with no predicted samples.\n",
      "  'precision', 'predicted', average, warn_for)\n",
      "D:\\Applications\\Anaconda3\\envs\\pandas_analysis\\lib\\site-packages\\sklearn\\metrics\\classification.py:1437: UndefinedMetricWarning: F-score is ill-defined and being set to 0.0 in labels with no predicted samples.\n",
      "  'precision', 'predicted', average, warn_for)\n",
      "D:\\Applications\\Anaconda3\\envs\\pandas_analysis\\lib\\site-packages\\sklearn\\metrics\\classification.py:1437: UndefinedMetricWarning: F-score is ill-defined and being set to 0.0 in labels with no predicted samples.\n",
      "  'precision', 'predicted', average, warn_for)\n"
     ]
    },
    {
     "data": {
      "text/plain": [
       "GridSearchCV(cv=4, error_score='raise-deprecating',\n",
       "             estimator=RandomForestClassifier(bootstrap=True,\n",
       "                                              class_weight='balanced',\n",
       "                                              criterion='gini', max_depth=None,\n",
       "                                              max_features='auto',\n",
       "                                              max_leaf_nodes=None,\n",
       "                                              min_impurity_decrease=0.0,\n",
       "                                              min_impurity_split=None,\n",
       "                                              min_samples_leaf=1,\n",
       "                                              min_samples_split=2,\n",
       "                                              min_weight_fraction_leaf=0.0,\n",
       "                                              n_estimators=200, n_jobs=None,\n",
       "                                              oob_score=False, random_state=123,\n",
       "                                              verbose=0, warm_start=False),\n",
       "             iid='warn', n_jobs=None, param_grid={'max_depth': (None, 3, 5, 8)},\n",
       "             pre_dispatch='2*n_jobs', refit=True, return_train_score=False,\n",
       "             scoring='f1_weighted', verbose=0)"
      ]
     },
     "execution_count": 17,
     "metadata": {},
     "output_type": "execute_result"
    }
   ],
   "source": [
    "parameters = {'max_depth':(None,3,5,8)}\n",
    "# sorted(sklearn.metrics.SCORERS.keys())\n",
    "scoring = 'f1_weighted'\n",
    "rf = RandomForestClassifier(n_estimators=200, random_state=123,class_weight=\"balanced\")\n",
    "\n",
    "clf = GridSearchCV(rf, parameters, cv=4,scoring=scoring)\n",
    "clf.fit(X_train, y_train)"
   ]
  },
  {
   "cell_type": "code",
   "execution_count": 18,
   "metadata": {},
   "outputs": [
    {
     "name": "stdout",
     "output_type": "stream",
     "text": [
      "RandomForestClassifier(bootstrap=True, class_weight='balanced',\n",
      "                       criterion='gini', max_depth=None, max_features='auto',\n",
      "                       max_leaf_nodes=None, min_impurity_decrease=0.0,\n",
      "                       min_impurity_split=None, min_samples_leaf=1,\n",
      "                       min_samples_split=2, min_weight_fraction_leaf=0.0,\n",
      "                       n_estimators=200, n_jobs=None, oob_score=False,\n",
      "                       random_state=123, verbose=0, warm_start=False)\n"
     ]
    },
    {
     "data": {
      "text/plain": [
       "0.7211194802813647"
      ]
     },
     "execution_count": 18,
     "metadata": {},
     "output_type": "execute_result"
    }
   ],
   "source": [
    "print(clf.best_estimator_)\n",
    "clf.best_score_"
   ]
  },
  {
   "cell_type": "code",
   "execution_count": 19,
   "metadata": {},
   "outputs": [
    {
     "data": {
      "text/plain": [
       "0.7690915671371698"
      ]
     },
     "execution_count": 19,
     "metadata": {},
     "output_type": "execute_result"
    }
   ],
   "source": [
    "clf.best_estimator_.score(X_test, y_test)"
   ]
  },
  {
   "cell_type": "markdown",
   "metadata": {},
   "source": [
    "## Results"
   ]
  },
  {
   "cell_type": "code",
   "execution_count": 20,
   "metadata": {},
   "outputs": [
    {
     "data": {
      "image/png": "[encoded data removed]",
      "text/plain": [
       "<Figure size 720x720 with 2 Axes>"
      ]
     },
     "metadata": {
      "needs_background": "light"
     },
     "output_type": "display_data"
    }
   ],
   "source": [
    "y_pred = clf.predict(X_test)\n",
    "confusion_matrix_plot(y_pred, y_test)"
   ]
  },
  {
   "cell_type": "code",
   "execution_count": 22,
   "metadata": {},
   "outputs": [
    {
     "name": "stdout",
     "output_type": "stream",
     "text": [
      "                      precision    recall  f1-score   support\n",
      "\n",
      "            American       0.73      0.96      0.83      2346\n",
      "               Asian       0.72      0.75      0.73       391\n",
      "            Barbecue       0.75      0.04      0.08        68\n",
      "      Cajun & Creole       0.00      0.00      0.00         4\n",
      "             Chinese       0.83      0.09      0.17        53\n",
      "               Cuban       0.00      0.00      0.00         6\n",
      "       English_Irish       0.00      0.00      0.00         3\n",
      "              French       0.95      0.26      0.41       313\n",
      "               Greek       0.00      0.00      0.00        16\n",
      "              Indian       0.83      0.88      0.86       292\n",
      "             Italian       0.87      0.81      0.84       914\n",
      "            Japanese       0.00      0.00      0.00         2\n",
      "        Kid-Friendly       0.93      0.13      0.23       192\n",
      "       Mediterranean       0.00      0.00      0.00        14\n",
      "             Mexican       0.81      0.86      0.84       679\n",
      "            Moroccan       0.00      0.00      0.00         2\n",
      "Southern & Soul Food       0.00      0.00      0.00        30\n",
      "        Southwestern       0.90      0.07      0.14       120\n",
      "  Spanish_Portuguese       1.00      0.08      0.15        12\n",
      "                Thai       0.67      0.12      0.20        69\n",
      "\n",
      "           micro avg       0.77      0.77      0.77      5526\n",
      "           macro avg       0.14      0.07      0.08      5526\n",
      "        weighted avg       0.78      0.77      0.73      5526\n",
      "\n"
     ]
    },
    {
     "name": "stderr",
     "output_type": "stream",
     "text": [
      "D:\\Applications\\Anaconda3\\envs\\pandas_analysis\\lib\\site-packages\\sklearn\\metrics\\classification.py:1870: UserWarning: labels size, 69, does not match size of target_names, 20\n",
      "  .format(len(labels), len(target_names))\n",
      "D:\\Applications\\Anaconda3\\envs\\pandas_analysis\\lib\\site-packages\\sklearn\\metrics\\classification.py:1437: UndefinedMetricWarning: Precision and F-score are ill-defined and being set to 0.0 in labels with no predicted samples.\n",
      "  'precision', 'predicted', average, warn_for)\n",
      "D:\\Applications\\Anaconda3\\envs\\pandas_analysis\\lib\\site-packages\\sklearn\\metrics\\classification.py:1439: UndefinedMetricWarning: Recall and F-score are ill-defined and being set to 0.0 in labels with no true samples.\n",
      "  'recall', 'true', average, warn_for)\n"
     ]
    }
   ],
   "source": [
    "y_pred = clf.predict(X_test)\n",
    "print(classification_report(y_test, y_pred, labels=[i for i in range(69)], target_names=enc.classes_))"
   ]
  },
  {
   "cell_type": "markdown",
   "metadata": {},
   "source": [
    "# SVM"
   ]
  },
  {
   "cell_type": "code",
   "execution_count": 23,
   "metadata": {},
   "outputs": [
    {
     "data": {
      "text/plain": [
       "GridSearchCV(cv=4, error_score='raise-deprecating',\n",
       "             estimator=SGDClassifier(alpha=0.0001, average=False,\n",
       "                                     class_weight='balanced',\n",
       "                                     early_stopping=True, epsilon=0.1, eta0=0.0,\n",
       "                                     fit_intercept=True, l1_ratio=0.15,\n",
       "                                     learning_rate='optimal', loss='hinge',\n",
       "                                     max_iter=1000, n_iter_no_change=5,\n",
       "                                     n_jobs=None, penalty='l2', power_t=0.5,\n",
       "                                     random_state=None, shuffle=True, tol=0.001,\n",
       "                                     validation_fraction=0.1, verbose=0,\n",
       "                                     warm_start=True),\n",
       "             iid='warn', n_jobs=None,\n",
       "             param_grid={'loss': ('hinge', 'log', 'modified_huber',\n",
       "                                  'squared_hinge', 'perceptron')},\n",
       "             pre_dispatch='2*n_jobs', refit=True, return_train_score=False,\n",
       "             scoring='f1_weighted', verbose=0)"
      ]
     },
     "execution_count": 23,
     "metadata": {},
     "output_type": "execute_result"
    }
   ],
   "source": [
    "parameters = {'loss':('hinge', 'log', 'modified_huber', 'squared_hinge', 'perceptron')\n",
    "              }\n",
    "# sorted(sklearn.metrics.SCORERS.keys())\n",
    "scoring = 'f1_weighted'\n",
    "sgd = SGDClassifier(class_weight=\"balanced\",early_stopping=True,warm_start=True)\n",
    "\n",
    "clf = GridSearchCV(sgd, parameters, cv=4,scoring=scoring)\n",
    "clf.fit(X_train, y_train)"
   ]
  },
  {
   "cell_type": "code",
   "execution_count": 24,
   "metadata": {},
   "outputs": [
    {
     "name": "stdout",
     "output_type": "stream",
     "text": [
      "SGDClassifier(alpha=0.0001, average=False, class_weight='balanced',\n",
      "              early_stopping=True, epsilon=0.1, eta0=0.0, fit_intercept=True,\n",
      "              l1_ratio=0.15, learning_rate='optimal', loss='log', max_iter=1000,\n",
      "              n_iter_no_change=5, n_jobs=None, penalty='l2', power_t=0.5,\n",
      "              random_state=None, shuffle=True, tol=0.001,\n",
      "              validation_fraction=0.1, verbose=0, warm_start=True)\n"
     ]
    },
    {
     "data": {
      "text/plain": [
       "0.7102638062616226"
      ]
     },
     "execution_count": 24,
     "metadata": {},
     "output_type": "execute_result"
    }
   ],
   "source": [
    "print(clf.best_estimator_)\n",
    "clf.best_score_"
   ]
  },
  {
   "cell_type": "code",
   "execution_count": 25,
   "metadata": {},
   "outputs": [
    {
     "data": {
      "text/plain": [
       "0.6474846181686572"
      ]
     },
     "execution_count": 25,
     "metadata": {},
     "output_type": "execute_result"
    }
   ],
   "source": [
    "clf.best_estimator_.score(X_test, y_test)"
   ]
  },
  {
   "cell_type": "code",
   "execution_count": 26,
   "metadata": {},
   "outputs": [
    {
     "data": {
      "image/png": "[encoded data removed]",
      "text/plain": [
       "<Figure size 720x720 with 2 Axes>"
      ]
     },
     "metadata": {
      "needs_background": "light"
     },
     "output_type": "display_data"
    }
   ],
   "source": [
    "y_pred = clf.predict(X_test)\n",
    "confusion_matrix_plot(y_pred, y_test)"
   ]
  },
  {
   "cell_type": "code",
   "execution_count": 28,
   "metadata": {},
   "outputs": [
    {
     "name": "stdout",
     "output_type": "stream",
     "text": [
      "                      precision    recall  f1-score   support\n",
      "\n",
      "            American       0.86      0.63      0.73      2346\n",
      "               Asian       0.74      0.53      0.62       391\n",
      "            Barbecue       0.23      0.37      0.29        68\n",
      "      Cajun & Creole       0.06      0.25      0.09         4\n",
      "             Chinese       0.45      0.26      0.33        53\n",
      "               Cuban       0.04      0.17      0.07         6\n",
      "       English_Irish       0.00      0.00      0.00         3\n",
      "              French       0.67      0.66      0.66       313\n",
      "               Greek       0.10      0.31      0.15        16\n",
      "              Indian       0.78      0.91      0.84       292\n",
      "             Italian       0.90      0.72      0.80       914\n",
      "            Japanese       0.17      0.50      0.25         2\n",
      "        Kid-Friendly       0.30      0.52      0.38       192\n",
      "       Mediterranean       0.01      0.36      0.03        14\n",
      "             Mexican       0.80      0.74      0.77       679\n",
      "            Moroccan       0.00      0.00      0.00         2\n",
      "Southern & Soul Food       0.04      0.20      0.06        30\n",
      "        Southwestern       0.21      0.46      0.29       120\n",
      "  Spanish_Portuguese       0.06      0.17      0.09        12\n",
      "                Thai       0.39      0.54      0.45        69\n",
      "\n",
      "           micro avg       0.65      0.65      0.65      5526\n",
      "           macro avg       0.10      0.12      0.10      5526\n",
      "        weighted avg       0.77      0.65      0.70      5526\n",
      "\n"
     ]
    },
    {
     "name": "stderr",
     "output_type": "stream",
     "text": [
      "D:\\Applications\\Anaconda3\\envs\\pandas_analysis\\lib\\site-packages\\sklearn\\metrics\\classification.py:1870: UserWarning: labels size, 69, does not match size of target_names, 20\n",
      "  .format(len(labels), len(target_names))\n",
      "D:\\Applications\\Anaconda3\\envs\\pandas_analysis\\lib\\site-packages\\sklearn\\metrics\\classification.py:1437: UndefinedMetricWarning: Precision and F-score are ill-defined and being set to 0.0 in labels with no predicted samples.\n",
      "  'precision', 'predicted', average, warn_for)\n",
      "D:\\Applications\\Anaconda3\\envs\\pandas_analysis\\lib\\site-packages\\sklearn\\metrics\\classification.py:1439: UndefinedMetricWarning: Recall and F-score are ill-defined and being set to 0.0 in labels with no true samples.\n",
      "  'recall', 'true', average, warn_for)\n"
     ]
    }
   ],
   "source": [
    "y_pred = clf.predict(X_test)\n",
    "print(classification_report(y_test, y_pred, labels=[i for i in range(69)], target_names=enc.classes_))"
   ]
  }
 ],
 "metadata": {
  "kernelspec": {
   "display_name": "Python 3",
   "language": "python",
   "name": "python3"
  },
  "language_info": {
   "codemirror_mode": {
    "name": "ipython",
    "version": 3
   },
   "file_extension": ".py",
   "mimetype": "text/x-python",
   "name": "python",
   "nbconvert_exporter": "python",
   "pygments_lexer": "ipython3",
   "version": "3.7.4"
  }
 },
 "nbformat": 4,
 "nbformat_minor": 2
}
