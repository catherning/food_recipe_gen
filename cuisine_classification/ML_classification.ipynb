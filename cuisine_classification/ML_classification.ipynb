{
 "cells": [
  {
   "cell_type": "code",
   "execution_count": 1,
   "metadata": {},
   "outputs": [],
   "source": [
    "import os\n",
    "import pandas as pd\n",
    "import matplotlib.pyplot as plt\n",
    "from collections import Counter\n",
    "import numpy as np\n",
    "\n",
    "import sklearn\n",
    "from sklearn.feature_extraction.text import CountVectorizer\n",
    "from sklearn.preprocessing import LabelEncoder\n",
    "from sklearn.model_selection import train_test_split\n",
    "from sklearn.linear_model import LogisticRegression, SGDClassifier\n",
    "from sklearn.ensemble import RandomForestClassifier\n",
    "from sklearn.neighbors import KNeighborsClassifier\n",
    "from sklearn.metrics import confusion_matrix, accuracy_score, classification_report\n",
    "from sklearn.model_selection import GridSearchCV\n",
    "from sklearn.metrics import f1_score, make_scorer"
   ]
  },
  {
   "cell_type": "code",
   "execution_count": 2,
   "metadata": {},
   "outputs": [],
   "source": [
    "FOLDER_PATH = \"D:\\\\Google Drive\\\\Catherning Folder\\\\THU\\\\Thesis\\\\Recipe datasets\\\\scirep-cuisines-detail\"\n",
    "FILES = [\"cleaned_data.pkl\",\"full_data.pkl\"]"
   ]
  },
  {
   "cell_type": "code",
   "execution_count": 3,
   "metadata": {},
   "outputs": [
    {
     "data": {
      "text/html": [
       "<div>\n",
       "<style scoped>\n",
       "    .dataframe tbody tr th:only-of-type {\n",
       "        vertical-align: middle;\n",
       "    }\n",
       "\n",
       "    .dataframe tbody tr th {\n",
       "        vertical-align: top;\n",
       "    }\n",
       "\n",
       "    .dataframe thead th {\n",
       "        text-align: right;\n",
       "    }\n",
       "</style>\n",
       "<table border=\"1\" class=\"dataframe\">\n",
       "  <thead>\n",
       "    <tr style=\"text-align: right;\">\n",
       "      <th></th>\n",
       "      <th>index</th>\n",
       "      <th>cuisine</th>\n",
       "      <th>id</th>\n",
       "      <th>ingredients</th>\n",
       "      <th>all_ingredients</th>\n",
       "    </tr>\n",
       "  </thead>\n",
       "  <tbody>\n",
       "    <tr>\n",
       "      <td>0</td>\n",
       "      <td>0</td>\n",
       "      <td>Canada</td>\n",
       "      <td>0</td>\n",
       "      <td>[egg, yeast, wheat, milk, lard]</td>\n",
       "      <td>egg;yeast;wheat;milk;lard</td>\n",
       "    </tr>\n",
       "    <tr>\n",
       "      <td>1</td>\n",
       "      <td>1</td>\n",
       "      <td>Canada</td>\n",
       "      <td>1</td>\n",
       "      <td>[pork, carrot, pea, onion, potato]</td>\n",
       "      <td>pork;carrot;pea;onion;potato</td>\n",
       "    </tr>\n",
       "    <tr>\n",
       "      <td>2</td>\n",
       "      <td>2</td>\n",
       "      <td>Canada</td>\n",
       "      <td>2</td>\n",
       "      <td>[maple_syrup]</td>\n",
       "      <td>maple_syrup</td>\n",
       "    </tr>\n",
       "    <tr>\n",
       "      <td>3</td>\n",
       "      <td>3</td>\n",
       "      <td>Canada</td>\n",
       "      <td>3</td>\n",
       "      <td>[wheat, yeast, almond, honey, oat, date, veget...</td>\n",
       "      <td>wheat;yeast;almond;honey;oat;date;vegetable_oi...</td>\n",
       "    </tr>\n",
       "    <tr>\n",
       "      <td>4</td>\n",
       "      <td>4</td>\n",
       "      <td>Canada</td>\n",
       "      <td>4</td>\n",
       "      <td>[butter, lovage, clam, wheat, onion, thyme, po...</td>\n",
       "      <td>butter;lovage;clam;wheat;onion;thyme;potato;ye...</td>\n",
       "    </tr>\n",
       "    <tr>\n",
       "      <td>...</td>\n",
       "      <td>...</td>\n",
       "      <td>...</td>\n",
       "      <td>...</td>\n",
       "      <td>...</td>\n",
       "      <td>...</td>\n",
       "    </tr>\n",
       "    <tr>\n",
       "      <td>57686</td>\n",
       "      <td>57686</td>\n",
       "      <td>Italian</td>\n",
       "      <td>2453</td>\n",
       "      <td>[kiwi, olive_oil, clam, white_wine, orange, sa...</td>\n",
       "      <td>kiwi;olive_oil;clam;white_wine;orange;salmon;f...</td>\n",
       "    </tr>\n",
       "    <tr>\n",
       "      <td>57687</td>\n",
       "      <td>57687</td>\n",
       "      <td>Italian</td>\n",
       "      <td>2454</td>\n",
       "      <td>[tomato, butter, beef, onion, red_wine, black_...</td>\n",
       "      <td>tomato;butter;beef;onion;red_wine;black_pepper...</td>\n",
       "    </tr>\n",
       "    <tr>\n",
       "      <td>57688</td>\n",
       "      <td>57688</td>\n",
       "      <td>Italian</td>\n",
       "      <td>2455</td>\n",
       "      <td>[vegetable, wheat, egg, cheese, olive_oil]</td>\n",
       "      <td>vegetable;wheat;egg;cheese;olive_oil</td>\n",
       "    </tr>\n",
       "    <tr>\n",
       "      <td>57689</td>\n",
       "      <td>57689</td>\n",
       "      <td>Italian</td>\n",
       "      <td>2456</td>\n",
       "      <td>[tomato, clam, black_pepper, parsley, celery, ...</td>\n",
       "      <td>tomato;clam;black_pepper;parsley;celery;macaroni</td>\n",
       "    </tr>\n",
       "    <tr>\n",
       "      <td>57690</td>\n",
       "      <td>57690</td>\n",
       "      <td>Italian</td>\n",
       "      <td>2457</td>\n",
       "      <td>[cheese, onion, bacon, black_pepper, parsley, ...</td>\n",
       "      <td>cheese;onion;bacon;black_pepper;parsley;macaro...</td>\n",
       "    </tr>\n",
       "  </tbody>\n",
       "</table>\n",
       "<p>57691 rows × 5 columns</p>\n",
       "</div>"
      ],
      "text/plain": [
       "       index  cuisine    id  \\\n",
       "0          0   Canada     0   \n",
       "1          1   Canada     1   \n",
       "2          2   Canada     2   \n",
       "3          3   Canada     3   \n",
       "4          4   Canada     4   \n",
       "...      ...      ...   ...   \n",
       "57686  57686  Italian  2453   \n",
       "57687  57687  Italian  2454   \n",
       "57688  57688  Italian  2455   \n",
       "57689  57689  Italian  2456   \n",
       "57690  57690  Italian  2457   \n",
       "\n",
       "                                             ingredients  \\\n",
       "0                        [egg, yeast, wheat, milk, lard]   \n",
       "1                     [pork, carrot, pea, onion, potato]   \n",
       "2                                          [maple_syrup]   \n",
       "3      [wheat, yeast, almond, honey, oat, date, veget...   \n",
       "4      [butter, lovage, clam, wheat, onion, thyme, po...   \n",
       "...                                                  ...   \n",
       "57686  [kiwi, olive_oil, clam, white_wine, orange, sa...   \n",
       "57687  [tomato, butter, beef, onion, red_wine, black_...   \n",
       "57688         [vegetable, wheat, egg, cheese, olive_oil]   \n",
       "57689  [tomato, clam, black_pepper, parsley, celery, ...   \n",
       "57690  [cheese, onion, bacon, black_pepper, parsley, ...   \n",
       "\n",
       "                                         all_ingredients  \n",
       "0                              egg;yeast;wheat;milk;lard  \n",
       "1                           pork;carrot;pea;onion;potato  \n",
       "2                                            maple_syrup  \n",
       "3      wheat;yeast;almond;honey;oat;date;vegetable_oi...  \n",
       "4      butter;lovage;clam;wheat;onion;thyme;potato;ye...  \n",
       "...                                                  ...  \n",
       "57686  kiwi;olive_oil;clam;white_wine;orange;salmon;f...  \n",
       "57687  tomato;butter;beef;onion;red_wine;black_pepper...  \n",
       "57688               vegetable;wheat;egg;cheese;olive_oil  \n",
       "57689   tomato;clam;black_pepper;parsley;celery;macaroni  \n",
       "57690  cheese;onion;bacon;black_pepper;parsley;macaro...  \n",
       "\n",
       "[57691 rows x 5 columns]"
      ]
     },
     "execution_count": 3,
     "metadata": {},
     "output_type": "execute_result"
    }
   ],
   "source": [
    "df_train=pd.read_pickle(os.path.join(FOLDER_PATH,FILES[1]))\n",
    "df_train=df_train.reset_index()\n",
    "df_train"
   ]
  },
  {
   "cell_type": "code",
   "execution_count": 6,
   "metadata": {},
   "outputs": [],
   "source": [
    "cv = CountVectorizer()\n",
    "X = cv.fit_transform(df_train['all_ingredients'].values)"
   ]
  },
  {
   "cell_type": "markdown",
   "metadata": {},
   "source": [
    "## Processing"
   ]
  },
  {
   "cell_type": "code",
   "execution_count": 7,
   "metadata": {},
   "outputs": [
    {
     "name": "stdout",
     "output_type": "stream",
     "text": [
      "['African' 'American' 'Asian' 'Austria' 'Bangladesh' 'Belgium'\n",
      " 'Cajun_Creole' 'Canada' 'Caribbean' 'Central_SouthAmerican' 'Chinese'\n",
      " 'East-African' 'Eastern-Europe' 'English_Scottish' 'French' 'Germany'\n",
      " 'Greek' 'Indian' 'Indonesia' 'Iran' 'Irish' 'Italian' 'Japanese' 'Jewish'\n",
      " 'Korean' 'Lebanon' 'Malaysia' 'Mediterranean' 'Mexican' 'MiddleEastern'\n",
      " 'Moroccan' 'Netherlands' 'North-African' 'Pakistan' 'Philippines'\n",
      " 'Portugal' 'Scandinavian' 'South-African' 'South-America'\n",
      " 'Southern_SoulFood' 'Southwestern' 'Spanish_Portuguese' 'Switzerland'\n",
      " 'Thai' 'Turkey' 'UK-and-Ireland' 'Vietnamese' 'West-African' 'asian'\n",
      " 'east_asian' 'western']\n"
     ]
    },
    {
     "data": {
      "text/plain": [
       "(51,)"
      ]
     },
     "execution_count": 7,
     "metadata": {},
     "output_type": "execute_result"
    }
   ],
   "source": [
    "enc = LabelEncoder()\n",
    "y = enc.fit_transform(df_train.cuisine)\n",
    "print(enc.classes_)\n",
    "enc.classes_.shape"
   ]
  },
  {
   "cell_type": "code",
   "execution_count": 8,
   "metadata": {},
   "outputs": [
    {
     "data": {
      "text/plain": [
       "{0: 30,\n",
       " 1: 8026,\n",
       " 2: 235,\n",
       " 3: 5,\n",
       " 4: 1,\n",
       " 5: 4,\n",
       " 6: 28,\n",
       " 7: 158,\n",
       " 8: 35,\n",
       " 9: 54,\n",
       " 10: 84,\n",
       " 11: 4,\n",
       " 12: 75,\n",
       " 13: 46,\n",
       " 14: 257,\n",
       " 15: 49,\n",
       " 16: 52,\n",
       " 17: 129,\n",
       " 18: 2,\n",
       " 19: 4,\n",
       " 20: 12,\n",
       " 21: 663,\n",
       " 22: 55,\n",
       " 23: 76,\n",
       " 24: 153,\n",
       " 25: 10,\n",
       " 26: 6,\n",
       " 27: 60,\n",
       " 28: 455,\n",
       " 29: 55,\n",
       " 30: 29,\n",
       " 31: 6,\n",
       " 32: 15,\n",
       " 33: 4,\n",
       " 34: 8,\n",
       " 35: 10,\n",
       " 36: 40,\n",
       " 37: 4,\n",
       " 38: 23,\n",
       " 39: 74,\n",
       " 40: 21,\n",
       " 41: 63,\n",
       " 42: 4,\n",
       " 43: 67,\n",
       " 44: 1,\n",
       " 45: 54,\n",
       " 46: 20,\n",
       " 47: 2,\n",
       " 48: 5,\n",
       " 49: 172,\n",
       " 50: 94}"
      ]
     },
     "execution_count": 8,
     "metadata": {},
     "output_type": "execute_result"
    }
   ],
   "source": [
    "X_train, X_test, y_train, y_test = train_test_split(X, y, test_size=0.2)\n",
    "unique, counts = np.unique(y_test, return_counts=True)\n",
    "dict(zip(unique, counts))"
   ]
  },
  {
   "cell_type": "markdown",
   "metadata": {},
   "source": [
    "# Logistic Regression"
   ]
  },
  {
   "cell_type": "code",
   "execution_count": null,
   "metadata": {},
   "outputs": [
    {
     "name": "stderr",
     "output_type": "stream",
     "text": [
      "D:\\Applications\\Anaconda3\\envs\\pandas_analysis\\lib\\site-packages\\sklearn\\model_selection\\_split.py:657: Warning: The least populated class in y has only 3 members, which is too few. The minimum number of members in any class cannot be less than n_splits=4.\n",
      "  % (min_groups, self.n_splits)), Warning)\n",
      "D:\\Applications\\Anaconda3\\envs\\pandas_analysis\\lib\\site-packages\\sklearn\\metrics\\classification.py:1437: UndefinedMetricWarning: F-score is ill-defined and being set to 0.0 in labels with no predicted samples.\n",
      "  'precision', 'predicted', average, warn_for)\n",
      "D:\\Applications\\Anaconda3\\envs\\pandas_analysis\\lib\\site-packages\\sklearn\\metrics\\classification.py:1439: UndefinedMetricWarning: F-score is ill-defined and being set to 0.0 in labels with no true samples.\n",
      "  'recall', 'true', average, warn_for)\n"
     ]
    }
   ],
   "source": [
    "parameters = {'C':[0.1,0.3,0.6,0.9,1],\n",
    "              'solver' : ('newton-cg', 'liblinear')}\n",
    "# sorted(sklearn.metrics.SCORERS.keys())\n",
    "scoring = 'f1_weighted'\n",
    "logistic = LogisticRegression(class_weight=\"balanced\",multi_class=\"auto\",max_iter=150,warm_start=True)\n",
    "\n",
    "clf = GridSearchCV(logistic, parameters, cv=4,scoring=scoring)\n",
    "clf.fit(X_train, y_train)"
   ]
  },
  {
   "cell_type": "code",
   "execution_count": null,
   "metadata": {},
   "outputs": [],
   "source": [
    "# pd.DataFrame(clf.cv_results_)\n",
    "print(clf.best_estimator_)\n",
    "clf.best_score_"
   ]
  },
  {
   "cell_type": "code",
   "execution_count": null,
   "metadata": {},
   "outputs": [],
   "source": [
    "clf.best_estimator_.score(X_test, y_test)"
   ]
  },
  {
   "cell_type": "markdown",
   "metadata": {},
   "source": [
    "## Results"
   ]
  },
  {
   "cell_type": "code",
   "execution_count": null,
   "metadata": {},
   "outputs": [],
   "source": [
    "plt.figure(figsize=(10, 10))\n",
    "\n",
    "cm = confusion_matrix(y_test, logistic.predict(X_test))\n",
    "cm_normalized = cm.astype('float') / cm.sum(axis=1)[:, np.newaxis]\n",
    "\n",
    "plt.imshow(cm_normalized, interpolation='nearest')\n",
    "plt.title(\"confusion matrix\")\n",
    "plt.colorbar(shrink=0.3)\n",
    "cuisines = df_train['cuisine'].value_counts().index\n",
    "tick_marks = np.arange(len(cuisines))\n",
    "plt.xticks(tick_marks, enc.classes_, rotation=90)\n",
    "plt.yticks(tick_marks, enc.classes_)\n",
    "plt.tight_layout()\n",
    "plt.ylabel('True label')\n",
    "plt.xlabel('Predicted label')"
   ]
  },
  {
   "cell_type": "code",
   "execution_count": null,
   "metadata": {},
   "outputs": [],
   "source": [
    "y_pred = logistic.predict(X_test)\n",
    "\n",
    "print(classification_report(y_test, y_pred, labels=[i for i in range(69)], target_names=enc.classes_))"
   ]
  },
  {
   "cell_type": "markdown",
   "metadata": {},
   "source": [
    "# Random Forest\n",
    "\n",
    "much slower and a bit worse"
   ]
  },
  {
   "cell_type": "code",
   "execution_count": null,
   "metadata": {},
   "outputs": [],
   "source": [
    "parameters = {'max_depth':(None,3,5,8)}\n",
    "# sorted(sklearn.metrics.SCORERS.keys())\n",
    "scoring = 'f1_weighted'\n",
    "rf = RandomForestClassifier(n_estimators=200, random_state=123,class_weight=\"balanced\")\n",
    "\n",
    "clf = GridSearchCV(rf, parameters, cv=4,scoring=scoring)\n",
    "clf.fit(X_train, y_train)"
   ]
  },
  {
   "cell_type": "code",
   "execution_count": null,
   "metadata": {},
   "outputs": [],
   "source": [
    "print(clf.best_estimator_)\n",
    "clf.best_score_"
   ]
  },
  {
   "cell_type": "code",
   "execution_count": null,
   "metadata": {},
   "outputs": [],
   "source": [
    "clf.best_estimator_.score(X_test, y_test)"
   ]
  },
  {
   "cell_type": "markdown",
   "metadata": {},
   "source": [
    "## Results"
   ]
  },
  {
   "cell_type": "code",
   "execution_count": null,
   "metadata": {},
   "outputs": [],
   "source": [
    "y_pred = rf.predict(X_test)\n",
    "\n",
    "print(classification_report(y_test, y_pred, labels=[i for i in range(69)], target_names=cuisines))"
   ]
  },
  {
   "cell_type": "markdown",
   "metadata": {},
   "source": [
    "# SVM"
   ]
  },
  {
   "cell_type": "code",
   "execution_count": null,
   "metadata": {},
   "outputs": [],
   "source": [
    "parameters = {'loss':('hinge', 'log', 'modified_huber', 'squared_hinge', 'perceptron')\n",
    "              }\n",
    "# sorted(sklearn.metrics.SCORERS.keys())\n",
    "scoring = 'f1_weighted'\n",
    "sgd = SGDClassifier(class_weight=\"balanced\",early_stopping=True,warm_start=True)\n",
    "\n",
    "clf = GridSearchCV(sgd, parameters, cv=4,scoring=scoring)\n",
    "clf.fit(X_train, y_train)"
   ]
  },
  {
   "cell_type": "code",
   "execution_count": null,
   "metadata": {},
   "outputs": [],
   "source": [
    "print(clf.best_estimator_)\n",
    "clf.best_score_"
   ]
  },
  {
   "cell_type": "code",
   "execution_count": null,
   "metadata": {},
   "outputs": [],
   "source": [
    "clf.best_estimator_.score(X_test, y_test)"
   ]
  },
  {
   "cell_type": "code",
   "execution_count": null,
   "metadata": {},
   "outputs": [],
   "source": []
  }
 ],
 "metadata": {
  "kernelspec": {
   "display_name": "Python 3",
   "language": "python",
   "name": "python3"
  },
  "language_info": {
   "codemirror_mode": {
    "name": "ipython",
    "version": 3
   },
   "file_extension": ".py",
   "mimetype": "text/x-python",
   "name": "python",
   "nbconvert_exporter": "python",
   "pygments_lexer": "ipython3",
   "version": "3.7.4"
  }
 },
 "nbformat": 4,
 "nbformat_minor": 2
}
