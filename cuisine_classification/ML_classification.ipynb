{
 "cells": [
  {
   "cell_type": "code",
   "execution_count": 1,
   "metadata": {},
   "outputs": [],
   "source": [
    "import os\n",
    "import pandas as pd\n",
    "import matplotlib.pyplot as plt\n",
    "from collections import Counter\n",
    "import numpy as np\n",
    "from datetime import datetime\n",
    "import csv\n",
    "import pickle\n",
    "from joblib import dump, load\n",
    "\n",
    "import sklearn\n",
    "from sklearn.feature_extraction.text import CountVectorizer\n",
    "from sklearn.preprocessing import LabelEncoder\n",
    "from sklearn.model_selection import train_test_split\n",
    "from sklearn.linear_model import LogisticRegression, SGDClassifier\n",
    "from sklearn.ensemble import RandomForestClassifier, ExtraTreesClassifier\n",
    "from sklearn.neighbors import KNeighborsClassifier\n",
    "from sklearn.metrics import confusion_matrix, accuracy_score, balanced_accuracy_score, classification_report, precision_score, recall_score, f1_score\n",
    "from sklearn.model_selection import GridSearchCV\n",
    "from sklearn.metrics import f1_score, make_scorer\n",
    "from sklearn.svm import LinearSVC\n",
    "from sklearn.naive_bayes import ComplementNB\n",
    "from sklearn.tree import DecisionTreeClassifier\n",
    "from sklearn.calibration import CalibratedClassifierCV"
   ]
  },
  {
   "cell_type": "code",
   "execution_count": 2,
   "metadata": {},
   "outputs": [],
   "source": [
    "FOLDER_PATH = \"F:\\\\user\\\\Google Drive\\\\Catherning Folder\\\\THU\\\\Thesis\\\\Work\\\\Recipe datasets\\\\cuisine_classification\"\n",
    "\n",
    "FILES = [\"random\",\"cluster_centroid\",\"full\"]\n",
    "file = FILES[2]"
   ]
  },
  {
   "cell_type": "code",
   "execution_count": 3,
   "metadata": {},
   "outputs": [],
   "source": [
    "date = datetime.now().strftime(\"%m-%d-%H-%M\")\n",
    "RESULTS_FOLDER = os.path.join(os.getcwd(),\"results\",f\"ML_{date}_{file}\")\n",
    "if not os.path.exists(RESULTS_FOLDER):\n",
    "    os.makedirs(RESULTS_FOLDER)"
   ]
  },
  {
   "cell_type": "code",
   "execution_count": 4,
   "metadata": {},
   "outputs": [],
   "source": [
    "results_file = os.path.join(RESULTS_FOLDER,\"results.csv\")\n",
    "with open(results_file,\"w\", newline='') as f:\n",
    "    writer = csv.writer(f, delimiter=';')\n",
    "    writer.writerow([\"model\",\"best parameters\",\"best f1 train score\",\"threshold\",\"proba score\",\"accuracy\",\"balanced_accuracy\",\"precision\",\"recall\",\"f1_score\"])"
   ]
  },
  {
   "cell_type": "code",
   "execution_count": 5,
   "metadata": {},
   "outputs": [],
   "source": [
    "df_train = pd.read_pickle(os.path.join(FOLDER_PATH, file+\"_data.pkl\"))"
   ]
  },
  {
   "cell_type": "code",
   "execution_count": 6,
   "metadata": {},
   "outputs": [
    {
     "data": {
      "text/plain": [
       "NorthAmerican       54022\n",
       "SouthernEuropean     8963\n",
       "LatinAmerican        6347\n",
       "WesternEuropean      4243\n",
       "Asian                3144\n",
       "EastAsian            2788\n",
       "SouthAsian           2078\n",
       "SoutheastAsian        805\n",
       "MiddleEastern         645\n",
       "EasternEuropean       381\n",
       "African               363\n",
       "NorthernEuropean      250\n",
       "Name: cuisine, dtype: int64"
      ]
     },
     "execution_count": 6,
     "metadata": {},
     "output_type": "execute_result"
    }
   ],
   "source": [
    "df_train['cuisine'].value_counts()"
   ]
  },
  {
   "cell_type": "code",
   "execution_count": 7,
   "metadata": {},
   "outputs": [
    {
     "data": {
      "text/plain": [
       "84029"
      ]
     },
     "execution_count": 7,
     "metadata": {},
     "output_type": "execute_result"
    }
   ],
   "source": [
    "len(df_train)"
   ]
  },
  {
   "cell_type": "code",
   "execution_count": 8,
   "metadata": {},
   "outputs": [],
   "source": [
    "cv = CountVectorizer()\n",
    "X = cv.fit_transform(df_train['all_ingredients'].values)"
   ]
  },
  {
   "cell_type": "code",
   "execution_count": 9,
   "metadata": {},
   "outputs": [
    {
     "data": {
      "text/plain": [
       "array(['baby_bella_mushroom_sliced;arborio_rice;olive_oil;butter;shallot_minced;white_wine;fat_free_chicken_stock_;salt_pepper;salt_pepper;grated_parmesan_cheese;chopped_parsley',\n",
       "       'garlic;extra-virgin_olive_oil_divided;madeira_divided;unsalted_chicken_stock_divided;dried_porcini_mushroom_;chopped_onion;thinly_sliced_cremini_mushroom_;thinly_sliced_shiitake_mushroom_cap_;uncooked_arborio_rice;parmesan_cheese_grated_;kosher_salt;freshly_ground_black_pepper;chopped_fresh_sage;sage_',\n",
       "       'garlic_halved;cooking_spray;peeled_red_potato_;butter_melted;salt;black_pepper;shredded_gruyere_cheese;fat-free_milk',\n",
       "       ..., 'vegetable;olive_oil;egg;cheese;wheat',\n",
       "       'tomato;clam;celery;black_pepper;parsley;macaroni',\n",
       "       'milk;bacon;egg;cream;cheese;onion;black_pepper;parsley;macaroni'],\n",
       "      dtype=object)"
      ]
     },
     "execution_count": 9,
     "metadata": {},
     "output_type": "execute_result"
    }
   ],
   "source": [
    "df_train['all_ingredients'].values"
   ]
  },
  {
   "cell_type": "code",
   "execution_count": 10,
   "metadata": {},
   "outputs": [
    {
     "data": {
      "text/plain": [
       "['scikit_vocab.joblib']"
      ]
     },
     "execution_count": 10,
     "metadata": {},
     "output_type": "execute_result"
    }
   ],
   "source": [
    "dump(cv.vocabulary_,\"scikit_vocab.joblib\")"
   ]
  },
  {
   "cell_type": "markdown",
   "metadata": {},
   "source": [
    "## Processing"
   ]
  },
  {
   "cell_type": "code",
   "execution_count": 11,
   "metadata": {
    "scrolled": true
   },
   "outputs": [
    {
     "name": "stdout",
     "output_type": "stream",
     "text": [
      "['African' 'Asian' 'EastAsian' 'EasternEuropean' 'LatinAmerican'\n",
      " 'MiddleEastern' 'NorthAmerican' 'NorthernEuropean' 'SouthAsian'\n",
      " 'SoutheastAsian' 'SouthernEuropean' 'WesternEuropean']\n"
     ]
    },
    {
     "data": {
      "text/plain": [
       "(12,)"
      ]
     },
     "execution_count": 11,
     "metadata": {},
     "output_type": "execute_result"
    }
   ],
   "source": [
    "enc = LabelEncoder()\n",
    "y = enc.fit_transform(df_train.cuisine)\n",
    "print(enc.classes_)\n",
    "enc.classes_.shape"
   ]
  },
  {
   "cell_type": "code",
   "execution_count": 12,
   "metadata": {},
   "outputs": [
    {
     "data": {
      "text/plain": [
       "['scikit_vocab_cuisine.joblib']"
      ]
     },
     "execution_count": 12,
     "metadata": {},
     "output_type": "execute_result"
    }
   ],
   "source": [
    "dump(enc,\"scikit_vocab_cuisine.joblib\")"
   ]
  },
  {
   "cell_type": "code",
   "execution_count": 14,
   "metadata": {},
   "outputs": [
    {
     "data": {
      "text/plain": [
       "{0: 72,\n",
       " 1: 629,\n",
       " 2: 558,\n",
       " 3: 76,\n",
       " 4: 1269,\n",
       " 5: 129,\n",
       " 6: 10804,\n",
       " 7: 50,\n",
       " 8: 416,\n",
       " 9: 161,\n",
       " 10: 1793,\n",
       " 11: 849}"
      ]
     },
     "execution_count": 14,
     "metadata": {},
     "output_type": "execute_result"
    }
   ],
   "source": [
    "X_train, X_test, y_train, y_test = train_test_split(X, y, test_size=0.2,stratify=y)\n",
    "unique, counts = np.unique(y_test, return_counts=True)\n",
    "dict(zip(unique, counts))"
   ]
  },
  {
   "cell_type": "markdown",
   "metadata": {},
   "source": [
    "## Results methods"
   ]
  },
  {
   "cell_type": "code",
   "execution_count": 15,
   "metadata": {},
   "outputs": [],
   "source": [
    "# For future predictions, get proba and only classifies if proba is higher than threshold\n",
    "def threshold_classification(clf,X_test,y_test,threshold=0.85):\n",
    "    y_pred_prob = clf.predict_proba(X_test)\n",
    "    max_prob = y_pred_prob.max(axis=1)\n",
    "    y_pred = y_pred_prob.argmax(axis=1)\n",
    "\n",
    "    to_del = np.argwhere(max_prob < threshold).T[0]\n",
    "\n",
    "    partial_y_pred = np.delete(y_pred,to_del)\n",
    "    partial_y_test = np.delete(y_test,to_del)\n",
    "\n",
    "    proba_score = accuracy_score(partial_y_test,partial_y_pred)\n",
    "    \n",
    "    return proba_score"
   ]
  },
  {
   "cell_type": "code",
   "execution_count": 16,
   "metadata": {},
   "outputs": [],
   "source": [
    "def confusion_matrix_plot(y_pred,y_labels,save_path,name):\n",
    "    fig = plt.figure(figsize=(10, 10))\n",
    "\n",
    "    cm = confusion_matrix(y_labels, y_pred)\n",
    "    cm_normalized = cm.astype('float') / cm.sum(axis=1)[:, np.newaxis]\n",
    "\n",
    "    plt.imshow(cm_normalized, interpolation='nearest')\n",
    "    plt.title(name+\" Confusion matrix\")\n",
    "    plt.colorbar(shrink=0.3)\n",
    "    cuisines = df_train['cuisine'].value_counts().index\n",
    "    tick_marks = np.arange(len(cuisines))\n",
    "    plt.xticks(tick_marks, enc.classes_, rotation=90)\n",
    "    plt.yticks(tick_marks, enc.classes_)\n",
    "    plt.tight_layout()\n",
    "    plt.ylabel('True label')\n",
    "    plt.xlabel('Predicted label')\n",
    "    fig.show()\n",
    "    \n",
    "    fig.savefig(save_path, dpi=fig.dpi)"
   ]
  },
  {
   "cell_type": "code",
   "execution_count": 17,
   "metadata": {},
   "outputs": [],
   "source": [
    "def classification_report_to_csv(y_test,y_pred,enc,model_type,RESULTS_FOLDER):\n",
    "    report = classification_report(y_test, y_pred, labels=[i for i in range(enc.classes_.shape[0])], target_names=enc.classes_, output_dict=True)\n",
    "    df_report = pd.DataFrame(report).transpose()\n",
    "    df_report.to_csv(os.path.join(RESULTS_FOLDER,f'{model_type}.csv'))"
   ]
  },
  {
   "cell_type": "markdown",
   "metadata": {},
   "source": [
    "# Logistic Regression"
   ]
  },
  {
   "cell_type": "code",
   "execution_count": 18,
   "metadata": {
    "scrolled": true
   },
   "outputs": [
    {
     "data": {
      "text/plain": [
       "['log_reg.joblib']"
      ]
     },
     "execution_count": 18,
     "metadata": {},
     "output_type": "execute_result"
    }
   ],
   "source": [
    "#parameters = {'C':[0.4,0.5,0.6,0.7],\n",
    "#             'solver' : ('newton-cg', 'liblinear')}\n",
    "parameters = {'C':[0.7],\n",
    "              'solver' : ('liblinear',)}\n",
    "# sorted(sklearn.metrics.SCORERS.keys())\n",
    "scoring = 'f1_weighted'\n",
    "logistic = LogisticRegression(class_weight=\"balanced\",multi_class=\"auto\",max_iter=150,warm_start=True)\n",
    "\n",
    "try:\n",
    "    clf = load(\"log_reg.joblib\")\n",
    "except FileNotFoundError:\n",
    "    clf = GridSearchCV(logistic, parameters, cv=4,scoring=scoring)\n",
    "    \n",
    "clf.fit(X_train, y_train)\n",
    "dump(clf,\"log_reg.joblib\")"
   ]
  },
  {
   "cell_type": "markdown",
   "metadata": {},
   "source": [
    "## Results"
   ]
  },
  {
   "cell_type": "code",
   "execution_count": 19,
   "metadata": {},
   "outputs": [
    {
     "name": "stdout",
     "output_type": "stream",
     "text": [
      "LogisticRegression(C=0.7, class_weight='balanced', dual=False,\n",
      "                   fit_intercept=True, intercept_scaling=1, l1_ratio=None,\n",
      "                   max_iter=150, multi_class='auto', n_jobs=None, penalty='l2',\n",
      "                   random_state=None, solver='liblinear', tol=0.0001, verbose=0,\n",
      "                   warm_start=True)\n"
     ]
    },
    {
     "data": {
      "text/plain": [
       "0.7399509443847415"
      ]
     },
     "execution_count": 19,
     "metadata": {},
     "output_type": "execute_result"
    }
   ],
   "source": [
    "print(clf.best_estimator_)\n",
    "clf.best_score_"
   ]
  },
  {
   "cell_type": "code",
   "execution_count": 20,
   "metadata": {},
   "outputs": [
    {
     "data": {
      "text/plain": [
       "0.726526240628347"
      ]
     },
     "execution_count": 20,
     "metadata": {},
     "output_type": "execute_result"
    }
   ],
   "source": [
    "test_score = clf.best_estimator_.score(X_test, y_test)\n",
    "test_score"
   ]
  },
  {
   "cell_type": "code",
   "execution_count": 21,
   "metadata": {},
   "outputs": [
    {
     "data": {
      "text/plain": [
       "0.9764150943396226"
      ]
     },
     "execution_count": 21,
     "metadata": {},
     "output_type": "execute_result"
    }
   ],
   "source": [
    "threshold = 0.95\n",
    "proba_score = threshold_classification(clf,X_test,y_test,threshold=threshold)\n",
    "proba_score"
   ]
  },
  {
   "cell_type": "code",
   "execution_count": 38,
   "metadata": {},
   "outputs": [
    {
     "name": "stderr",
     "output_type": "stream",
     "text": [
      "C:\\Users\\TEMP.PKAPRIME.000.001\\AppData\\Local\\conda\\conda\\envs\\recipe_env\\lib\\site-packages\\ipykernel_launcher.py:17: UserWarning: Matplotlib is currently using module://ipykernel.pylab.backend_inline, which is a non-GUI backend, so cannot show the figure.\n"
     ]
    },
    {
     "data": {
      "image/png": "[encoded data removed]",
      "text/plain": [
       "<Figure size 720x720 with 2 Axes>"
      ]
     },
     "metadata": {
      "needs_background": "light"
     },
     "output_type": "display_data"
    }
   ],
   "source": [
    "y_pred = clf.best_estimator_.predict(X_test)\n",
    "confusion_matrix_plot(y_pred, y_test,os.path.join(RESULTS_FOLDER,'logistic_regression.png'),\"Logistic Regression\")"
   ]
  },
  {
   "cell_type": "code",
   "execution_count": 39,
   "metadata": {},
   "outputs": [],
   "source": [
    "classification_report_to_csv(y_test,y_pred,enc,\"logistic_regression\",RESULTS_FOLDER)    "
   ]
  },
  {
   "cell_type": "code",
   "execution_count": 42,
   "metadata": {},
   "outputs": [
    {
     "data": {
      "text/plain": [
       "[0.726526240628347,\n",
       " 0.5936989618606122,\n",
       " 0.781694937899619,\n",
       " 0.726526240628347,\n",
       " 0.748612898833331]"
      ]
     },
     "execution_count": 42,
     "metadata": {},
     "output_type": "execute_result"
    }
   ],
   "source": [
    "res=[accuracy_score(y_test,y_pred),balanced_accuracy_score(y_test,y_pred),precision_score(y_test,y_pred,average='weighted'),recall_score(y_test,y_pred,average='weighted'),f1_score(y_test,y_pred,average='weighted')]\n",
    "res"
   ]
  },
  {
   "cell_type": "code",
   "execution_count": 43,
   "metadata": {},
   "outputs": [
    {
     "data": {
      "text/plain": [
       "0.726526240628347"
      ]
     },
     "execution_count": 43,
     "metadata": {},
     "output_type": "execute_result"
    }
   ],
   "source": [
    "recall_score(y_test,y_pred,average='weighted')"
   ]
  },
  {
   "cell_type": "code",
   "execution_count": 44,
   "metadata": {},
   "outputs": [
    {
     "data": {
      "text/plain": [
       "0.726526240628347"
      ]
     },
     "execution_count": 44,
     "metadata": {},
     "output_type": "execute_result"
    }
   ],
   "source": [
    "recall_score(y_test,y_pred,average='micro')"
   ]
  },
  {
   "cell_type": "code",
   "execution_count": 45,
   "metadata": {},
   "outputs": [
    {
     "data": {
      "text/plain": [
       "0.5936989618606122"
      ]
     },
     "execution_count": 45,
     "metadata": {},
     "output_type": "execute_result"
    }
   ],
   "source": [
    "recall_score(y_test,y_pred,average='macro')"
   ]
  },
  {
   "cell_type": "code",
   "execution_count": 25,
   "metadata": {},
   "outputs": [],
   "source": [
    "with open(results_file,\"a\", newline='') as f:\n",
    "    writer = csv.writer(f, delimiter=';')\n",
    "    writer.writerow([\"logistic regression\",clf.best_estimator_,clf.best_score_,threshold,proba_score]+res)"
   ]
  },
  {
   "cell_type": "markdown",
   "metadata": {},
   "source": [
    "# SVM"
   ]
  },
  {
   "cell_type": "code",
   "execution_count": 26,
   "metadata": {},
   "outputs": [
    {
     "data": {
      "text/plain": [
       "GridSearchCV(cv=4, error_score=nan,\n",
       "             estimator=SGDClassifier(alpha=0.0001, average=False,\n",
       "                                     class_weight='balanced',\n",
       "                                     early_stopping=True, epsilon=0.1, eta0=0.0,\n",
       "                                     fit_intercept=True, l1_ratio=0.15,\n",
       "                                     learning_rate='optimal', loss='hinge',\n",
       "                                     max_iter=1000, n_iter_no_change=5,\n",
       "                                     n_jobs=None, penalty='l2', power_t=0.5,\n",
       "                                     random_state=None, shuffle=True, tol=0.001,\n",
       "                                     validation_fraction=0.1, verbose=0,\n",
       "                                     warm_start=True),\n",
       "             iid='deprecated', n_jobs=None, param_grid={'loss': ('log',)},\n",
       "             pre_dispatch='2*n_jobs', refit=True, return_train_score=False,\n",
       "             scoring='f1_weighted', verbose=0)"
      ]
     },
     "execution_count": 26,
     "metadata": {},
     "output_type": "execute_result"
    }
   ],
   "source": [
    "parameters = {'loss':(\"log\",)}#('hinge', 'log', 'modified_huber', 'squared_hinge', 'perceptron')}\n",
    "# sorted(sklearn.metrics.SCORERS.keys())\n",
    "scoring = 'f1_weighted'\n",
    "sgd = SGDClassifier(class_weight=\"balanced\",early_stopping=True,warm_start=True)\n",
    "\n",
    "try:\n",
    "    clf3 = load(\"svm.joblib\")\n",
    "except FileNotFoundError:\n",
    "    clf3 = GridSearchCV(sgd, parameters, cv=4,scoring=scoring)\n",
    "    \n",
    "clf3.fit(X_train, y_train)\n",
    "dump(clf3,\"svm.joblib\")"
   ]
  },
  {
   "cell_type": "code",
   "execution_count": 27,
   "metadata": {},
   "outputs": [
    {
     "name": "stdout",
     "output_type": "stream",
     "text": [
      "SGDClassifier(alpha=0.0001, average=False, class_weight='balanced',\n",
      "              early_stopping=True, epsilon=0.1, eta0=0.0, fit_intercept=True,\n",
      "              l1_ratio=0.15, learning_rate='optimal', loss='log', max_iter=1000,\n",
      "              n_iter_no_change=5, n_jobs=None, penalty='l2', power_t=0.5,\n",
      "              random_state=None, shuffle=True, tol=0.001,\n",
      "              validation_fraction=0.1, verbose=0, warm_start=True)\n"
     ]
    },
    {
     "data": {
      "text/plain": [
       "0.7199565146199435"
      ]
     },
     "execution_count": 27,
     "metadata": {},
     "output_type": "execute_result"
    }
   ],
   "source": [
    "print(clf3.best_estimator_)\n",
    "clf3.best_score_"
   ]
  },
  {
   "cell_type": "code",
   "execution_count": 28,
   "metadata": {},
   "outputs": [
    {
     "data": {
      "text/plain": [
       "0.700226109722718"
      ]
     },
     "execution_count": 28,
     "metadata": {},
     "output_type": "execute_result"
    }
   ],
   "source": [
    "clf3.best_estimator_.score(X_test, y_test)"
   ]
  },
  {
   "cell_type": "code",
   "execution_count": 29,
   "metadata": {
    "scrolled": true
   },
   "outputs": [
    {
     "data": {
      "text/plain": [
       "0.9604863221884499"
      ]
     },
     "execution_count": 29,
     "metadata": {},
     "output_type": "execute_result"
    }
   ],
   "source": [
    "proba_score = threshold_classification(clf3,X_test,y_test,threshold=threshold)\n",
    "proba_score"
   ]
  },
  {
   "cell_type": "code",
   "execution_count": 30,
   "metadata": {},
   "outputs": [
    {
     "name": "stderr",
     "output_type": "stream",
     "text": [
      "C:\\Users\\TEMP.PKAPRIME.000.001\\AppData\\Local\\conda\\conda\\envs\\recipe_env\\lib\\site-packages\\ipykernel_launcher.py:17: UserWarning: Matplotlib is currently using module://ipykernel.pylab.backend_inline, which is a non-GUI backend, so cannot show the figure.\n"
     ]
    },
    {
     "data": {
      "image/png": "[encoded data removed]",
      "text/plain": [
       "<Figure size 720x720 with 2 Axes>"
      ]
     },
     "metadata": {
      "needs_background": "light"
     },
     "output_type": "display_data"
    }
   ],
   "source": [
    "y_pred = clf3.predict(X_test)\n",
    "confusion_matrix_plot(y_pred, y_test,os.path.join(RESULTS_FOLDER,'svm.png'),\"SVM\")"
   ]
  },
  {
   "cell_type": "code",
   "execution_count": 31,
   "metadata": {},
   "outputs": [],
   "source": [
    "classification_report_to_csv(y_test,y_pred,enc,\"svm\",RESULTS_FOLDER)    "
   ]
  },
  {
   "cell_type": "code",
   "execution_count": 32,
   "metadata": {
    "scrolled": false
   },
   "outputs": [
    {
     "name": "stdout",
     "output_type": "stream",
     "text": [
      "[0.700226109722718, 0.5722461710055593, 0.7649626896792315, 0.700226109722718, 0.7258601460242251]\n"
     ]
    }
   ],
   "source": [
    "res=[accuracy_score(y_test,y_pred),balanced_accuracy_score(y_test,y_pred),precision_score(y_test,y_pred,average='weighted'),recall_score(y_test,y_pred,average='weighted'),f1_score(y_test,y_pred,average='weighted')]\n",
    "\n",
    "with open(results_file,\"a\", newline='') as f:\n",
    "    writer = csv.writer(f, delimiter=';')\n",
    "    writer.writerow([\"svm\",clf3.best_estimator_,clf3.best_score_,threshold,proba_score]+res)\n",
    "    \n",
    "print(res)"
   ]
  },
  {
   "cell_type": "markdown",
   "metadata": {},
   "source": [
    "# Naive Bayes"
   ]
  },
  {
   "cell_type": "code",
   "execution_count": 33,
   "metadata": {},
   "outputs": [
    {
     "data": {
      "text/plain": [
       "GridSearchCV(cv=4, error_score=nan,\n",
       "             estimator=ComplementNB(alpha=1.0, class_prior=None, fit_prior=True,\n",
       "                                    norm=False),\n",
       "             iid='deprecated', n_jobs=None, param_grid={'alpha': [0.2]},\n",
       "             pre_dispatch='2*n_jobs', refit=True, return_train_score=False,\n",
       "             scoring='f1_weighted', verbose=0)"
      ]
     },
     "execution_count": 33,
     "metadata": {},
     "output_type": "execute_result"
    }
   ],
   "source": [
    "parameters = {'alpha':[0.2,]}#[i*0.2 for i in range(1,5)]}\n",
    "# sorted(sklearn.metrics.SCORERS.keys())\n",
    "scoring = 'f1_weighted'\n",
    "bayes = ComplementNB()\n",
    "\n",
    "try:\n",
    "    clf4 = load(\"naive_bayes.joblib\")\n",
    "except FileNotFoundError:\n",
    "    clf4 = GridSearchCV(bayes, parameters, cv=4,scoring=scoring)\n",
    "    \n",
    "clf4.fit(X_train, y_train)\n",
    "dump(clf4,\"naive_bayes.joblib\")"
   ]
  },
  {
   "cell_type": "code",
   "execution_count": 34,
   "metadata": {},
   "outputs": [
    {
     "data": {
      "text/plain": [
       "0.7111651066607004"
      ]
     },
     "execution_count": 34,
     "metadata": {},
     "output_type": "execute_result"
    }
   ],
   "source": [
    "clf4.best_score_"
   ]
  },
  {
   "cell_type": "code",
   "execution_count": 35,
   "metadata": {},
   "outputs": [
    {
     "data": {
      "text/plain": [
       "0.7138163872647016"
      ]
     },
     "execution_count": 35,
     "metadata": {},
     "output_type": "execute_result"
    }
   ],
   "source": [
    "clf4.score(X_test,y_test)"
   ]
  },
  {
   "cell_type": "code",
   "execution_count": 36,
   "metadata": {},
   "outputs": [
    {
     "data": {
      "text/plain": [
       "0.9120559114735003"
      ]
     },
     "execution_count": 36,
     "metadata": {},
     "output_type": "execute_result"
    }
   ],
   "source": [
    "proba_score = threshold_classification(clf4,X_test,y_test,threshold=threshold)\n",
    "proba_score"
   ]
  },
  {
   "cell_type": "code",
   "execution_count": 37,
   "metadata": {},
   "outputs": [
    {
     "name": "stderr",
     "output_type": "stream",
     "text": [
      "C:\\Users\\TEMP.PKAPRIME.000.001\\AppData\\Local\\conda\\conda\\envs\\recipe_env\\lib\\site-packages\\ipykernel_launcher.py:17: UserWarning: Matplotlib is currently using module://ipykernel.pylab.backend_inline, which is a non-GUI backend, so cannot show the figure.\n"
     ]
    },
    {
     "data": {
      "image/png": "[encoded data removed]",
      "text/plain": [
       "<Figure size 720x720 with 2 Axes>"
      ]
     },
     "metadata": {
      "needs_background": "light"
     },
     "output_type": "display_data"
    }
   ],
   "source": [
    "y_pred = clf4.predict(X_test)\n",
    "confusion_matrix_plot(y_pred, y_test,os.path.join(RESULTS_FOLDER,'naive_bayes.png'),\"Naive Bayes\")"
   ]
  },
  {
   "cell_type": "code",
   "execution_count": 38,
   "metadata": {},
   "outputs": [],
   "source": [
    "classification_report_to_csv(y_test,y_pred,enc,\"naive bayes\",RESULTS_FOLDER)    "
   ]
  },
  {
   "cell_type": "code",
   "execution_count": 39,
   "metadata": {},
   "outputs": [
    {
     "name": "stdout",
     "output_type": "stream",
     "text": [
      "[0.7307509222896584, 0.36685076975293174, 0.7104783245996749, 0.7307509222896584, 0.7138163872647016]\n"
     ]
    }
   ],
   "source": [
    "res=[accuracy_score(y_test,y_pred),balanced_accuracy_score(y_test,y_pred),precision_score(y_test,y_pred,average='weighted'),recall_score(y_test,y_pred,average='weighted'),f1_score(y_test,y_pred,average='weighted')]\n",
    "\n",
    "with open(results_file,\"a\", newline='') as f:\n",
    "    writer = csv.writer(f, delimiter=';')\n",
    "    writer.writerow([\"naive bayes\",clf4.best_estimator_,clf4.best_score_,threshold,proba_score]+res)\n",
    "    \n",
    "print(res)"
   ]
  },
  {
   "cell_type": "markdown",
   "metadata": {},
   "source": [
    "# Decision Tree "
   ]
  },
  {
   "cell_type": "code",
   "execution_count": 40,
   "metadata": {},
   "outputs": [
    {
     "data": {
      "text/plain": [
       "0.6823130301251003"
      ]
     },
     "execution_count": 40,
     "metadata": {},
     "output_type": "execute_result"
    }
   ],
   "source": [
    "parameters = {\"criterion\":[\"gini\",],#\"entropy\"],\n",
    "            \"splitter\":[\"best\",\"random\"]}\n",
    "# sorted(sklearn.metrics.SCORERS.keys())\n",
    "scoring = 'f1_weighted'\n",
    "dec_tree = DecisionTreeClassifier()\n",
    "\n",
    "try:\n",
    "    clf5 = load(\"decision_tree.joblib\")\n",
    "except FileNotFoundError:\n",
    "    clf5 = GridSearchCV(dec_tree, parameters, cv=4,scoring=scoring)\n",
    "    \n",
    "clf5.fit(X_train, y_train)\n",
    "dump(clf5,\"decision_tree.joblib\")\n",
    "clf5.best_score_"
   ]
  },
  {
   "cell_type": "code",
   "execution_count": 41,
   "metadata": {},
   "outputs": [
    {
     "data": {
      "text/plain": [
       "0.6890330253395467"
      ]
     },
     "execution_count": 41,
     "metadata": {},
     "output_type": "execute_result"
    }
   ],
   "source": [
    "clf5.score(X_test,y_test)"
   ]
  },
  {
   "cell_type": "code",
   "execution_count": 42,
   "metadata": {},
   "outputs": [
    {
     "data": {
      "text/plain": [
       "0.699042579994961"
      ]
     },
     "execution_count": 42,
     "metadata": {},
     "output_type": "execute_result"
    }
   ],
   "source": [
    "proba_score = threshold_classification(clf5,X_test,y_test,threshold=threshold)\n",
    "proba_score"
   ]
  },
  {
   "cell_type": "code",
   "execution_count": 43,
   "metadata": {
    "scrolled": true
   },
   "outputs": [
    {
     "name": "stderr",
     "output_type": "stream",
     "text": [
      "C:\\Users\\TEMP.PKAPRIME.000.001\\AppData\\Local\\conda\\conda\\envs\\recipe_env\\lib\\site-packages\\ipykernel_launcher.py:17: UserWarning: Matplotlib is currently using module://ipykernel.pylab.backend_inline, which is a non-GUI backend, so cannot show the figure.\n"
     ]
    },
    {
     "data": {
      "image/png": "[encoded data removed]",
      "text/plain": [
       "<Figure size 720x720 with 2 Axes>"
      ]
     },
     "metadata": {
      "needs_background": "light"
     },
     "output_type": "display_data"
    }
   ],
   "source": [
    "y_pred = clf5.predict(X_test)\n",
    "confusion_matrix_plot(y_pred, y_test,os.path.join(RESULTS_FOLDER,'dec_tree.png'),\"Decision Tree\")"
   ]
  },
  {
   "cell_type": "code",
   "execution_count": 44,
   "metadata": {},
   "outputs": [
    {
     "name": "stdout",
     "output_type": "stream",
     "text": [
      "[0.6930263001309056, 0.39138385720532054, 0.6858026048222883, 0.6930263001309056, 0.6890330253395467]\n"
     ]
    }
   ],
   "source": [
    "res=[accuracy_score(y_test,y_pred),balanced_accuracy_score(y_test,y_pred),precision_score(y_test,y_pred,average='weighted'),recall_score(y_test,y_pred,average='weighted'),f1_score(y_test,y_pred,average='weighted')]\n",
    "\n",
    "with open(results_file,\"a\", newline='') as f:\n",
    "    writer = csv.writer(f, delimiter=';')\n",
    "    writer.writerow([\"dec_tree\",clf5.best_estimator_,clf5.best_score_,threshold,proba_score]+res)\n",
    "    \n",
    "print(res)"
   ]
  },
  {
   "cell_type": "code",
   "execution_count": 45,
   "metadata": {},
   "outputs": [],
   "source": [
    "classification_report_to_csv(y_test,y_pred,enc,\"dec_tree\",RESULTS_FOLDER)    "
   ]
  },
  {
   "cell_type": "markdown",
   "metadata": {},
   "source": [
    "# Extra Tree "
   ]
  },
  {
   "cell_type": "code",
   "execution_count": 26,
   "metadata": {},
   "outputs": [
    {
     "data": {
      "text/plain": [
       "0.7316658610729341"
      ]
     },
     "execution_count": 26,
     "metadata": {},
     "output_type": "execute_result"
    }
   ],
   "source": [
    "parameters = {\"criterion\":[\"gini\",]}#\"entropy\"]}\n",
    "# sorted(sklearn.metrics.SCORERS.keys())\n",
    "scoring = 'f1_weighted'\n",
    "extra_tree = ExtraTreesClassifier()\n",
    "\n",
    "try:\n",
    "    clf6 = load(\"extra_tree.joblib\")\n",
    "except FileNotFoundError:\n",
    "    clf6 = GridSearchCV(extra_tree, parameters, cv=4,scoring=scoring)\n",
    "    clf6.fit(X_train, y_train)\n",
    "    dump(clf6,\"extra_tree.joblib\")\n",
    "    \n",
    "clf6.best_score_"
   ]
  },
  {
   "cell_type": "code",
   "execution_count": 27,
   "metadata": {},
   "outputs": [
    {
     "data": {
      "text/plain": [
       "0.7386661641458815"
      ]
     },
     "execution_count": 27,
     "metadata": {},
     "output_type": "execute_result"
    }
   ],
   "source": [
    "clf6.score(X_test,y_test)"
   ]
  },
  {
   "cell_type": "code",
   "execution_count": 28,
   "metadata": {},
   "outputs": [
    {
     "data": {
      "text/plain": [
       "0.8632007666506948"
      ]
     },
     "execution_count": 28,
     "metadata": {},
     "output_type": "execute_result"
    }
   ],
   "source": [
    "proba_score = threshold_classification(clf6,X_test,y_test,threshold=threshold)\n",
    "proba_score"
   ]
  },
  {
   "cell_type": "code",
   "execution_count": 33,
   "metadata": {
    "scrolled": true
   },
   "outputs": [
    {
     "name": "stderr",
     "output_type": "stream",
     "text": [
      "C:\\Users\\TEMP.PKAPRIME.000.001\\AppData\\Local\\conda\\conda\\envs\\recipe_env\\lib\\site-packages\\ipykernel_launcher.py:17: UserWarning: Matplotlib is currently using module://ipykernel.pylab.backend_inline, which is a non-GUI backend, so cannot show the figure.\n"
     ]
    },
    {
     "data": {
      "image/png": "[encoded data removed]",
      "text/plain": [
       "<Figure size 720x720 with 2 Axes>"
      ]
     },
     "metadata": {
      "needs_background": "light"
     },
     "output_type": "display_data"
    }
   ],
   "source": [
    "y_pred = clf.predict(X_test)\n",
    "confusion_matrix_plot(y_pred, y_test,os.path.join(RESULTS_FOLDER,'extra_tree.png'),\"Extra Tree\")"
   ]
  },
  {
   "cell_type": "code",
   "execution_count": 34,
   "metadata": {},
   "outputs": [
    {
     "name": "stdout",
     "output_type": "stream",
     "text": [
      "[0.726526240628347, 0.5936989618606122, 0.781694937899619, 0.726526240628347, 0.748612898833331]\n"
     ]
    }
   ],
   "source": [
    "res=[accuracy_score(y_test,y_pred),balanced_accuracy_score(y_test,y_pred),precision_score(y_test,y_pred,average='weighted'),recall_score(y_test,y_pred,average='weighted'),f1_score(y_test,y_pred,average='weighted')]\n",
    "\n",
    "with open(results_file,\"a\", newline='') as f:\n",
    "    writer = csv.writer(f, delimiter=';')\n",
    "    writer.writerow([\"extra_tree\",clf6.best_estimator_,clf6.best_score_,threshold,proba_score]+res)\n",
    "    \n",
    "print(res)"
   ]
  },
  {
   "cell_type": "code",
   "execution_count": 31,
   "metadata": {},
   "outputs": [],
   "source": [
    "classification_report_to_csv(y_test,y_pred,enc,\"extra_tree\",RESULTS_FOLDER)    "
   ]
  },
  {
   "cell_type": "markdown",
   "metadata": {},
   "source": [
    "## KNeighbors Classifier"
   ]
  },
  {
   "cell_type": "code",
   "execution_count": 52,
   "metadata": {},
   "outputs": [
    {
     "data": {
      "text/plain": [
       "0.631979660834786"
      ]
     },
     "execution_count": 52,
     "metadata": {},
     "output_type": "execute_result"
    }
   ],
   "source": [
    "parameters = {\"n_neighbors\":[3,],#i for i in range(3,7)],\n",
    "            \"weights\":[\"distance\",]}#\"uniform\",\"distance\"]}\n",
    "# sorted(sklearn.metrics.SCORERS.keys())\n",
    "scoring = 'f1_weighted'\n",
    "kneigh = KNeighborsClassifier()\n",
    "\n",
    "try:\n",
    "    clf7 = load(\"kneighbors.joblib\")\n",
    "except FileNotFoundError:\n",
    "    clf7 = GridSearchCV(kneigh, parameters, cv=4,scoring=scoring)\n",
    "    \n",
    "clf7.fit(X_train, y_train)\n",
    "dump(clf7,\"kneighbors.joblib\")\n",
    "clf7.best_score_"
   ]
  },
  {
   "cell_type": "code",
   "execution_count": 53,
   "metadata": {},
   "outputs": [
    {
     "data": {
      "text/plain": [
       "0.6351853483822475"
      ]
     },
     "execution_count": 53,
     "metadata": {},
     "output_type": "execute_result"
    }
   ],
   "source": [
    "clf7.score(X_test,y_test)"
   ]
  },
  {
   "cell_type": "code",
   "execution_count": 54,
   "metadata": {},
   "outputs": [
    {
     "data": {
      "text/plain": [
       "0.8056851470109581"
      ]
     },
     "execution_count": 54,
     "metadata": {},
     "output_type": "execute_result"
    }
   ],
   "source": [
    "proba_score = threshold_classification(clf7,X_test,y_test,threshold=threshold)\n",
    "proba_score"
   ]
  },
  {
   "cell_type": "code",
   "execution_count": 55,
   "metadata": {
    "scrolled": true
   },
   "outputs": [
    {
     "name": "stderr",
     "output_type": "stream",
     "text": [
      "C:\\Users\\TEMP.PKAPRIME.000.001\\AppData\\Local\\conda\\conda\\envs\\recipe_env\\lib\\site-packages\\ipykernel_launcher.py:17: UserWarning: Matplotlib is currently using module://ipykernel.pylab.backend_inline, which is a non-GUI backend, so cannot show the figure.\n"
     ]
    },
    {
     "data": {
      "image/png": "[encoded data removed]",
      "text/plain": [
       "<Figure size 720x720 with 2 Axes>"
      ]
     },
     "metadata": {
      "needs_background": "light"
     },
     "output_type": "display_data"
    }
   ],
   "source": [
    "y_pred = clf7.predict(X_test)\n",
    "confusion_matrix_plot(y_pred, y_test,os.path.join(RESULTS_FOLDER,'KNeighbors.png'),\"KNeighbors\")"
   ]
  },
  {
   "cell_type": "code",
   "execution_count": 56,
   "metadata": {},
   "outputs": [
    {
     "name": "stdout",
     "output_type": "stream",
     "text": [
      "[0.6640485540878258, 0.266708840518054, 0.6288976467768032, 0.6640485540878258, 0.6351853483822475]\n"
     ]
    }
   ],
   "source": [
    "res=[accuracy_score(y_test,y_pred),balanced_accuracy_score(y_test,y_pred),precision_score(y_test,y_pred,average='weighted'),recall_score(y_test,y_pred,average='weighted'),f1_score(y_test,y_pred,average='weighted')]\n",
    "\n",
    "with open(results_file,\"a\", newline='') as f:\n",
    "    writer = csv.writer(f, delimiter=';')\n",
    "    writer.writerow([\"KNeighbors\",clf7.best_estimator_,clf7.best_score_,threshold,proba_score]+res)\n",
    "    \n",
    "print(res)"
   ]
  },
  {
   "cell_type": "code",
   "execution_count": 57,
   "metadata": {},
   "outputs": [],
   "source": [
    "classification_report_to_csv(y_test,y_pred,enc,\"KNeighbors\",RESULTS_FOLDER)    "
   ]
  },
  {
   "cell_type": "markdown",
   "metadata": {},
   "source": [
    "## Linear SVC"
   ]
  },
  {
   "cell_type": "code",
   "execution_count": 58,
   "metadata": {},
   "outputs": [
    {
     "data": {
      "text/plain": [
       "CalibratedClassifierCV(base_estimator=LinearSVC(C=1.0, class_weight=None,\n",
       "                                                dual=True, fit_intercept=True,\n",
       "                                                intercept_scaling=1,\n",
       "                                                loss='squared_hinge',\n",
       "                                                max_iter=1000,\n",
       "                                                multi_class='ovr', penalty='l2',\n",
       "                                                random_state=None, tol=0.0001,\n",
       "                                                verbose=0),\n",
       "                       cv=4, method='sigmoid')"
      ]
     },
     "execution_count": 58,
     "metadata": {},
     "output_type": "execute_result"
    }
   ],
   "source": [
    "parameters = {\"penalty\":[\"l2\",],#\"l1\"],\n",
    "             \"dual\":[False,True],\n",
    "             \"C\":[1]}#i for i in range(1,5)]}\n",
    "# sorted(sklearn.metrics.SCORERS.keys())\n",
    "scoring = 'f1_weighted'\n",
    "svc = LinearSVC()\n",
    "\n",
    "try:\n",
    "    clf8 = load(\"kneighbors.joblib\")\n",
    "except FileNotFoundError:\n",
    "    clf8 = CalibratedClassifierCV(svc,method=\"sigmoid\",cv=4)\n",
    "    \n",
    "clf8.fit(X_train, y_train)\n",
    "dump(clf7,\"kneighbors.joblib\")"
   ]
  },
  {
   "cell_type": "code",
   "execution_count": 66,
   "metadata": {},
   "outputs": [
    {
     "data": {
      "text/plain": [
       "0.8498430596670782"
      ]
     },
     "execution_count": 66,
     "metadata": {},
     "output_type": "execute_result"
    }
   ],
   "source": [
    "best_score = clf8.score(X_train,y_train)\n",
    "best_score"
   ]
  },
  {
   "cell_type": "code",
   "execution_count": 59,
   "metadata": {},
   "outputs": [
    {
     "data": {
      "text/plain": [
       "0.779543020349875"
      ]
     },
     "execution_count": 59,
     "metadata": {},
     "output_type": "execute_result"
    }
   ],
   "source": [
    "clf8.score(X_test,y_test)"
   ]
  },
  {
   "cell_type": "code",
   "execution_count": 60,
   "metadata": {},
   "outputs": [
    {
     "data": {
      "text/plain": [
       "0.9719626168224299"
      ]
     },
     "execution_count": 60,
     "metadata": {},
     "output_type": "execute_result"
    }
   ],
   "source": [
    "proba_score = threshold_classification(clf8,X_test,y_test,threshold=threshold)\n",
    "proba_score"
   ]
  },
  {
   "cell_type": "code",
   "execution_count": 61,
   "metadata": {
    "scrolled": true
   },
   "outputs": [
    {
     "name": "stderr",
     "output_type": "stream",
     "text": [
      "C:\\Users\\TEMP.PKAPRIME.000.001\\AppData\\Local\\conda\\conda\\envs\\recipe_env\\lib\\site-packages\\ipykernel_launcher.py:17: UserWarning: Matplotlib is currently using module://ipykernel.pylab.backend_inline, which is a non-GUI backend, so cannot show the figure.\n"
     ]
    },
    {
     "data": {
      "image/png": "[encoded data removed]",
      "text/plain": [
       "<Figure size 720x720 with 2 Axes>"
      ]
     },
     "metadata": {
      "needs_background": "light"
     },
     "output_type": "display_data"
    }
   ],
   "source": [
    "y_pred = clf8.predict(X_test)\n",
    "confusion_matrix_plot(y_pred, y_test,os.path.join(RESULTS_FOLDER,'Linear SVC.png'),\"Linear SVC\")"
   ]
  },
  {
   "cell_type": "code",
   "execution_count": 65,
   "metadata": {},
   "outputs": [
    {
     "data": {
      "text/plain": [
       "<sklearn.calibration._CalibratedClassifier at 0x22d495426d8>"
      ]
     },
     "execution_count": 65,
     "metadata": {},
     "output_type": "execute_result"
    }
   ],
   "source": [
    "clf8.calibrated_classifiers_[0]"
   ]
  },
  {
   "cell_type": "code",
   "execution_count": 68,
   "metadata": {},
   "outputs": [
    {
     "name": "stdout",
     "output_type": "stream",
     "text": [
      "[0.779543020349875, 0.3883882231940163, 0.7674266262319384, 0.779543020349875, 0.7535859026155998]\n"
     ]
    }
   ],
   "source": [
    "res=[accuracy_score(y_test,y_pred),balanced_accuracy_score(y_test,y_pred),precision_score(y_test,y_pred,average='weighted'),recall_score(y_test,y_pred,average='weighted'),f1_score(y_test,y_pred,average='weighted')]\n",
    "\n",
    "with open(results_file,\"a\", newline='') as f:\n",
    "    writer = csv.writer(f, delimiter=';')\n",
    "    writer.writerow([\"Linear SVC\",clf8.calibrated_classifiers_[0],best_score,threshold,proba_score]+res)\n",
    "    \n",
    "print(res)"
   ]
  },
  {
   "cell_type": "code",
   "execution_count": 69,
   "metadata": {},
   "outputs": [],
   "source": [
    "classification_report_to_csv(y_test,y_pred,enc,\"Linear SVC\",RESULTS_FOLDER)    "
   ]
  },
  {
   "cell_type": "code",
   "execution_count": 70,
   "metadata": {},
   "outputs": [
    {
     "data": {
      "text/plain": [
       "['best_linearSVC.joblib']"
      ]
     },
     "execution_count": 70,
     "metadata": {},
     "output_type": "execute_result"
    }
   ],
   "source": [
    "dump(clf8,\"best_linearSVC.joblib\")"
   ]
  },
  {
   "cell_type": "markdown",
   "metadata": {},
   "source": [
    "# Random Forest\n",
    "\n",
    "much slower and a bit worse"
   ]
  },
  {
   "cell_type": "code",
   "execution_count": 72,
   "metadata": {},
   "outputs": [
    {
     "data": {
      "text/plain": [
       "GridSearchCV(cv=4, error_score=nan,\n",
       "             estimator=RandomForestClassifier(bootstrap=True, ccp_alpha=0.0,\n",
       "                                              class_weight='balanced',\n",
       "                                              criterion='gini', max_depth=None,\n",
       "                                              max_features='auto',\n",
       "                                              max_leaf_nodes=None,\n",
       "                                              max_samples=None,\n",
       "                                              min_impurity_decrease=0.0,\n",
       "                                              min_impurity_split=None,\n",
       "                                              min_samples_leaf=1,\n",
       "                                              min_samples_split=2,\n",
       "                                              min_weight_fraction_leaf=0.0,\n",
       "                                              n_estimators=200, n_jobs=None,\n",
       "                                              oob_score=False, random_state=123,\n",
       "                                              verbose=0, warm_start=False),\n",
       "             iid='deprecated', n_jobs=None, param_grid={'max_depth': (None,)},\n",
       "             pre_dispatch='2*n_jobs', refit=True, return_train_score=False,\n",
       "             scoring='f1_weighted', verbose=0)"
      ]
     },
     "execution_count": 72,
     "metadata": {},
     "output_type": "execute_result"
    }
   ],
   "source": [
    "parameters = {'max_depth':(None,)}#3,5,8)}\n",
    "# sorted(sklearn.metrics.SCORERS.keys())\n",
    "scoring = 'f1_weighted'\n",
    "rf = RandomForestClassifier(n_estimators=200, random_state=123,class_weight=\"balanced\")\n",
    "\n",
    "try:\n",
    "    clf2 = load(\"random_forest.joblib\")\n",
    "except FileNotFoundError:\n",
    "    clf2 = GridSearchCV(rf, parameters, cv=4,scoring=scoring)\n",
    "    \n",
    "clf2.fit(X_train, y_train)\n",
    "dump(clf7,\"random_forest.joblib\")"
   ]
  },
  {
   "cell_type": "code",
   "execution_count": 73,
   "metadata": {},
   "outputs": [
    {
     "name": "stdout",
     "output_type": "stream",
     "text": [
      "RandomForestClassifier(bootstrap=True, ccp_alpha=0.0, class_weight='balanced',\n",
      "                       criterion='gini', max_depth=None, max_features='auto',\n",
      "                       max_leaf_nodes=None, max_samples=None,\n",
      "                       min_impurity_decrease=0.0, min_impurity_split=None,\n",
      "                       min_samples_leaf=1, min_samples_split=2,\n",
      "                       min_weight_fraction_leaf=0.0, n_estimators=200,\n",
      "                       n_jobs=None, oob_score=False, random_state=123,\n",
      "                       verbose=0, warm_start=False)\n"
     ]
    },
    {
     "data": {
      "text/plain": [
       "0.7005354998603699"
      ]
     },
     "execution_count": 73,
     "metadata": {},
     "output_type": "execute_result"
    }
   ],
   "source": [
    "print(clf2.best_estimator_)\n",
    "clf2.best_score_"
   ]
  },
  {
   "cell_type": "code",
   "execution_count": 74,
   "metadata": {},
   "outputs": [
    {
     "data": {
      "text/plain": [
       "0.743841485183863"
      ]
     },
     "execution_count": 74,
     "metadata": {},
     "output_type": "execute_result"
    }
   ],
   "source": [
    "clf2.best_estimator_.score(X_test, y_test)"
   ]
  },
  {
   "cell_type": "code",
   "execution_count": 75,
   "metadata": {},
   "outputs": [
    {
     "data": {
      "text/plain": [
       "0.9693877551020408"
      ]
     },
     "execution_count": 75,
     "metadata": {},
     "output_type": "execute_result"
    }
   ],
   "source": [
    "proba_score = threshold_classification(clf2,X_test,y_test,threshold=threshold)\n",
    "proba_score"
   ]
  },
  {
   "cell_type": "code",
   "execution_count": 76,
   "metadata": {},
   "outputs": [
    {
     "name": "stderr",
     "output_type": "stream",
     "text": [
      "C:\\Users\\TEMP.PKAPRIME.000.001\\AppData\\Local\\conda\\conda\\envs\\recipe_env\\lib\\site-packages\\ipykernel_launcher.py:17: UserWarning: Matplotlib is currently using module://ipykernel.pylab.backend_inline, which is a non-GUI backend, so cannot show the figure.\n"
     ]
    },
    {
     "data": {
      "image/png": "[encoded data removed]",
      "text/plain": [
       "<Figure size 720x720 with 2 Axes>"
      ]
     },
     "metadata": {
      "needs_background": "light"
     },
     "output_type": "display_data"
    }
   ],
   "source": [
    "%matplotlib inline\n",
    "y_pred = clf2.predict(X_test)\n",
    "confusion_matrix_plot(y_pred, y_test,os.path.join(RESULTS_FOLDER,'random_forest.png'),\"Random Forest\")"
   ]
  },
  {
   "cell_type": "code",
   "execution_count": 77,
   "metadata": {},
   "outputs": [
    {
     "name": "stdout",
     "output_type": "stream",
     "text": [
      "[0.743841485183863, 0.3379043806341406, 0.716699944615536, 0.743841485183863, 0.7114454645890785]\n"
     ]
    }
   ],
   "source": [
    "res=[accuracy_score(y_test,y_pred),balanced_accuracy_score(y_test,y_pred),precision_score(y_test,y_pred,average='weighted'),recall_score(y_test,y_pred,average='weighted'),f1_score(y_test,y_pred,average='weighted')]\n",
    "\n",
    "with open(results_file,\"a\", newline='') as f:\n",
    "    writer = csv.writer(f, delimiter=';')\n",
    "    writer.writerow([\"random forest\",clf2.best_estimator_,clf2.best_score_,threshold,proba_score]+res)\n",
    "    \n",
    "print(res)"
   ]
  },
  {
   "cell_type": "code",
   "execution_count": 78,
   "metadata": {},
   "outputs": [],
   "source": [
    "classification_report_to_csv(y_test,y_pred,enc,\"Random Forest\",RESULTS_FOLDER)"
   ]
  },
  {
   "cell_type": "code",
   "execution_count": null,
   "metadata": {},
   "outputs": [],
   "source": []
  }
 ],
 "metadata": {
  "kernelspec": {
   "display_name": "Python 3",
   "language": "python",
   "name": "python3"
  },
  "language_info": {
   "codemirror_mode": {
    "name": "ipython",
    "version": 3
   },
   "file_extension": ".py",
   "mimetype": "text/x-python",
   "name": "python",
   "nbconvert_exporter": "python",
   "pygments_lexer": "ipython3",
   "version": "3.6.10"
  }
 },
 "nbformat": 4,
 "nbformat_minor": 2
}
