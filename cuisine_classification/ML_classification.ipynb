{
 "cells": [
  {
   "cell_type": "code",
   "execution_count": 94,
   "metadata": {},
   "outputs": [],
   "source": [
    "import os\n",
    "import pandas as pd\n",
    "import matplotlib.pyplot as plt\n",
    "from collections import Counter\n",
    "import numpy as np\n",
    "\n",
    "import sklearn\n",
    "from sklearn.feature_extraction.text import CountVectorizer\n",
    "from sklearn.preprocessing import LabelEncoder\n",
    "from sklearn.model_selection import train_test_split\n",
    "from sklearn.linear_model import LogisticRegression, SGDClassifier\n",
    "from sklearn.ensemble import RandomForestClassifier\n",
    "from sklearn.neighbors import KNeighborsClassifier\n",
    "from sklearn.metrics import confusion_matrix, accuracy_score, classification_report\n",
    "from sklearn.model_selection import GridSearchCV\n",
    "from sklearn.metrics import f1_score, make_scorer\n",
    "from sklearn.naive_bayes import ComplementNB\n"
   ]
  },
  {
   "cell_type": "code",
   "execution_count": 95,
   "metadata": {},
   "outputs": [],
   "source": [
    "FOLDER_PATH = \"D:\\\\Google Drive\\\\Catherning Folder\\\\THU\\\\Thesis\\\\Recipe datasets\\\\\"\n",
    "DATASET = [\"scirep-cuisines-detail\",\"Yummly28\"]\n",
    "FILES = [\"random_data.pkl\",\"cluster_centroid_data.pkl\",\"full_data.pkl\"]"
   ]
  },
  {
   "cell_type": "code",
   "execution_count": 96,
   "metadata": {},
   "outputs": [
    {
     "data": {
      "text/html": [
       "<div>\n",
       "<style scoped>\n",
       "    .dataframe tbody tr th:only-of-type {\n",
       "        vertical-align: middle;\n",
       "    }\n",
       "\n",
       "    .dataframe tbody tr th {\n",
       "        vertical-align: top;\n",
       "    }\n",
       "\n",
       "    .dataframe thead th {\n",
       "        text-align: right;\n",
       "    }\n",
       "</style>\n",
       "<table border=\"1\" class=\"dataframe\">\n",
       "  <thead>\n",
       "    <tr style=\"text-align: right;\">\n",
       "      <th></th>\n",
       "      <th>level_0</th>\n",
       "      <th>index</th>\n",
       "      <th>id</th>\n",
       "      <th>cuisine</th>\n",
       "      <th>ingredients</th>\n",
       "      <th>all_ingredients</th>\n",
       "    </tr>\n",
       "  </thead>\n",
       "  <tbody>\n",
       "    <tr>\n",
       "      <td>0</td>\n",
       "      <td>0</td>\n",
       "      <td>0</td>\n",
       "      <td>0</td>\n",
       "      <td>Italian</td>\n",
       "      <td>[baby bella mushroom sliced, arborio rice, oli...</td>\n",
       "      <td>baby bella mushroom sliced;arborio rice;olive ...</td>\n",
       "    </tr>\n",
       "    <tr>\n",
       "      <td>1</td>\n",
       "      <td>1</td>\n",
       "      <td>1</td>\n",
       "      <td>1</td>\n",
       "      <td>Barbecue</td>\n",
       "      <td>[pork country style rib fat trimmed, soy sauce...</td>\n",
       "      <td>pork country style rib fat trimmed;soy sauce;w...</td>\n",
       "    </tr>\n",
       "    <tr>\n",
       "      <td>2</td>\n",
       "      <td>2</td>\n",
       "      <td>2</td>\n",
       "      <td>2</td>\n",
       "      <td>Italian</td>\n",
       "      <td>[garlic, extra-virgin olive oil divided, madei...</td>\n",
       "      <td>garlic;extra-virgin olive oil divided;madeira ...</td>\n",
       "    </tr>\n",
       "    <tr>\n",
       "      <td>3</td>\n",
       "      <td>3</td>\n",
       "      <td>3</td>\n",
       "      <td>3</td>\n",
       "      <td>French</td>\n",
       "      <td>[garlic halved, cooking spray, peeled red pota...</td>\n",
       "      <td>garlic halved;cooking spray;peeled red potato;...</td>\n",
       "    </tr>\n",
       "    <tr>\n",
       "      <td>4</td>\n",
       "      <td>4</td>\n",
       "      <td>4</td>\n",
       "      <td>4</td>\n",
       "      <td>Barbecue</td>\n",
       "      <td>[lean ground beef, worcestershire sauce, liqui...</td>\n",
       "      <td>lean ground beef;worcestershire sauce;liquid s...</td>\n",
       "    </tr>\n",
       "    <tr>\n",
       "      <td>...</td>\n",
       "      <td>...</td>\n",
       "      <td>...</td>\n",
       "      <td>...</td>\n",
       "      <td>...</td>\n",
       "      <td>...</td>\n",
       "      <td>...</td>\n",
       "    </tr>\n",
       "    <tr>\n",
       "      <td>17065</td>\n",
       "      <td>27615</td>\n",
       "      <td>27627</td>\n",
       "      <td>27627</td>\n",
       "      <td>Thai</td>\n",
       "      <td>[coconut milk, creamy peanut butter, + yellow ...</td>\n",
       "      <td>coconut milk;creamy peanut butter;+ yellow cur...</td>\n",
       "    </tr>\n",
       "    <tr>\n",
       "      <td>17066</td>\n",
       "      <td>27618</td>\n",
       "      <td>27630</td>\n",
       "      <td>27630</td>\n",
       "      <td>Italian</td>\n",
       "      <td>[linguine, kosher salt, olive oil, garlic chop...</td>\n",
       "      <td>linguine;kosher salt;olive oil;garlic chopped ...</td>\n",
       "    </tr>\n",
       "    <tr>\n",
       "      <td>17067</td>\n",
       "      <td>27621</td>\n",
       "      <td>27633</td>\n",
       "      <td>27633</td>\n",
       "      <td>Italian</td>\n",
       "      <td>[zwiebeln, knoblauchzehen, dose dicke weisse b...</td>\n",
       "      <td>zwiebeln;knoblauchzehen;dose dicke weisse bohn...</td>\n",
       "    </tr>\n",
       "    <tr>\n",
       "      <td>17068</td>\n",
       "      <td>27623</td>\n",
       "      <td>27635</td>\n",
       "      <td>27635</td>\n",
       "      <td>French</td>\n",
       "      <td>[gr. bread flour, ml. water, gr. yeast, gr. st...</td>\n",
       "      <td>gr. bread flour;ml. water;gr. yeast;gr. strong...</td>\n",
       "    </tr>\n",
       "    <tr>\n",
       "      <td>17069</td>\n",
       "      <td>27625</td>\n",
       "      <td>27637</td>\n",
       "      <td>27637</td>\n",
       "      <td>Asian</td>\n",
       "      <td>[dry uncooked jasmine rice, stock, sized nub g...</td>\n",
       "      <td>dry uncooked jasmine rice;stock;sized nub ging...</td>\n",
       "    </tr>\n",
       "  </tbody>\n",
       "</table>\n",
       "<p>17070 rows × 6 columns</p>\n",
       "</div>"
      ],
      "text/plain": [
       "       level_0  index     id   cuisine  \\\n",
       "0            0      0      0   Italian   \n",
       "1            1      1      1  Barbecue   \n",
       "2            2      2      2   Italian   \n",
       "3            3      3      3    French   \n",
       "4            4      4      4  Barbecue   \n",
       "...        ...    ...    ...       ...   \n",
       "17065    27615  27627  27627      Thai   \n",
       "17066    27618  27630  27630   Italian   \n",
       "17067    27621  27633  27633   Italian   \n",
       "17068    27623  27635  27635    French   \n",
       "17069    27625  27637  27637     Asian   \n",
       "\n",
       "                                             ingredients  \\\n",
       "0      [baby bella mushroom sliced, arborio rice, oli...   \n",
       "1      [pork country style rib fat trimmed, soy sauce...   \n",
       "2      [garlic, extra-virgin olive oil divided, madei...   \n",
       "3      [garlic halved, cooking spray, peeled red pota...   \n",
       "4      [lean ground beef, worcestershire sauce, liqui...   \n",
       "...                                                  ...   \n",
       "17065  [coconut milk, creamy peanut butter, + yellow ...   \n",
       "17066  [linguine, kosher salt, olive oil, garlic chop...   \n",
       "17067  [zwiebeln, knoblauchzehen, dose dicke weisse b...   \n",
       "17068  [gr. bread flour, ml. water, gr. yeast, gr. st...   \n",
       "17069  [dry uncooked jasmine rice, stock, sized nub g...   \n",
       "\n",
       "                                         all_ingredients  \n",
       "0      baby bella mushroom sliced;arborio rice;olive ...  \n",
       "1      pork country style rib fat trimmed;soy sauce;w...  \n",
       "2      garlic;extra-virgin olive oil divided;madeira ...  \n",
       "3      garlic halved;cooking spray;peeled red potato;...  \n",
       "4      lean ground beef;worcestershire sauce;liquid s...  \n",
       "...                                                  ...  \n",
       "17065  coconut milk;creamy peanut butter;+ yellow cur...  \n",
       "17066  linguine;kosher salt;olive oil;garlic chopped ...  \n",
       "17067  zwiebeln;knoblauchzehen;dose dicke weisse bohn...  \n",
       "17068  gr. bread flour;ml. water;gr. yeast;gr. strong...  \n",
       "17069  dry uncooked jasmine rice;stock;sized nub ging...  \n",
       "\n",
       "[17070 rows x 6 columns]"
      ]
     },
     "execution_count": 96,
     "metadata": {},
     "output_type": "execute_result"
    }
   ],
   "source": [
    "df_train=pd.read_pickle(os.path.join(FOLDER_PATH,DATASET[1],FILES[0]))\n",
    "df_train=df_train.reset_index()\n",
    "df_train"
   ]
  },
  {
   "cell_type": "code",
   "execution_count": 97,
   "metadata": {},
   "outputs": [],
   "source": [
    "cv = CountVectorizer()\n",
    "X = cv.fit_transform(df_train['all_ingredients'].values)"
   ]
  },
  {
   "cell_type": "markdown",
   "metadata": {},
   "source": [
    "## Processing"
   ]
  },
  {
   "cell_type": "code",
   "execution_count": 98,
   "metadata": {
    "scrolled": true
   },
   "outputs": [
    {
     "name": "stdout",
     "output_type": "stream",
     "text": [
      "['American' 'Asian' 'Barbecue' 'Cajun & Creole' 'Chinese' 'Cuban'\n",
      " 'English_Irish' 'French' 'Greek' 'Indian' 'Italian' 'Japanese'\n",
      " 'Kid-Friendly' 'Mediterranean' 'Mexican' 'Moroccan'\n",
      " 'Southern & Soul Food' 'Southwestern' 'Spanish_Portuguese' 'Thai']\n"
     ]
    },
    {
     "data": {
      "text/plain": [
       "(20,)"
      ]
     },
     "execution_count": 98,
     "metadata": {},
     "output_type": "execute_result"
    }
   ],
   "source": [
    "enc = LabelEncoder()\n",
    "y = enc.fit_transform(df_train.cuisine)\n",
    "print(enc.classes_)\n",
    "enc.classes_.shape"
   ]
  },
  {
   "cell_type": "code",
   "execution_count": 99,
   "metadata": {},
   "outputs": [
    {
     "data": {
      "text/plain": [
       "{0: 235,\n",
       " 1: 391,\n",
       " 2: 68,\n",
       " 3: 4,\n",
       " 4: 53,\n",
       " 5: 6,\n",
       " 6: 3,\n",
       " 7: 313,\n",
       " 8: 16,\n",
       " 9: 291,\n",
       " 10: 914,\n",
       " 11: 2,\n",
       " 12: 192,\n",
       " 13: 14,\n",
       " 14: 679,\n",
       " 15: 2,\n",
       " 16: 30,\n",
       " 17: 120,\n",
       " 18: 12,\n",
       " 19: 69}"
      ]
     },
     "execution_count": 99,
     "metadata": {},
     "output_type": "execute_result"
    }
   ],
   "source": [
    "X_train, X_test, y_train, y_test = train_test_split(X, y, test_size=0.2,stratify=y)\n",
    "unique, counts = np.unique(y_test, return_counts=True)\n",
    "dict(zip(unique, counts))"
   ]
  },
  {
   "cell_type": "markdown",
   "metadata": {},
   "source": [
    "# Logistic Regression"
   ]
  },
  {
   "cell_type": "code",
   "execution_count": 104,
   "metadata": {
    "scrolled": true
   },
   "outputs": [
    {
     "name": "stderr",
     "output_type": "stream",
     "text": [
      "D:\\Applications\\Anaconda3\\envs\\pandas_analysis\\lib\\site-packages\\sklearn\\metrics\\classification.py:1437: UndefinedMetricWarning: F-score is ill-defined and being set to 0.0 in labels with no predicted samples.\n",
      "  'precision', 'predicted', average, warn_for)\n",
      "D:\\Applications\\Anaconda3\\envs\\pandas_analysis\\lib\\site-packages\\sklearn\\metrics\\classification.py:1437: UndefinedMetricWarning: F-score is ill-defined and being set to 0.0 in labels with no predicted samples.\n",
      "  'precision', 'predicted', average, warn_for)\n",
      "D:\\Applications\\Anaconda3\\envs\\pandas_analysis\\lib\\site-packages\\sklearn\\metrics\\classification.py:1437: UndefinedMetricWarning: F-score is ill-defined and being set to 0.0 in labels with no predicted samples.\n",
      "  'precision', 'predicted', average, warn_for)\n",
      "D:\\Applications\\Anaconda3\\envs\\pandas_analysis\\lib\\site-packages\\sklearn\\metrics\\classification.py:1437: UndefinedMetricWarning: F-score is ill-defined and being set to 0.0 in labels with no predicted samples.\n",
      "  'precision', 'predicted', average, warn_for)\n",
      "D:\\Applications\\Anaconda3\\envs\\pandas_analysis\\lib\\site-packages\\sklearn\\metrics\\classification.py:1437: UndefinedMetricWarning: F-score is ill-defined and being set to 0.0 in labels with no predicted samples.\n",
      "  'precision', 'predicted', average, warn_for)\n",
      "D:\\Applications\\Anaconda3\\envs\\pandas_analysis\\lib\\site-packages\\sklearn\\metrics\\classification.py:1437: UndefinedMetricWarning: F-score is ill-defined and being set to 0.0 in labels with no predicted samples.\n",
      "  'precision', 'predicted', average, warn_for)\n",
      "D:\\Applications\\Anaconda3\\envs\\pandas_analysis\\lib\\site-packages\\sklearn\\metrics\\classification.py:1437: UndefinedMetricWarning: F-score is ill-defined and being set to 0.0 in labels with no predicted samples.\n",
      "  'precision', 'predicted', average, warn_for)\n",
      "D:\\Applications\\Anaconda3\\envs\\pandas_analysis\\lib\\site-packages\\sklearn\\metrics\\classification.py:1437: UndefinedMetricWarning: F-score is ill-defined and being set to 0.0 in labels with no predicted samples.\n",
      "  'precision', 'predicted', average, warn_for)\n",
      "D:\\Applications\\Anaconda3\\envs\\pandas_analysis\\lib\\site-packages\\sklearn\\metrics\\classification.py:1437: UndefinedMetricWarning: F-score is ill-defined and being set to 0.0 in labels with no predicted samples.\n",
      "  'precision', 'predicted', average, warn_for)\n",
      "D:\\Applications\\Anaconda3\\envs\\pandas_analysis\\lib\\site-packages\\sklearn\\metrics\\classification.py:1437: UndefinedMetricWarning: F-score is ill-defined and being set to 0.0 in labels with no predicted samples.\n",
      "  'precision', 'predicted', average, warn_for)\n"
     ]
    },
    {
     "data": {
      "text/plain": [
       "GridSearchCV(cv=4, error_score='raise-deprecating',\n",
       "             estimator=LogisticRegression(C=1.0, class_weight='balanced',\n",
       "                                          dual=False, fit_intercept=True,\n",
       "                                          intercept_scaling=1, l1_ratio=None,\n",
       "                                          max_iter=150, multi_class='auto',\n",
       "                                          n_jobs=None, penalty='l2',\n",
       "                                          random_state=None, solver='warn',\n",
       "                                          tol=0.0001, verbose=0,\n",
       "                                          warm_start=True),\n",
       "             iid='warn', n_jobs=None,\n",
       "             param_grid={'C': [0.4, 0.5, 0.6, 0.7, 0.8],\n",
       "                         'solver': ('newton-cg', 'liblinear')},\n",
       "             pre_dispatch='2*n_jobs', refit=True, return_train_score=False,\n",
       "             scoring='f1_weighted', verbose=0)"
      ]
     },
     "execution_count": 104,
     "metadata": {},
     "output_type": "execute_result"
    }
   ],
   "source": [
    "parameters = {'C':[0.4,0.5,0.6,0.7],\n",
    "              'solver' : ('newton-cg', 'liblinear')}\n",
    "# sorted(sklearn.metrics.SCORERS.keys())\n",
    "scoring = 'f1_weighted'\n",
    "logistic = LogisticRegression(class_weight=\"balanced\",multi_class=\"auto\",max_iter=150,warm_start=True)\n",
    "\n",
    "clf = GridSearchCV(logistic, parameters, cv=4,scoring=scoring)\n",
    "clf.fit(X_train, y_train)"
   ]
  },
  {
   "cell_type": "markdown",
   "metadata": {},
   "source": [
    "## Results"
   ]
  },
  {
   "cell_type": "code",
   "execution_count": 105,
   "metadata": {},
   "outputs": [
    {
     "name": "stdout",
     "output_type": "stream",
     "text": [
      "LogisticRegression(C=0.4, class_weight='balanced', dual=False,\n",
      "                   fit_intercept=True, intercept_scaling=1, l1_ratio=None,\n",
      "                   max_iter=150, multi_class='auto', n_jobs=None, penalty='l2',\n",
      "                   random_state=None, solver='liblinear', tol=0.0001, verbose=0,\n",
      "                   warm_start=True)\n"
     ]
    },
    {
     "data": {
      "text/plain": [
       "0.7651830167269693"
      ]
     },
     "execution_count": 105,
     "metadata": {},
     "output_type": "execute_result"
    }
   ],
   "source": [
    "# pd.DataFrame(clf.cv_results_)\n",
    "print(clf.best_estimator_)\n",
    "clf.best_score_\n",
    "# LogisticRegression(C=0.6, class_weight='balanced', dual=False,\n",
    "#                    fit_intercept=True, intercept_scaling=1, l1_ratio=None,\n",
    "#                    max_iter=150, multi_class='auto', n_jobs=None, penalty='l2',\n",
    "#                    random_state=None, solver='liblinear', tol=0.0001, verbose=0,\n",
    "#                    warm_start=True)\n",
    "\n",
    "# LogisticRegression(C=0.4, class_weight='balanced', dual=False,\n",
    "#                    fit_intercept=True, intercept_scaling=1, l1_ratio=None,\n",
    "#                    max_iter=150, multi_class='auto', n_jobs=None, penalty='l2',\n",
    "#                    random_state=None, solver='liblinear', tol=0.0001, verbose=0,\n",
    "#                    warm_start=True)"
   ]
  },
  {
   "cell_type": "code",
   "execution_count": 106,
   "metadata": {},
   "outputs": [
    {
     "data": {
      "text/plain": [
       "0.7539543057996485"
      ]
     },
     "execution_count": 106,
     "metadata": {},
     "output_type": "execute_result"
    }
   ],
   "source": [
    "clf.best_estimator_.score(X_test, y_test)"
   ]
  },
  {
   "cell_type": "code",
   "execution_count": 107,
   "metadata": {},
   "outputs": [
    {
     "name": "stdout",
     "output_type": "stream",
     "text": [
      "2120 3414\n",
      "0.9412673879443586\n"
     ]
    }
   ],
   "source": [
    "# For future predictions, get proba and only classifies if proba is higher than threshold\n",
    "\n",
    "threshold = 0.85\n",
    "y_pred_prob = clf.best_estimator_.predict_proba(X_test)\n",
    "max_prob = y_pred_prob.max(axis=1)\n",
    "y_pred = y_pred_prob.argmax(axis=1)\n",
    "        \n",
    "to_del = np.argwhere(max_prob < threshold).T[0]\n",
    "\n",
    "partial_y_pred = np.delete(y_pred,to_del)\n",
    "partial_y_test = np.delete(y_test,to_del)\n",
    "\n",
    "print(len(to_del),len(y_pred))\n",
    "print(accuracy_score(partial_y_test,partial_y_pred)) #0.9373983739837398"
   ]
  },
  {
   "cell_type": "code",
   "execution_count": 108,
   "metadata": {},
   "outputs": [],
   "source": [
    "def confusion_matrix_plot(y_pred,y_labels):\n",
    "    plt.figure(figsize=(10, 10))\n",
    "\n",
    "    cm = confusion_matrix(y_labels, y_pred)\n",
    "    cm_normalized = cm.astype('float') / cm.sum(axis=1)[:, np.newaxis]\n",
    "\n",
    "    plt.imshow(cm_normalized, interpolation='nearest')\n",
    "    plt.title(\"confusion matrix\")\n",
    "    plt.colorbar(shrink=0.3)\n",
    "    cuisines = df_train['cuisine'].value_counts().index\n",
    "    tick_marks = np.arange(len(cuisines))\n",
    "    plt.xticks(tick_marks, enc.classes_, rotation=90)\n",
    "    plt.yticks(tick_marks, enc.classes_)\n",
    "    plt.tight_layout()\n",
    "    plt.ylabel('True label')\n",
    "    plt.xlabel('Predicted label')"
   ]
  },
  {
   "cell_type": "code",
   "execution_count": 109,
   "metadata": {},
   "outputs": [
    {
     "data": {
      "image/png": "[encoded data removed]",
      "text/plain": [
       "<Figure size 720x720 with 2 Axes>"
      ]
     },
     "metadata": {
      "needs_background": "light"
     },
     "output_type": "display_data"
    }
   ],
   "source": [
    "y_pred = clf.best_estimator_.predict(X_test)\n",
    "confusion_matrix_plot(y_pred, y_test)"
   ]
  },
  {
   "cell_type": "code",
   "execution_count": 110,
   "metadata": {},
   "outputs": [
    {
     "name": "stdout",
     "output_type": "stream",
     "text": [
      "                      precision    recall  f1-score   support\n",
      "\n",
      "            American       0.50      0.41      0.45       235\n",
      "               Asian       0.77      0.64      0.70       391\n",
      "            Barbecue       0.48      0.68      0.56        68\n",
      "      Cajun & Creole       0.00      0.00      0.00         4\n",
      "             Chinese       0.26      0.32      0.29        53\n",
      "               Cuban       0.17      0.17      0.17         6\n",
      "       English_Irish       0.17      0.33      0.22         3\n",
      "              French       0.77      0.83      0.80       313\n",
      "               Greek       0.32      0.44      0.37        16\n",
      "              Indian       0.86      0.92      0.89       291\n",
      "             Italian       0.93      0.90      0.92       914\n",
      "            Japanese       0.00      0.00      0.00         2\n",
      "        Kid-Friendly       0.65      0.64      0.64       192\n",
      "       Mediterranean       0.08      0.14      0.10        14\n",
      "             Mexican       0.87      0.84      0.86       679\n",
      "            Moroccan       0.00      0.00      0.00         2\n",
      "Southern & Soul Food       0.24      0.40      0.30        30\n",
      "        Southwestern       0.41      0.43      0.42       120\n",
      "  Spanish_Portuguese       0.15      0.25      0.19        12\n",
      "                Thai       0.46      0.59      0.52        69\n",
      "\n",
      "            accuracy                           0.75      3414\n",
      "           macro avg       0.40      0.45      0.42      3414\n",
      "        weighted avg       0.77      0.75      0.76      3414\n",
      "\n"
     ]
    },
    {
     "name": "stderr",
     "output_type": "stream",
     "text": [
      "D:\\Applications\\Anaconda3\\envs\\pandas_analysis\\lib\\site-packages\\sklearn\\metrics\\classification.py:1437: UndefinedMetricWarning: Precision and F-score are ill-defined and being set to 0.0 in labels with no predicted samples.\n",
      "  'precision', 'predicted', average, warn_for)\n"
     ]
    }
   ],
   "source": [
    "print(classification_report(y_test, y_pred, labels=[i for i in range(enc.classes_.shape[0])], target_names=enc.classes_))"
   ]
  },
  {
   "cell_type": "markdown",
   "metadata": {},
   "source": [
    "# Random Forest\n",
    "\n",
    "much slower and a bit worse"
   ]
  },
  {
   "cell_type": "code",
   "execution_count": 35,
   "metadata": {},
   "outputs": [
    {
     "name": "stderr",
     "output_type": "stream",
     "text": [
      "D:\\Applications\\Anaconda3\\envs\\pandas_analysis\\lib\\site-packages\\sklearn\\metrics\\classification.py:1437: UndefinedMetricWarning: F-score is ill-defined and being set to 0.0 in labels with no predicted samples.\n",
      "  'precision', 'predicted', average, warn_for)\n",
      "D:\\Applications\\Anaconda3\\envs\\pandas_analysis\\lib\\site-packages\\sklearn\\metrics\\classification.py:1437: UndefinedMetricWarning: F-score is ill-defined and being set to 0.0 in labels with no predicted samples.\n",
      "  'precision', 'predicted', average, warn_for)\n",
      "D:\\Applications\\Anaconda3\\envs\\pandas_analysis\\lib\\site-packages\\sklearn\\metrics\\classification.py:1437: UndefinedMetricWarning: F-score is ill-defined and being set to 0.0 in labels with no predicted samples.\n",
      "  'precision', 'predicted', average, warn_for)\n",
      "D:\\Applications\\Anaconda3\\envs\\pandas_analysis\\lib\\site-packages\\sklearn\\metrics\\classification.py:1437: UndefinedMetricWarning: F-score is ill-defined and being set to 0.0 in labels with no predicted samples.\n",
      "  'precision', 'predicted', average, warn_for)\n",
      "D:\\Applications\\Anaconda3\\envs\\pandas_analysis\\lib\\site-packages\\sklearn\\metrics\\classification.py:1437: UndefinedMetricWarning: F-score is ill-defined and being set to 0.0 in labels with no predicted samples.\n",
      "  'precision', 'predicted', average, warn_for)\n",
      "D:\\Applications\\Anaconda3\\envs\\pandas_analysis\\lib\\site-packages\\sklearn\\metrics\\classification.py:1437: UndefinedMetricWarning: F-score is ill-defined and being set to 0.0 in labels with no predicted samples.\n",
      "  'precision', 'predicted', average, warn_for)\n"
     ]
    },
    {
     "data": {
      "text/plain": [
       "GridSearchCV(cv=4, error_score='raise-deprecating',\n",
       "             estimator=RandomForestClassifier(bootstrap=True,\n",
       "                                              class_weight='balanced',\n",
       "                                              criterion='gini', max_depth=None,\n",
       "                                              max_features='auto',\n",
       "                                              max_leaf_nodes=None,\n",
       "                                              min_impurity_decrease=0.0,\n",
       "                                              min_impurity_split=None,\n",
       "                                              min_samples_leaf=1,\n",
       "                                              min_samples_split=2,\n",
       "                                              min_weight_fraction_leaf=0.0,\n",
       "                                              n_estimators=200, n_jobs=None,\n",
       "                                              oob_score=False, random_state=123,\n",
       "                                              verbose=0, warm_start=False),\n",
       "             iid='warn', n_jobs=None, param_grid={'max_depth': (None, 3, 5, 8)},\n",
       "             pre_dispatch='2*n_jobs', refit=True, return_train_score=False,\n",
       "             scoring='f1_weighted', verbose=0)"
      ]
     },
     "execution_count": 35,
     "metadata": {},
     "output_type": "execute_result"
    }
   ],
   "source": [
    "parameters = {'max_depth':(None,3,5,8)}\n",
    "# sorted(sklearn.metrics.SCORERS.keys())\n",
    "scoring = 'f1_weighted'\n",
    "rf = RandomForestClassifier(n_estimators=200, random_state=123,class_weight=\"balanced\")\n",
    "\n",
    "clf = GridSearchCV(rf, parameters, cv=4,scoring=scoring)\n",
    "clf.fit(X_train, y_train)"
   ]
  },
  {
   "cell_type": "code",
   "execution_count": 36,
   "metadata": {},
   "outputs": [
    {
     "name": "stdout",
     "output_type": "stream",
     "text": [
      "RandomForestClassifier(bootstrap=True, class_weight='balanced',\n",
      "                       criterion='gini', max_depth=None, max_features='auto',\n",
      "                       max_leaf_nodes=None, min_impurity_decrease=0.0,\n",
      "                       min_impurity_split=None, min_samples_leaf=1,\n",
      "                       min_samples_split=2, min_weight_fraction_leaf=0.0,\n",
      "                       n_estimators=200, n_jobs=None, oob_score=False,\n",
      "                       random_state=123, verbose=0, warm_start=False)\n"
     ]
    },
    {
     "data": {
      "text/plain": [
       "0.7115365955530623"
      ]
     },
     "execution_count": 36,
     "metadata": {},
     "output_type": "execute_result"
    }
   ],
   "source": [
    "print(clf.best_estimator_)\n",
    "clf.best_score_"
   ]
  },
  {
   "cell_type": "code",
   "execution_count": 37,
   "metadata": {},
   "outputs": [
    {
     "data": {
      "text/plain": [
       "0.7605717689100655"
      ]
     },
     "execution_count": 37,
     "metadata": {},
     "output_type": "execute_result"
    }
   ],
   "source": [
    "clf.best_estimator_.score(X_test, y_test)"
   ]
  },
  {
   "cell_type": "markdown",
   "metadata": {},
   "source": [
    "## Results"
   ]
  },
  {
   "cell_type": "code",
   "execution_count": 38,
   "metadata": {},
   "outputs": [
    {
     "data": {
      "image/png": "[encoded data removed]",
      "text/plain": [
       "<Figure size 720x720 with 2 Axes>"
      ]
     },
     "metadata": {
      "needs_background": "light"
     },
     "output_type": "display_data"
    }
   ],
   "source": [
    "y_pred = clf.predict(X_test)\n",
    "confusion_matrix_plot(y_pred, y_test)"
   ]
  },
  {
   "cell_type": "code",
   "execution_count": 39,
   "metadata": {},
   "outputs": [
    {
     "name": "stdout",
     "output_type": "stream",
     "text": [
      "                      precision    recall  f1-score   support\n",
      "\n",
      "            American       0.62      0.20      0.31       178\n",
      "               Asian       0.71      0.83      0.76       391\n",
      "            Barbecue       0.89      0.37      0.52        68\n",
      "      Cajun & Creole       0.00      0.00      0.00         4\n",
      "             Chinese       0.71      0.09      0.17        53\n",
      "               Cuban       0.00      0.00      0.00         6\n",
      "       English_Irish       0.00      0.00      0.00         3\n",
      "              French       0.75      0.71      0.73       313\n",
      "               Greek       1.00      0.06      0.12        16\n",
      "              Indian       0.82      0.95      0.88       292\n",
      "             Italian       0.76      0.98      0.85       914\n",
      "            Japanese       0.00      0.00      0.00         2\n",
      "        Kid-Friendly       0.81      0.49      0.61       192\n",
      "       Mediterranean       0.00      0.00      0.00        14\n",
      "             Mexican       0.77      0.97      0.86       679\n",
      "            Moroccan       0.00      0.00      0.00         2\n",
      "Southern & Soul Food       0.50      0.03      0.06        30\n",
      "        Southwestern       1.00      0.06      0.11       120\n",
      "  Spanish_Portuguese       0.00      0.00      0.00        12\n",
      "                Thai       0.85      0.16      0.27        69\n",
      "\n",
      "           micro avg       0.76      0.76      0.76      3358\n",
      "           macro avg       0.15      0.09      0.09      3358\n",
      "        weighted avg       0.76      0.76      0.71      3358\n",
      "\n"
     ]
    },
    {
     "name": "stderr",
     "output_type": "stream",
     "text": [
      "D:\\Applications\\Anaconda3\\envs\\pandas_analysis\\lib\\site-packages\\sklearn\\metrics\\classification.py:1870: UserWarning: labels size, 69, does not match size of target_names, 20\n",
      "  .format(len(labels), len(target_names))\n",
      "D:\\Applications\\Anaconda3\\envs\\pandas_analysis\\lib\\site-packages\\sklearn\\metrics\\classification.py:1437: UndefinedMetricWarning: Precision and F-score are ill-defined and being set to 0.0 in labels with no predicted samples.\n",
      "  'precision', 'predicted', average, warn_for)\n",
      "D:\\Applications\\Anaconda3\\envs\\pandas_analysis\\lib\\site-packages\\sklearn\\metrics\\classification.py:1439: UndefinedMetricWarning: Recall and F-score are ill-defined and being set to 0.0 in labels with no true samples.\n",
      "  'recall', 'true', average, warn_for)\n"
     ]
    }
   ],
   "source": [
    "y_pred = clf.predict(X_test)\n",
    "print(classification_report(y_test, y_pred, labels=[i for i in range(enc.classes_.shape[0])], target_names=enc.classes_))"
   ]
  },
  {
   "cell_type": "markdown",
   "metadata": {},
   "source": [
    "# SVM"
   ]
  },
  {
   "cell_type": "code",
   "execution_count": 40,
   "metadata": {},
   "outputs": [
    {
     "name": "stderr",
     "output_type": "stream",
     "text": [
      "D:\\Applications\\Anaconda3\\envs\\pandas_analysis\\lib\\site-packages\\sklearn\\metrics\\classification.py:1437: UndefinedMetricWarning: F-score is ill-defined and being set to 0.0 in labels with no predicted samples.\n",
      "  'precision', 'predicted', average, warn_for)\n"
     ]
    },
    {
     "data": {
      "text/plain": [
       "GridSearchCV(cv=4, error_score='raise-deprecating',\n",
       "             estimator=SGDClassifier(alpha=0.0001, average=False,\n",
       "                                     class_weight='balanced',\n",
       "                                     early_stopping=True, epsilon=0.1, eta0=0.0,\n",
       "                                     fit_intercept=True, l1_ratio=0.15,\n",
       "                                     learning_rate='optimal', loss='hinge',\n",
       "                                     max_iter=1000, n_iter_no_change=5,\n",
       "                                     n_jobs=None, penalty='l2', power_t=0.5,\n",
       "                                     random_state=None, shuffle=True, tol=0.001,\n",
       "                                     validation_fraction=0.1, verbose=0,\n",
       "                                     warm_start=True),\n",
       "             iid='warn', n_jobs=None,\n",
       "             param_grid={'loss': ('hinge', 'log', 'modified_huber',\n",
       "                                  'squared_hinge', 'perceptron')},\n",
       "             pre_dispatch='2*n_jobs', refit=True, return_train_score=False,\n",
       "             scoring='f1_weighted', verbose=0)"
      ]
     },
     "execution_count": 40,
     "metadata": {},
     "output_type": "execute_result"
    }
   ],
   "source": [
    "parameters = {'loss':('hinge', 'log', 'modified_huber', 'squared_hinge', 'perceptron')\n",
    "              }\n",
    "# sorted(sklearn.metrics.SCORERS.keys())\n",
    "scoring = 'f1_weighted'\n",
    "sgd = SGDClassifier(class_weight=\"balanced\",early_stopping=True,warm_start=True)\n",
    "\n",
    "clf = GridSearchCV(sgd, parameters, cv=4,scoring=scoring)\n",
    "clf.fit(X_train, y_train)"
   ]
  },
  {
   "cell_type": "code",
   "execution_count": 41,
   "metadata": {},
   "outputs": [
    {
     "name": "stdout",
     "output_type": "stream",
     "text": [
      "SGDClassifier(alpha=0.0001, average=False, class_weight='balanced',\n",
      "              early_stopping=True, epsilon=0.1, eta0=0.0, fit_intercept=True,\n",
      "              l1_ratio=0.15, learning_rate='optimal', loss='log', max_iter=1000,\n",
      "              n_iter_no_change=5, n_jobs=None, penalty='l2', power_t=0.5,\n",
      "              random_state=None, shuffle=True, tol=0.001,\n",
      "              validation_fraction=0.1, verbose=0, warm_start=True)\n"
     ]
    },
    {
     "data": {
      "text/plain": [
       "0.7136842143219347"
      ]
     },
     "execution_count": 41,
     "metadata": {},
     "output_type": "execute_result"
    }
   ],
   "source": [
    "print(clf.best_estimator_)\n",
    "clf.best_score_"
   ]
  },
  {
   "cell_type": "code",
   "execution_count": 42,
   "metadata": {},
   "outputs": [
    {
     "data": {
      "text/plain": [
       "0.7129243597379392"
      ]
     },
     "execution_count": 42,
     "metadata": {},
     "output_type": "execute_result"
    }
   ],
   "source": [
    "clf.best_estimator_.score(X_test, y_test)"
   ]
  },
  {
   "cell_type": "code",
   "execution_count": 43,
   "metadata": {},
   "outputs": [
    {
     "data": {
      "image/png": "[encoded data removed]",
      "text/plain": [
       "<Figure size 720x720 with 2 Axes>"
      ]
     },
     "metadata": {
      "needs_background": "light"
     },
     "output_type": "display_data"
    }
   ],
   "source": [
    "y_pred = clf.predict(X_test)\n",
    "confusion_matrix_plot(y_pred, y_test)"
   ]
  },
  {
   "cell_type": "code",
   "execution_count": 44,
   "metadata": {},
   "outputs": [
    {
     "name": "stdout",
     "output_type": "stream",
     "text": [
      "                      precision    recall  f1-score   support\n",
      "\n",
      "            American       0.51      0.28      0.36       178\n",
      "               Asian       0.75      0.62      0.68       391\n",
      "            Barbecue       0.49      0.53      0.51        68\n",
      "      Cajun & Creole       0.00      0.00      0.00         4\n",
      "             Chinese       0.47      0.26      0.34        53\n",
      "               Cuban       0.08      0.67      0.14         6\n",
      "       English_Irish       0.00      0.00      0.00         3\n",
      "              French       0.70      0.81      0.75       313\n",
      "               Greek       0.33      0.31      0.32        16\n",
      "              Indian       0.78      0.92      0.85       292\n",
      "             Italian       0.92      0.86      0.89       914\n",
      "            Japanese       0.00      0.00      0.00         2\n",
      "        Kid-Friendly       0.46      0.59      0.52       192\n",
      "       Mediterranean       0.17      0.29      0.22        14\n",
      "             Mexican       0.86      0.77      0.81       679\n",
      "            Moroccan       0.00      0.00      0.00         2\n",
      "Southern & Soul Food       0.19      0.27      0.22        30\n",
      "        Southwestern       0.26      0.32      0.29       120\n",
      "  Spanish_Portuguese       0.09      0.17      0.12        12\n",
      "                Thai       0.45      0.61      0.52        69\n",
      "\n",
      "           micro avg       0.71      0.71      0.71      3358\n",
      "           macro avg       0.11      0.12      0.11      3358\n",
      "        weighted avg       0.74      0.71      0.72      3358\n",
      "\n"
     ]
    },
    {
     "name": "stderr",
     "output_type": "stream",
     "text": [
      "D:\\Applications\\Anaconda3\\envs\\pandas_analysis\\lib\\site-packages\\sklearn\\metrics\\classification.py:1870: UserWarning: labels size, 69, does not match size of target_names, 20\n",
      "  .format(len(labels), len(target_names))\n",
      "D:\\Applications\\Anaconda3\\envs\\pandas_analysis\\lib\\site-packages\\sklearn\\metrics\\classification.py:1437: UndefinedMetricWarning: Precision and F-score are ill-defined and being set to 0.0 in labels with no predicted samples.\n",
      "  'precision', 'predicted', average, warn_for)\n",
      "D:\\Applications\\Anaconda3\\envs\\pandas_analysis\\lib\\site-packages\\sklearn\\metrics\\classification.py:1439: UndefinedMetricWarning: Recall and F-score are ill-defined and being set to 0.0 in labels with no true samples.\n",
      "  'recall', 'true', average, warn_for)\n"
     ]
    }
   ],
   "source": [
    "y_pred = clf.predict(X_test)\n",
    "print(classification_report(y_test, y_pred, labels=[i for i in range(enc.classes_.shape[0])], target_names=enc.classes_))"
   ]
  },
  {
   "cell_type": "markdown",
   "metadata": {},
   "source": [
    "# Naive Bayes"
   ]
  },
  {
   "cell_type": "code",
   "execution_count": 32,
   "metadata": {},
   "outputs": [
    {
     "data": {
      "text/plain": [
       "0.7401874633860575"
      ]
     },
     "execution_count": 32,
     "metadata": {},
     "output_type": "execute_result"
    }
   ],
   "source": [
    "clf = ComplementNB()\n",
    "clf.fit(X_train, y_train)\n",
    "clf.score(X_test,y_test)"
   ]
  },
  {
   "cell_type": "code",
   "execution_count": 33,
   "metadata": {},
   "outputs": [
    {
     "data": {
      "image/png": "[encoded data removed]",
      "text/plain": [
       "<Figure size 720x720 with 2 Axes>"
      ]
     },
     "metadata": {
      "needs_background": "light"
     },
     "output_type": "display_data"
    }
   ],
   "source": [
    "y_pred = clf.predict(X_test)\n",
    "confusion_matrix_plot(y_pred, y_test)"
   ]
  },
  {
   "cell_type": "code",
   "execution_count": 34,
   "metadata": {},
   "outputs": [
    {
     "name": "stdout",
     "output_type": "stream",
     "text": [
      "                      precision    recall  f1-score   support\n",
      "\n",
      "            American       0.57      0.18      0.28       235\n",
      "               Asian       0.67      0.84      0.75       391\n",
      "            Barbecue       1.00      0.09      0.16        68\n",
      "      Cajun & Creole       0.00      0.00      0.00         4\n",
      "             Chinese       0.00      0.00      0.00        53\n",
      "               Cuban       0.00      0.00      0.00         6\n",
      "       English_Irish       0.00      0.00      0.00         3\n",
      "              French       0.68      0.72      0.70       313\n",
      "               Greek       0.00      0.00      0.00        16\n",
      "              Indian       0.78      0.98      0.87       291\n",
      "             Italian       0.78      0.97      0.87       914\n",
      "            Japanese       0.00      0.00      0.00         2\n",
      "        Kid-Friendly       0.69      0.37      0.48       192\n",
      "       Mediterranean       0.00      0.00      0.00        14\n",
      "             Mexican       0.75      0.98      0.85       679\n",
      "            Moroccan       0.00      0.00      0.00         2\n",
      "Southern & Soul Food       0.50      0.03      0.06        30\n",
      "        Southwestern       0.00      0.00      0.00       120\n",
      "  Spanish_Portuguese       0.00      0.00      0.00        12\n",
      "                Thai       0.69      0.16      0.26        69\n",
      "\n",
      "            accuracy                           0.74      3414\n",
      "           macro avg       0.36      0.27      0.26      3414\n",
      "        weighted avg       0.68      0.74      0.68      3414\n",
      "\n"
     ]
    },
    {
     "name": "stderr",
     "output_type": "stream",
     "text": [
      "D:\\Applications\\Anaconda3\\envs\\pandas_analysis\\lib\\site-packages\\sklearn\\metrics\\classification.py:1437: UndefinedMetricWarning: Precision and F-score are ill-defined and being set to 0.0 in labels with no predicted samples.\n",
      "  'precision', 'predicted', average, warn_for)\n"
     ]
    }
   ],
   "source": [
    "print(classification_report(y_test, y_pred, labels=[i for i in range(enc.classes_.shape[0])], target_names=enc.classes_))"
   ]
  },
  {
   "cell_type": "code",
   "execution_count": null,
   "metadata": {},
   "outputs": [],
   "source": []
  },
  {
   "cell_type": "code",
   "execution_count": null,
   "metadata": {},
   "outputs": [],
   "source": []
  }
 ],
 "metadata": {
  "kernelspec": {
   "display_name": "Python 3",
   "language": "python",
   "name": "python3"
  },
  "language_info": {
   "codemirror_mode": {
    "name": "ipython",
    "version": 3
   },
   "file_extension": ".py",
   "mimetype": "text/x-python",
   "name": "python",
   "nbconvert_exporter": "python",
   "pygments_lexer": "ipython3",
   "version": "3.7.4"
  }
 },
 "nbformat": 4,
 "nbformat_minor": 2
}
