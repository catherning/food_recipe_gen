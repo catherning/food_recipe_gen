{
 "cells": [
  {
   "cell_type": "code",
   "execution_count": 19,
   "metadata": {},
   "outputs": [],
   "source": [
    "import torch\n",
    "import pandas as pd\n",
    "import numpy as np\n",
    "from torch.utils.data import Dataset, DataLoader\n",
    "import os\n",
    "import pickle"
   ]
  },
  {
   "cell_type": "code",
   "execution_count": 5,
   "metadata": {},
   "outputs": [],
   "source": [
    "class Vocabulary(object):\n",
    "    \"\"\"Simple vocabulary wrapper.\"\"\"\n",
    "    def __init__(self):\n",
    "        self.word2idx = {}\n",
    "        self.idx2word = {}\n",
    "        self.idx = 0\n",
    "\n",
    "    def add_word(self, word, idx=None):\n",
    "        if idx is None:\n",
    "            if not word in self.word2idx:\n",
    "                self.word2idx[word] = self.idx\n",
    "                self.idx2word[self.idx] = word\n",
    "                self.idx += 1\n",
    "            return self.idx\n",
    "        else:\n",
    "            if not word in self.word2idx:\n",
    "                self.word2idx[word] = idx\n",
    "                if idx in self.idx2word.keys():\n",
    "                    self.idx2word[idx].append(word)\n",
    "                else:\n",
    "                    self.idx2word[idx] = [word]\n",
    "\n",
    "                return idx\n",
    "\n",
    "    def __call__(self, word):\n",
    "        if not word in self.word2idx:\n",
    "            return self.word2idx['<pad>']\n",
    "        return self.word2idx[word]\n",
    "\n",
    "    def __len__(self):\n",
    "        return len(self.idx2word)"
   ]
  },
  {
   "cell_type": "code",
   "execution_count": 6,
   "metadata": {},
   "outputs": [],
   "source": [
    "folder = \"D:\\\\Documents\\\\food_recipe_gen\\\\recipe_1m_analysis\"\n",
    "files = [\"allingrs_count.pkl\",\"allwords_count.pkl\",\"recipe1m_train.pkl\",\n",
    "         \"recipe1m_vocab_ingrs.pkl\",\"recipe1m_vocab_toks.pkl\"]\n",
    "\n",
    "with open(os.path.join(folder,\"data\",files[3]),'rb') as f:\n",
    "    vocab_ingrs=pickle.load(f)\n",
    "\n",
    "with open(os.path.join(folder,\"data\",files[4]),'rb') as f:\n",
    "    vocab_toks=pickle.load(f)"
   ]
  },
  {
   "cell_type": "code",
   "execution_count": 20,
   "metadata": {},
   "outputs": [],
   "source": [
    "class RecipesDataset(Dataset):\n",
    "    \"\"\"Face Landmarks dataset.\"\"\"\n",
    "\n",
    "    def __init__(self, file):\n",
    "        \"\"\"\n",
    "        Args:\n",
    "            file (string): Path to the file\n",
    "        \"\"\"\n",
    "        with open(file,'rb') as f:\n",
    "            self.data=pickle.load(f)\n",
    "\n",
    "    def __len__(self):\n",
    "        return len(self.data)\n",
    "\n",
    "    def __getitem__(self, idx):\n",
    "        if torch.is_tensor(idx):\n",
    "            idx = idx.tolist()\n",
    "        \n",
    "        sample = {'title': self.data[idx][\"title\"], \n",
    "                  'ingredients': self.data[idx][\"ingredients\"],\n",
    "                  'instructions':self.data[idx][\"tokenized\"],}\n",
    "\n",
    "        return sample"
   ]
  },
  {
   "cell_type": "code",
   "execution_count": 22,
   "metadata": {},
   "outputs": [],
   "source": [
    "recipe_dataset=RecipesDataset(os.path.join(folder,\"data\",files[2]))\n",
    "dataset_loader = torch.utils.data.DataLoader(recipe_dataset,\n",
    "                                             batch_size=32, shuffle=True,\n",
    "                                             num_workers=4)"
   ]
  },
  {
   "cell_type": "code",
   "execution_count": 23,
   "metadata": {},
   "outputs": [
    {
     "data": {
      "text/plain": [
       "{'title': ['dilly', 'macaroni', 'salad', 'recipe'],\n",
       " 'ingredients': ['elbow_macaroni',\n",
       "  'american_cheese',\n",
       "  'celery',\n",
       "  'green_peppers',\n",
       "  'pimentos',\n",
       "  'mayonnaise',\n",
       "  'vinegar',\n",
       "  'salt',\n",
       "  'dry_dill_weed'],\n",
       " 'instructions': [['cook',\n",
       "   'macaroni',\n",
       "   'according',\n",
       "   'to',\n",
       "   'package',\n",
       "   'directions',\n",
       "   ';',\n",
       "   'drain',\n",
       "   'well',\n",
       "   '.'],\n",
       "  ['cold', '.'],\n",
       "  ['combine',\n",
       "   'macaroni',\n",
       "   ',',\n",
       "   'cheese',\n",
       "   'cubes',\n",
       "   ',',\n",
       "   'celery',\n",
       "   ',',\n",
       "   'green',\n",
       "   'pepper',\n",
       "   'and',\n",
       "   'pimento',\n",
       "   '.'],\n",
       "  ['blend',\n",
       "   'together',\n",
       "   'mayonnaise',\n",
       "   'or',\n",
       "   'possibly',\n",
       "   'salad',\n",
       "   'dressing',\n",
       "   ',',\n",
       "   'vinegar',\n",
       "   ',',\n",
       "   'salt',\n",
       "   'and',\n",
       "   'dill',\n",
       "   'weed',\n",
       "   ';',\n",
       "   'add',\n",
       "   'in',\n",
       "   'to',\n",
       "   'macaroni',\n",
       "   'mix',\n",
       "   '.'],\n",
       "  ['toss', 'lightly', '.'],\n",
       "  ['cover', 'and', 'refrigeratewell', '.'],\n",
       "  ['serve',\n",
       "   'salad',\n",
       "   'in',\n",
       "   'lettuce',\n",
       "   'lined',\n",
       "   'bowl',\n",
       "   'if',\n",
       "   'you',\n",
       "   'like',\n",
       "   '.'],\n",
       "  ['makes', '6', 'servings', '.']]}"
      ]
     },
     "execution_count": 23,
     "metadata": {},
     "output_type": "execute_result"
    }
   ],
   "source": [
    "recipe_dataset[0]"
   ]
  },
  {
   "cell_type": "code",
   "execution_count": null,
   "metadata": {},
   "outputs": [],
   "source": []
  }
 ],
 "metadata": {
  "kernelspec": {
   "display_name": "Python 3",
   "language": "python",
   "name": "python3"
  },
  "language_info": {
   "codemirror_mode": {
    "name": "ipython",
    "version": 3
   },
   "file_extension": ".py",
   "mimetype": "text/x-python",
   "name": "python",
   "nbconvert_exporter": "python",
   "pygments_lexer": "ipython3",
   "version": "3.7.4"
  }
 },
 "nbformat": 4,
 "nbformat_minor": 2
}
