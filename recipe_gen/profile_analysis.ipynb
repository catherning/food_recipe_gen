{
 "cells": [
  {
   "cell_type": "code",
   "execution_count": 1,
   "metadata": {},
   "outputs": [],
   "source": [
    "import pstats\n",
    "import os"
   ]
  },
  {
   "cell_type": "code",
   "execution_count": 37,
   "metadata": {},
   "outputs": [],
   "source": [
    "def printStats(model,obj):\n",
    "    p = pstats.Stats(os.path.join(os.getcwd(),\"profiles\",'prof{}.txt'.format(model)))\n",
    "    p.strip_dirs().sort_stats(\"time\").print_stats(obj,10)"
   ]
  },
  {
   "cell_type": "code",
   "execution_count": 38,
   "metadata": {},
   "outputs": [
    {
     "name": "stdout",
     "output_type": "stream",
     "text": [
      "Fri Apr 10 18:24:10 2020    C:\\Users\\TEMP.PKAPRIME.000.001\\Documents\\food_recipe\\recipe_gen\\profiles\\profSeq2seq.txt\n",
      "\n",
      "         23526744 function calls (23188938 primitive calls) in 709.081 seconds\n",
      "\n",
      "   Ordered by: internal time\n",
      "   List reduced from 9519 to 10 due to restriction <'forward'>\n",
      "\n",
      "   ncalls  tottime  percall  cumtime  percall filename:lineno(function)\n",
      "    99878    9.031    0.000  478.039    0.005 seq2seq_model.py:160(forwardDecoderStep)\n",
      "    99878    3.232    0.000   65.536    0.001 network.py:73(forward)\n",
      "      999    2.660    0.003  490.311    0.491 seq2seq_model.py:170(forward)\n",
      "      999    1.378    0.001    7.426    0.007 network.py:39(forward_all)\n",
      "   109868    0.848    0.000   38.853    0.000 rnn.py:690(forward)\n",
      "   109868    0.273    0.000    9.013    0.000 sparse.py:111(forward)\n",
      "   100877    0.262    0.000    9.380    0.000 linear.py:86(forward)\n",
      "   109868    0.170    0.000    0.595    0.000 rnn.py:178(check_forward_args)\n",
      "     9990    0.063    0.000    5.296    0.001 network.py:25(forward)\n",
      "      999    0.003    0.000    0.154    0.000 loss.py:914(forward)\n",
      "\n",
      "\n"
     ]
    }
   ],
   "source": [
    "printStats(\"Seq2seq\",\"forward\")"
   ]
  },
  {
   "cell_type": "code",
   "execution_count": 39,
   "metadata": {},
   "outputs": [
    {
     "name": "stdout",
     "output_type": "stream",
     "text": [
      "Fri Apr 10 18:39:50 2020    C:\\Users\\TEMP.PKAPRIME.000.001\\Documents\\food_recipe\\recipe_gen\\profiles\\profSeq2seqAtt.txt\n",
      "\n",
      "         28775448 function calls (28037923 primitive calls) in 937.998 seconds\n",
      "\n",
      "   Ordered by: internal time\n",
      "   List reduced from 9530 to 12 due to restriction <'forward'>\n",
      "   List reduced from 12 to 10 due to restriction <10>\n",
      "\n",
      "   ncalls  tottime  percall  cumtime  percall filename:lineno(function)\n",
      "    99900    9.095    0.000  560.419    0.006 seq2seq_model.py:160(forwardDecoderStep)\n",
      "    99900    8.821    0.000   78.277    0.001 network.py:177(forward)\n",
      "    99900    3.226    0.000  137.536    0.001 network.py:96(forward)\n",
      "      999    2.669    0.003  572.666    0.573 seq2seq_model.py:170(forward)\n",
      "      999    1.370    0.001    7.394    0.007 network.py:39(forward_all)\n",
      "   109890    0.778    0.000   38.652    0.000 rnn.py:690(forward)\n",
      "   300699    0.681    0.000   25.573    0.000 linear.py:86(forward)\n",
      "   109890    0.284    0.000    8.963    0.000 sparse.py:111(forward)\n",
      "   109890    0.178    0.000    0.638    0.000 rnn.py:178(check_forward_args)\n",
      "    99900    0.150    0.000    8.080    0.000 dropout.py:53(forward)\n",
      "\n",
      "\n"
     ]
    }
   ],
   "source": [
    "printStats(\"Seq2seqAtt\",\"forward\")"
   ]
  },
  {
   "cell_type": "code",
   "execution_count": 40,
   "metadata": {},
   "outputs": [
    {
     "name": "stdout",
     "output_type": "stream",
     "text": [
      "Fri Apr 10 18:54:52 2020    C:\\Users\\TEMP.PKAPRIME.000.001\\Documents\\food_recipe\\recipe_gen\\profiles\\profSeq2seqIngrAtt.txt\n",
      "\n",
      "         26260767 function calls (25723022 primitive calls) in 901.214 seconds\n",
      "\n",
      "   Ordered by: internal time\n",
      "   List reduced from 9529 to 11 due to restriction <'forward'>\n",
      "   List reduced from 11 to 10 due to restriction <10>\n",
      "\n",
      "   ncalls  tottime  percall  cumtime  percall filename:lineno(function)\n",
      "    99898    9.572    0.000  549.995    0.006 seq2seq_model.py:160(forwardDecoderStep)\n",
      "    99898    8.622    0.000   61.592    0.001 network.py:214(forward)\n",
      "    99898    3.281    0.000  123.405    0.001 network.py:96(forward)\n",
      "      999    2.768    0.003  562.482    0.563 seq2seq_model.py:170(forward)\n",
      "      999    1.416    0.001    7.485    0.007 network.py:39(forward_all)\n",
      "   109888    0.858    0.000   40.629    0.000 rnn.py:690(forward)\n",
      "   200795    0.509    0.000   18.158    0.000 linear.py:86(forward)\n",
      "   109888    0.280    0.000    9.097    0.000 sparse.py:111(forward)\n",
      "   109888    0.184    0.000    0.693    0.000 rnn.py:178(check_forward_args)\n",
      "     9990    0.063    0.000    5.315    0.001 network.py:25(forward)\n",
      "\n",
      "\n"
     ]
    }
   ],
   "source": [
    "printStats(\"Seq2seqIngrAtt\",\"forward\")"
   ]
  },
  {
   "cell_type": "code",
   "execution_count": 41,
   "metadata": {},
   "outputs": [
    {
     "name": "stdout",
     "output_type": "stream",
     "text": [
      "Sat Apr 11 00:18:05 2020    C:\\Users\\TEMP.PKAPRIME.000.001\\Documents\\food_recipe\\recipe_gen\\profiles\\profSeq2seqIngrPairingAtt.txt\n",
      "\n",
      "         63359862 function calls (60624595 primitive calls) in 3778.338 seconds\n",
      "\n",
      "   Ordered by: internal time\n",
      "   List reduced from 9547 to 12 due to restriction <'forward'>\n",
      "   List reduced from 12 to 10 due to restriction <10>\n",
      "\n",
      "   ncalls  tottime  percall  cumtime  percall filename:lineno(function)\n",
      "    99887  438.543    0.004  892.492    0.009 network.py:243(forward)\n",
      "    99887   85.679    0.001 1113.834    0.011 network.py:131(forward)\n",
      "    99887    9.653    0.000 1602.812    0.016 seq2seq_model.py:442(forwardDecoderStep)\n",
      "    99887    8.883    0.000   62.585    0.001 network.py:213(forward)\n",
      "  2198521    5.357    0.000  179.972    0.000 linear.py:86(forward)\n",
      "      999    2.905    0.003 1616.908    1.619 seq2seq_model.py:453(forward)\n",
      "      999    1.598    0.002    8.747    0.009 network.py:38(forward_all)\n",
      "   109877    1.048    0.000   43.241    0.000 rnn.py:690(forward)\n",
      "   209764    0.656    0.000   18.371    0.000 sparse.py:111(forward)\n",
      "   109877    0.211    0.000    0.692    0.000 rnn.py:178(check_forward_args)\n",
      "\n",
      "\n"
     ]
    }
   ],
   "source": [
    "printStats(\"Seq2seqIngrPairingAtt\",\"forward\")"
   ]
  },
  {
   "cell_type": "code",
   "execution_count": 42,
   "metadata": {},
   "outputs": [
    {
     "name": "stdout",
     "output_type": "stream",
     "text": [
      "Fri Apr 10 19:53:47 2020    C:\\Users\\TEMP.PKAPRIME.000.001\\Documents\\food_recipe\\recipe_gen\\profiles\\profSeq2seqIngrPairingAtt - before opt.txt\n",
      "\n",
      "         69787687 function calls (67052232 primitive calls) in 3533.035 seconds\n",
      "\n",
      "   Ordered by: internal time\n",
      "   List reduced from 9535 to 12 due to restriction <'forward'>\n",
      "   List reduced from 12 to 10 due to restriction <10>\n",
      "\n",
      "   ncalls  tottime  percall  cumtime  percall filename:lineno(function)\n",
      "    99894  448.701    0.004  908.578    0.009 network.py:243(forward)\n",
      "    99894   79.640    0.001 1122.331    0.011 network.py:132(forward)\n",
      "    99894    9.330    0.000 1555.865    0.016 seq2seq_model.py:442(forwardDecoderStep)\n",
      "    99894    8.898    0.000   62.807    0.001 network.py:214(forward)\n",
      "  2198674    5.417    0.000  183.569    0.000 linear.py:86(forward)\n",
      "      999    2.810    0.003 1568.920    1.570 seq2seq_model.py:453(forward)\n",
      "      999    1.463    0.001    7.953    0.008 network.py:39(forward_all)\n",
      "   109884    1.018    0.000   41.143    0.000 rnn.py:690(forward)\n",
      "   209778    0.569    0.000   18.139    0.000 sparse.py:111(forward)\n",
      "   109884    0.203    0.000    0.679    0.000 rnn.py:178(check_forward_args)\n",
      "\n",
      "\n"
     ]
    }
   ],
   "source": [
    "printStats(\"Seq2seqIngrPairingAtt - before opt\",\"forward\")"
   ]
  },
  {
   "cell_type": "code",
   "execution_count": 43,
   "metadata": {},
   "outputs": [
    {
     "name": "stdout",
     "output_type": "stream",
     "text": [
      "Sat Apr 11 01:32:19 2020    C:\\Users\\TEMP.PKAPRIME.000.001\\Documents\\food_recipe\\recipe_gen\\profiles\\profSeq2seqIngrPairingAttNew.txt\n",
      "\n",
      "         40292844 function calls (39055649 primitive calls) in 1285.603 seconds\n",
      "\n",
      "   Ordered by: internal time\n",
      "   List reduced from 9534 to 12 due to restriction <'forward'>\n",
      "   List reduced from 12 to 10 due to restriction <10>\n",
      "\n",
      "   ncalls  tottime  percall  cumtime  percall filename:lineno(function)\n",
      "    99900   86.370    0.001  206.447    0.002 network.py:249(forward)\n",
      "    99900   78.860    0.001  449.398    0.004 network.py:131(forward)\n",
      "    99900   13.112    0.000   95.247    0.001 network.py:214(forward)\n",
      "    99900    9.160    0.000  876.810    0.009 seq2seq_model.py:442(forwardDecoderStep)\n",
      "      999    2.733    0.003  889.190    0.890 seq2seq_model.py:453(forward)\n",
      "   700300    1.423    0.000   94.891    0.000 linear.py:86(forward)\n",
      "      999    1.369    0.001    7.393    0.007 network.py:38(forward_all)\n",
      "   109890    0.824    0.000   38.738    0.000 rnn.py:690(forward)\n",
      "   209790    0.476    0.000   17.715    0.000 sparse.py:111(forward)\n",
      "   109890    0.162    0.000    0.621    0.000 rnn.py:178(check_forward_args)\n",
      "\n",
      "\n"
     ]
    }
   ],
   "source": [
    "printStats(\"Seq2seqIngrPairingAttNew\",\"forward\")"
   ]
  },
  {
   "cell_type": "code",
   "execution_count": 44,
   "metadata": {},
   "outputs": [
    {
     "name": "stdout",
     "output_type": "stream",
     "text": [
      "Sat Apr 11 01:32:19 2020    C:\\Users\\TEMP.PKAPRIME.000.001\\Documents\\food_recipe\\recipe_gen\\profiles\\profSeq2seqIngrPairingAttNew.txt\n",
      "\n",
      "         40292844 function calls (39055649 primitive calls) in 1285.603 seconds\n",
      "\n",
      "   Ordered by: internal time\n",
      "   List reduced from 9534 to 10 due to restriction <10>\n",
      "\n",
      "   ncalls  tottime  percall  cumtime  percall filename:lineno(function)\n",
      "      875  361.246    0.413  361.246    0.413 {method 'run_backward' of 'torch._C._EngineBase' objects}\n",
      "    99900  148.132    0.001  248.132    0.002 seq2seq_model.py:109(top_p_filtering)\n",
      "    99900   86.370    0.001  206.447    0.002 network.py:249(forward)\n",
      "   600400   79.118    0.000   79.118    0.000 {method 'matmul' of 'torch._C._TensorBase' objects}\n",
      "    99900   78.860    0.001  449.398    0.004 network.py:131(forward)\n",
      "    99900   66.688    0.001   66.688    0.001 {built-in method sort}\n",
      "    99900   42.143    0.000   42.143    0.000 {method 'logsumexp' of 'torch._C._TensorBase' objects}\n",
      "    99900   38.729    0.000  404.097    0.004 seq2seq_model.py:83(samplek)\n",
      "   109890   36.940    0.000   36.940    0.000 {built-in method gru}\n",
      "  1129751   35.263    0.000   35.263    0.000 {method 'item' of 'torch._C._TensorBase' objects}\n",
      "\n",
      "\n"
     ]
    }
   ],
   "source": [
    "printStats(\"Seq2seqIngrPairingAttNew\",\"\")"
   ]
  },
  {
   "cell_type": "code",
   "execution_count": 45,
   "metadata": {},
   "outputs": [
    {
     "name": "stdout",
     "output_type": "stream",
     "text": [
      "Sat Apr 11 01:10:52 2020    C:\\Users\\TEMP.PKAPRIME.000.001\\Documents\\food_recipe\\recipe_gen\\profiles\\profSeq2seqIngrAttNew.txt\n",
      "\n",
      "         29169585 function calls (28432010 primitive calls) in 977.607 seconds\n",
      "\n",
      "   Ordered by: internal time\n",
      "   List reduced from 9529 to 10 due to restriction <10>\n",
      "\n",
      "   ncalls  tottime  percall  cumtime  percall filename:lineno(function)\n",
      "      875  352.757    0.403  352.757    0.403 {method 'run_backward' of 'torch._C._EngineBase' objects}\n",
      "    99900  148.006    0.001  247.554    0.002 seq2seq_model.py:109(top_p_filtering)\n",
      "    99900   66.581    0.001   66.581    0.001 {built-in method sort}\n",
      "    99900   41.926    0.000   41.926    0.000 {method 'logsumexp' of 'torch._C._TensorBase' objects}\n",
      "   300699   39.884    0.000   39.884    0.000 {method 'matmul' of 'torch._C._TensorBase' objects}\n",
      "    99900   38.215    0.000  402.662    0.004 seq2seq_model.py:83(samplek)\n",
      "   109890   37.440    0.000   37.440    0.000 {built-in method gru}\n",
      "   401046   33.784    0.000   33.784    0.000 {method 'item' of 'torch._C._TensorBase' objects}\n",
      "   299700   21.638    0.000   21.638    0.000 {method 'softmax' of 'torch._C._TensorBase' objects}\n",
      "    99900   13.054    0.000   95.261    0.001 network.py:214(forward)\n",
      "\n",
      "\n"
     ]
    }
   ],
   "source": [
    "printStats(\"Seq2seqIngrAttNew\",\"\")"
   ]
  },
  {
   "cell_type": "code",
   "execution_count": 46,
   "metadata": {},
   "outputs": [
    {
     "name": "stdout",
     "output_type": "stream",
     "text": [
      "Sat Apr 11 11:47:52 2020    C:\\Users\\TEMP.PKAPRIME.000.001\\Documents\\food_recipe\\recipe_gen\\profiles\\profSeq2seqAttNew.txt\n",
      "\n",
      "         28777582 function calls (28040057 primitive calls) in 1272.958 seconds\n",
      "\n",
      "   Ordered by: internal time\n",
      "   List reduced from 9541 to 10 due to restriction <10>\n",
      "\n",
      "   ncalls  tottime  percall  cumtime  percall filename:lineno(function)\n",
      "      875  383.721    0.439  383.721    0.439 {method 'run_backward' of 'torch._C._EngineBase' objects}\n",
      "    99900  237.317    0.002  385.950    0.004 seq2seq_model.py:109(top_p_filtering)\n",
      "    99900  110.838    0.001  110.838    0.001 {built-in method sort}\n",
      "   401075   98.458    0.000   98.458    0.000 {method 'item' of 'torch._C._TensorBase' objects}\n",
      "    99900   49.425    0.000   49.425    0.000 {method 'logsumexp' of 'torch._C._TensorBase' objects}\n",
      "   109890   45.076    0.000   45.076    0.000 {built-in method gru}\n",
      "    99900   41.695    0.000  620.634    0.006 seq2seq_model.py:83(samplek)\n",
      "    99900   40.482    0.000   40.482    0.000 seq2seq_model.py:78(addAttention)\n",
      "   202797   24.005    0.000   24.005    0.000 {built-in method cat}\n",
      "   299700   23.619    0.000   23.619    0.000 {built-in method addmm}\n",
      "\n",
      "\n"
     ]
    }
   ],
   "source": [
    "printStats(\"Seq2seqAttNew\",\"\")"
   ]
  },
  {
   "cell_type": "code",
   "execution_count": 48,
   "metadata": {},
   "outputs": [
    {
     "name": "stdout",
     "output_type": "stream",
     "text": [
      "Sat Apr 11 16:24:41 2020    C:\\Users\\TEMP.PKAPRIME.000.001\\Documents\\food_recipe\\recipe_gen\\profiles\\profSeq2seqTopK.txt\n",
      "\n",
      "         22728214 function calls (22390479 primitive calls) in 513.819 seconds\n",
      "\n",
      "   Ordered by: internal time\n",
      "   List reduced from 9515 to 10 due to restriction <10>\n",
      "\n",
      "   ncalls  tottime  percall  cumtime  percall filename:lineno(function)\n",
      "      875  184.593    0.211  184.593    0.211 {method 'run_backward' of 'torch._C._EngineBase' objects}\n",
      "    99854   75.741    0.001  208.726    0.002 seq2seq_model.py:83(samplek)\n",
      "    99854   45.582    0.000   45.582    0.000 {method 'logsumexp' of 'torch._C._TensorBase' objects}\n",
      "   109844   36.161    0.000   36.161    0.000 {built-in method gru}\n",
      "   400965   32.779    0.000   32.779    0.000 {method 'item' of 'torch._C._TensorBase' objects}\n",
      "    99854   15.679    0.000   15.679    0.000 {method 'topk' of 'torch._C._TensorBase' objects}\n",
      "    99854    8.898    0.000  282.203    0.003 seq2seq_model.py:175(forwardDecoderStep)\n",
      "   109844    8.491    0.000    8.491    0.000 {built-in method embedding}\n",
      "        6    7.960    1.327   10.009    1.668 {built-in method _pickle.load}\n",
      "    99854    7.421    0.000    7.421    0.000 {built-in method addmm}\n",
      "\n",
      "\n"
     ]
    }
   ],
   "source": [
    "printStats(\"Seq2seqTopK\",\"\")"
   ]
  },
  {
   "cell_type": "code",
   "execution_count": 49,
   "metadata": {},
   "outputs": [
    {
     "name": "stdout",
     "output_type": "stream",
     "text": [
      "Sat Apr 11 16:37:01 2020    C:\\Users\\TEMP.PKAPRIME.000.001\\Documents\\food_recipe\\recipe_gen\\profiles\\profSeq2seqAttTopK.txt\n",
      "\n",
      "         27976570 function calls (27239058 primitive calls) in 738.563 seconds\n",
      "\n",
      "   Ordered by: internal time\n",
      "   List reduced from 9524 to 10 due to restriction <10>\n",
      "\n",
      "   ncalls  tottime  percall  cumtime  percall filename:lineno(function)\n",
      "      875  329.106    0.376  329.106    0.376 {method 'run_backward' of 'torch._C._EngineBase' objects}\n",
      "    99900   74.724    0.001  206.164    0.002 seq2seq_model.py:83(samplek)\n",
      "    99900   44.873    0.000   44.873    0.000 {method 'logsumexp' of 'torch._C._TensorBase' objects}\n",
      "   109890   36.205    0.000   36.205    0.000 {built-in method gru}\n",
      "   401075   32.330    0.000   32.330    0.000 {method 'item' of 'torch._C._TensorBase' objects}\n",
      "   299700   20.956    0.000   20.956    0.000 {built-in method addmm}\n",
      "   202797   20.045    0.000   20.045    0.000 {built-in method cat}\n",
      "    99900   15.580    0.000   15.580    0.000 {method 'topk' of 'torch._C._TensorBase' objects}\n",
      "   199800   13.900    0.000   13.900    0.000 {method 'softmax' of 'torch._C._TensorBase' objects}\n",
      "    99900   10.385    0.000   10.385    0.000 seq2seq_model.py:78(addAttention)\n",
      "\n",
      "\n"
     ]
    }
   ],
   "source": [
    "printStats(\"Seq2seqAttTopK\",\"\")"
   ]
  },
  {
   "cell_type": "code",
   "execution_count": 50,
   "metadata": {},
   "outputs": [
    {
     "name": "stdout",
     "output_type": "stream",
     "text": [
      "Sat Apr 11 17:38:18 2020    C:\\Users\\TEMP.PKAPRIME.000.001\\Documents\\food_recipe\\recipe_gen\\profiles\\profSeq2seqNewNucleus.txt\n",
      "\n",
      "         23817151 function calls (23479636 primitive calls) in 817.357 seconds\n",
      "\n",
      "   Ordered by: internal time\n",
      "   List reduced from 9519 to 10 due to restriction <10>\n",
      "\n",
      "   ncalls  tottime  percall  cumtime  percall filename:lineno(function)\n",
      "      875  185.504    0.212  185.504    0.212 {method 'run_backward' of 'torch._C._EngineBase' objects}\n",
      "    99781  114.904    0.001  114.904    0.001 {built-in method max}\n",
      "    99781   82.806    0.001  313.036    0.003 seq2seq_model.py:104(top_p_filtering)\n",
      "    99781   75.796    0.001  509.417    0.005 seq2seq_model.py:83(samplek)\n",
      "    99781   64.618    0.001   64.618    0.001 {built-in method sort}\n",
      "    99781   48.137    0.000   48.137    0.000 {method 'logsumexp' of 'torch._C._TensorBase' objects}\n",
      "   109771   37.194    0.000   37.194    0.000 {built-in method gru}\n",
      "   400673   32.706    0.000   32.706    0.000 {method 'item' of 'torch._C._TensorBase' objects}\n",
      "   199562   13.900    0.000   13.900    0.000 {method 'softmax' of 'torch._C._TensorBase' objects}\n",
      "   200192   13.710    0.000   13.710    0.000 tensor.py:25(wrapped)\n",
      "\n",
      "\n"
     ]
    }
   ],
   "source": [
    "printStats(\"Seq2seqNewNucleus\",\"\")"
   ]
  },
  {
   "cell_type": "code",
   "execution_count": 53,
   "metadata": {},
   "outputs": [
    {
     "name": "stdout",
     "output_type": "stream",
     "text": [
      "Sat Apr 11 00:54:08 2020    C:\\Users\\TEMP.PKAPRIME.000.001\\Documents\\food_recipe\\recipe_gen\\profiles\\profSeq2seqNew.txt\n",
      "\n",
      "         23528832 function calls (23191051 primitive calls) in 690.387 seconds\n",
      "\n",
      "   Ordered by: internal time\n",
      "   List reduced from 9519 to 10 due to restriction <10>\n",
      "\n",
      "   ncalls  tottime  percall  cumtime  percall filename:lineno(function)\n",
      "      875  183.290    0.209  183.290    0.209 {method 'run_backward' of 'torch._C._EngineBase' objects}\n",
      "    99869  146.303    0.001  242.962    0.002 seq2seq_model.py:109(top_p_filtering)\n",
      "    99869   64.808    0.001   64.808    0.001 {built-in method sort}\n",
      "    99869   41.184    0.000   41.184    0.000 {method 'logsumexp' of 'torch._C._TensorBase' objects}\n",
      "    99869   35.727    0.000  390.949    0.004 seq2seq_model.py:83(samplek)\n",
      "   109859   35.132    0.000   35.132    0.000 {built-in method gru}\n",
      "   401025   32.479    0.000   32.479    0.000 {method 'item' of 'torch._C._TensorBase' objects}\n",
      "   199738   13.497    0.000   13.497    0.000 {method 'softmax' of 'torch._C._TensorBase' objects}\n",
      "    99869    8.581    0.000  462.150    0.005 seq2seq_model.py:160(forwardDecoderStep)\n",
      "   109859    8.248    0.000    8.248    0.000 {built-in method embedding}\n",
      "\n",
      "\n"
     ]
    }
   ],
   "source": [
    "printStats(\"Seq2seqNew\",\"\")"
   ]
  },
  {
   "cell_type": "code",
   "execution_count": 54,
   "metadata": {},
   "outputs": [
    {
     "data": {
      "text/plain": [
       "386.20000000000005"
      ]
     },
     "execution_count": 54,
     "metadata": {},
     "output_type": "execute_result"
    }
   ],
   "source": [
    "114.9+82.8+75.8+64.6+48.1"
   ]
  },
  {
   "cell_type": "code",
   "execution_count": 55,
   "metadata": {},
   "outputs": [
    {
     "data": {
      "text/plain": [
       "288.0"
      ]
     },
     "execution_count": 55,
     "metadata": {},
     "output_type": "execute_result"
    }
   ],
   "source": [
    "146.3+64.8+41.2+35.7"
   ]
  },
  {
   "cell_type": "code",
   "execution_count": 56,
   "metadata": {},
   "outputs": [
    {
     "name": "stdout",
     "output_type": "stream",
     "text": [
      "Sat Apr 11 11:47:52 2020    C:\\Users\\TEMP.PKAPRIME.000.001\\Documents\\food_recipe\\recipe_gen\\profiles\\profSeq2seqAttNew.txt\n",
      "\n",
      "         28777582 function calls (28040057 primitive calls) in 1272.958 seconds\n",
      "\n",
      "   Ordered by: internal time\n",
      "   List reduced from 9541 to 10 due to restriction <10>\n",
      "\n",
      "   ncalls  tottime  percall  cumtime  percall filename:lineno(function)\n",
      "      875  383.721    0.439  383.721    0.439 {method 'run_backward' of 'torch._C._EngineBase' objects}\n",
      "    99900  237.317    0.002  385.950    0.004 seq2seq_model.py:109(top_p_filtering)\n",
      "    99900  110.838    0.001  110.838    0.001 {built-in method sort}\n",
      "   401075   98.458    0.000   98.458    0.000 {method 'item' of 'torch._C._TensorBase' objects}\n",
      "    99900   49.425    0.000   49.425    0.000 {method 'logsumexp' of 'torch._C._TensorBase' objects}\n",
      "   109890   45.076    0.000   45.076    0.000 {built-in method gru}\n",
      "    99900   41.695    0.000  620.634    0.006 seq2seq_model.py:83(samplek)\n",
      "    99900   40.482    0.000   40.482    0.000 seq2seq_model.py:78(addAttention)\n",
      "   202797   24.005    0.000   24.005    0.000 {built-in method cat}\n",
      "   299700   23.619    0.000   23.619    0.000 {built-in method addmm}\n",
      "\n",
      "\n"
     ]
    }
   ],
   "source": [
    "printStats(\"Seq2seqAttNew\",\"\")"
   ]
  },
  {
   "cell_type": "code",
   "execution_count": 57,
   "metadata": {},
   "outputs": [
    {
     "name": "stdout",
     "output_type": "stream",
     "text": [
      "Sat Apr 11 17:55:21 2020    C:\\Users\\TEMP.PKAPRIME.000.001\\Documents\\food_recipe\\recipe_gen\\profiles\\profSeq2seqAttNewNucleus.txt\n",
      "\n",
      "         29077389 function calls (28339863 primitive calls) in 1021.549 seconds\n",
      "\n",
      "   Ordered by: internal time\n",
      "   List reduced from 9543 to 10 due to restriction <10>\n",
      "\n",
      "   ncalls  tottime  percall  cumtime  percall filename:lineno(function)\n",
      "      875  329.917    0.377  329.917    0.377 {method 'run_backward' of 'torch._C._EngineBase' objects}\n",
      "    99900   99.391    0.001   99.391    0.001 {built-in method max}\n",
      "    99900   82.008    0.001  291.264    0.003 seq2seq_model.py:104(top_p_filtering)\n",
      "    99900   75.539    0.001  486.798    0.005 seq2seq_model.py:83(samplek)\n",
      "    99900   59.649    0.001   59.649    0.001 {built-in method sort}\n",
      "    99900   48.097    0.000   48.097    0.000 {method 'logsumexp' of 'torch._C._TensorBase' objects}\n",
      "   109890   37.015    0.000   37.015    0.000 {built-in method gru}\n",
      "   401075   32.280    0.000   32.280    0.000 {method 'item' of 'torch._C._TensorBase' objects}\n",
      "   302697   29.368    0.000   29.368    0.000 {built-in method cat}\n",
      "   299700   21.228    0.000   21.228    0.000 {built-in method addmm}\n",
      "\n",
      "\n"
     ]
    }
   ],
   "source": [
    "printStats(\"Seq2seqAttNewNucleus\",\"\")"
   ]
  },
  {
   "cell_type": "code",
   "execution_count": null,
   "metadata": {},
   "outputs": [],
   "source": []
  }
 ],
 "metadata": {
  "kernelspec": {
   "display_name": "Python 3",
   "language": "python",
   "name": "python3"
  },
  "language_info": {
   "codemirror_mode": {
    "name": "ipython",
    "version": 3
   },
   "file_extension": ".py",
   "mimetype": "text/x-python",
   "name": "python",
   "nbconvert_exporter": "python",
   "pygments_lexer": "ipython3",
   "version": "3.6.10"
  }
 },
 "nbformat": 4,
 "nbformat_minor": 4
}
