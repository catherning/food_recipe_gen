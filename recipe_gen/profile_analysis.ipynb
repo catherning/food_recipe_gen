{
 "cells": [
  {
   "cell_type": "code",
   "execution_count": 1,
   "metadata": {},
   "outputs": [],
   "source": [
    "import pstats\n",
    "import os"
   ]
  },
  {
   "cell_type": "code",
   "execution_count": 65,
   "metadata": {},
   "outputs": [],
   "source": [
    "def printStats(model,obj,lim=10):\n",
    "    p = pstats.Stats(os.path.join(os.getcwd(),\"profiles\",'prof{}.txt'.format(model)))\n",
    "    p.strip_dirs().sort_stats(\"time\").print_stats(obj,lim)"
   ]
  },
  {
   "cell_type": "code",
   "execution_count": 38,
   "metadata": {},
   "outputs": [
    {
     "name": "stdout",
     "output_type": "stream",
     "text": [
      "Fri Apr 10 18:24:10 2020    C:\\Users\\TEMP.PKAPRIME.000.001\\Documents\\food_recipe\\recipe_gen\\profiles\\profSeq2seq.txt\n",
      "\n",
      "         23526744 function calls (23188938 primitive calls) in 709.081 seconds\n",
      "\n",
      "   Ordered by: internal time\n",
      "   List reduced from 9519 to 10 due to restriction <'forward'>\n",
      "\n",
      "   ncalls  tottime  percall  cumtime  percall filename:lineno(function)\n",
      "    99878    9.031    0.000  478.039    0.005 seq2seq_model.py:160(forwardDecoderStep)\n",
      "    99878    3.232    0.000   65.536    0.001 network.py:73(forward)\n",
      "      999    2.660    0.003  490.311    0.491 seq2seq_model.py:170(forward)\n",
      "      999    1.378    0.001    7.426    0.007 network.py:39(forward_all)\n",
      "   109868    0.848    0.000   38.853    0.000 rnn.py:690(forward)\n",
      "   109868    0.273    0.000    9.013    0.000 sparse.py:111(forward)\n",
      "   100877    0.262    0.000    9.380    0.000 linear.py:86(forward)\n",
      "   109868    0.170    0.000    0.595    0.000 rnn.py:178(check_forward_args)\n",
      "     9990    0.063    0.000    5.296    0.001 network.py:25(forward)\n",
      "      999    0.003    0.000    0.154    0.000 loss.py:914(forward)\n",
      "\n",
      "\n"
     ]
    }
   ],
   "source": [
    "printStats(\"Seq2seq\",\"forward\")"
   ]
  },
  {
   "cell_type": "code",
   "execution_count": 39,
   "metadata": {},
   "outputs": [
    {
     "name": "stdout",
     "output_type": "stream",
     "text": [
      "Fri Apr 10 18:39:50 2020    C:\\Users\\TEMP.PKAPRIME.000.001\\Documents\\food_recipe\\recipe_gen\\profiles\\profSeq2seqAtt.txt\n",
      "\n",
      "         28775448 function calls (28037923 primitive calls) in 937.998 seconds\n",
      "\n",
      "   Ordered by: internal time\n",
      "   List reduced from 9530 to 12 due to restriction <'forward'>\n",
      "   List reduced from 12 to 10 due to restriction <10>\n",
      "\n",
      "   ncalls  tottime  percall  cumtime  percall filename:lineno(function)\n",
      "    99900    9.095    0.000  560.419    0.006 seq2seq_model.py:160(forwardDecoderStep)\n",
      "    99900    8.821    0.000   78.277    0.001 network.py:177(forward)\n",
      "    99900    3.226    0.000  137.536    0.001 network.py:96(forward)\n",
      "      999    2.669    0.003  572.666    0.573 seq2seq_model.py:170(forward)\n",
      "      999    1.370    0.001    7.394    0.007 network.py:39(forward_all)\n",
      "   109890    0.778    0.000   38.652    0.000 rnn.py:690(forward)\n",
      "   300699    0.681    0.000   25.573    0.000 linear.py:86(forward)\n",
      "   109890    0.284    0.000    8.963    0.000 sparse.py:111(forward)\n",
      "   109890    0.178    0.000    0.638    0.000 rnn.py:178(check_forward_args)\n",
      "    99900    0.150    0.000    8.080    0.000 dropout.py:53(forward)\n",
      "\n",
      "\n"
     ]
    }
   ],
   "source": [
    "printStats(\"Seq2seqAtt\",\"forward\")"
   ]
  },
  {
   "cell_type": "code",
   "execution_count": 40,
   "metadata": {},
   "outputs": [
    {
     "name": "stdout",
     "output_type": "stream",
     "text": [
      "Fri Apr 10 18:54:52 2020    C:\\Users\\TEMP.PKAPRIME.000.001\\Documents\\food_recipe\\recipe_gen\\profiles\\profSeq2seqIngrAtt.txt\n",
      "\n",
      "         26260767 function calls (25723022 primitive calls) in 901.214 seconds\n",
      "\n",
      "   Ordered by: internal time\n",
      "   List reduced from 9529 to 11 due to restriction <'forward'>\n",
      "   List reduced from 11 to 10 due to restriction <10>\n",
      "\n",
      "   ncalls  tottime  percall  cumtime  percall filename:lineno(function)\n",
      "    99898    9.572    0.000  549.995    0.006 seq2seq_model.py:160(forwardDecoderStep)\n",
      "    99898    8.622    0.000   61.592    0.001 network.py:214(forward)\n",
      "    99898    3.281    0.000  123.405    0.001 network.py:96(forward)\n",
      "      999    2.768    0.003  562.482    0.563 seq2seq_model.py:170(forward)\n",
      "      999    1.416    0.001    7.485    0.007 network.py:39(forward_all)\n",
      "   109888    0.858    0.000   40.629    0.000 rnn.py:690(forward)\n",
      "   200795    0.509    0.000   18.158    0.000 linear.py:86(forward)\n",
      "   109888    0.280    0.000    9.097    0.000 sparse.py:111(forward)\n",
      "   109888    0.184    0.000    0.693    0.000 rnn.py:178(check_forward_args)\n",
      "     9990    0.063    0.000    5.315    0.001 network.py:25(forward)\n",
      "\n",
      "\n"
     ]
    }
   ],
   "source": [
    "printStats(\"Seq2seqIngrAtt\",\"forward\")"
   ]
  },
  {
   "cell_type": "code",
   "execution_count": 41,
   "metadata": {},
   "outputs": [
    {
     "name": "stdout",
     "output_type": "stream",
     "text": [
      "Sat Apr 11 00:18:05 2020    C:\\Users\\TEMP.PKAPRIME.000.001\\Documents\\food_recipe\\recipe_gen\\profiles\\profSeq2seqIngrPairingAtt.txt\n",
      "\n",
      "         63359862 function calls (60624595 primitive calls) in 3778.338 seconds\n",
      "\n",
      "   Ordered by: internal time\n",
      "   List reduced from 9547 to 12 due to restriction <'forward'>\n",
      "   List reduced from 12 to 10 due to restriction <10>\n",
      "\n",
      "   ncalls  tottime  percall  cumtime  percall filename:lineno(function)\n",
      "    99887  438.543    0.004  892.492    0.009 network.py:243(forward)\n",
      "    99887   85.679    0.001 1113.834    0.011 network.py:131(forward)\n",
      "    99887    9.653    0.000 1602.812    0.016 seq2seq_model.py:442(forwardDecoderStep)\n",
      "    99887    8.883    0.000   62.585    0.001 network.py:213(forward)\n",
      "  2198521    5.357    0.000  179.972    0.000 linear.py:86(forward)\n",
      "      999    2.905    0.003 1616.908    1.619 seq2seq_model.py:453(forward)\n",
      "      999    1.598    0.002    8.747    0.009 network.py:38(forward_all)\n",
      "   109877    1.048    0.000   43.241    0.000 rnn.py:690(forward)\n",
      "   209764    0.656    0.000   18.371    0.000 sparse.py:111(forward)\n",
      "   109877    0.211    0.000    0.692    0.000 rnn.py:178(check_forward_args)\n",
      "\n",
      "\n"
     ]
    }
   ],
   "source": [
    "printStats(\"Seq2seqIngrPairingAtt\",\"forward\")"
   ]
  },
  {
   "cell_type": "code",
   "execution_count": 42,
   "metadata": {},
   "outputs": [
    {
     "name": "stdout",
     "output_type": "stream",
     "text": [
      "Fri Apr 10 19:53:47 2020    C:\\Users\\TEMP.PKAPRIME.000.001\\Documents\\food_recipe\\recipe_gen\\profiles\\profSeq2seqIngrPairingAtt - before opt.txt\n",
      "\n",
      "         69787687 function calls (67052232 primitive calls) in 3533.035 seconds\n",
      "\n",
      "   Ordered by: internal time\n",
      "   List reduced from 9535 to 12 due to restriction <'forward'>\n",
      "   List reduced from 12 to 10 due to restriction <10>\n",
      "\n",
      "   ncalls  tottime  percall  cumtime  percall filename:lineno(function)\n",
      "    99894  448.701    0.004  908.578    0.009 network.py:243(forward)\n",
      "    99894   79.640    0.001 1122.331    0.011 network.py:132(forward)\n",
      "    99894    9.330    0.000 1555.865    0.016 seq2seq_model.py:442(forwardDecoderStep)\n",
      "    99894    8.898    0.000   62.807    0.001 network.py:214(forward)\n",
      "  2198674    5.417    0.000  183.569    0.000 linear.py:86(forward)\n",
      "      999    2.810    0.003 1568.920    1.570 seq2seq_model.py:453(forward)\n",
      "      999    1.463    0.001    7.953    0.008 network.py:39(forward_all)\n",
      "   109884    1.018    0.000   41.143    0.000 rnn.py:690(forward)\n",
      "   209778    0.569    0.000   18.139    0.000 sparse.py:111(forward)\n",
      "   109884    0.203    0.000    0.679    0.000 rnn.py:178(check_forward_args)\n",
      "\n",
      "\n"
     ]
    }
   ],
   "source": [
    "printStats(\"Seq2seqIngrPairingAtt - before opt\",\"forward\")"
   ]
  },
  {
   "cell_type": "code",
   "execution_count": 43,
   "metadata": {},
   "outputs": [
    {
     "name": "stdout",
     "output_type": "stream",
     "text": [
      "Sat Apr 11 01:32:19 2020    C:\\Users\\TEMP.PKAPRIME.000.001\\Documents\\food_recipe\\recipe_gen\\profiles\\profSeq2seqIngrPairingAttNew.txt\n",
      "\n",
      "         40292844 function calls (39055649 primitive calls) in 1285.603 seconds\n",
      "\n",
      "   Ordered by: internal time\n",
      "   List reduced from 9534 to 12 due to restriction <'forward'>\n",
      "   List reduced from 12 to 10 due to restriction <10>\n",
      "\n",
      "   ncalls  tottime  percall  cumtime  percall filename:lineno(function)\n",
      "    99900   86.370    0.001  206.447    0.002 network.py:249(forward)\n",
      "    99900   78.860    0.001  449.398    0.004 network.py:131(forward)\n",
      "    99900   13.112    0.000   95.247    0.001 network.py:214(forward)\n",
      "    99900    9.160    0.000  876.810    0.009 seq2seq_model.py:442(forwardDecoderStep)\n",
      "      999    2.733    0.003  889.190    0.890 seq2seq_model.py:453(forward)\n",
      "   700300    1.423    0.000   94.891    0.000 linear.py:86(forward)\n",
      "      999    1.369    0.001    7.393    0.007 network.py:38(forward_all)\n",
      "   109890    0.824    0.000   38.738    0.000 rnn.py:690(forward)\n",
      "   209790    0.476    0.000   17.715    0.000 sparse.py:111(forward)\n",
      "   109890    0.162    0.000    0.621    0.000 rnn.py:178(check_forward_args)\n",
      "\n",
      "\n"
     ]
    }
   ],
   "source": [
    "printStats(\"Seq2seqIngrPairingAttNew\",\"forward\")"
   ]
  },
  {
   "cell_type": "code",
   "execution_count": 44,
   "metadata": {},
   "outputs": [
    {
     "name": "stdout",
     "output_type": "stream",
     "text": [
      "Sat Apr 11 01:32:19 2020    C:\\Users\\TEMP.PKAPRIME.000.001\\Documents\\food_recipe\\recipe_gen\\profiles\\profSeq2seqIngrPairingAttNew.txt\n",
      "\n",
      "         40292844 function calls (39055649 primitive calls) in 1285.603 seconds\n",
      "\n",
      "   Ordered by: internal time\n",
      "   List reduced from 9534 to 10 due to restriction <10>\n",
      "\n",
      "   ncalls  tottime  percall  cumtime  percall filename:lineno(function)\n",
      "      875  361.246    0.413  361.246    0.413 {method 'run_backward' of 'torch._C._EngineBase' objects}\n",
      "    99900  148.132    0.001  248.132    0.002 seq2seq_model.py:109(top_p_filtering)\n",
      "    99900   86.370    0.001  206.447    0.002 network.py:249(forward)\n",
      "   600400   79.118    0.000   79.118    0.000 {method 'matmul' of 'torch._C._TensorBase' objects}\n",
      "    99900   78.860    0.001  449.398    0.004 network.py:131(forward)\n",
      "    99900   66.688    0.001   66.688    0.001 {built-in method sort}\n",
      "    99900   42.143    0.000   42.143    0.000 {method 'logsumexp' of 'torch._C._TensorBase' objects}\n",
      "    99900   38.729    0.000  404.097    0.004 seq2seq_model.py:83(samplek)\n",
      "   109890   36.940    0.000   36.940    0.000 {built-in method gru}\n",
      "  1129751   35.263    0.000   35.263    0.000 {method 'item' of 'torch._C._TensorBase' objects}\n",
      "\n",
      "\n"
     ]
    }
   ],
   "source": [
    "printStats(\"Seq2seqIngrPairingAttNew\",\"\")"
   ]
  },
  {
   "cell_type": "code",
   "execution_count": 45,
   "metadata": {},
   "outputs": [
    {
     "name": "stdout",
     "output_type": "stream",
     "text": [
      "Sat Apr 11 01:10:52 2020    C:\\Users\\TEMP.PKAPRIME.000.001\\Documents\\food_recipe\\recipe_gen\\profiles\\profSeq2seqIngrAttNew.txt\n",
      "\n",
      "         29169585 function calls (28432010 primitive calls) in 977.607 seconds\n",
      "\n",
      "   Ordered by: internal time\n",
      "   List reduced from 9529 to 10 due to restriction <10>\n",
      "\n",
      "   ncalls  tottime  percall  cumtime  percall filename:lineno(function)\n",
      "      875  352.757    0.403  352.757    0.403 {method 'run_backward' of 'torch._C._EngineBase' objects}\n",
      "    99900  148.006    0.001  247.554    0.002 seq2seq_model.py:109(top_p_filtering)\n",
      "    99900   66.581    0.001   66.581    0.001 {built-in method sort}\n",
      "    99900   41.926    0.000   41.926    0.000 {method 'logsumexp' of 'torch._C._TensorBase' objects}\n",
      "   300699   39.884    0.000   39.884    0.000 {method 'matmul' of 'torch._C._TensorBase' objects}\n",
      "    99900   38.215    0.000  402.662    0.004 seq2seq_model.py:83(samplek)\n",
      "   109890   37.440    0.000   37.440    0.000 {built-in method gru}\n",
      "   401046   33.784    0.000   33.784    0.000 {method 'item' of 'torch._C._TensorBase' objects}\n",
      "   299700   21.638    0.000   21.638    0.000 {method 'softmax' of 'torch._C._TensorBase' objects}\n",
      "    99900   13.054    0.000   95.261    0.001 network.py:214(forward)\n",
      "\n",
      "\n"
     ]
    }
   ],
   "source": [
    "printStats(\"Seq2seqIngrAttNew\",\"\")"
   ]
  },
  {
   "cell_type": "code",
   "execution_count": 46,
   "metadata": {},
   "outputs": [
    {
     "name": "stdout",
     "output_type": "stream",
     "text": [
      "Sat Apr 11 11:47:52 2020    C:\\Users\\TEMP.PKAPRIME.000.001\\Documents\\food_recipe\\recipe_gen\\profiles\\profSeq2seqAttNew.txt\n",
      "\n",
      "         28777582 function calls (28040057 primitive calls) in 1272.958 seconds\n",
      "\n",
      "   Ordered by: internal time\n",
      "   List reduced from 9541 to 10 due to restriction <10>\n",
      "\n",
      "   ncalls  tottime  percall  cumtime  percall filename:lineno(function)\n",
      "      875  383.721    0.439  383.721    0.439 {method 'run_backward' of 'torch._C._EngineBase' objects}\n",
      "    99900  237.317    0.002  385.950    0.004 seq2seq_model.py:109(top_p_filtering)\n",
      "    99900  110.838    0.001  110.838    0.001 {built-in method sort}\n",
      "   401075   98.458    0.000   98.458    0.000 {method 'item' of 'torch._C._TensorBase' objects}\n",
      "    99900   49.425    0.000   49.425    0.000 {method 'logsumexp' of 'torch._C._TensorBase' objects}\n",
      "   109890   45.076    0.000   45.076    0.000 {built-in method gru}\n",
      "    99900   41.695    0.000  620.634    0.006 seq2seq_model.py:83(samplek)\n",
      "    99900   40.482    0.000   40.482    0.000 seq2seq_model.py:78(addAttention)\n",
      "   202797   24.005    0.000   24.005    0.000 {built-in method cat}\n",
      "   299700   23.619    0.000   23.619    0.000 {built-in method addmm}\n",
      "\n",
      "\n"
     ]
    }
   ],
   "source": [
    "printStats(\"Seq2seqAttNew\",\"\")"
   ]
  },
  {
   "cell_type": "code",
   "execution_count": 48,
   "metadata": {},
   "outputs": [
    {
     "name": "stdout",
     "output_type": "stream",
     "text": [
      "Sat Apr 11 16:24:41 2020    C:\\Users\\TEMP.PKAPRIME.000.001\\Documents\\food_recipe\\recipe_gen\\profiles\\profSeq2seqTopK.txt\n",
      "\n",
      "         22728214 function calls (22390479 primitive calls) in 513.819 seconds\n",
      "\n",
      "   Ordered by: internal time\n",
      "   List reduced from 9515 to 10 due to restriction <10>\n",
      "\n",
      "   ncalls  tottime  percall  cumtime  percall filename:lineno(function)\n",
      "      875  184.593    0.211  184.593    0.211 {method 'run_backward' of 'torch._C._EngineBase' objects}\n",
      "    99854   75.741    0.001  208.726    0.002 seq2seq_model.py:83(samplek)\n",
      "    99854   45.582    0.000   45.582    0.000 {method 'logsumexp' of 'torch._C._TensorBase' objects}\n",
      "   109844   36.161    0.000   36.161    0.000 {built-in method gru}\n",
      "   400965   32.779    0.000   32.779    0.000 {method 'item' of 'torch._C._TensorBase' objects}\n",
      "    99854   15.679    0.000   15.679    0.000 {method 'topk' of 'torch._C._TensorBase' objects}\n",
      "    99854    8.898    0.000  282.203    0.003 seq2seq_model.py:175(forwardDecoderStep)\n",
      "   109844    8.491    0.000    8.491    0.000 {built-in method embedding}\n",
      "        6    7.960    1.327   10.009    1.668 {built-in method _pickle.load}\n",
      "    99854    7.421    0.000    7.421    0.000 {built-in method addmm}\n",
      "\n",
      "\n"
     ]
    }
   ],
   "source": [
    "printStats(\"Seq2seqTopK\",\"\")"
   ]
  },
  {
   "cell_type": "code",
   "execution_count": 49,
   "metadata": {},
   "outputs": [
    {
     "name": "stdout",
     "output_type": "stream",
     "text": [
      "Sat Apr 11 16:37:01 2020    C:\\Users\\TEMP.PKAPRIME.000.001\\Documents\\food_recipe\\recipe_gen\\profiles\\profSeq2seqAttTopK.txt\n",
      "\n",
      "         27976570 function calls (27239058 primitive calls) in 738.563 seconds\n",
      "\n",
      "   Ordered by: internal time\n",
      "   List reduced from 9524 to 10 due to restriction <10>\n",
      "\n",
      "   ncalls  tottime  percall  cumtime  percall filename:lineno(function)\n",
      "      875  329.106    0.376  329.106    0.376 {method 'run_backward' of 'torch._C._EngineBase' objects}\n",
      "    99900   74.724    0.001  206.164    0.002 seq2seq_model.py:83(samplek)\n",
      "    99900   44.873    0.000   44.873    0.000 {method 'logsumexp' of 'torch._C._TensorBase' objects}\n",
      "   109890   36.205    0.000   36.205    0.000 {built-in method gru}\n",
      "   401075   32.330    0.000   32.330    0.000 {method 'item' of 'torch._C._TensorBase' objects}\n",
      "   299700   20.956    0.000   20.956    0.000 {built-in method addmm}\n",
      "   202797   20.045    0.000   20.045    0.000 {built-in method cat}\n",
      "    99900   15.580    0.000   15.580    0.000 {method 'topk' of 'torch._C._TensorBase' objects}\n",
      "   199800   13.900    0.000   13.900    0.000 {method 'softmax' of 'torch._C._TensorBase' objects}\n",
      "    99900   10.385    0.000   10.385    0.000 seq2seq_model.py:78(addAttention)\n",
      "\n",
      "\n"
     ]
    }
   ],
   "source": [
    "printStats(\"Seq2seqAttTopK\",\"\")"
   ]
  },
  {
   "cell_type": "code",
   "execution_count": 77,
   "metadata": {},
   "outputs": [
    {
     "name": "stdout",
     "output_type": "stream",
     "text": [
      "Sat Apr 11 17:38:18 2020    C:\\Users\\TEMP.PKAPRIME.000.001\\Documents\\food_recipe\\recipe_gen\\profiles\\profSeq2seqNewNucleus.txt\n",
      "\n",
      "         23817151 function calls (23479636 primitive calls) in 817.357 seconds\n",
      "\n",
      "   Ordered by: internal time\n",
      "   List reduced from 9519 to 29 due to restriction <'max'>\n",
      "   List reduced from 29 to 10 due to restriction <10>\n",
      "\n",
      "   ncalls  tottime  percall  cumtime  percall filename:lineno(function)\n",
      "    99781  114.904    0.001  114.904    0.001 {built-in method max}\n",
      "   199562   13.900    0.000   13.900    0.000 {method 'softmax' of 'torch._C._TensorBase' objects}\n",
      "   199562    0.185    0.000   14.085    0.000 functional.py:1202(softmax)\n",
      "      999    0.079    0.000    0.079    0.000 {method 'log_softmax' of 'torch._C._TensorBase' objects}\n",
      "     2319    0.002    0.000    0.002    0.000 {built-in method builtins.max}\n",
      "      999    0.001    0.000    0.080    0.000 functional.py:1297(log_softmax)\n",
      "        1    0.000    0.000    0.001    0.001 maxent.py:53(<module>)\n",
      "       19    0.000    0.000    0.000    0.000 getlimits.py:521(max)\n",
      "        1    0.000    0.000    0.000    0.000 adamax.py:1(<module>)\n",
      "        1    0.000    0.000    0.000    0.000 maxent.py:84(MaxentClassifier)\n",
      "\n",
      "\n"
     ]
    }
   ],
   "source": [
    "printStats(\"Seq2seqNewNucleus\",\"max\")"
   ]
  },
  {
   "cell_type": "code",
   "execution_count": 71,
   "metadata": {},
   "outputs": [
    {
     "name": "stdout",
     "output_type": "stream",
     "text": [
      "Sat Apr 11 19:50:12 2020    C:\\Users\\TEMP.PKAPRIME.000.001\\Documents\\food_recipe\\recipe_gen\\profiles\\profSeq2seqRevertNucleus.txt\n",
      "\n",
      "         23529433 function calls (23191646 primitive calls) in 704.116 seconds\n",
      "\n",
      "   Ordered by: internal time\n",
      "   List reduced from 9533 to 10 due to restriction <10>\n",
      "\n",
      "   ncalls  tottime  percall  cumtime  percall filename:lineno(function)\n",
      "      875  187.926    0.215  187.926    0.215 {method 'run_backward' of 'torch._C._EngineBase' objects}\n",
      "    99871  147.506    0.001  246.200    0.002 seq2seq_model.py:109(top_p_filtering)\n",
      "    99871   65.897    0.001   65.897    0.001 {built-in method sort}\n",
      "    99871   41.652    0.000   41.652    0.000 {method 'logsumexp' of 'torch._C._TensorBase' objects}\n",
      "    99871   37.908    0.000  399.511    0.004 seq2seq_model.py:83(samplek)\n",
      "   109861   35.485    0.000   35.485    0.000 {built-in method gru}\n",
      "   401033   33.703    0.000   33.703    0.000 {method 'item' of 'torch._C._TensorBase' objects}\n",
      "   199742   14.351    0.000   14.351    0.000 {method 'softmax' of 'torch._C._TensorBase' objects}\n",
      "    99871    8.771    0.000  471.900    0.005 seq2seq_model.py:160(forwardDecoderStep)\n",
      "   109861    8.482    0.000    8.482    0.000 {built-in method embedding}\n",
      "\n",
      "\n"
     ]
    }
   ],
   "source": [
    "printStats(\"Seq2seqRevertNucleus\",\"\")"
   ]
  },
  {
   "cell_type": "code",
   "execution_count": 76,
   "metadata": {},
   "outputs": [
    {
     "name": "stdout",
     "output_type": "stream",
     "text": [
      "Sat Apr 11 00:54:08 2020    C:\\Users\\TEMP.PKAPRIME.000.001\\Documents\\food_recipe\\recipe_gen\\profiles\\profSeq2seqNew.txt\n",
      "\n",
      "         23528832 function calls (23191051 primitive calls) in 690.387 seconds\n",
      "\n",
      "   Ordered by: internal time\n",
      "   List reduced from 9519 to 28 due to restriction <'max'>\n",
      "   List reduced from 28 to 10 due to restriction <10>\n",
      "\n",
      "   ncalls  tottime  percall  cumtime  percall filename:lineno(function)\n",
      "   199738   13.497    0.000   13.497    0.000 {method 'softmax' of 'torch._C._TensorBase' objects}\n",
      "   199738    0.175    0.000   13.672    0.000 functional.py:1202(softmax)\n",
      "      999    0.077    0.000    0.077    0.000 {method 'log_softmax' of 'torch._C._TensorBase' objects}\n",
      "     2319    0.002    0.000    0.002    0.000 {built-in method builtins.max}\n",
      "      999    0.001    0.000    0.078    0.000 functional.py:1297(log_softmax)\n",
      "       19    0.000    0.000    0.000    0.000 getlimits.py:521(max)\n",
      "        1    0.000    0.000    0.001    0.001 maxent.py:53(<module>)\n",
      "        1    0.000    0.000    0.000    0.000 adamax.py:1(<module>)\n",
      "        2    0.000    0.000    0.000    0.000 nanops.py:726(_nanminmax)\n",
      "        1    0.000    0.000    0.000    0.000 maxent.py:84(MaxentClassifier)\n",
      "\n",
      "\n"
     ]
    }
   ],
   "source": [
    "printStats(\"Seq2seqNew\",\"max\")"
   ]
  },
  {
   "cell_type": "code",
   "execution_count": 72,
   "metadata": {},
   "outputs": [
    {
     "data": {
      "text/plain": [
       "212"
      ]
     },
     "execution_count": 72,
     "metadata": {},
     "output_type": "execute_result"
    }
   ],
   "source": [
    "147+65"
   ]
  },
  {
   "cell_type": "code",
   "execution_count": 55,
   "metadata": {},
   "outputs": [
    {
     "data": {
      "text/plain": [
       "288.0"
      ]
     },
     "execution_count": 55,
     "metadata": {},
     "output_type": "execute_result"
    }
   ],
   "source": [
    "146.3+64.8+41.2+35.7"
   ]
  },
  {
   "cell_type": "code",
   "execution_count": 56,
   "metadata": {},
   "outputs": [
    {
     "name": "stdout",
     "output_type": "stream",
     "text": [
      "Sat Apr 11 11:47:52 2020    C:\\Users\\TEMP.PKAPRIME.000.001\\Documents\\food_recipe\\recipe_gen\\profiles\\profSeq2seqAttNew.txt\n",
      "\n",
      "         28777582 function calls (28040057 primitive calls) in 1272.958 seconds\n",
      "\n",
      "   Ordered by: internal time\n",
      "   List reduced from 9541 to 10 due to restriction <10>\n",
      "\n",
      "   ncalls  tottime  percall  cumtime  percall filename:lineno(function)\n",
      "      875  383.721    0.439  383.721    0.439 {method 'run_backward' of 'torch._C._EngineBase' objects}\n",
      "    99900  237.317    0.002  385.950    0.004 seq2seq_model.py:109(top_p_filtering)\n",
      "    99900  110.838    0.001  110.838    0.001 {built-in method sort}\n",
      "   401075   98.458    0.000   98.458    0.000 {method 'item' of 'torch._C._TensorBase' objects}\n",
      "    99900   49.425    0.000   49.425    0.000 {method 'logsumexp' of 'torch._C._TensorBase' objects}\n",
      "   109890   45.076    0.000   45.076    0.000 {built-in method gru}\n",
      "    99900   41.695    0.000  620.634    0.006 seq2seq_model.py:83(samplek)\n",
      "    99900   40.482    0.000   40.482    0.000 seq2seq_model.py:78(addAttention)\n",
      "   202797   24.005    0.000   24.005    0.000 {built-in method cat}\n",
      "   299700   23.619    0.000   23.619    0.000 {built-in method addmm}\n",
      "\n",
      "\n"
     ]
    }
   ],
   "source": [
    "printStats(\"Seq2seqAttNew\",\"\")"
   ]
  },
  {
   "cell_type": "code",
   "execution_count": 57,
   "metadata": {},
   "outputs": [
    {
     "name": "stdout",
     "output_type": "stream",
     "text": [
      "Sat Apr 11 17:55:21 2020    C:\\Users\\TEMP.PKAPRIME.000.001\\Documents\\food_recipe\\recipe_gen\\profiles\\profSeq2seqAttNewNucleus.txt\n",
      "\n",
      "         29077389 function calls (28339863 primitive calls) in 1021.549 seconds\n",
      "\n",
      "   Ordered by: internal time\n",
      "   List reduced from 9543 to 10 due to restriction <10>\n",
      "\n",
      "   ncalls  tottime  percall  cumtime  percall filename:lineno(function)\n",
      "      875  329.917    0.377  329.917    0.377 {method 'run_backward' of 'torch._C._EngineBase' objects}\n",
      "    99900   99.391    0.001   99.391    0.001 {built-in method max}\n",
      "    99900   82.008    0.001  291.264    0.003 seq2seq_model.py:104(top_p_filtering)\n",
      "    99900   75.539    0.001  486.798    0.005 seq2seq_model.py:83(samplek)\n",
      "    99900   59.649    0.001   59.649    0.001 {built-in method sort}\n",
      "    99900   48.097    0.000   48.097    0.000 {method 'logsumexp' of 'torch._C._TensorBase' objects}\n",
      "   109890   37.015    0.000   37.015    0.000 {built-in method gru}\n",
      "   401075   32.280    0.000   32.280    0.000 {method 'item' of 'torch._C._TensorBase' objects}\n",
      "   302697   29.368    0.000   29.368    0.000 {built-in method cat}\n",
      "   299700   21.228    0.000   21.228    0.000 {built-in method addmm}\n",
      "\n",
      "\n"
     ]
    }
   ],
   "source": [
    "printStats(\"Seq2seqAttNewNucleus\",\"\")"
   ]
  },
  {
   "cell_type": "code",
   "execution_count": 59,
   "metadata": {},
   "outputs": [
    {
     "name": "stdout",
     "output_type": "stream",
     "text": [
      "Sat Apr 11 18:41:31 2020    C:\\Users\\TEMP.PKAPRIME.000.001\\Documents\\food_recipe\\recipe_gen\\profiles\\profSeq2seqIngrPairingAttNewNucleus.txt\n",
      "\n",
      "         39864008 function calls (38626858 primitive calls) in 1419.071 seconds\n",
      "\n",
      "   Ordered by: internal time\n",
      "   List reduced from 9536 to 10 due to restriction <10>\n",
      "\n",
      "   ncalls  tottime  percall  cumtime  percall filename:lineno(function)\n",
      "      875  352.021    0.402  352.021    0.402 {method 'run_backward' of 'torch._C._EngineBase' objects}\n",
      "    99900  119.803    0.001  119.803    0.001 {built-in method max}\n",
      "  1154246   97.074    0.000   97.074    0.000 {method 'item' of 'torch._C._TensorBase' objects}\n",
      "    99900   92.127    0.001  278.026    0.003 network.py:253(forward)\n",
      "    99900   87.381    0.001  325.806    0.003 seq2seq_model.py:104(top_p_filtering)\n",
      "    99900   79.485    0.001  531.195    0.005 seq2seq_model.py:83(samplek)\n",
      "   600422   78.484    0.000   78.484    0.000 {method 'matmul' of 'torch._C._TensorBase' objects}\n",
      "    99900   66.911    0.001   66.911    0.001 {built-in method sort}\n",
      "    99900   50.644    0.001   50.644    0.001 {method 'logsumexp' of 'torch._C._TensorBase' objects}\n",
      "   109890   38.325    0.000   38.325    0.000 {built-in method gru}\n",
      "\n",
      "\n"
     ]
    }
   ],
   "source": [
    "printStats(\"Seq2seqIngrPairingAttNewNucleus\",\"\")"
   ]
  },
  {
   "cell_type": "code",
   "execution_count": 64,
   "metadata": {},
   "outputs": [
    {
     "data": {
      "text/plain": [
       "351"
      ]
     },
     "execution_count": 64,
     "metadata": {},
     "output_type": "execute_result"
    }
   ],
   "source": [
    "119+87+79+66"
   ]
  },
  {
   "cell_type": "code",
   "execution_count": 66,
   "metadata": {},
   "outputs": [
    {
     "name": "stdout",
     "output_type": "stream",
     "text": [
      "Sat Apr 11 01:32:19 2020    C:\\Users\\TEMP.PKAPRIME.000.001\\Documents\\food_recipe\\recipe_gen\\profiles\\profSeq2seqIngrPairingAttNew.txt\n",
      "\n",
      "         40292844 function calls (39055649 primitive calls) in 1285.603 seconds\n",
      "\n",
      "   Ordered by: internal time\n",
      "   List reduced from 9534 to 100 due to restriction <100>\n",
      "\n",
      "   ncalls  tottime  percall  cumtime  percall filename:lineno(function)\n",
      "      875  361.246    0.413  361.246    0.413 {method 'run_backward' of 'torch._C._EngineBase' objects}\n",
      "    99900  148.132    0.001  248.132    0.002 seq2seq_model.py:109(top_p_filtering)\n",
      "    99900   86.370    0.001  206.447    0.002 network.py:249(forward)\n",
      "   600400   79.118    0.000   79.118    0.000 {method 'matmul' of 'torch._C._TensorBase' objects}\n",
      "    99900   78.860    0.001  449.398    0.004 network.py:131(forward)\n",
      "    99900   66.688    0.001   66.688    0.001 {built-in method sort}\n",
      "    99900   42.143    0.000   42.143    0.000 {method 'logsumexp' of 'torch._C._TensorBase' objects}\n",
      "    99900   38.729    0.000  404.097    0.004 seq2seq_model.py:83(samplek)\n",
      "   109890   36.940    0.000   36.940    0.000 {built-in method gru}\n",
      "  1129751   35.263    0.000   35.263    0.000 {method 'item' of 'torch._C._TensorBase' objects}\n",
      "   399600   28.751    0.000   28.751    0.000 {method 'softmax' of 'torch._C._TensorBase' objects}\n",
      "   202796   21.229    0.000   21.229    0.000 {built-in method cat}\n",
      "   209790   16.924    0.000   16.924    0.000 {built-in method embedding}\n",
      "   200463   14.943    0.000   14.943    0.000 tensor.py:25(wrapped)\n",
      "  1207692   13.691    0.000   13.691    0.000 tensor.py:462(<lambda>)\n",
      "    99900   13.112    0.000   95.247    0.001 network.py:214(forward)\n",
      "    99900   13.047    0.000   13.047    0.000 seq2seq_model.py:78(addAttention)\n",
      "   199800   12.794    0.000   12.794    0.000 {built-in method tanh}\n",
      "   199799   10.094    0.000   10.094    0.000 {built-in method bmm}\n",
      "   509489    9.564    0.000    9.564    0.000 {method 'view' of 'torch._C._TensorBase' objects}\n",
      "    99900    9.160    0.000  876.810    0.009 seq2seq_model.py:442(forwardDecoderStep)\n",
      "   203826    8.495    0.000    8.633    0.000 {method 'to' of 'torch._C._TensorBase' objects}\n",
      "   203796    8.070    0.000    8.070    0.000 {built-in method zeros}\n",
      "        7    7.605    1.086    9.537    1.362 {built-in method _pickle.load}\n",
      "    99900    7.593    0.000    7.593    0.000 {built-in method addmm}\n",
      "    99900    6.721    0.000    6.721    0.000 {built-in method multinomial}\n",
      "    99900    6.719    0.000    6.719    0.000 {built-in method argmax}\n",
      "    99900    6.355    0.000   48.871    0.000 categorical.py:44(__init__)\n",
      "   214662    6.170    0.000    6.170    0.000 {built-in method ones}\n",
      "1320679/121878    6.080    0.000  455.707    0.004 module.py:522(__call__)\n",
      "    99952    5.724    0.000    5.724    0.000 {built-in method zeros_like}\n",
      "    99900    5.142    0.000    5.142    0.000 {method 'clone' of 'torch._C._TensorBase' objects}\n",
      "    99900    5.047    0.000    5.047    0.000 {method 'sum' of 'torch._C._TensorBase' objects}\n",
      "    99900    4.769    0.000    4.769    0.000 {built-in method cumsum}\n",
      "   700300    4.649    0.000    4.649    0.000 {method 't' of 'torch._C._TensorBase' objects}\n",
      "   114762    4.402    0.000    8.102    0.000 seq2seq_utils.py:158(tensorFromSentence)\n",
      "   199800    4.076    0.000    4.076    0.000 {method 'reshape' of 'torch._C._TensorBase' objects}\n",
      "   400598    3.284    0.000    3.284    0.000 {method 'unsqueeze' of 'torch._C._TensorBase' objects}\n",
      "    99900    3.073    0.000    3.073    0.000 {method 'scatter_' of 'torch._C._TensorBase' objects}\n",
      "      999    2.733    0.003  889.190    0.890 seq2seq_model.py:453(forward)\n",
      "  3035234    2.232    0.000    2.232    0.000 module.py:562(__getattr__)\n",
      "   299700    2.119    0.000    2.119    0.000 {method 'expand' of 'torch._C._TensorBase' objects}\n",
      "  1622386    1.714    0.000    1.714    0.000 {built-in method torch._C._get_tracing_state}\n",
      "    41540    1.441    0.000    1.441    0.000 {method 'mul_' of 'torch._C._TensorBase' objects}\n",
      "    41540    1.433    0.000    1.433    0.000 {method 'add_' of 'torch._C._TensorBase' objects}\n",
      "   200454    1.424    0.000    1.424    0.000 {method 'squeeze' of 'torch._C._TensorBase' objects}\n",
      "     1750    1.423    0.001    7.455    0.004 adam.py:49(step)\n",
      "   700300    1.423    0.000   94.891    0.000 linear.py:86(forward)\n",
      "   700300    1.387    0.000   92.951    0.000 functional.py:1355(linear)\n",
      "      999    1.369    0.001    7.393    0.007 network.py:38(forward_all)\n",
      "    20770    1.364    0.000    1.364    0.000 {method 'sqrt' of 'torch._C._TensorBase' objects}\n",
      "   325582    1.336    0.000    1.410    0.000 seq2seq_utils.py:121(filterSinglePair)\n",
      "        1    1.271    1.271 1261.422 1261.422 seq2seq_model.py:237(train_process)\n",
      "  2332855    1.200    0.000    1.200    0.000 {built-in method __new__ of type object at 0x00000000759FBC00}\n",
      "   399600    1.144    0.000    2.642    0.000 pairing_utils.py:79(bestPairingsFromIngr)\n",
      "   234635    1.112    0.000    1.903    0.000 seq2seq_utils.py:148(instr2idx)\n",
      "   301707    1.098    0.000    1.980    0.000 tensor.py:448(__iter__)\n",
      "        2    0.920    0.460   10.565    5.283 seq2seq_utils.py:95(process_data)\n",
      "    23688    0.905    0.000    0.905    0.000 {method 'zero_' of 'torch._C._TensorBase' objects}\n",
      "    20770    0.895    0.000    0.895    0.000 {method 'addcdiv_' of 'torch._C._TensorBase' objects}\n",
      "    20770    0.864    0.000    0.864    0.000 {method 'addcmul_' of 'torch._C._TensorBase' objects}\n",
      "   109890    0.824    0.000   38.738    0.000 rnn.py:690(forward)\n",
      "   944479    0.691    0.000    0.691    0.000 {method 'size' of 'torch._C._TensorBase' objects}\n",
      "3418190/3415433    0.598    0.000    0.927    0.000 {built-in method builtins.len}\n",
      "        2    0.593    0.297    0.593    0.297 {built-in method _cudnn_rnn_flatten_weight}\n",
      "   234635    0.503    0.000    0.791    0.000 seq2seq_utils.py:150(<listcomp>)\n",
      "    99900    0.481    0.000   20.791    0.000 categorical.py:102(sample)\n",
      "   209790    0.476    0.000   17.715    0.000 sparse.py:111(forward)\n",
      "        3    0.464    0.155 1286.278  428.759 main.py:1(<module>)\n",
      "  1679678    0.461    0.000    0.461    0.000 {method 'dim' of 'torch._C._TensorBase' objects}\n",
      "    76508    0.454    0.000    0.715    0.000 seq2seq_utils.py:152(ingr2idx)\n",
      "  2641588    0.433    0.000    0.433    0.000 {method 'values' of 'collections.OrderedDict' objects}\n",
      "     8325    0.411    0.000    0.411    0.000 {built-in method nt.stat}\n",
      "    99900    0.394    0.000    8.451    0.000 utils.py:99(__get__)\n",
      "  2934105    0.373    0.000    0.373    0.000 {method 'get' of 'dict' objects}\n",
      "   399600    0.352    0.000   29.103    0.000 functional.py:1202(softmax)\n",
      "  165/164    0.287    0.002    0.290    0.002 {built-in method _imp.create_dynamic}\n",
      "   466811    0.257    0.000    0.328    0.000 tensor.py:443(__len__)\n",
      "     1756    0.212    0.000    0.271    0.000 <frozen importlib._bootstrap_external>:830(get_data)\n",
      "       22    0.208    0.009    0.208    0.009 {method 'acquire' of '_thread.lock' objects}\n",
      "      253    0.195    0.001    0.195    0.001 {method '_write_file' of 'torch._C.CudaFloatStorageBase' objects}\n",
      "    99900    0.188    0.000    0.213    0.000 distribution.py:209(_extended_shape)\n",
      "   209790    0.182    0.000   17.106    0.000 functional.py:1406(embedding)\n",
      "    99900    0.166    0.000    0.166    0.000 distribution.py:24(__init__)\n",
      "   109890    0.162    0.000    0.621    0.000 rnn.py:178(check_forward_args)\n",
      "    99900    0.159    0.000    0.311    0.000 grad_mode.py:88(__exit__)\n",
      "     1998    0.159    0.000    0.409    0.000 seq2seq_utils.py:209(flattenSequence)\n",
      "     1756    0.151    0.000    0.151    0.000 {built-in method marshal.loads}\n",
      "    76508    0.142    0.000    0.194    0.000 seq2seq_utils.py:154(<listcomp>)\n",
      "   109890    0.130    0.000    0.155    0.000 rnn.py:161(get_expected_hidden_size)\n",
      "    99900    0.129    0.000    0.180    0.000 grad_mode.py:84(__enter__)\n",
      "    38254    0.128    0.000    8.230    0.000 seq2seq_utils.py:191(tensorsFromPair)\n",
      "449174/449057    0.126    0.000    0.131    0.000 {built-in method builtins.isinstance}\n",
      "   926221    0.116    0.000    0.116    0.000 {method 'append' of 'list' objects}\n",
      "    99900    0.111    0.000    7.467    0.000 utils.py:58(logits_to_probs)\n",
      "    99991    0.109    0.000    0.152    0.000 grad_mode.py:137(__init__)\n",
      "   109890    0.109    0.000    0.169    0.000 rnn.py:149(check_input)\n",
      "5119/5014    0.094    0.000    0.264    0.000 {built-in method builtins.__build_class__}\n",
      "      999    0.091    0.000  889.950    0.891 seq2seq_model.py:221(train_iter)\n",
      "     1999    0.091    0.000    0.091    0.000 {built-in method tensor}\n",
      "\n",
      "\n"
     ]
    }
   ],
   "source": [
    "printStats(\"Seq2seqIngrPairingAttNew\",\"\",100)"
   ]
  },
  {
   "cell_type": "code",
   "execution_count": 63,
   "metadata": {},
   "outputs": [
    {
     "data": {
      "text/plain": [
       "252"
      ]
     },
     "execution_count": 63,
     "metadata": {},
     "output_type": "execute_result"
    }
   ],
   "source": [
    "148+66+38"
   ]
  },
  {
   "cell_type": "code",
   "execution_count": null,
   "metadata": {},
   "outputs": [],
   "source": []
  }
 ],
 "metadata": {
  "kernelspec": {
   "display_name": "Python 3",
   "language": "python",
   "name": "python3"
  },
  "language_info": {
   "codemirror_mode": {
    "name": "ipython",
    "version": 3
   },
   "file_extension": ".py",
   "mimetype": "text/x-python",
   "name": "python",
   "nbconvert_exporter": "python",
   "pygments_lexer": "ipython3",
   "version": "3.6.10"
  }
 },
 "nbformat": 4,
 "nbformat_minor": 4
}
