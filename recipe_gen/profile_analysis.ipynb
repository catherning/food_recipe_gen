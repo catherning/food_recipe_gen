{
 "cells": [
  {
   "cell_type": "code",
   "execution_count": 28,
   "metadata": {},
   "outputs": [],
   "source": [
    "import pstats\n",
    "import os"
   ]
  },
  {
   "cell_type": "code",
   "execution_count": 36,
   "metadata": {},
   "outputs": [],
   "source": [
    "def printStats(model,obj):\n",
    "    p = pstats.Stats(os.path.join(os.getcwd(),\"profiles\",'prof{}.txt'.format(model)))\n",
    "    p.strip_dirs().sort_stats(\"time\").print_stats(obj)"
   ]
  },
  {
   "cell_type": "code",
   "execution_count": 37,
   "metadata": {},
   "outputs": [
    {
     "name": "stdout",
     "output_type": "stream",
     "text": [
      "Fri Apr 10 18:24:10 2020    C:\\Users\\TEMP.PKAPRIME.000.001\\Documents\\food_recipe\\recipe_gen\\profiles\\profSeq2seq.txt\n",
      "\n",
      "         23526744 function calls (23188938 primitive calls) in 709.081 seconds\n",
      "\n",
      "   Ordered by: internal time\n",
      "   List reduced from 9519 to 10 due to restriction <'forward'>\n",
      "\n",
      "   ncalls  tottime  percall  cumtime  percall filename:lineno(function)\n",
      "    99878    9.031    0.000  478.039    0.005 seq2seq_model.py:160(forwardDecoderStep)\n",
      "    99878    3.232    0.000   65.536    0.001 network.py:73(forward)\n",
      "      999    2.660    0.003  490.311    0.491 seq2seq_model.py:170(forward)\n",
      "      999    1.378    0.001    7.426    0.007 network.py:39(forward_all)\n",
      "   109868    0.848    0.000   38.853    0.000 rnn.py:690(forward)\n",
      "   109868    0.273    0.000    9.013    0.000 sparse.py:111(forward)\n",
      "   100877    0.262    0.000    9.380    0.000 linear.py:86(forward)\n",
      "   109868    0.170    0.000    0.595    0.000 rnn.py:178(check_forward_args)\n",
      "     9990    0.063    0.000    5.296    0.001 network.py:25(forward)\n",
      "      999    0.003    0.000    0.154    0.000 loss.py:914(forward)\n",
      "\n",
      "\n"
     ]
    }
   ],
   "source": [
    "printStats(\"Seq2seq\",\"forward\")"
   ]
  },
  {
   "cell_type": "code",
   "execution_count": 38,
   "metadata": {},
   "outputs": [
    {
     "name": "stdout",
     "output_type": "stream",
     "text": [
      "Fri Apr 10 18:39:50 2020    C:\\Users\\TEMP.PKAPRIME.000.001\\Documents\\food_recipe\\recipe_gen\\profiles\\profSeq2seqAtt.txt\n",
      "\n",
      "         28775448 function calls (28037923 primitive calls) in 937.998 seconds\n",
      "\n",
      "   Ordered by: internal time\n",
      "   List reduced from 9530 to 12 due to restriction <'forward'>\n",
      "\n",
      "   ncalls  tottime  percall  cumtime  percall filename:lineno(function)\n",
      "    99900    9.095    0.000  560.419    0.006 seq2seq_model.py:160(forwardDecoderStep)\n",
      "    99900    8.821    0.000   78.277    0.001 network.py:177(forward)\n",
      "    99900    3.226    0.000  137.536    0.001 network.py:96(forward)\n",
      "      999    2.669    0.003  572.666    0.573 seq2seq_model.py:170(forward)\n",
      "      999    1.370    0.001    7.394    0.007 network.py:39(forward_all)\n",
      "   109890    0.778    0.000   38.652    0.000 rnn.py:690(forward)\n",
      "   300699    0.681    0.000   25.573    0.000 linear.py:86(forward)\n",
      "   109890    0.284    0.000    8.963    0.000 sparse.py:111(forward)\n",
      "   109890    0.178    0.000    0.638    0.000 rnn.py:178(check_forward_args)\n",
      "    99900    0.150    0.000    8.080    0.000 dropout.py:53(forward)\n",
      "     9990    0.063    0.000    5.282    0.001 network.py:25(forward)\n",
      "      999    0.003    0.000    0.154    0.000 loss.py:914(forward)\n",
      "\n",
      "\n"
     ]
    }
   ],
   "source": [
    "printStats(\"Seq2seqAtt\",\"forward\")"
   ]
  },
  {
   "cell_type": "code",
   "execution_count": 39,
   "metadata": {},
   "outputs": [
    {
     "name": "stdout",
     "output_type": "stream",
     "text": [
      "Fri Apr 10 18:54:52 2020    C:\\Users\\TEMP.PKAPRIME.000.001\\Documents\\food_recipe\\recipe_gen\\profiles\\profSeq2seqIngrAtt.txt\n",
      "\n",
      "         26260767 function calls (25723022 primitive calls) in 901.214 seconds\n",
      "\n",
      "   Ordered by: internal time\n",
      "   List reduced from 9529 to 11 due to restriction <'forward'>\n",
      "\n",
      "   ncalls  tottime  percall  cumtime  percall filename:lineno(function)\n",
      "    99898    9.572    0.000  549.995    0.006 seq2seq_model.py:160(forwardDecoderStep)\n",
      "    99898    8.622    0.000   61.592    0.001 network.py:214(forward)\n",
      "    99898    3.281    0.000  123.405    0.001 network.py:96(forward)\n",
      "      999    2.768    0.003  562.482    0.563 seq2seq_model.py:170(forward)\n",
      "      999    1.416    0.001    7.485    0.007 network.py:39(forward_all)\n",
      "   109888    0.858    0.000   40.629    0.000 rnn.py:690(forward)\n",
      "   200795    0.509    0.000   18.158    0.000 linear.py:86(forward)\n",
      "   109888    0.280    0.000    9.097    0.000 sparse.py:111(forward)\n",
      "   109888    0.184    0.000    0.693    0.000 rnn.py:178(check_forward_args)\n",
      "     9990    0.063    0.000    5.315    0.001 network.py:25(forward)\n",
      "      999    0.003    0.000    0.158    0.000 loss.py:914(forward)\n",
      "\n",
      "\n"
     ]
    }
   ],
   "source": [
    "printStats(\"Seq2seqIngrAtt\",\"forward\")"
   ]
  },
  {
   "cell_type": "code",
   "execution_count": 40,
   "metadata": {},
   "outputs": [
    {
     "name": "stdout",
     "output_type": "stream",
     "text": [
      "Fri Apr 10 19:53:47 2020    C:\\Users\\TEMP.PKAPRIME.000.001\\Documents\\food_recipe\\recipe_gen\\profiles\\profSeq2seqIngrPairingAtt.txt\n",
      "\n",
      "         69787687 function calls (67052232 primitive calls) in 3533.035 seconds\n",
      "\n",
      "   Ordered by: internal time\n",
      "   List reduced from 9535 to 12 due to restriction <'forward'>\n",
      "\n",
      "   ncalls  tottime  percall  cumtime  percall filename:lineno(function)\n",
      "    99894  448.701    0.004  908.578    0.009 network.py:243(forward)\n",
      "    99894   79.640    0.001 1122.331    0.011 network.py:132(forward)\n",
      "    99894    9.330    0.000 1555.865    0.016 seq2seq_model.py:442(forwardDecoderStep)\n",
      "    99894    8.898    0.000   62.807    0.001 network.py:214(forward)\n",
      "  2198674    5.417    0.000  183.569    0.000 linear.py:86(forward)\n",
      "      999    2.810    0.003 1568.920    1.570 seq2seq_model.py:453(forward)\n",
      "      999    1.463    0.001    7.953    0.008 network.py:39(forward_all)\n",
      "   109884    1.018    0.000   41.143    0.000 rnn.py:690(forward)\n",
      "   209778    0.569    0.000   18.139    0.000 sparse.py:111(forward)\n",
      "   109884    0.203    0.000    0.679    0.000 rnn.py:178(check_forward_args)\n",
      "     9990    0.068    0.000    5.707    0.001 network.py:25(forward)\n",
      "      999    0.003    0.000    0.156    0.000 loss.py:914(forward)\n",
      "\n",
      "\n"
     ]
    }
   ],
   "source": [
    "printStats(\"Seq2seqIngrPairingAtt\",\"forward\")"
   ]
  },
  {
   "cell_type": "code",
   "execution_count": 45,
   "metadata": {},
   "outputs": [
    {
     "name": "stdout",
     "output_type": "stream",
     "text": [
      "Fri Apr 10 19:53:47 2020    C:\\Users\\TEMP.PKAPRIME.000.001\\Documents\\food_recipe\\recipe_gen\\profiles\\profSeq2seqIngrPairingAtt - before opt.txt\n",
      "\n",
      "         69787687 function calls (67052232 primitive calls) in 3533.035 seconds\n",
      "\n",
      "   Ordered by: internal time\n",
      "   List reduced from 9535 to 12 due to restriction <'forward'>\n",
      "\n",
      "   ncalls  tottime  percall  cumtime  percall filename:lineno(function)\n",
      "    99894  448.701    0.004  908.578    0.009 network.py:243(forward)\n",
      "    99894   79.640    0.001 1122.331    0.011 network.py:132(forward)\n",
      "    99894    9.330    0.000 1555.865    0.016 seq2seq_model.py:442(forwardDecoderStep)\n",
      "    99894    8.898    0.000   62.807    0.001 network.py:214(forward)\n",
      "  2198674    5.417    0.000  183.569    0.000 linear.py:86(forward)\n",
      "      999    2.810    0.003 1568.920    1.570 seq2seq_model.py:453(forward)\n",
      "      999    1.463    0.001    7.953    0.008 network.py:39(forward_all)\n",
      "   109884    1.018    0.000   41.143    0.000 rnn.py:690(forward)\n",
      "   209778    0.569    0.000   18.139    0.000 sparse.py:111(forward)\n",
      "   109884    0.203    0.000    0.679    0.000 rnn.py:178(check_forward_args)\n",
      "     9990    0.068    0.000    5.707    0.001 network.py:25(forward)\n",
      "      999    0.003    0.000    0.156    0.000 loss.py:914(forward)\n",
      "\n",
      "\n"
     ]
    }
   ],
   "source": [
    "printStats(\"Seq2seqIngrPairingAtt - before opt\",\"forward\")"
   ]
  },
  {
   "cell_type": "code",
   "execution_count": 43,
   "metadata": {},
   "outputs": [
    {
     "name": "stdout",
     "output_type": "stream",
     "text": [
      "Fri Apr 10 19:53:47 2020    C:\\Users\\TEMP.PKAPRIME.000.001\\Documents\\food_recipe\\recipe_gen\\profiles\\profSeq2seqIngrPairingAtt - before opt.txt\n",
      "\n",
      "         69787687 function calls (67052232 primitive calls) in 3533.035 seconds\n",
      "\n"
     ]
    }
   ],
   "source": [
    "printStats(\"Seq2seqIngrPairingAtt - before opt\",\"attn\")"
   ]
  },
  {
   "cell_type": "code",
   "execution_count": null,
   "metadata": {},
   "outputs": [],
   "source": []
  }
 ],
 "metadata": {
  "kernelspec": {
   "display_name": "Python 3",
   "language": "python",
   "name": "python3"
  },
  "language_info": {
   "codemirror_mode": {
    "name": "ipython",
    "version": 3
   },
   "file_extension": ".py",
   "mimetype": "text/x-python",
   "name": "python",
   "nbconvert_exporter": "python",
   "pygments_lexer": "ipython3",
   "version": "3.6.10"
  }
 },
 "nbformat": 4,
 "nbformat_minor": 4
}
