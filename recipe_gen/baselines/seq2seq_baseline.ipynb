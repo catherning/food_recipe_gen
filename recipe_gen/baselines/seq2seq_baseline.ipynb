{
 "cells": [
  {
   "cell_type": "code",
   "execution_count": 1,
   "metadata": {},
   "outputs": [],
   "source": [
    "%matplotlib inline\n",
    "\n",
    "# https://pytorch.org/tutorials/intermediate/seq2seq_translation_tutorial.html"
   ]
  },
  {
   "cell_type": "code",
   "execution_count": 5,
   "metadata": {},
   "outputs": [],
   "source": [
    "from __future__ import unicode_literals, print_function, division\n",
    "from io import open\n",
    "import unicodedata\n",
    "import string\n",
    "import re\n",
    "import random\n",
    "from functools import reduce\n",
    "import os\n",
    "import pickle\n",
    "\n",
    "import time\n",
    "import math\n",
    "import matplotlib.pyplot as plt\n",
    "import matplotlib.ticker as ticker\n",
    "import numpy as np\n",
    "\n",
    "import torch\n",
    "import torch.nn as nn\n",
    "from torch import optim\n",
    "import torch.nn.functional as F\n",
    "\n",
    "import sys\n",
    "sys.path.insert(0, \"D:\\\\Documents\\\\THU\\\\food_recipe_gen\")\n",
    "\n",
    "from recipe_1m_analysis.utils import Vocabulary, FOLDER_PATH, DATA_FILES \n",
    "\n",
    "device = torch.device(\"cuda\" if torch.cuda.is_available() else \"cpu\")"
   ]
  },
  {
   "cell_type": "code",
   "execution_count": 6,
   "metadata": {},
   "outputs": [],
   "source": [
    "SOS_token = 0\n",
    "EOS_token = 1"
   ]
  },
  {
   "cell_type": "code",
   "execution_count": 7,
   "metadata": {},
   "outputs": [
    {
     "data": {
      "text/plain": [
       "['allingrs_count.pkl',\n",
       " 'allwords_count.pkl',\n",
       " 'recipe1m_test.pkl',\n",
       " 'recipe1m_vocab_ingrs.pkl',\n",
       " 'recipe1m_vocab_toks.pkl']"
      ]
     },
     "execution_count": 7,
     "metadata": {},
     "output_type": "execute_result"
    }
   ],
   "source": [
    "DATA_FILES"
   ]
  },
  {
   "cell_type": "code",
   "execution_count": 8,
   "metadata": {},
   "outputs": [],
   "source": [
    "with open(os.path.join(FOLDER_PATH,DATA_FILES[3]),'rb') as f:\n",
    "    vocab_ingrs=pickle.load(f)\n",
    "    \n",
    "with open(os.path.join(FOLDER_PATH,DATA_FILES[4]),'rb') as f:\n",
    "    vocab_tokens=pickle.load(f)"
   ]
  },
  {
   "cell_type": "code",
   "execution_count": 9,
   "metadata": {
    "scrolled": true
   },
   "outputs": [
    {
     "name": "stdout",
     "output_type": "stream",
     "text": [
      "18745\n"
     ]
    }
   ],
   "source": [
    "with open(os.path.join(FOLDER_PATH,DATA_FILES[2]),'rb') as f:\n",
    "    data=pickle.load(f)\n",
    "\n",
    "pairs=[]\n",
    "for recipe in data:\n",
    "    pairs.append([recipe[\"ingredients\"],recipe[\"tokenized\"]])\n",
    "\n",
    "print(len(pairs))"
   ]
  },
  {
   "cell_type": "code",
   "execution_count": 10,
   "metadata": {},
   "outputs": [
    {
     "data": {
      "text/plain": [
       "539"
      ]
     },
     "execution_count": 10,
     "metadata": {},
     "output_type": "execute_result"
    }
   ],
   "source": [
    "length=0\n",
    "for i,pair in enumerate(pairs):\n",
    "    length_t = len([item for sublist in pair[1] for item in sublist])\n",
    "    \n",
    "    if length_t>length:\n",
    "        length=length_t\n",
    "\n",
    "length"
   ]
  },
  {
   "cell_type": "code",
   "execution_count": 11,
   "metadata": {},
   "outputs": [],
   "source": [
    "MAX_LENGTH=300"
   ]
  },
  {
   "cell_type": "code",
   "execution_count": 12,
   "metadata": {},
   "outputs": [],
   "source": [
    "# pairs[16826]"
   ]
  },
  {
   "cell_type": "code",
   "execution_count": 13,
   "metadata": {},
   "outputs": [
    {
     "name": "stdout",
     "output_type": "stream",
     "text": [
      "14724\n"
     ]
    }
   ],
   "source": [
    "def filterPair(p):\n",
    "    length=0\n",
    "    for ingr in p[0]:\n",
    "        if ingr not in vocab_ingrs.word2idx:\n",
    "            return False\n",
    "        \n",
    "    for sent in p[1]:\n",
    "        \n",
    "        for word in sent:\n",
    "            # TODO check how steps tokenized ? Put into vocab ???\n",
    "            if word not in vocab_tokens.word2idx:\n",
    "                return False\n",
    "        length+=len(sent)\n",
    "    \n",
    "    return length < MAX_LENGTH\n",
    "\n",
    "\n",
    "def filterPairs(pairs):\n",
    "    return [pair for pair in pairs if filterPair(pair)]\n",
    "\n",
    "pairs = filterPairs(pairs)\n",
    "print(len(pairs))"
   ]
  },
  {
   "cell_type": "code",
   "execution_count": 14,
   "metadata": {},
   "outputs": [],
   "source": [
    "# vocab_ingrs.word2idx['quahogs']"
   ]
  },
  {
   "cell_type": "markdown",
   "metadata": {},
   "source": [
    "<div class=\"alert alert-info\"><h4>Note</h4><p>There are other forms of attention that work around the length\n",
    "  limitation by using a relative position approach. Read about \"local\n",
    "  attention\" in `Effective Approaches to Attention-based Neural Machine\n",
    "  Translation <https://arxiv.org/abs/1508.04025>`__.</p></div>\n",
    "\n",
    "Training\n",
    "========\n",
    "\n",
    "Preparing Training Data\n",
    "-----------------------\n",
    "\n",
    "To train, for each pair we will need an input tensor (indexes of the\n",
    "words in the input sentence) and target tensor (indexes of the words in\n",
    "the target sentence). While creating these vectors we will append the\n",
    "EOS token to both sequences.\n",
    "\n",
    "\n"
   ]
  },
  {
   "cell_type": "code",
   "execution_count": 15,
   "metadata": {},
   "outputs": [],
   "source": [
    "def list2idx(vocab, sentence):\n",
    "    return [vocab.word2idx[word] for word in sentence]\n",
    "\n",
    "\n",
    "def tensorFromSentence(vocab, sentence,instructions=False):\n",
    "    if instructions:\n",
    "        indexes=[]\n",
    "        for sent in sentence:\n",
    "            indexes.extend(list2idx(vocab, sent))\n",
    "    else:\n",
    "        indexes = list2idx(vocab, sentence)\n",
    "    indexes.append(EOS_token)\n",
    "    return torch.tensor(indexes, dtype=torch.long, device=device).view(-1, 1)\n",
    "\n",
    "\n",
    "def tensorsFromPair(pair):\n",
    "    input_tensor = tensorFromSentence(vocab_ingrs, pair[0])\n",
    "    target_tensor = tensorFromSentence(vocab_tokens, pair[1],instructions=True)\n",
    "    return (input_tensor, target_tensor)"
   ]
  },
  {
   "cell_type": "markdown",
   "metadata": {},
   "source": [
    "The Seq2Seq Model\n",
    "=================\n",
    "With a seq2seq model the encoder creates a single vector which, in the\n",
    "ideal case, encodes the \"meaning\" of the input sequence into a single\n",
    "vector — a single point in some N dimensional space of sentences.\n",
    "\n",
    "\n"
   ]
  },
  {
   "cell_type": "markdown",
   "metadata": {},
   "source": [
    "The Encoder\n",
    "-----------\n",
    "\n",
    "The encoder of a seq2seq network is a RNN that outputs some value for\n",
    "every word from the input sentence. For every input word the encoder\n",
    "outputs a vector and a hidden state, and uses the hidden state for the\n",
    "next input word.\n",
    "\n"
   ]
  },
  {
   "cell_type": "code",
   "execution_count": 16,
   "metadata": {},
   "outputs": [],
   "source": [
    "class EncoderRNN(nn.Module):\n",
    "    def __init__(self, input_size, hidden_size):\n",
    "        super(EncoderRNN, self).__init__()\n",
    "        self.hidden_size = hidden_size\n",
    "\n",
    "        self.embedding = nn.Embedding(input_size, hidden_size)\n",
    "        self.gru = nn.GRU(hidden_size, hidden_size)\n",
    "\n",
    "    def forward(self, input_, hidden):\n",
    "        embedded = self.embedding(input_).view(1, 1, -1)\n",
    "        output = embedded\n",
    "        output, hidden = self.gru(output, hidden)\n",
    "        return output, hidden\n",
    "\n",
    "    def initHidden(self):\n",
    "        return torch.zeros(1, 1, self.hidden_size, device=device)"
   ]
  },
  {
   "cell_type": "markdown",
   "metadata": {},
   "source": [
    "The Decoder\n",
    "-----------\n",
    "\n",
    "The decoder is another RNN that takes the encoder output vector(s) and\n",
    "outputs a sequence of words to create the translation.\n",
    "\n",
    "\n"
   ]
  },
  {
   "cell_type": "markdown",
   "metadata": {},
   "source": [
    "**Simple Decoder**\n",
    "\n",
    "\n",
    "In the simplest seq2seq decoder we use only last output of the encoder.\n",
    "This last output is sometimes called the *context vector* as it encodes\n",
    "context from the entire sequence. This context vector is used as the\n",
    "initial hidden state of the decoder.\n",
    "\n",
    "At every step of decoding, the decoder is given an input token and\n",
    "hidden state. The initial input token is the start-of-string ``<SOS>``\n",
    "token, and the first hidden state is the context vector (the encoder's\n",
    "last hidden state).\n",
    "\n",
    "\n"
   ]
  },
  {
   "cell_type": "code",
   "execution_count": 17,
   "metadata": {},
   "outputs": [],
   "source": [
    "class DecoderRNN(nn.Module):\n",
    "    def __init__(self, hidden_size, output_size):\n",
    "        super(DecoderRNN, self).__init__()\n",
    "        self.hidden_size = hidden_size\n",
    "\n",
    "        self.embedding = nn.Embedding(output_size, hidden_size)\n",
    "        self.gru = nn.GRU(hidden_size, hidden_size)\n",
    "        self.out = nn.Linear(hidden_size, output_size)\n",
    "        self.softmax = nn.LogSoftmax(dim=1)\n",
    "\n",
    "    def forward(self, input, hidden):\n",
    "        output = self.embedding(input).view(1, 1, -1)\n",
    "        output = F.relu(output)\n",
    "        output, hidden = self.gru(output, hidden)\n",
    "        output = self.softmax(self.out(output[0]))\n",
    "        return output, hidden\n",
    "\n",
    "    def initHidden(self):\n",
    "        return torch.zeros(1, 1, self.hidden_size, device=device)"
   ]
  },
  {
   "cell_type": "markdown",
   "metadata": {},
   "source": [
    "**Attention Decoder**\n",
    "\n",
    "If only the context vector is passed betweeen the encoder and decoder,\n",
    "that single vector carries the burden of encoding the entire sentence.\n",
    "\n",
    "Attention allows the decoder network to \"focus\" on a different part of\n",
    "the encoder's outputs for every step of the decoder's own outputs. First\n",
    "we calculate a set of *attention weights*. These will be multiplied by\n",
    "the encoder output vectors to create a weighted combination. The result\n",
    "(called ``attn_applied`` in the code) should contain information about\n",
    "that specific part of the input sequence, and thus help the decoder\n",
    "choose the right output words.\n",
    "\n",
    ".. figure:: https://i.imgur.com/1152PYf.png\n",
    "   :alt:\n",
    "\n",
    "Calculating the attention weights is done with another feed-forward\n",
    "layer ``attn``, using the decoder's input and hidden state as inputs.\n",
    "Because there are sentences of all sizes in the training data, to\n",
    "actually create and train this layer we have to choose a maximum\n",
    "sentence length (input length, for encoder outputs) that it can apply\n",
    "to. Sentences of the maximum length will use all the attention weights,\n",
    "while shorter sentences will only use the first few.\n",
    "\n",
    ".. figure:: /_static/img/seq-seq-images/attention-decoder-network.png\n",
    "   :alt:\n",
    "\n",
    "\n",
    "\n"
   ]
  },
  {
   "cell_type": "code",
   "execution_count": 18,
   "metadata": {},
   "outputs": [],
   "source": [
    "class AttnDecoderRNN(nn.Module):\n",
    "    def __init__(self, hidden_size, output_size, dropout_p=0.1, max_length=MAX_LENGTH):\n",
    "        super(AttnDecoderRNN, self).__init__()\n",
    "        self.hidden_size = hidden_size\n",
    "        self.output_size = output_size\n",
    "        self.dropout_p = dropout_p\n",
    "        self.max_length = max_length\n",
    "\n",
    "        self.embedding = nn.Embedding(self.output_size, self.hidden_size)\n",
    "        self.attn = nn.Linear(self.hidden_size * 2, self.max_length)\n",
    "        self.attn_combine = nn.Linear(self.hidden_size * 2, self.hidden_size)\n",
    "        self.dropout = nn.Dropout(self.dropout_p)\n",
    "        self.gru = nn.GRU(self.hidden_size, self.hidden_size)\n",
    "        self.out = nn.Linear(self.hidden_size, self.output_size)\n",
    "\n",
    "    def forward(self, input, hidden, encoder_outputs):\n",
    "        embedded = self.embedding(input).view(1, 1, -1)\n",
    "        embedded = self.dropout(embedded)\n",
    "\n",
    "        attn_weights = F.softmax(\n",
    "            self.attn(torch.cat((embedded[0], hidden[0]), 1)), dim=1)\n",
    "        attn_applied = torch.bmm(attn_weights.unsqueeze(0),\n",
    "                                 encoder_outputs.unsqueeze(0))\n",
    "\n",
    "        output = torch.cat((embedded[0], attn_applied[0]), 1)\n",
    "        output = self.attn_combine(output).unsqueeze(0)\n",
    "\n",
    "        output = F.relu(output)\n",
    "        output, hidden = self.gru(output, hidden)\n",
    "\n",
    "        output = F.log_softmax(self.out(output[0]), dim=1)\n",
    "        return output, hidden, attn_weights\n",
    "\n",
    "    def initHidden(self):\n",
    "        return torch.zeros(1, 1, self.hidden_size, device=device)"
   ]
  },
  {
   "cell_type": "markdown",
   "metadata": {},
   "source": [
    "Training the Model\n",
    "------------------\n",
    "\n",
    "To train we run the input sentence through the encoder, and keep track\n",
    "of every output and the latest hidden state. Then the decoder is given\n",
    "the ``<SOS>`` token as its first input, and the last hidden state of the\n",
    "encoder as its first hidden state.\n",
    "\n",
    "\"Teacher forcing\" is the concept of using the real target outputs as\n",
    "each next input, instead of using the decoder's guess as the next input.\n",
    "Using teacher forcing causes it to converge faster but `when the trained\n",
    "network is exploited, it may exhibit\n",
    "instability <http://citeseerx.ist.psu.edu/viewdoc/download?doi=10.1.1.378.4095&rep=rep1&type=pdf>`__.\n",
    "\n",
    "\n",
    "Because of the freedom PyTorch's autograd gives us, we can randomly\n",
    "choose to use teacher forcing or not with a simple if statement. Turn\n",
    "``teacher_forcing_ratio`` up to use more of it.\n",
    "\n",
    "\n"
   ]
  },
  {
   "cell_type": "code",
   "execution_count": 28,
   "metadata": {},
   "outputs": [],
   "source": [
    "teacher_forcing_ratio = 0.5\n",
    "\n",
    "\n",
    "def train(input_tensor, target_tensor, encoder, decoder, encoder_optimizer, decoder_optimizer, criterion, max_length=MAX_LENGTH, attention=False):\n",
    "    encoder_hidden = encoder.initHidden()\n",
    "\n",
    "    encoder_optimizer.zero_grad()\n",
    "    decoder_optimizer.zero_grad()\n",
    "\n",
    "    input_length = input_tensor.size(0)\n",
    "    target_length = target_tensor.size(0)\n",
    "\n",
    "    encoder_outputs = torch.zeros(max_length, encoder.hidden_size, device=device)\n",
    "\n",
    "    loss = 0\n",
    "\n",
    "    for ei in range(input_length):\n",
    "        encoder_output, encoder_hidden = encoder(\n",
    "            input_tensor[ei], encoder_hidden)\n",
    "        encoder_outputs[ei] = encoder_output[0, 0]\n",
    "\n",
    "    decoder_input = torch.tensor([[SOS_token]], device=device)\n",
    "\n",
    "    decoder_hidden = encoder_hidden\n",
    "\n",
    "    use_teacher_forcing = True if random.random() < teacher_forcing_ratio else False\n",
    "    decoded_words=[]\n",
    "\n",
    "    if use_teacher_forcing:\n",
    "        # Teacher forcing: Feed the target as the next input\n",
    "        if attention:\n",
    "            for di in range(target_length):\n",
    "                decoder_output, decoder_hidden, decoder_attention = decoder(\n",
    "                    decoder_input, decoder_hidden, encoder_outputs)\n",
    "                loss += criterion(decoder_output, target_tensor[di])\n",
    "                decoder_input = target_tensor[di]  # Teacher forcing\n",
    "                topv, topi = decoder_output.topk(1)\n",
    "                decoded_words.append(vocab_tokens.idx2word[topi.item()])\n",
    "        else:\n",
    "            for di in range(target_length):\n",
    "                decoder_output, decoder_hidden = decoder(\n",
    "                    decoder_input, decoder_hidden)\n",
    "                loss += criterion(decoder_output, target_tensor[di])\n",
    "                decoder_input = target_tensor[di]  # Teacher forcing\n",
    "                \n",
    "                topv, topi = decoder_output.topk(1)\n",
    "                decoded_words.append(vocab_tokens.idx2word[topi.item()])\n",
    "            \n",
    "    else:\n",
    "        # Without teacher forcing: use its own predictions as the next input\n",
    "        if attention:\n",
    "            for di in range(target_length):\n",
    "                decoder_output, decoder_hidden, decoder_attention = decoder(\n",
    "                    decoder_input, decoder_hidden, encoder_outputs)\n",
    "                topv, topi = decoder_output.topk(1)\n",
    "                decoder_input = topi.squeeze().detach()  # detach from history as input\n",
    "                \n",
    "                decoded_words.append(vocab_tokens.idx2word[topi.item()])\n",
    "                loss += criterion(decoder_output, target_tensor[di])\n",
    "                if decoder_input.item() == EOS_token:\n",
    "                    break\n",
    "        else:\n",
    "            for di in range(target_length):\n",
    "                decoder_output, decoder_hidden = decoder(\n",
    "                    decoder_input, decoder_hidden)\n",
    "                topv, topi = decoder_output.topk(1)\n",
    "                decoder_input = topi.squeeze().detach()  # detach from history as input\n",
    "                \n",
    "                decoded_words.append(vocab_tokens.idx2word[topi.item()])\n",
    "                loss += criterion(decoder_output, target_tensor[di])\n",
    "                if decoder_input.item() == EOS_token:\n",
    "                    break\n",
    "\n",
    "    loss.backward()\n",
    "\n",
    "    encoder_optimizer.step()\n",
    "    decoder_optimizer.step()\n",
    "\n",
    "    return loss.item() / target_length,decoded_words"
   ]
  },
  {
   "cell_type": "code",
   "execution_count": 29,
   "metadata": {},
   "outputs": [],
   "source": [
    "def asMinutes(s):\n",
    "    m = math.floor(s / 60)\n",
    "    s -= m * 60\n",
    "    return '%dm %ds' % (m, s)\n",
    "\n",
    "\n",
    "def timeSince(since, percent):\n",
    "    now = time.time()\n",
    "    s = now - since\n",
    "    es = s / (percent)\n",
    "    rs = es - s\n",
    "    return '%s (- %s)' % (asMinutes(s), asMinutes(rs))"
   ]
  },
  {
   "cell_type": "markdown",
   "metadata": {},
   "source": [
    "The whole training process looks like this:\n",
    "\n",
    "-  Start a timer\n",
    "-  Initialize optimizers and criterion\n",
    "-  Create set of training pairs\n",
    "-  Start empty losses array for plotting\n",
    "\n",
    "Then we call ``train`` many times and occasionally print the progress (%\n",
    "of examples, time so far, estimated time) and average loss.\n",
    "\n",
    "\n"
   ]
  },
  {
   "cell_type": "code",
   "execution_count": 30,
   "metadata": {},
   "outputs": [],
   "source": [
    "def trainIters(encoder, decoder, n_iters, print_every=1000, plot_every=100, learning_rate=0.01,attention=True):\n",
    "    start = time.time()\n",
    "    plot_losses = []\n",
    "    print_loss_total = 0  # Reset every print_every\n",
    "    plot_loss_total = 0  # Reset every plot_every\n",
    "\n",
    "    encoder_optimizer = optim.SGD(encoder.parameters(), lr=learning_rate)\n",
    "    decoder_optimizer = optim.SGD(decoder.parameters(), lr=learning_rate)\n",
    "    training_pairs = [tensorsFromPair(random.choice(pairs))\n",
    "                      for i in range(n_iters)]\n",
    "    criterion = nn.NLLLoss()\n",
    "\n",
    "    for iter in range(1, n_iters + 1):\n",
    "        training_pair = training_pairs[iter - 1]\n",
    "        input_tensor = training_pair[0]\n",
    "        target_tensor = training_pair[1]\n",
    "\n",
    "        loss,decoded_words = train(input_tensor, target_tensor, encoder,\n",
    "                     decoder, encoder_optimizer, decoder_optimizer, criterion,attention=attention)\n",
    "        print_loss_total += loss\n",
    "        plot_loss_total += loss\n",
    "\n",
    "        if iter % print_every == 0:\n",
    "            print_loss_avg = print_loss_total / print_every\n",
    "            print_loss_total = 0\n",
    "            print('%s (%d %d%%) %.4f' % (timeSince(start, iter / n_iters),\n",
    "                                         iter, iter / n_iters * 100, print_loss_avg))\n",
    "            print(decoded_words)\n",
    "\n",
    "        if iter % plot_every == 0:\n",
    "            plot_loss_avg = plot_loss_total / plot_every\n",
    "            plot_losses.append(plot_loss_avg)\n",
    "            plot_loss_total = 0\n",
    "\n",
    "    showPlot(plot_losses)"
   ]
  },
  {
   "cell_type": "markdown",
   "metadata": {},
   "source": [
    "Plotting results\n",
    "----------------\n",
    "\n",
    "Plotting is done with matplotlib, using the array of loss values\n",
    "``plot_losses`` saved while training.\n",
    "\n",
    "\n"
   ]
  },
  {
   "cell_type": "code",
   "execution_count": 31,
   "metadata": {},
   "outputs": [],
   "source": [
    "plt.switch_backend('agg')\n",
    "\n",
    "\n",
    "def showPlot(points):\n",
    "    plt.figure()\n",
    "    fig, ax = plt.subplots()\n",
    "    # this locator puts ticks at regular intervals\n",
    "    loc = ticker.MultipleLocator(base=0.2)\n",
    "    ax.yaxis.set_major_locator(loc)\n",
    "    plt.plot(points)"
   ]
  },
  {
   "cell_type": "markdown",
   "metadata": {},
   "source": [
    "Evaluation\n",
    "==========\n",
    "\n",
    "Evaluation is mostly the same as training, but there are no targets so\n",
    "we simply feed the decoder's predictions back to itself for each step.\n",
    "Every time it predicts a word we add it to the output string, and if it\n",
    "predicts the EOS token we stop there. We also store the decoder's\n",
    "attention outputs for display later.\n",
    "\n",
    "\n"
   ]
  },
  {
   "cell_type": "code",
   "execution_count": 38,
   "metadata": {},
   "outputs": [],
   "source": [
    "def evaluate(encoder, decoder, sentence, max_length=MAX_LENGTH):\n",
    "    with torch.no_grad():\n",
    "        input_tensor = tensorFromSentence(vocab_ingrs, sentence)\n",
    "        input_length = input_tensor.size()[0]\n",
    "        encoder_hidden = encoder.initHidden()\n",
    "\n",
    "        encoder_outputs = torch.zeros(max_length, encoder.hidden_size, device=device)\n",
    "\n",
    "        for ei in range(input_length):\n",
    "            encoder_output, encoder_hidden = encoder(input_tensor[ei],\n",
    "                                                     encoder_hidden)\n",
    "            encoder_outputs[ei] += encoder_output[0, 0]\n",
    "\n",
    "        decoder_input = torch.tensor([[SOS_token]], device=device)  # SOS\n",
    "\n",
    "        decoder_hidden = encoder_hidden\n",
    "\n",
    "        decoded_words = []\n",
    "        decoder_attentions = torch.zeros(max_length, max_length)\n",
    "\n",
    "        for di in range(max_length):\n",
    "            decoder_output, decoder_hidden, decoder_attention = decoder(\n",
    "                decoder_input, decoder_hidden)#, encoder_outputs)\n",
    "            decoder_attentions[di] = decoder_attention.data\n",
    "            topv, topi = decoder_output.data.topk(1)\n",
    "            if topi.item() == EOS_token:\n",
    "                decoded_words.append('<EOS>')\n",
    "                break\n",
    "            else:\n",
    "                decoded_words.append(vocab_tokens.idx2word[topi.item()])\n",
    "\n",
    "            decoder_input = topi.squeeze().detach()\n",
    "\n",
    "        return decoded_words, decoder_attentions[:di + 1]"
   ]
  },
  {
   "cell_type": "markdown",
   "metadata": {},
   "source": [
    "We can evaluate random sentences from the training set and print out the\n",
    "input, target, and output to make some subjective quality judgements:\n",
    "\n",
    "\n"
   ]
  },
  {
   "cell_type": "code",
   "execution_count": 39,
   "metadata": {},
   "outputs": [],
   "source": [
    "def evaluateRandomly(encoder, decoder, n=10):\n",
    "    for i in range(n):\n",
    "        pair = random.choice(pairs)\n",
    "        print('>', pair[0])\n",
    "        print('=', pair[1])\n",
    "        output_words, attentions = evaluate(encoder, decoder, pair[0])\n",
    "        output_sentence = ' '.join(output_words)\n",
    "        print('<', output_sentence)\n",
    "        print('')"
   ]
  },
  {
   "cell_type": "markdown",
   "metadata": {},
   "source": [
    "Training and Evaluating\n",
    "=======================\n",
    "\n",
    "With all these helper functions in place (it looks like extra work, but\n",
    "it makes it easier to run multiple experiments) we can actually\n",
    "initialize a network and start training.\n",
    "\n",
    "Remember that the input sentences were heavily filtered. For this small\n",
    "dataset we can use relatively small networks of 256 hidden nodes and a\n",
    "single GRU layer. After about 40 minutes on a MacBook CPU we'll get some\n",
    "reasonable results.\n",
    "\n",
    ".. Note::\n",
    "   If you run this notebook you can train, interrupt the kernel,\n",
    "   evaluate, and continue training later. Comment out the lines where the\n",
    "   encoder and decoder are initialized and run ``trainIters`` again.\n",
    "\n",
    "\n"
   ]
  },
  {
   "cell_type": "code",
   "execution_count": 40,
   "metadata": {},
   "outputs": [],
   "source": [
    "# hidden_size = 256\n",
    "# encoder1 = EncoderRNN(len(vocab_ingrs.idx2word.keys()), hidden_size).to(device)\n",
    "# attn_decoder1 = AttnDecoderRNN(hidden_size, len(vocab_tokens.idx2word.keys()), dropout_p=0.1).to(device)\n",
    "\n",
    "# trainIters(encoder1, attn_decoder1, 5000, print_every=100)"
   ]
  },
  {
   "cell_type": "code",
   "execution_count": 35,
   "metadata": {},
   "outputs": [
    {
     "name": "stdout",
     "output_type": "stream",
     "text": [
      "1m 18s (- 63m 56s) (100 2%) 29.3815\n",
      "['preheat', 'sugar', 'sugar', 'sugar', 'sugar', 'sugar', 'sugar', 'sugar', 'sugar', 'sugar', 'sugar', 'sugar', 'sugar', 'sugar', 'bake', 'sugar', 'sugar', 'sugar', 'sugar', 'bake', 'sugar', 'sugar', 'bake', 'sugar', 'sugar', 'sugar', 'sugar', 'sugar', 'sugar', 'sugar', 'sugar', 'sugar', 'sugar', 'sugar', 'sugar', 'sugar', 'sugar', 'sugar', 'sugar', 'bake', 'sugar', 'sugar', 'sugar', 'sugar', 'sugar', 'sugar', 'sugar', 'sugar', 'sugar', 'bake', 'sugar', 'sugar', 'sugar', 'sugar', 'sugar', 'bake', 'sugar', 'sugar', 'sugar', 'sugar', 'bake', 'sugar', 'sugar', 'bake', 'sugar', 'sugar', 'sugar', 'sugar', 'sugar', 'bake', 'bake']\n",
      "2m 33s (- 61m 31s) (200 4%) 47.0226\n",
      "['salt', 'salt', 'salt', 'salt', 'salt', 'salt', 'salt', 'salt', 'salt', 'salt', 'salt', 'salt', 'salt', 'salt', 'salt', 'salt', 'salt', '<end>', 'salt', 'salt', 'salt', 'salt', 'salt', 'salt', 'salt', '<end>', 'salt', 'salt', 'salt', 'salt', 'salt', 'salt', 'salt', 'salt', 'salt', 'salt', 'salt', 'salt', 'salt', 'salt', 'salt', 'salt', 'salt', 'salt', 'salt', 'salt', 'salt', 'salt', '<end>', 'salt', 'salt', 'salt', 'salt', 'salt', 'salt', 'salt', 'salt', '<end>', 'salt', 'salt', 'salt', 'salt', 'salt', 'salt', 'salt', 'salt', 'salt', 'salt', 'salt', 'salt', 'salt', 'salt', 'salt', 'salt', 'salt', '<end>', 'salt', 'salt', 'salt', 'salt', 'salt', 'salt', 'salt', 'salt', 'salt', 'salt', 'salt', 'salt', '<end>', 'salt', 'salt', 'salt', 'salt', 'salt', 'salt', 'salt', 'salt', 'salt', 'salt', 'salt', '<end>', 'salt', 'salt', 'salt', 'salt', 'salt', 'salt', 'salt', 'salt', 'salt', 'salt', 'salt', 'salt', '<end>', 'salt', 'salt', 'salt', 'salt', 'salt', 'salt', 'salt', 'salt', 'salt', 'salt', 'salt', 'salt', 'salt', '<end>', 'salt', 'salt', 'salt', 'salt', 'salt', 'salt', 'salt', 'salt', '<end>', 'salt', 'salt', 'salt', 'salt', 'salt', 'salt', 'salt', 'salt', 'salt', 'salt', 'salt', 'salt', 'salt', 'salt', 'salt', 'salt', 'salt', 'salt', 'salt', 'salt', 'salt', 'salt', 'salt', 'salt', 'salt', 'salt', 'salt', '<end>']\n",
      "3m 48s (- 59m 44s) (300 6%) 51.2074\n",
      "[]\n",
      "5m 1s (- 57m 47s) (400 8%) 56.0975\n",
      "[]\n",
      "6m 22s (- 57m 25s) (500 10%) 59.4758\n",
      "['combine', 'beans', 'beans', 'beans', 'beans', 'combine', 'beans', 'beans', 'beans', 'beans', 'beans', 'beans', 'combine', 'beans', 'beans', 'beans', 'beans', 'beans', 'beans', 'beans', 'beans', 'beans', 'green', 'beans', 'combine', 'beans', 'beans', 'beans', 'beans', 'beans', 'beans', 'beans', 'beans', 'beans', 'beans', 'beans', 'green', 'beans', 'beans', 'combine', 'beans', 'beans', 'beans', 'beans', 'beans', 'beans', 'beans', 'beans', 'beans', 'beans', 'beans', 'beans', 'beans', 'beans', 'beans', 'beans', 'beans', 'beans', 'green', 'beans', 'beans', 'combine', 'beans', 'beans', 'beans', 'beans', 'combine', 'beans', 'beans', 'beans', 'beans', 'beans', 'beans', 'beans', 'beans', 'beans', 'beans', 'combine', 'beans', 'beans', 'beans', 'beans', 'green', 'beans', 'beans', 'beans', 'beans', 'beans', 'combine']\n",
      "7m 42s (- 56m 29s) (600 12%) 64.3164\n",
      "['mushrooms', 'mushrooms', 'mushrooms', 'to', 'to', 'mushrooms', 'to', 'mushrooms', 'mushrooms', 'to', 'mushrooms', 'to', 'mushrooms', 'to', 'to', 'mushrooms', 'to', 'to', 'mushrooms', 'to', 'to', 'to', 'to', 'mushrooms', 'mushrooms', 'to', 'to', 'mushrooms', 'to', 'to', 'to', 'to', 'mushrooms', 'mushrooms', 'to', 'to', 'to', 'to', 'to', 'to', 'to', 'mushrooms', 'to', 'mushrooms', 'mushrooms', 'mushrooms', 'to', 'mushrooms', 'to', 'mushrooms', 'mushrooms', 'to', 'to', 'to', 'mushrooms', 'mushrooms', 'to', 'mushrooms', 'to', 'to', 'to', 'to', 'mushrooms', 'mushrooms', 'to', 'to', 'to', 'mushrooms', 'to', 'to', 'mushrooms', 'to', 'to', 'to', 'mushrooms', 'to', 'to', 'to', 'to', 'to', 'mushrooms']\n",
      "8m 57s (- 54m 58s) (700 14%) 58.2152\n",
      "['.', '.', '.', '.', '.', '.', '.', '.', '.', '.', '.', '.', '.', '.', '.', '.', '.', '.', '.', '.', '.', '.', '.', '.', '.', '.', '.', '.', '.', '.', '.', 'sauce', 'sauce', 'sauce', 'sauce', 'sauce', 'sauce', 'sauce', 'sauce', 'sauce', 'sauce', 'sauce', 'sauce', 'sauce', 'sauce', 'sauce', 'sauce', 'sauce', 'sauce', 'sauce', 'sauce', 'sauce', 'sauce', 'sauce', 'sauce', 'sauce', 'sauce', 'sauce', 'a', 'sauce', 'sauce', 'sauce', 'sauce', 'sauce', 'sauce', 'sauce', 'sauce', 'sauce', 'sauce', 'sauce', 'sauce', 'sauce', 'sauce', 'sauce', 'sauce', 'sauce', 'sauce', 'sauce', 'sauce', 'sauce', 'sauce', 'sauce', 'sauce', 'sauce', 'sauce', 'sauce', 'sauce', 'sauce', 'sauce', 'sauce', 'sauce', 'sauce', 'sauce', 'sauce', 'sauce', 'sauce', 'sauce', 'sauce', 'sauce', 'sauce', 'sauce', 'sauce', 'sauce', 'sauce', 'sauce', 'sauce', 'sauce', 'sauce', 'sauce', 'sauce', 'sauce', 'sauce', 'sauce', 'sauce', 'sauce', 'sauce', 'sauce', 'sauce', 'sauce', 'sauce', 'sauce', 'sauce', 'sauce', 'sauce', 'sauce', 'sauce', 'sauce', 'sauce', 'sauce', 'sauce', 'sauce', 'sauce', 'sauce', 'sauce', 'sauce', 'sauce', 'sauce', 'sauce', 'sauce', 'sauce', 'sauce']\n",
      "10m 15s (- 53m 50s) (800 16%) 62.7036\n",
      "['preheat', '.', '.', '.', '.', '.', 'cover', 'well', 'remove', 'well', 'well', 'well', 'well', 'well', 'remove', 'well', 'well', 'cover', 'remove', 'remove', 'well', 'well', 'remove', 'well', 'well', 'well', 'remove', 'well', 'remove', 'well', 'remove', 'remove', 'well', 'cover', 'remove', 'well', 'well', 'well', 'remove', 'well', 'well', 'well', 'remove', 'well', 'well', 'remove', 'well', 'remove', 'well', 'remove', 'remove', 'well', 'well', 'cover', 'well', 'well', 'well', 'well', 'well', 'well', 'cover', 'well', 'well', 'well', 'well', 'well', 'well', 'well', 'well', 'well', 'cover', 'well', 'well', 'well', 'well', 'cover', 'well', 'well', 'well', 'well', 'remove', 'well', 'well', 'cover', 'remove', 'well', 'well', 'well', 'cover', 'well', 'well', 'well', 'well', 'well', 'well', 'well', 'well', 'well', 'well', 'well', 'cover']\n",
      "11m 30s (- 52m 24s) (900 18%) 58.2187\n",
      "['it', 'it', 'it', 'it', 'meat', 'it', 'it', 'it', 'it', 'it', 'it', 'it', 'it', 'it', 'it', 'it', 'medium', 'it', 'medium', 'it', 'it', 'medium', 'it', 'it', 'medium', 'it', 'it', 'it', 'it', 'it', 'it', 'it', 'it', 'medium', 'it', 'it', 'it', 'medium', 'medium', 'it', 'it', 'medium', 'it', 'it', 'it', 'medium', 'it', 'until', 'it', 'it', 'medium', 'medium', 'it', 'it', 'it', 'it', 'medium', 'medium', 'it', 'it', 'it', 'it', 'it', 'it', 'medium', 'medium', 'it', 'until', 'it', 'it', 'it', 'it', 'it', 'it', 'until', 'it', 'it', 'it', 'it', 'it', 'it', 'it', 'medium', 'it', 'it', 'it', 'it', 'it', 'it', 'medium', 'it', 'it', 'medium', 'it', 'medium', 'it', 'it', 'until', 'it', 'it', 'it', 'medium', 'it', 'it', 'it', 'it', 'it', 'medium']\n",
      "12m 43s (- 50m 54s) (1000 20%) 58.6600\n",
      "['.', '.', '.', '.', '.', '.', '.', 'a', '.', '.', '.', '.', '.', '.', '.', '.', 'a', 'a', '.', '.', '.', 'a', '.', 'a', '.', 'a', '.', '.', '.', '.', '.', '.', '.', '.', '.', '.', '.', '.', 'a', '.', '.', '.', '.', '.', '.', '.', '.', 'a', '.', '.', '.', '.', '.', '.', '.', '.', '.', '.', '.', 'a', '.', '.', '.', 'a', '.', 'a', '.', '.', '.', 'a', '.', '.', '.', '.', '.', '.', '.', '.', '.', '.', 'a', '.', '.', '.', '.', '.', '.', '.', '.', 'a', '.', '.', '.', '.', '.', '.', '.', '.', '.', '.', '.', 'a', '.', '.', '.', '.', '.', '.', '.', 'a', '.', '.', '.', '.', '.', '.', '.', 'a', '.', '.', 'a']\n",
      "13m 56s (- 49m 26s) (1100 22%) 60.0493\n",
      "[]\n",
      "15m 12s (- 48m 8s) (1200 24%) 63.3251\n",
      "['pour', '.', '.', '.', '.', '.', '.', '.', '.', '.', '.', '.', '.', 'pour', 'is', 'is', 'is', 'is', 'is', 'is', 'pour', 'is', 'is', 'plate', 'is', 'is', 'is', 'pour', 'is', 'is', 'pour', 'is', 'is', 'is', 'plate', 'is', 'pour', 'is', 'is', 'is', 'is', 'is', 'is', 'is', 'is', 'is', 'pour', 'is', 'is', 'is', 'is', 'plate', 'is', 'is', 'is', 'plate', 'is', 'pour', 'is', 'is', 'plate', 'is', 'is', 'is', 'is', 'is', 'is', 'is', 'is', 'is', 'is', 'pour', 'is', 'is', 'is', 'is', 'is', 'pour', 'is', 'is', 'is', 'is', 'plate', 'is', 'is', 'pour']\n",
      "16m 29s (- 46m 57s) (1300 26%) 62.0899\n",
      "[]\n",
      "17m 49s (- 45m 50s) (1400 28%) 70.1063\n"
     ]
    },
    {
     "name": "stdout",
     "output_type": "stream",
     "text": [
      "['to', 'to', 'to', 'to', 'to', 'to', 'to', 'to', 'to', 'to', 'to', 'to', 'to', 'to', 'to', 'to', 'to', 'to', 'to', 'to', 'to', 'to', 'to', 'to', 'to', 'to', 'to', 'to', 'to', 'to', 'to', 'to', 'to', 'to', 'to', 'to', 'to', 'to', 'to', 'to', 'to', 'to', 'to', 'to', 'to', 'to', 'to', 'to', 'to', 'to', 'to', 'to', 'to', 'to', 'to', 'to', 'to', 'to', 'to', 'to', 'to', 'to', 'to', 'to', 'to', 'to', 'to', 'to', 'to', 'bacon', 'to', 'to', 'to']\n",
      "19m 10s (- 44m 43s) (1500 30%) 71.0018\n",
      "['melt', 'layer', 'bottom', 'layer', 'layer', 'layer', 'layer', 'layer', 'bottom', 'layer', 'layer', 'layer', 'layer', 'bottom', 'layer', 'layer', 'layer', 'layer', 'bottom', 'layer', 'bottom', 'layer', 'layer', 'layer', 'bottom', 'layer', 'bottom', 'layer', 'layer', 'layer', 'bottom', 'layer', 'a', 'layer', 'layer', 'layer', 'layer', 'layer', 'layer', 'bottom', 'layer', 'bottom', 'layer', 'bottom', 'layer', 'layer', 'layer', 'layer', 'bottom', 'layer', 'bottom', 'layer', 'layer', 'layer', 'layer', 'layer', 'layer', 'layer', 'layer', 'layer', 'layer', 'layer', 'layer', 'layer', 'layer', 'layer', 'bottom', 'layer', 'a', 'bottom', 'layer', 'bottom', 'layer', 'bottom', 'layer', 'layer', 'bottom', 'layer', 'a', 'bottom', 'layer', 'bottom', 'layer', 'layer', 'layer', 'layer', 'bottom', 'layer', 'a', 'bottom', 'layer', 'layer', 'layer', 'layer', 'layer', 'layer', 'bottom', 'layer', 'layer', 'layer', 'bottom', 'layer', 'bottom', 'layer', 'a', 'bottom', 'layer', 'bottom', 'layer', 'layer', 'layer', 'layer', 'layer', 'layer', 'bottom', 'layer', 'layer', 'layer', 'layer', 'bottom', 'bottom', 'layer', 'layer', 'layer', 'layer', 'layer', 'layer', 'layer', 'layer', 'bottom', 'layer', 'bottom', 'layer', 'layer', 'bottom', 'layer', 'layer', 'layer', 'layer', 'layer', 'bottom', 'layer', 'layer', 'layer', 'layer', 'bottom', 'layer', 'layer', 'layer', 'bottom', 'layer', 'a', 'bottom', 'layer', 'bottom']\n",
      "20m 31s (- 43m 36s) (1600 32%) 73.3610\n",
      "[]\n",
      "21m 53s (- 42m 30s) (1700 34%) 71.7977\n",
      "['until', 'the', 'the', 'the', 'the', 'the', 'the', 'the', 'the', 'the', 'the', 'the', 'the', 'the', 'the', 'the', 'the', 'the', 'the', 'the', 'the', 'the', 'the', 'the', 'the', 'the', 'the', 'the', 'the', 'the', 'the', 'the', 'the', 'the', 'the', 'the', 'the', 'the', 'the', 'the', 'the', 'the', 'the', 'the', 'the', 'the', 'the', 'the', 'the', 'the', 'the', 'the', 'the', 'the', 'the', 'the', 'the', 'the', 'the', 'the', 'the', 'the', 'the', 'the', 'the', 'the', 'the', 'the', 'the', 'the', 'the', 'the', 'the', 'the', 'the', 'the', 'the', 'the', 'the', 'the', 'the', 'the', 'the', 'the', 'the', 'the', 'the', 'the', 'the']\n",
      "23m 12s (- 41m 15s) (1800 36%) 74.5599\n",
      "[]\n",
      "24m 30s (- 39m 59s) (1900 38%) 65.3351\n",
      "[]\n",
      "25m 47s (- 38m 41s) (2000 40%) 72.8830\n",
      "['until', 'until', 'until', 'until', 'until', 'until', 'until', 'until', 'until', 'until', 'until', 'until', 'until', 'until', 'until', 'until', 'until', 'until', 'until', 'until', 'until', 'until', 'until', 'until', 'until', 'until', 'until', 'until', 'until', 'until', 'until', 'until', 'until', 'until', 'until', 'until', 'until', 'until', 'until', 'until', 'until', 'until', 'until', 'until', 'until', 'until', 'until', 'until', 'until', 'until', 'until', 'until', 'until', 'until', 'until', 'until', 'until', 'until', 'until', 'until', 'until', 'until', 'until', 'until', 'until', 'until', 'until', 'until', 'until', 'until', 'until', 'until', 'until', 'until', 'until', 'until', 'until', 'until', 'until', 'until', 'until', 'until', 'until', 'until', 'until']\n",
      "27m 4s (- 37m 23s) (2100 42%) 75.0398\n",
      "['2', '2', '2', '2', '2', '2', '2', '<end>', '2', '2', '2', '2', '2', '2', '2', '2', '<end>', '2', '2', '2', '2', '2', '2', '<end>', '2', '2', '<end>', '2', '2', '2', '2', '2', '6', '2', '2', '2', '2', '2', '2', '2', '2', '2', '2', '2', '2', '2', '2', '<end>', '2', '2', '2', '2', '2', '2', '2', '2', '<end>', '2', '2', '2', '2', '2', '2', '2', '2', '<end>', '2', '2', '2', '2', '<end>', '2', '2', '2', '2', '2', '2', '2', '2', '2', '2', '<end>']\n",
      "28m 19s (- 36m 3s) (2200 44%) 65.0994\n",
      "[]\n",
      "29m 33s (- 34m 41s) (2300 46%) 66.1596\n",
      "['heat', ',', ',', ',', ',', '<end>', ',', ',', ',', ',', 'water', ',', ',', 'over', ',', ',', ',', 'water', ',', '<end>', ',', ',', 'over', ',', 'over', ',', ',', '<end>', 'over', ',', 'over', 'over', 'over', 'over', 'over', 'over', 'over', '<end>', 'over', 'over', 'over', 'over', 'over', 'over', 'over', 'over', 'over', 'over', 'over', 'over', '<end>', 'over', 'over', 'over', 'over', 'over', '<end>', 'over', 'over', 'over', 'over', 'over', 'over', 'over', 'over', 'over', 'over', 'over', '<end>', 'bowl', 'over', 'over', 'over', 'over', '<end>', 'over', 'over', 'over', '<end>', 'bowl', 'over', 'over', 'over', 'over', 'over', 'over', 'over', 'over', '<end>', 'over', 'over', 'bowl', 'over', '<end>']\n",
      "30m 48s (- 33m 22s) (2400 48%) 67.7373\n",
      "[]\n",
      "32m 1s (- 32m 1s) (2500 50%) 65.8662\n",
      "['in', '.', '.', '.', '.', '.', '.', '.', '.', '.', '.', '.', '.', '.', '.', '.', '.', 'cover', '.', '.', '.', 'cover', '.', '.', '.', '.', '.', '.', '.', '.', '.', '.', 'cover', '.', '.', '.', '.', '.', 'cover', '.', '.', '.', '.', '.', '.', '.', '.', 'cover', '.', '.', '.', '.', '.', '.', '.', '.', '.', 'cover', '.', '.', '.', '.', '.', '.', '.', '.', '.', '.', '.', '.', '.', 'cover', '.', '.', '.', '.', '.', 'cover', '.', '.', '.', 'cover']\n",
      "33m 19s (- 30m 45s) (2600 52%) 63.2159\n",
      "[]\n",
      "34m 50s (- 29m 40s) (2700 54%) 72.0078\n",
      "[]\n",
      "37m 2s (- 29m 6s) (2800 56%) 75.6208\n",
      "['preheat', 'mixture', 'mixture', 'mixture', 'mixture', 'mixture', 'mixture', 'mixture', 'mixture', 'mixture', 'mixture', 'mixture', 'place', 'mixture', 'mixture', 'mixture', 'mixture', 'mixture', 'mixture', 'mixture', 'a', 'mixture', 'mixture', 'mixture', 'mixture', 'mixture', 'mixture', 'mixture', 'mixture', 'mixture', 'mixture', 'mixture', 'mixture', 'mixture', 'mixture', 'mixture', 'mixture', 'mixture', 'mixture', 'mixture', 'mixture', 'mixture', 'mixture', 'mixture', 'mixture', 'mixture', 'mixture', 'mixture', 'mixture', 'mixture', 'mixture', 'mixture', 'mixture', 'mixture', 'mixture', 'mixture', 'mixture', 'mixture', 'mixture', 'mixture', 'mixture', 'mixture', 'mixture', 'mixture', 'mixture', 'mixture', 'mixture', 'mixture', 'mixture', 'mixture', 'mixture', 'mixture', 'mixture', 'mixture', 'mixture', 'mixture', 'mixture', 'mixture', 'mixture', 'mixture', 'mixture', 'mixture', 'mixture', 'mixture', 'mixture', 'mixture', 'mixture', 'mixture', 'mixture', 'mixture', 'mixture', 'mixture', 'mixture', 'mixture', 'mixture', 'mixture', 'mixture', 'mixture', 'mixture', 'mixture', 'mixture', 'mixture', 'mixture', 'mixture', 'mixture', 'mixture', 'mixture', 'mixture', 'mixture', 'mixture', 'mixture', 'mixture', 'mixture', 'mixture', 'mixture', 'mixture', 'mixture', 'mixture', 'mixture', 'mixture', 'mixture', 'mixture', 'mixture', 'mixture', 'mixture', 'mixture', 'mixture', 'mixture', 'mixture', 'mixture', 'mixture', 'mixture', 'mixture', 'mixture', 'mixture', 'mixture', 'mixture', 'mixture', 'mixture', 'mixture', 'mixture', 'mixture', 'mixture', 'mixture', 'mixture', 'mixture', 'mixture', 'mixture', 'mixture', 'mixture', 'mixture', 'mixture', 'mixture', 'mixture', 'mixture', 'mixture', 'mixture', 'mixture', 'mixture', 'mixture', 'mixture', 'mixture', 'mixture', 'mixture']\n",
      "39m 12s (- 28m 23s) (2900 57%) 74.7728\n"
     ]
    },
    {
     "name": "stdout",
     "output_type": "stream",
     "text": [
      "['melt', 'scoop', 'scoop', 'scoop', 'scoop', 'uncovered', 'scoop', 'scoop', ',', 'uncovered', 'scoop', 'scoop', 'as', 'scoop', 'scoop', 'scoop', 'scoop', 'scoop', 'scoop', 'scoop', 'scoop', 'scoop', 'scoop', 'scoop', 'scoop', 'scoop', 'scoop', 'scoop', 'scoop', 'scoop', 'scoop', 'scoop', 'as', 'scoop', 'scoop', 'scoop', 'scoop', 'scoop', 'scoop', 'scoop', 'uncovered', 'scoop', 'will', 'uncovered', 'scoop', 'will', 'uncovered', 'scoop', 'uncovered', 'scoop', 'uncovered', 'pepper', 'scoop', 'scoop', 'scoop', 'uncovered', 'scoop', 'scoop', 'scoop', 'will', 'scoop', 'scoop', 'scoop', 'scoop', 'scoop', 'scoop', 'scoop', 'scoop', 'scoop', 'scoop', 'pepper', 'scoop', 'uncovered', 'scoop', 'uncovered', 'scoop', 'scoop', 'scoop', 'scoop', 'scoop', 'scoop', 'scoop', 'scoop', 'scoop', 'scoop', 'scoop', 'scoop', 'scoop', 'scoop', 'scoop', 'pepper', 'scoop', 'scoop', 'scoop', 'scoop', 'scoop', 'scoop', 'uncovered', 'scoop', 'scoop', 'scoop', 'scoop', 'scoop', 'scoop', 'scoop', 'scoop', 'scoop', 'scoop', 'scoop', 'scoop', 'scoop', 'scoop', 'scoop', 'scoop', 'scoop', 'scoop', 'scoop', 'scoop', 'scoop', 'scoop', 'scoop', 'scoop', 'scoop', 'scoop', 'scoop', 'scoop', 'scoop', 'scoop', 'scoop', 'scoop', 'scoop', 'scoop', 'scoop', 'scoop', 'scoop', 'scoop', 'scoop', 'scoop', 'scoop', 'scoop', 'scoop', 'scoop', 'scoop', 'scoop', 'scoop', 'scoop', 'scoop', 'scoop', 'scoop', 'scoop', 'scoop', 'scoop', 'scoop', 'pepper', 'scoop', 'scoop', 'scoop', 'scoop']\n",
      "41m 15s (- 27m 30s) (3000 60%) 74.6377\n",
      "['cheese', '.', 'water', '.', 'another', '.', '.', 'melt', '.', '.', 'water', '.', '.', 'water', '.', 'melt', '.', 'water', '.', '.', 'water', '.', '.', 'water', '.', 'water', '.', 'water', '.', 'water', '.', 'water', '.', 'water', 'water', '.', '.', 'another', '.', '.', '.', '.', '.', '.', '.', 'melt', '.', '.', '.', '.', '.', 'water', '.', '.', '.', 'water', '.', 'melt', '.', 'water', '.', 'water', 'water', '.', '.', '.', '.', 'melt', '.', 'water', '.', '.', 'water', '.', 'water', 'water', 'water', '.', '.', 'water', '.', '.', '.', 'melt', '.', '.', '.', 'melt', '.', '.', 'water', '.', 'melt', '.', 'water', '.', 'water', '.', 'melt', 'water', '.', '.', '.', '.', '.', '.', 'melt']\n",
      "43m 16s (- 26m 31s) (3100 62%) 71.0720\n",
      "[]\n",
      "45m 19s (- 25m 29s) (3200 64%) 68.3184\n",
      "[]\n",
      "47m 21s (- 24m 23s) (3300 66%) 75.6461\n",
      "['cooking', 'with', 'garlic', 'with', 'with', 'with', 'with', 'with', 'with', 'with', 'with', 'with', 'baking', 'with', 'with', 'with', 'baking', 'with', 'with', 'garlic', 'with', 'baking', 'with', 'with', 'baking', 'with', 'baking', 'with', 'baking', 'with', 'with', 'baking', 'with', 'baking', 'garlic', 'with', 'garlic', 'with', 'with', 'with', 'garlic', 'with', 'with', 'with', 'with', 'with', 'with', 'with', 'garlic', 'with', 'with', 'with', 'with', 'with', 'with', 'baking', 'with', 'with', 'with', 'with', 'baking', 'garlic', 'with', 'with', 'with', 'with', 'with', 'with', 'garlic', 'with', 'with', 'with', 'baking', 'with', 'garlic', 'with', 'with', 'with', 'with', 'with', 'with', 'baking', 'with', 'garlic', 'with', 'baking', 'with', 'baking', 'garlic', 'with', 'with', 'with', 'with', 'with', 'with', 'with', 'garlic', 'with', 'with', 'with', 'garlic', 'with', 'garlic', 'with', 'with', 'with', 'garlic', 'with', 'with', 'garlic', 'with', 'with', 'with', 'garlic', 'with', 'with', 'garlic', 'with', 'garlic', 'with', 'baking', 'with', 'baking', 'with', 'with', '.', 'with', 'with', 'with', 'with']\n",
      "49m 25s (- 23m 15s) (3400 68%) 76.0914\n",
      "[]\n",
      "51m 27s (- 22m 3s) (3500 70%) 70.1985\n",
      "['slice', 'to', 'remaining', '1/4', 'remaining', 'remaining', 'remaining', 'to', 'slice', 'remaining', 'remaining', 'remaining', 'remaining', 'remaining', 'remaining', 'remaining', 'slice', 'remaining', 'remaining', 'remaining', 'to', 'slice', 'remaining', 'remaining', 'remaining', 'remaining', 'slice', 'remaining', 'remaining', '1/4', 'remaining', 'remaining', 'remaining', 'to', 'slice', 'remaining', 'remaining', 'remaining', 'remaining', 'remaining', 'about', 'remaining', 'remaining', 'remaining', 'remaining', '(', 'remaining', 'remaining', 'remaining', 'remaining', 'slice', 'remaining', 'remaining', 'remaining', 'about', 'remaining', 'remaining', 'remaining', 'remaining', 'remaining', 'remaining', 'remaining', 'slice', 'remaining', 'remaining', 'slice', 'remaining', 'remaining', 'remaining', 'remaining', 'remaining', 'remaining', 'remaining', 'remaining', 'remaining', 'remaining', 'remaining', 'slice', 'remaining', 'remaining', 'remaining', 'about', 'remaining', 'remaining', 'remaining', 'remaining', 'remaining', 'remaining', 'remaining', 'remaining', 'remaining', 'slice']\n",
      "53m 31s (- 20m 49s) (3600 72%) 70.8475\n",
      "[]\n",
      "55m 35s (- 19m 32s) (3700 74%) 68.6924\n",
      "['preheat', 'into', 'into', 'wrapper', 'into', 'into', 'into', 'into', 'into', 'into', 'into', 'into', 'into', 'into', '<end>', 'a', 'into', 'into', 'into', 'carrots', 'into', 'into', 'center', 'carrots', 'into', 'carrots', 'into', 'into', 'center', 'into', 'center', 'a', 'into', 'into', 'into', 'carrots', 'into', 'into', 'into', 'into', 'carrots', 'into', 'into', 'into', 'into', 'center', 'into', 'into', 'into', 'center', 'into', 'into', 'into', 'center', 'into', 'center', 'into', 'into', 'into', 'wrapper', 'into', 'into', 'wrapper', 'into', 'into', 'into', 'center', 'into', 'into', 'carrots', 'into', 'into', 'center', 'into', 'center', 'into', 'wrapper', 'into', 'into', 'into', 'into', 'into', 'into', 'into', 'into', 'into', 'into', 'center', 'into', 'into', 'center', 'into', 'into', 'into', 'into', 'into', 'center', 'into', 'into', 'into', 'wrapper', 'into', 'into', 'into', 'into', 'into', 'carrots', 'into', 'into', 'into', 'into', 'wrapper', 'into', 'into', 'into', 'into', 'center', 'into', 'into', 'into', 'into', 'into', 'into', 'carrots', 'into', 'into', 'into', 'into', 'into', 'into', 'into', 'into', 'center', 'into', 'into', 'into', 'into', 'into', 'into', 'into', 'center', 'into', 'into', 'into', 'carrots', 'into', 'into', 'wrapper', 'into', '.', 'center', 'into', 'into', 'wrapper', 'into', 'into', 'into', 'into', 'into', 'into', 'into', '.', 'center', 'into', 'into', 'wrapper', 'into', 'into', 'into', 'wrapper', 'into', 'into', 'center', 'into', 'into', 'into', 'into', 'into', 'center']\n",
      "57m 6s (- 18m 2s) (3800 76%) 73.4644\n",
      "['combine', 'for', 'for', 'chips', 'for', 'for', 'for', 'for', 'add', 'combine', 'for', 'for', 'for', 'for', 'for', 'combine', 'large', 'for', 'for', 'for', 'for', 'for', 'add', 'for', 'for', 'for', 'add', 'for', 'for', 'add', 'for', 'for', 'for', 'for', 'combine', 'for', 'for', 'for', 'add', 'for', 'for', 'combine', 'large', 'for', 'for', 'for', 'for', 'add', 'for', 'for', 'for', 'add', 'for', 'add', 'for', 'add', 'for', 'combine', 'for', 'for', 'for', 'for', 'for', 'for', 'for', 'chips', 'for', 'until', 'combine', 'for', 'for', 'large', 'for', 'for', 'add', 'combine', 'combine', 'for', 'large', 'for', 'for', 'combine', 'for', 'for', 'for', 'large', 'for', 'for', 'for', 'for', 'for', 'for', 'chips', 'for', 'until', 'large', 'for', 'for', 'for', 'add', 'for', 'for', 'for', 'for', 'for', 'combine', 'for', 'for', 'for', 'for', 'for', 'for', 'for', 'for', 'for', 'combine']\n",
      "58m 19s (- 16m 27s) (3900 78%) 72.2844\n",
      "[]\n",
      "59m 36s (- 14m 54s) (4000 80%) 73.2954\n"
     ]
    },
    {
     "name": "stdout",
     "output_type": "stream",
     "text": [
      "['preheat', 'the', 'a', 'a', 'a', 'a', 'a', 'a', 'a', 'baking', 'a', 'a', 'a', 'a', 'a', 'baking', 'a', 'baking', 'a', 'a', 'a', 'a', 'a', 'baking', 'a', 'a', 'a', 'a', 'a', 'a', 'a', 'a', 'a', 'a', 'a', 'the', 'the', 'a', 'baking', 'tablespoon', 'tablespoon', 'tablespoon', 'dip', 'tablespoon', 'baking', 'tablespoon', 'baking', 'tablespoon', 'tablespoon', \"'s\", 'dip', 'tablespoon', 'tablespoon', 'baking', 'tablespoon', 'tablespoon', \"'s\", 'tablespoon', 'tablespoon', 'tablespoon', 'tablespoon', 'dip', 'tablespoon', 'tablespoon', 'a', 'tablespoon', 'tablespoon', 'tablespoon', 'dip', 'the', 'tablespoon', 'tablespoon', 'a', 'tablespoon', 'baking', 'the', 'tablespoon', 'baking', 'tablespoon', 'tablespoon', 'baking', 'tablespoon', 'baking', 'tablespoon', 'baking', 'gratin', 'tablespoon', 'tablespoon', 'dip', 'tablespoon', 'tablespoon', 'a', 'tablespoon', 'gratin', 'tablespoon', 'tablespoon', \"'s\", 'tablespoon', 'tablespoon', 'tablespoon', 'tablespoon', 'tablespoon', 'dip', 'tablespoon', 'a', 'tablespoon', 'gratin', 'tablespoon', 'tablespoon', 'gratin', 'tablespoon', 'gratin', 'tablespoon', 'a', 'tablespoon', 'baking', 'tablespoon', 'tablespoon', 'tablespoon', 'dip', 'tablespoon', 'tablespoon', 'tablespoon', 'tablespoon', 'tablespoon', 'gratin', 'tablespoon', 'tablespoon', 'tablespoon', 'tablespoon', 'dip', 'tablespoon', 'tablespoon', 'tablespoon', 'tablespoon', 'dip']\n",
      "60m 48s (- 13m 20s) (4100 82%) 66.6565\n",
      "['bring', 'of', 'of', 'of', 'of', 'of', 'of', 'of', 'of', 'of', 'of', 'of', 'of', 'of', 'of', 'of', 'of', 'of', 'of', 'of', 'of', 'of', 'of', 'of', 'of', 'of', 'of', 'of', 'of', 'of', 'of', 'of', 'of', 'of', 'of', 'of', 'of', 'of', 'of', '.', 'of', 'of', 'bring', 'of', 'of', 'of', 'of', 'of', 'of', 'of', 'of', 'of', 'of', 'of', '.', 'of', 'of', 'of', 'of', 'of', 'of', 'of', 'of', 'of', 'of', 'of', 'of', 'of', 'of', 'of', 'of', 'of', 'of', 'of', 'of', 'of', 'of', 'of', 'of', 'of', 'of', 'of', 'of', 'of', 'of', 'of', 'of', 'of', 'of', 'of', 'of', 'of', 'of', 'of', 'of', 'of', 'of', 'of', 'bring', 'of', 'of', 'of', 'of', 'of', 'of', 'of', 'of', 'of', 'bring', 'of', 'of', 'of', 'of', 'of', 'of', 'of', 'of', 'of', 'of', 'of', 'of', 'of', 'of', 'of', 'of', 'of', 'of', 'of', 'of', 'of', 'of', 'of', 'of', 'of', 'of', 'of', 'of', 'of', 'of', 'of', 'of', 'of', 'of', 'of']\n",
      "62m 3s (- 11m 49s) (4200 84%) 62.9640\n",
      "['heat', ')', ')', ')', ')', ')', ')', ')', ')', ')', ')', ')', 'drain', ')', ')', ')', 'basil', ')', ')', ')', 'drain', ')', ')', 'basil', ')', 'basil', ')', 'basil', ')', 'basil', ')', 'basil', 'basil', ')', 'drain', ')', ')', 'basil', ')', ')', 'basil', ')', 'drain', ')', ')', ')', ')', ')', 'drain', ')', 'basil', ')', ')', ')', ')', ')', 'drain', ')', 'basil', 'basil', ')', ')', ')', ')', ')', ')', ')', ')', ')', 'basil', ')', 'basil', ')', 'basil', ')', ')', ')', ')', ')', 'drain', ')', ')', ')', 'drain']\n",
      "63m 28s (- 10m 19s) (4300 86%) 71.4353\n",
      "[]\n",
      "64m 51s (- 8m 50s) (4400 88%) 68.4647\n",
      "['heat', ',', ',', ',', 'heat', ',', 'salt', ',', 'salt', ',', ',', 'stir', ',', ',', ',', 'salt', ',', ',', ',', ',', ',', ',', ',', 'heat', ',', ',', 'stir', ',', ',', ',', ',', 'salt', ',', 'heat', ',', 'salt', ',', ',', ',', 'stir', ',', ',', 'salt', ',', 'salt', ',', ',', 'salt', ',', ',', 'heat', ',', ',', 'salt', ',', ',', ',', 'heat', ',', ',', ',', ',', ',', ',', ',', ',', 'heat', ',', ',', ',', ',', 'stir', ',', ',', ',', 'salt', ',', ',', ',', ',', ',', ',', 'heat', ',', ',', ',', ',', 'stir', ',', ',', ',', 'salt', ',', ',', ',', ',', ',', ',', ',', 'heat', ',', ',', ',', 'salt', ',', ',', ',', ',', ',', ',', ',', ',', ',', ',', ',', ',', 'stir', ',', ',', ',', ',', ',', ',', ',', ',', ',', ',', 'stir', ',', ',', ',', ',', ',', ',', ',', ',', ',', ',', ',', 'stir']\n",
      "66m 12s (- 7m 21s) (4500 90%) 72.1938\n",
      "[]\n",
      "67m 30s (- 5m 52s) (4600 92%) 76.5179\n",
      "['<end>', '<end>', '<end>', '<end>', '<end>', 'water', '<end>', 'water', '<end>', '<end>', '<end>', '<end>', '<end>', 'water', '<end>', '<end>', '<end>', '<end>', '<end>', '<end>', '<end>', '<end>', '<end>', '<end>', '<end>', '<end>', '<end>', 'a', '<end>', '<end>', '<end>', '<end>', 'water', '<end>', '<end>', '<end>', '<end>', '<end>', '<end>', '<end>', '<end>', '<end>', '<end>', '<end>', '<end>', '<end>', '<end>', '<end>', '<end>', '<end>', '<end>', '<end>', '<end>', 'water', '<end>', '<end>', '<end>', '<end>', '<end>', '<end>', '<end>', '<end>', 'water', '<end>', 'water', '<end>', '<end>', '<end>', '<end>', '<end>', '<end>', '<end>', '<end>', '<end>', 'a', '<end>', '<end>', '<end>', '<end>', '<end>', '<end>', '<end>', '<end>', '<end>', 'water', '<end>', '<end>', '<end>', '<end>', '<end>', '<end>', '<end>', '<end>', '<end>', '<end>', '<end>', '<end>', '<end>', '<end>', '<end>', '<end>', '<end>', '<end>', '<end>', '<end>', '<end>', '<end>', 'water', '<end>', 'water', '<end>', '<end>']\n",
      "68m 49s (- 4m 23s) (4700 94%) 76.0348\n",
      "[]\n",
      "70m 10s (- 2m 55s) (4800 96%) 72.5933\n",
      "[]\n",
      "71m 38s (- 1m 27s) (4900 98%) 69.3575\n",
      "[]\n",
      "72m 57s (- 0m 0s) (5000 100%) 68.5922\n",
      "[]\n"
     ]
    }
   ],
   "source": [
    "hidden_size = 256\n",
    "encoder2 = EncoderRNN(len(vocab_ingrs.idx2word.keys()), hidden_size).to(device)\n",
    "attn_decoder2 = DecoderRNN(hidden_size, len(vocab_tokens.idx2word.keys())).to(device)\n",
    "\n",
    "trainIters(encoder2, attn_decoder2, 5000, print_every=100,attention=False)"
   ]
  },
  {
   "cell_type": "code",
   "execution_count": 37,
   "metadata": {},
   "outputs": [
    {
     "name": "stdout",
     "output_type": "stream",
     "text": [
      "> ['butter', 'unsweetened_applesauce', 'raw_sugar', 'bananas', 'eggs', 'pure_vanilla_extract', 'unbleached_all_-_purpose_flour', 'baking_soda', 'quick_-_cooking_oats', 'semi_-_sweet_chocolate_chips']\n",
      "= [['preheat', 'oven', 'to', '350f', '.'], ['coat', '2', 'baking', 'sheets', 'with', 'cooking', 'spray', '.'], ['in', 'mixing', 'bowl', ',', 'combine', 'butter', 'and', 'applesauce', ',', 'beating', 'with', 'an', 'electric', 'mixer', 'until', 'creamy', '.'], ['add', 'sugar', ',', 'bananas', ',', 'eggs', 'and', 'vanilla', ',', 'beating', 'until', 'smooth', '.'], ['gradually', 'add', 'flour', 'and', 'baking', 'soda', '.'], ['stir', 'in', 'oats', 'and', 'chocolate', 'chips', '.'], ['drop', 'teaspoonfuls', 'onto', 'baking', 'sheets', '.'], ['bake', '7-10', 'minutes', 'or', 'until', 'golden', 'brown', '.'], ['cool', 'on', 'a', 'wire', 'rack', '.']]\n"
     ]
    },
    {
     "ename": "TypeError",
     "evalue": "forward() takes 3 positional arguments but 4 were given",
     "output_type": "error",
     "traceback": [
      "\u001b[1;31m---------------------------------------------------------------------------\u001b[0m",
      "\u001b[1;31mTypeError\u001b[0m                                 Traceback (most recent call last)",
      "\u001b[1;32m<ipython-input-37-a26de59c171b>\u001b[0m in \u001b[0;36m<module>\u001b[1;34m\u001b[0m\n\u001b[1;32m----> 1\u001b[1;33m \u001b[0mevaluateRandomly\u001b[0m\u001b[1;33m(\u001b[0m\u001b[0mencoder2\u001b[0m\u001b[1;33m,\u001b[0m \u001b[0mattn_decoder2\u001b[0m\u001b[1;33m)\u001b[0m\u001b[1;33m\u001b[0m\u001b[1;33m\u001b[0m\u001b[0m\n\u001b[0m",
      "\u001b[1;32m<ipython-input-33-9d7626baa304>\u001b[0m in \u001b[0;36mevaluateRandomly\u001b[1;34m(encoder, decoder, n)\u001b[0m\n\u001b[0;32m      4\u001b[0m         \u001b[0mprint\u001b[0m\u001b[1;33m(\u001b[0m\u001b[1;34m'>'\u001b[0m\u001b[1;33m,\u001b[0m \u001b[0mpair\u001b[0m\u001b[1;33m[\u001b[0m\u001b[1;36m0\u001b[0m\u001b[1;33m]\u001b[0m\u001b[1;33m)\u001b[0m\u001b[1;33m\u001b[0m\u001b[1;33m\u001b[0m\u001b[0m\n\u001b[0;32m      5\u001b[0m         \u001b[0mprint\u001b[0m\u001b[1;33m(\u001b[0m\u001b[1;34m'='\u001b[0m\u001b[1;33m,\u001b[0m \u001b[0mpair\u001b[0m\u001b[1;33m[\u001b[0m\u001b[1;36m1\u001b[0m\u001b[1;33m]\u001b[0m\u001b[1;33m)\u001b[0m\u001b[1;33m\u001b[0m\u001b[1;33m\u001b[0m\u001b[0m\n\u001b[1;32m----> 6\u001b[1;33m         \u001b[0moutput_words\u001b[0m\u001b[1;33m,\u001b[0m \u001b[0mattentions\u001b[0m \u001b[1;33m=\u001b[0m \u001b[0mevaluate\u001b[0m\u001b[1;33m(\u001b[0m\u001b[0mencoder\u001b[0m\u001b[1;33m,\u001b[0m \u001b[0mdecoder\u001b[0m\u001b[1;33m,\u001b[0m \u001b[0mpair\u001b[0m\u001b[1;33m[\u001b[0m\u001b[1;36m0\u001b[0m\u001b[1;33m]\u001b[0m\u001b[1;33m)\u001b[0m\u001b[1;33m\u001b[0m\u001b[1;33m\u001b[0m\u001b[0m\n\u001b[0m\u001b[0;32m      7\u001b[0m         \u001b[0moutput_sentence\u001b[0m \u001b[1;33m=\u001b[0m \u001b[1;34m' '\u001b[0m\u001b[1;33m.\u001b[0m\u001b[0mjoin\u001b[0m\u001b[1;33m(\u001b[0m\u001b[0moutput_words\u001b[0m\u001b[1;33m)\u001b[0m\u001b[1;33m\u001b[0m\u001b[1;33m\u001b[0m\u001b[0m\n\u001b[0;32m      8\u001b[0m         \u001b[0mprint\u001b[0m\u001b[1;33m(\u001b[0m\u001b[1;34m'<'\u001b[0m\u001b[1;33m,\u001b[0m \u001b[0moutput_sentence\u001b[0m\u001b[1;33m)\u001b[0m\u001b[1;33m\u001b[0m\u001b[1;33m\u001b[0m\u001b[0m\n",
      "\u001b[1;32m<ipython-input-32-41f36efa91d2>\u001b[0m in \u001b[0;36mevaluate\u001b[1;34m(encoder, decoder, sentence, max_length)\u001b[0m\n\u001b[0;32m     21\u001b[0m         \u001b[1;32mfor\u001b[0m \u001b[0mdi\u001b[0m \u001b[1;32min\u001b[0m \u001b[0mrange\u001b[0m\u001b[1;33m(\u001b[0m\u001b[0mmax_length\u001b[0m\u001b[1;33m)\u001b[0m\u001b[1;33m:\u001b[0m\u001b[1;33m\u001b[0m\u001b[1;33m\u001b[0m\u001b[0m\n\u001b[0;32m     22\u001b[0m             decoder_output, decoder_hidden, decoder_attention = decoder(\n\u001b[1;32m---> 23\u001b[1;33m                 decoder_input, decoder_hidden, encoder_outputs)\n\u001b[0m\u001b[0;32m     24\u001b[0m             \u001b[0mdecoder_attentions\u001b[0m\u001b[1;33m[\u001b[0m\u001b[0mdi\u001b[0m\u001b[1;33m]\u001b[0m \u001b[1;33m=\u001b[0m \u001b[0mdecoder_attention\u001b[0m\u001b[1;33m.\u001b[0m\u001b[0mdata\u001b[0m\u001b[1;33m\u001b[0m\u001b[1;33m\u001b[0m\u001b[0m\n\u001b[0;32m     25\u001b[0m             \u001b[0mtopv\u001b[0m\u001b[1;33m,\u001b[0m \u001b[0mtopi\u001b[0m \u001b[1;33m=\u001b[0m \u001b[0mdecoder_output\u001b[0m\u001b[1;33m.\u001b[0m\u001b[0mdata\u001b[0m\u001b[1;33m.\u001b[0m\u001b[0mtopk\u001b[0m\u001b[1;33m(\u001b[0m\u001b[1;36m1\u001b[0m\u001b[1;33m)\u001b[0m\u001b[1;33m\u001b[0m\u001b[1;33m\u001b[0m\u001b[0m\n",
      "\u001b[1;32mD:\\Applications\\Anaconda3\\envs\\recipe_gen\\lib\\site-packages\\torch\\nn\\modules\\module.py\u001b[0m in \u001b[0;36m__call__\u001b[1;34m(self, *input, **kwargs)\u001b[0m\n\u001b[0;32m    545\u001b[0m             \u001b[0mresult\u001b[0m \u001b[1;33m=\u001b[0m \u001b[0mself\u001b[0m\u001b[1;33m.\u001b[0m\u001b[0m_slow_forward\u001b[0m\u001b[1;33m(\u001b[0m\u001b[1;33m*\u001b[0m\u001b[0minput\u001b[0m\u001b[1;33m,\u001b[0m \u001b[1;33m**\u001b[0m\u001b[0mkwargs\u001b[0m\u001b[1;33m)\u001b[0m\u001b[1;33m\u001b[0m\u001b[1;33m\u001b[0m\u001b[0m\n\u001b[0;32m    546\u001b[0m         \u001b[1;32melse\u001b[0m\u001b[1;33m:\u001b[0m\u001b[1;33m\u001b[0m\u001b[1;33m\u001b[0m\u001b[0m\n\u001b[1;32m--> 547\u001b[1;33m             \u001b[0mresult\u001b[0m \u001b[1;33m=\u001b[0m \u001b[0mself\u001b[0m\u001b[1;33m.\u001b[0m\u001b[0mforward\u001b[0m\u001b[1;33m(\u001b[0m\u001b[1;33m*\u001b[0m\u001b[0minput\u001b[0m\u001b[1;33m,\u001b[0m \u001b[1;33m**\u001b[0m\u001b[0mkwargs\u001b[0m\u001b[1;33m)\u001b[0m\u001b[1;33m\u001b[0m\u001b[1;33m\u001b[0m\u001b[0m\n\u001b[0m\u001b[0;32m    548\u001b[0m         \u001b[1;32mfor\u001b[0m \u001b[0mhook\u001b[0m \u001b[1;32min\u001b[0m \u001b[0mself\u001b[0m\u001b[1;33m.\u001b[0m\u001b[0m_forward_hooks\u001b[0m\u001b[1;33m.\u001b[0m\u001b[0mvalues\u001b[0m\u001b[1;33m(\u001b[0m\u001b[1;33m)\u001b[0m\u001b[1;33m:\u001b[0m\u001b[1;33m\u001b[0m\u001b[1;33m\u001b[0m\u001b[0m\n\u001b[0;32m    549\u001b[0m             \u001b[0mhook_result\u001b[0m \u001b[1;33m=\u001b[0m \u001b[0mhook\u001b[0m\u001b[1;33m(\u001b[0m\u001b[0mself\u001b[0m\u001b[1;33m,\u001b[0m \u001b[0minput\u001b[0m\u001b[1;33m,\u001b[0m \u001b[0mresult\u001b[0m\u001b[1;33m)\u001b[0m\u001b[1;33m\u001b[0m\u001b[1;33m\u001b[0m\u001b[0m\n",
      "\u001b[1;31mTypeError\u001b[0m: forward() takes 3 positional arguments but 4 were given"
     ]
    }
   ],
   "source": [
    "evaluateRandomly(encoder2, attn_decoder2)"
   ]
  },
  {
   "cell_type": "markdown",
   "metadata": {},
   "source": [
    "Visualizing Attention\n",
    "---------------------\n",
    "\n",
    "A useful property of the attention mechanism is its highly interpretable\n",
    "outputs. Because it is used to weight specific encoder outputs of the\n",
    "input sequence, we can imagine looking where the network is focused most\n",
    "at each time step.\n",
    "\n",
    "You could simply run ``plt.matshow(attentions)`` to see attention output\n",
    "displayed as a matrix, with the columns being input steps and rows being\n",
    "output steps:\n",
    "\n",
    "\n"
   ]
  },
  {
   "cell_type": "code",
   "execution_count": null,
   "metadata": {},
   "outputs": [],
   "source": [
    "output_words, attentions = evaluate(\n",
    "    encoder1, attn_decoder1, \"je suis trop froid .\")\n",
    "plt.matshow(attentions.numpy())"
   ]
  },
  {
   "cell_type": "markdown",
   "metadata": {},
   "source": [
    "For a better viewing experience we will do the extra work of adding axes\n",
    "and labels:\n",
    "\n",
    "\n"
   ]
  },
  {
   "cell_type": "code",
   "execution_count": null,
   "metadata": {},
   "outputs": [],
   "source": [
    "def showAttention(input_sentence, output_words, attentions):\n",
    "    # Set up figure with colorbar\n",
    "    fig = plt.figure()\n",
    "    ax = fig.add_subplot(111)\n",
    "    cax = ax.matshow(attentions.numpy(), cmap='bone')\n",
    "    fig.colorbar(cax)\n",
    "\n",
    "    # Set up axes\n",
    "    ax.set_xticklabels([''] + input_sentence.split(' ') +\n",
    "                       ['<EOS>'], rotation=90)\n",
    "    ax.set_yticklabels([''] + output_words)\n",
    "\n",
    "    # Show label at every tick\n",
    "    ax.xaxis.set_major_locator(ticker.MultipleLocator(1))\n",
    "    ax.yaxis.set_major_locator(ticker.MultipleLocator(1))\n",
    "\n",
    "    plt.show()\n",
    "\n",
    "\n",
    "def evaluateAndShowAttention(input_sentence):\n",
    "    output_words, attentions = evaluate(\n",
    "        encoder1, attn_decoder1, input_sentence)\n",
    "    print('input =', input_sentence)\n",
    "    print('output =', ' '.join(output_words))\n",
    "    showAttention(input_sentence, output_words, attentions)\n",
    "\n",
    "\n",
    "# evaluateAndShowAttention(\"elle a cinq ans de moins que moi .\")\n",
    "\n",
    "# evaluateAndShowAttention(\"elle est trop petit .\")\n",
    "\n",
    "# evaluateAndShowAttention(\"je ne crains pas de mourir .\")\n",
    "\n",
    "# evaluateAndShowAttention(\"c est un jeune directeur plein de talent .\")"
   ]
  },
  {
   "cell_type": "code",
   "execution_count": null,
   "metadata": {},
   "outputs": [],
   "source": []
  }
 ],
 "metadata": {
  "kernelspec": {
   "display_name": "Python 3",
   "language": "python",
   "name": "python3"
  },
  "language_info": {
   "codemirror_mode": {
    "name": "ipython",
    "version": 3
   },
   "file_extension": ".py",
   "mimetype": "text/x-python",
   "name": "python",
   "nbconvert_exporter": "python",
   "pygments_lexer": "ipython3",
   "version": "3.7.4"
  }
 },
 "nbformat": 4,
 "nbformat_minor": 1
}
