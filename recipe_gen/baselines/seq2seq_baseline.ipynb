{
 "cells": [
  {
   "cell_type": "code",
   "execution_count": 1,
   "metadata": {},
   "outputs": [],
   "source": [
    "%matplotlib inline\n",
    "\n",
    "# https://pytorch.org/tutorials/intermediate/seq2seq_translation_tutorial.html"
   ]
  },
  {
   "cell_type": "code",
   "execution_count": 5,
   "metadata": {},
   "outputs": [],
   "source": [
    "from __future__ import unicode_literals, print_function, division\n",
    "from io import open\n",
    "import unicodedata\n",
    "import string\n",
    "import re\n",
    "import random\n",
    "from functools import reduce\n",
    "import os\n",
    "import pickle\n",
    "\n",
    "import time\n",
    "import math\n",
    "import matplotlib.pyplot as plt\n",
    "import matplotlib.ticker as ticker\n",
    "import numpy as np\n",
    "\n",
    "import torch\n",
    "import torch.nn as nn\n",
    "from torch import optim\n",
    "import torch.nn.functional as F\n",
    "\n",
    "import sys\n",
    "sys.path.insert(0, \"D:\\\\Documents\\\\THU\\\\food_recipe_gen\")\n",
    "\n",
    "from recipe_1m_analysis.utils import Vocabulary, FOLDER_PATH, DATA_FILES \n",
    "\n",
    "device = torch.device(\"cuda\" if torch.cuda.is_available() else \"cpu\")"
   ]
  },
  {
   "cell_type": "code",
   "execution_count": 6,
   "metadata": {},
   "outputs": [],
   "source": [
    "SOS_token = 0\n",
    "EOS_token = 1"
   ]
  },
  {
   "cell_type": "code",
   "execution_count": 7,
   "metadata": {},
   "outputs": [
    {
     "data": {
      "text/plain": [
       "['allingrs_count.pkl',\n",
       " 'allwords_count.pkl',\n",
       " 'recipe1m_test.pkl',\n",
       " 'recipe1m_vocab_ingrs.pkl',\n",
       " 'recipe1m_vocab_toks.pkl']"
      ]
     },
     "execution_count": 7,
     "metadata": {},
     "output_type": "execute_result"
    }
   ],
   "source": [
    "DATA_FILES"
   ]
  },
  {
   "cell_type": "code",
   "execution_count": 8,
   "metadata": {},
   "outputs": [],
   "source": [
    "with open(os.path.join(FOLDER_PATH,DATA_FILES[3]),'rb') as f:\n",
    "    vocab_ingrs=pickle.load(f)\n",
    "    \n",
    "with open(os.path.join(FOLDER_PATH,DATA_FILES[4]),'rb') as f:\n",
    "    vocab_tokens=pickle.load(f)"
   ]
  },
  {
   "cell_type": "code",
   "execution_count": 9,
   "metadata": {
    "scrolled": true
   },
   "outputs": [
    {
     "name": "stdout",
     "output_type": "stream",
     "text": [
      "18745\n"
     ]
    }
   ],
   "source": [
    "with open(os.path.join(FOLDER_PATH,DATA_FILES[2]),'rb') as f:\n",
    "    data=pickle.load(f)\n",
    "\n",
    "pairs=[]\n",
    "for recipe in data:\n",
    "    pairs.append([recipe[\"ingredients\"],recipe[\"tokenized\"]])\n",
    "\n",
    "print(len(pairs))"
   ]
  },
  {
   "cell_type": "code",
   "execution_count": 10,
   "metadata": {},
   "outputs": [
    {
     "data": {
      "text/plain": [
       "539"
      ]
     },
     "execution_count": 10,
     "metadata": {},
     "output_type": "execute_result"
    }
   ],
   "source": [
    "length=0\n",
    "for i,pair in enumerate(pairs):\n",
    "    length_t = len([item for sublist in pair[1] for item in sublist])\n",
    "    \n",
    "    if length_t>length:\n",
    "        length=length_t\n",
    "\n",
    "length"
   ]
  },
  {
   "cell_type": "code",
   "execution_count": 11,
   "metadata": {},
   "outputs": [],
   "source": [
    "MAX_LENGTH=300"
   ]
  },
  {
   "cell_type": "code",
   "execution_count": 12,
   "metadata": {},
   "outputs": [],
   "source": [
    "# pairs[16826]"
   ]
  },
  {
   "cell_type": "code",
   "execution_count": 13,
   "metadata": {},
   "outputs": [
    {
     "name": "stdout",
     "output_type": "stream",
     "text": [
      "14724\n"
     ]
    }
   ],
   "source": [
    "def filterPair(p):\n",
    "    length=0\n",
    "    for ingr in p[0]:\n",
    "        if ingr not in vocab_ingrs.word2idx:\n",
    "            return False\n",
    "        \n",
    "    for sent in p[1]:\n",
    "        \n",
    "        for word in sent:\n",
    "            # TODO check how steps tokenized ? Put into vocab ???\n",
    "            if word not in vocab_tokens.word2idx:\n",
    "                return False\n",
    "        length+=len(sent)\n",
    "    \n",
    "    return length < MAX_LENGTH\n",
    "\n",
    "\n",
    "def filterPairs(pairs):\n",
    "    return [pair for pair in pairs if filterPair(pair)]\n",
    "\n",
    "pairs = filterPairs(pairs)\n",
    "print(len(pairs))"
   ]
  },
  {
   "cell_type": "code",
   "execution_count": 14,
   "metadata": {},
   "outputs": [],
   "source": [
    "# vocab_ingrs.word2idx['quahogs']"
   ]
  },
  {
   "cell_type": "markdown",
   "metadata": {},
   "source": [
    "<div class=\"alert alert-info\"><h4>Note</h4><p>There are other forms of attention that work around the length\n",
    "  limitation by using a relative position approach. Read about \"local\n",
    "  attention\" in `Effective Approaches to Attention-based Neural Machine\n",
    "  Translation <https://arxiv.org/abs/1508.04025>`__.</p></div>\n",
    "\n",
    "Training\n",
    "========\n",
    "\n",
    "Preparing Training Data\n",
    "-----------------------\n",
    "\n",
    "To train, for each pair we will need an input tensor (indexes of the\n",
    "words in the input sentence) and target tensor (indexes of the words in\n",
    "the target sentence). While creating these vectors we will append the\n",
    "EOS token to both sequences.\n",
    "\n",
    "\n"
   ]
  },
  {
   "cell_type": "code",
   "execution_count": 15,
   "metadata": {},
   "outputs": [],
   "source": [
    "def list2idx(vocab, sentence):\n",
    "    return [vocab.word2idx[word] for word in sentence]\n",
    "\n",
    "\n",
    "def tensorFromSentence(vocab, sentence,instructions=False):\n",
    "    if instructions:\n",
    "        indexes=[]\n",
    "        for sent in sentence:\n",
    "            indexes.extend(list2idx(vocab, sent))\n",
    "    else:\n",
    "        indexes = list2idx(vocab, sentence)\n",
    "    indexes.append(EOS_token)\n",
    "    return torch.tensor(indexes, dtype=torch.long, device=device).view(-1, 1)\n",
    "\n",
    "\n",
    "def tensorsFromPair(pair):\n",
    "    input_tensor = tensorFromSentence(vocab_ingrs, pair[0])\n",
    "    target_tensor = tensorFromSentence(vocab_tokens, pair[1],instructions=True)\n",
    "    return (input_tensor, target_tensor)"
   ]
  },
  {
   "cell_type": "markdown",
   "metadata": {},
   "source": [
    "The Seq2Seq Model\n",
    "=================\n",
    "With a seq2seq model the encoder creates a single vector which, in the\n",
    "ideal case, encodes the \"meaning\" of the input sequence into a single\n",
    "vector — a single point in some N dimensional space of sentences.\n",
    "\n",
    "\n"
   ]
  },
  {
   "cell_type": "markdown",
   "metadata": {},
   "source": [
    "The Encoder\n",
    "-----------\n",
    "\n",
    "The encoder of a seq2seq network is a RNN that outputs some value for\n",
    "every word from the input sentence. For every input word the encoder\n",
    "outputs a vector and a hidden state, and uses the hidden state for the\n",
    "next input word.\n",
    "\n"
   ]
  },
  {
   "cell_type": "code",
   "execution_count": 16,
   "metadata": {},
   "outputs": [],
   "source": [
    "class EncoderRNN(nn.Module):\n",
    "    def __init__(self, input_size, hidden_size):\n",
    "        super(EncoderRNN, self).__init__()\n",
    "        self.hidden_size = hidden_size\n",
    "\n",
    "        self.embedding = nn.Embedding(input_size, hidden_size)\n",
    "        self.gru = nn.GRU(hidden_size, hidden_size)\n",
    "\n",
    "    def forward(self, input_, hidden):\n",
    "        embedded = self.embedding(input_).view(1, 1, -1)\n",
    "        output = embedded\n",
    "        output, hidden = self.gru(output, hidden)\n",
    "        return output, hidden\n",
    "\n",
    "    def initHidden(self):\n",
    "        return torch.zeros(1, 1, self.hidden_size, device=device)"
   ]
  },
  {
   "cell_type": "markdown",
   "metadata": {},
   "source": [
    "The Decoder\n",
    "-----------\n",
    "\n",
    "The decoder is another RNN that takes the encoder output vector(s) and\n",
    "outputs a sequence of words to create the translation.\n",
    "\n",
    "\n"
   ]
  },
  {
   "cell_type": "markdown",
   "metadata": {},
   "source": [
    "**Simple Decoder**\n",
    "\n",
    "\n",
    "In the simplest seq2seq decoder we use only last output of the encoder.\n",
    "This last output is sometimes called the *context vector* as it encodes\n",
    "context from the entire sequence. This context vector is used as the\n",
    "initial hidden state of the decoder.\n",
    "\n",
    "At every step of decoding, the decoder is given an input token and\n",
    "hidden state. The initial input token is the start-of-string ``<SOS>``\n",
    "token, and the first hidden state is the context vector (the encoder's\n",
    "last hidden state).\n",
    "\n",
    "\n"
   ]
  },
  {
   "cell_type": "code",
   "execution_count": 17,
   "metadata": {},
   "outputs": [],
   "source": [
    "class DecoderRNN(nn.Module):\n",
    "    def __init__(self, hidden_size, output_size):\n",
    "        super(DecoderRNN, self).__init__()\n",
    "        self.hidden_size = hidden_size\n",
    "\n",
    "        self.embedding = nn.Embedding(output_size, hidden_size)\n",
    "        self.gru = nn.GRU(hidden_size, hidden_size)\n",
    "        self.out = nn.Linear(hidden_size, output_size)\n",
    "        self.softmax = nn.LogSoftmax(dim=1)\n",
    "\n",
    "    def forward(self, input, hidden):\n",
    "        output = self.embedding(input).view(1, 1, -1)\n",
    "        output = F.relu(output)\n",
    "        output, hidden = self.gru(output, hidden)\n",
    "        output = self.softmax(self.out(output[0]))\n",
    "        return output, hidden\n",
    "\n",
    "    def initHidden(self):\n",
    "        return torch.zeros(1, 1, self.hidden_size, device=device)"
   ]
  },
  {
   "cell_type": "markdown",
   "metadata": {},
   "source": [
    "**Attention Decoder**\n",
    "\n",
    "If only the context vector is passed betweeen the encoder and decoder,\n",
    "that single vector carries the burden of encoding the entire sentence.\n",
    "\n",
    "Attention allows the decoder network to \"focus\" on a different part of\n",
    "the encoder's outputs for every step of the decoder's own outputs. First\n",
    "we calculate a set of *attention weights*. These will be multiplied by\n",
    "the encoder output vectors to create a weighted combination. The result\n",
    "(called ``attn_applied`` in the code) should contain information about\n",
    "that specific part of the input sequence, and thus help the decoder\n",
    "choose the right output words.\n",
    "\n",
    ".. figure:: https://i.imgur.com/1152PYf.png\n",
    "   :alt:\n",
    "\n",
    "Calculating the attention weights is done with another feed-forward\n",
    "layer ``attn``, using the decoder's input and hidden state as inputs.\n",
    "Because there are sentences of all sizes in the training data, to\n",
    "actually create and train this layer we have to choose a maximum\n",
    "sentence length (input length, for encoder outputs) that it can apply\n",
    "to. Sentences of the maximum length will use all the attention weights,\n",
    "while shorter sentences will only use the first few.\n",
    "\n",
    ".. figure:: /_static/img/seq-seq-images/attention-decoder-network.png\n",
    "   :alt:\n",
    "\n",
    "\n",
    "\n"
   ]
  },
  {
   "cell_type": "code",
   "execution_count": 18,
   "metadata": {},
   "outputs": [],
   "source": [
    "class AttnDecoderRNN(nn.Module):\n",
    "    def __init__(self, hidden_size, output_size, dropout_p=0.1, max_length=MAX_LENGTH):\n",
    "        super(AttnDecoderRNN, self).__init__()\n",
    "        self.hidden_size = hidden_size\n",
    "        self.output_size = output_size\n",
    "        self.dropout_p = dropout_p\n",
    "        self.max_length = max_length\n",
    "\n",
    "        self.embedding = nn.Embedding(self.output_size, self.hidden_size)\n",
    "        self.attn = nn.Linear(self.hidden_size * 2, self.max_length)\n",
    "        self.attn_combine = nn.Linear(self.hidden_size * 2, self.hidden_size)\n",
    "        self.dropout = nn.Dropout(self.dropout_p)\n",
    "        self.gru = nn.GRU(self.hidden_size, self.hidden_size)\n",
    "        self.out = nn.Linear(self.hidden_size, self.output_size)\n",
    "\n",
    "    def forward(self, input, hidden, encoder_outputs):\n",
    "        embedded = self.embedding(input).view(1, 1, -1)\n",
    "        embedded = self.dropout(embedded)\n",
    "\n",
    "        attn_weights = F.softmax(\n",
    "            self.attn(torch.cat((embedded[0], hidden[0]), 1)), dim=1)\n",
    "        attn_applied = torch.bmm(attn_weights.unsqueeze(0),\n",
    "                                 encoder_outputs.unsqueeze(0))\n",
    "\n",
    "        output = torch.cat((embedded[0], attn_applied[0]), 1)\n",
    "        output = self.attn_combine(output).unsqueeze(0)\n",
    "\n",
    "        output = F.relu(output)\n",
    "        output, hidden = self.gru(output, hidden)\n",
    "\n",
    "        output = F.log_softmax(self.out(output[0]), dim=1)\n",
    "        return output, hidden, attn_weights\n",
    "\n",
    "    def initHidden(self):\n",
    "        return torch.zeros(1, 1, self.hidden_size, device=device)"
   ]
  },
  {
   "cell_type": "markdown",
   "metadata": {},
   "source": [
    "Training the Model\n",
    "------------------\n",
    "\n",
    "To train we run the input sentence through the encoder, and keep track\n",
    "of every output and the latest hidden state. Then the decoder is given\n",
    "the ``<SOS>`` token as its first input, and the last hidden state of the\n",
    "encoder as its first hidden state.\n",
    "\n",
    "\"Teacher forcing\" is the concept of using the real target outputs as\n",
    "each next input, instead of using the decoder's guess as the next input.\n",
    "Using teacher forcing causes it to converge faster but `when the trained\n",
    "network is exploited, it may exhibit\n",
    "instability <http://citeseerx.ist.psu.edu/viewdoc/download?doi=10.1.1.378.4095&rep=rep1&type=pdf>`__.\n",
    "\n",
    "\n",
    "Because of the freedom PyTorch's autograd gives us, we can randomly\n",
    "choose to use teacher forcing or not with a simple if statement. Turn\n",
    "``teacher_forcing_ratio`` up to use more of it.\n",
    "\n",
    "\n"
   ]
  },
  {
   "cell_type": "code",
   "execution_count": 28,
   "metadata": {},
   "outputs": [],
   "source": [
    "teacher_forcing_ratio = 0.5\n",
    "\n",
    "\n",
    "def train(input_tensor, target_tensor, encoder, decoder, encoder_optimizer, decoder_optimizer, criterion, max_length=MAX_LENGTH, attention=False):\n",
    "    encoder_hidden = encoder.initHidden()\n",
    "\n",
    "    encoder_optimizer.zero_grad()\n",
    "    decoder_optimizer.zero_grad()\n",
    "\n",
    "    input_length = input_tensor.size(0)\n",
    "    target_length = target_tensor.size(0)\n",
    "\n",
    "    encoder_outputs = torch.zeros(max_length, encoder.hidden_size, device=device)\n",
    "\n",
    "    loss = 0\n",
    "\n",
    "    for ei in range(input_length):\n",
    "        encoder_output, encoder_hidden = encoder(\n",
    "            input_tensor[ei], encoder_hidden)\n",
    "        encoder_outputs[ei] = encoder_output[0, 0]\n",
    "\n",
    "    decoder_input = torch.tensor([[SOS_token]], device=device)\n",
    "\n",
    "    decoder_hidden = encoder_hidden\n",
    "\n",
    "    use_teacher_forcing = True if random.random() < teacher_forcing_ratio else False\n",
    "    decoded_words=[]\n",
    "\n",
    "    if use_teacher_forcing:\n",
    "        # Teacher forcing: Feed the target as the next input\n",
    "        if attention:\n",
    "            for di in range(target_length):\n",
    "                decoder_output, decoder_hidden, decoder_attention = decoder(\n",
    "                    decoder_input, decoder_hidden, encoder_outputs)\n",
    "                loss += criterion(decoder_output, target_tensor[di])\n",
    "                decoder_input = target_tensor[di]  # Teacher forcing\n",
    "                topv, topi = decoder_output.topk(1)\n",
    "                decoded_words.append(vocab_tokens.idx2word[topi.item()])\n",
    "        else:\n",
    "            for di in range(target_length):\n",
    "                decoder_output, decoder_hidden = decoder(\n",
    "                    decoder_input, decoder_hidden)\n",
    "                loss += criterion(decoder_output, target_tensor[di])\n",
    "                decoder_input = target_tensor[di]  # Teacher forcing\n",
    "                \n",
    "                topv, topi = decoder_output.topk(1)\n",
    "                decoded_words.append(vocab_tokens.idx2word[topi.item()])\n",
    "            \n",
    "    else:\n",
    "        # Without teacher forcing: use its own predictions as the next input\n",
    "        if attention:\n",
    "            for di in range(target_length):\n",
    "                decoder_output, decoder_hidden, decoder_attention = decoder(\n",
    "                    decoder_input, decoder_hidden, encoder_outputs)\n",
    "                topv, topi = decoder_output.topk(1)\n",
    "                decoder_input = topi.squeeze().detach()  # detach from history as input\n",
    "                \n",
    "                decoded_words.append(vocab_tokens.idx2word[topi.item()])\n",
    "                loss += criterion(decoder_output, target_tensor[di])\n",
    "                if decoder_input.item() == EOS_token:\n",
    "                    break\n",
    "        else:\n",
    "            for di in range(target_length):\n",
    "                decoder_output, decoder_hidden = decoder(\n",
    "                    decoder_input, decoder_hidden)\n",
    "                topv, topi = decoder_output.topk(1)\n",
    "                decoder_input = topi.squeeze().detach()  # detach from history as input\n",
    "                \n",
    "                decoded_words.append(vocab_tokens.idx2word[topi.item()])\n",
    "                loss += criterion(decoder_output, target_tensor[di])\n",
    "                if decoder_input.item() == EOS_token:\n",
    "                    break\n",
    "\n",
    "    loss.backward()\n",
    "\n",
    "    encoder_optimizer.step()\n",
    "    decoder_optimizer.step()\n",
    "\n",
    "    return loss.item() / target_length,decoded_words"
   ]
  },
  {
   "cell_type": "code",
   "execution_count": 29,
   "metadata": {},
   "outputs": [],
   "source": [
    "def asMinutes(s):\n",
    "    m = math.floor(s / 60)\n",
    "    s -= m * 60\n",
    "    return '%dm %ds' % (m, s)\n",
    "\n",
    "\n",
    "def timeSince(since, percent):\n",
    "    now = time.time()\n",
    "    s = now - since\n",
    "    es = s / (percent)\n",
    "    rs = es - s\n",
    "    return '%s (- %s)' % (asMinutes(s), asMinutes(rs))"
   ]
  },
  {
   "cell_type": "markdown",
   "metadata": {},
   "source": [
    "The whole training process looks like this:\n",
    "\n",
    "-  Start a timer\n",
    "-  Initialize optimizers and criterion\n",
    "-  Create set of training pairs\n",
    "-  Start empty losses array for plotting\n",
    "\n",
    "Then we call ``train`` many times and occasionally print the progress (%\n",
    "of examples, time so far, estimated time) and average loss.\n",
    "\n",
    "\n"
   ]
  },
  {
   "cell_type": "code",
   "execution_count": 30,
   "metadata": {},
   "outputs": [],
   "source": [
    "def trainIters(encoder, decoder, n_iters, print_every=1000, plot_every=100, learning_rate=0.01,attention=True):\n",
    "    start = time.time()\n",
    "    plot_losses = []\n",
    "    print_loss_total = 0  # Reset every print_every\n",
    "    plot_loss_total = 0  # Reset every plot_every\n",
    "\n",
    "    encoder_optimizer = optim.SGD(encoder.parameters(), lr=learning_rate)\n",
    "    decoder_optimizer = optim.SGD(decoder.parameters(), lr=learning_rate)\n",
    "    training_pairs = [tensorsFromPair(random.choice(pairs))\n",
    "                      for i in range(n_iters)]\n",
    "    criterion = nn.NLLLoss()\n",
    "\n",
    "    for iter in range(1, n_iters + 1):\n",
    "        training_pair = training_pairs[iter - 1]\n",
    "        input_tensor = training_pair[0]\n",
    "        target_tensor = training_pair[1]\n",
    "\n",
    "        loss,decoded_words = train(input_tensor, target_tensor, encoder,\n",
    "                     decoder, encoder_optimizer, decoder_optimizer, criterion,attention=attention)\n",
    "        print_loss_total += loss\n",
    "        plot_loss_total += loss\n",
    "\n",
    "        if iter % print_every == 0:\n",
    "            print_loss_avg = print_loss_total / print_every\n",
    "            print_loss_total = 0\n",
    "            print('%s (%d %d%%) %.4f' % (timeSince(start, iter / n_iters),\n",
    "                                         iter, iter / n_iters * 100, print_loss_avg))\n",
    "            print(decoded_words)\n",
    "\n",
    "        if iter % plot_every == 0:\n",
    "            plot_loss_avg = plot_loss_total / plot_every\n",
    "            plot_losses.append(plot_loss_avg)\n",
    "            plot_loss_total = 0\n",
    "\n",
    "    showPlot(plot_losses)"
   ]
  },
  {
   "cell_type": "markdown",
   "metadata": {},
   "source": [
    "Plotting results\n",
    "----------------\n",
    "\n",
    "Plotting is done with matplotlib, using the array of loss values\n",
    "``plot_losses`` saved while training.\n",
    "\n",
    "\n"
   ]
  },
  {
   "cell_type": "code",
   "execution_count": 31,
   "metadata": {},
   "outputs": [],
   "source": [
    "plt.switch_backend('agg')\n",
    "\n",
    "\n",
    "def showPlot(points):\n",
    "    plt.figure()\n",
    "    fig, ax = plt.subplots()\n",
    "    # this locator puts ticks at regular intervals\n",
    "    loc = ticker.MultipleLocator(base=0.2)\n",
    "    ax.yaxis.set_major_locator(loc)\n",
    "    plt.plot(points)"
   ]
  },
  {
   "cell_type": "markdown",
   "metadata": {},
   "source": [
    "Evaluation\n",
    "==========\n",
    "\n",
    "Evaluation is mostly the same as training, but there are no targets so\n",
    "we simply feed the decoder's predictions back to itself for each step.\n",
    "Every time it predicts a word we add it to the output string, and if it\n",
    "predicts the EOS token we stop there. We also store the decoder's\n",
    "attention outputs for display later.\n",
    "\n",
    "\n"
   ]
  },
  {
   "cell_type": "code",
   "execution_count": 32,
   "metadata": {},
   "outputs": [],
   "source": [
    "def evaluate(encoder, decoder, sentence, max_length=MAX_LENGTH):\n",
    "    with torch.no_grad():\n",
    "        input_tensor = tensorFromSentence(vocab_ingrs, sentence)\n",
    "        input_length = input_tensor.size()[0]\n",
    "        encoder_hidden = encoder.initHidden()\n",
    "\n",
    "        encoder_outputs = torch.zeros(max_length, encoder.hidden_size, device=device)\n",
    "\n",
    "        for ei in range(input_length):\n",
    "            encoder_output, encoder_hidden = encoder(input_tensor[ei],\n",
    "                                                     encoder_hidden)\n",
    "            encoder_outputs[ei] += encoder_output[0, 0]\n",
    "\n",
    "        decoder_input = torch.tensor([[SOS_token]], device=device)  # SOS\n",
    "\n",
    "        decoder_hidden = encoder_hidden\n",
    "\n",
    "        decoded_words = []\n",
    "        decoder_attentions = torch.zeros(max_length, max_length)\n",
    "\n",
    "        for di in range(max_length):\n",
    "            decoder_output, decoder_hidden, decoder_attention = decoder(\n",
    "                decoder_input, decoder_hidden, encoder_outputs)\n",
    "            decoder_attentions[di] = decoder_attention.data\n",
    "            topv, topi = decoder_output.data.topk(1)\n",
    "            if topi.item() == EOS_token:\n",
    "                decoded_words.append('<EOS>')\n",
    "                break\n",
    "            else:\n",
    "                decoded_words.append(vocab_tokens.idx2word[topi.item()])\n",
    "\n",
    "            decoder_input = topi.squeeze().detach()\n",
    "\n",
    "        return decoded_words, decoder_attentions[:di + 1]"
   ]
  },
  {
   "cell_type": "markdown",
   "metadata": {},
   "source": [
    "We can evaluate random sentences from the training set and print out the\n",
    "input, target, and output to make some subjective quality judgements:\n",
    "\n",
    "\n"
   ]
  },
  {
   "cell_type": "code",
   "execution_count": 33,
   "metadata": {},
   "outputs": [],
   "source": [
    "def evaluateRandomly(encoder, decoder, n=10):\n",
    "    for i in range(n):\n",
    "        pair = random.choice(pairs)\n",
    "        print('>', pair[0])\n",
    "        print('=', pair[1])\n",
    "        output_words, attentions = evaluate(encoder, decoder, pair[0])\n",
    "        output_sentence = ' '.join(output_words)\n",
    "        print('<', output_sentence)\n",
    "        print('')"
   ]
  },
  {
   "cell_type": "markdown",
   "metadata": {},
   "source": [
    "Training and Evaluating\n",
    "=======================\n",
    "\n",
    "With all these helper functions in place (it looks like extra work, but\n",
    "it makes it easier to run multiple experiments) we can actually\n",
    "initialize a network and start training.\n",
    "\n",
    "Remember that the input sentences were heavily filtered. For this small\n",
    "dataset we can use relatively small networks of 256 hidden nodes and a\n",
    "single GRU layer. After about 40 minutes on a MacBook CPU we'll get some\n",
    "reasonable results.\n",
    "\n",
    ".. Note::\n",
    "   If you run this notebook you can train, interrupt the kernel,\n",
    "   evaluate, and continue training later. Comment out the lines where the\n",
    "   encoder and decoder are initialized and run ``trainIters`` again.\n",
    "\n",
    "\n"
   ]
  },
  {
   "cell_type": "code",
   "execution_count": 34,
   "metadata": {},
   "outputs": [],
   "source": [
    "# hidden_size = 256\n",
    "# encoder1 = EncoderRNN(len(vocab_ingrs.idx2word.keys()), hidden_size).to(device)\n",
    "# attn_decoder1 = AttnDecoderRNN(hidden_size, len(vocab_tokens.idx2word.keys()), dropout_p=0.1).to(device)\n",
    "\n",
    "# trainIters(encoder1, attn_decoder1, 5000, print_every=100)"
   ]
  },
  {
   "cell_type": "code",
   "execution_count": null,
   "metadata": {},
   "outputs": [
    {
     "name": "stdout",
     "output_type": "stream",
     "text": [
      "1m 18s (- 63m 56s) (100 2%) 29.3815\n",
      "['preheat', 'sugar', 'sugar', 'sugar', 'sugar', 'sugar', 'sugar', 'sugar', 'sugar', 'sugar', 'sugar', 'sugar', 'sugar', 'sugar', 'bake', 'sugar', 'sugar', 'sugar', 'sugar', 'bake', 'sugar', 'sugar', 'bake', 'sugar', 'sugar', 'sugar', 'sugar', 'sugar', 'sugar', 'sugar', 'sugar', 'sugar', 'sugar', 'sugar', 'sugar', 'sugar', 'sugar', 'sugar', 'sugar', 'bake', 'sugar', 'sugar', 'sugar', 'sugar', 'sugar', 'sugar', 'sugar', 'sugar', 'sugar', 'bake', 'sugar', 'sugar', 'sugar', 'sugar', 'sugar', 'bake', 'sugar', 'sugar', 'sugar', 'sugar', 'bake', 'sugar', 'sugar', 'bake', 'sugar', 'sugar', 'sugar', 'sugar', 'sugar', 'bake', 'bake']\n",
      "2m 33s (- 61m 31s) (200 4%) 47.0226\n",
      "['salt', 'salt', 'salt', 'salt', 'salt', 'salt', 'salt', 'salt', 'salt', 'salt', 'salt', 'salt', 'salt', 'salt', 'salt', 'salt', 'salt', '<end>', 'salt', 'salt', 'salt', 'salt', 'salt', 'salt', 'salt', '<end>', 'salt', 'salt', 'salt', 'salt', 'salt', 'salt', 'salt', 'salt', 'salt', 'salt', 'salt', 'salt', 'salt', 'salt', 'salt', 'salt', 'salt', 'salt', 'salt', 'salt', 'salt', 'salt', '<end>', 'salt', 'salt', 'salt', 'salt', 'salt', 'salt', 'salt', 'salt', '<end>', 'salt', 'salt', 'salt', 'salt', 'salt', 'salt', 'salt', 'salt', 'salt', 'salt', 'salt', 'salt', 'salt', 'salt', 'salt', 'salt', 'salt', '<end>', 'salt', 'salt', 'salt', 'salt', 'salt', 'salt', 'salt', 'salt', 'salt', 'salt', 'salt', 'salt', '<end>', 'salt', 'salt', 'salt', 'salt', 'salt', 'salt', 'salt', 'salt', 'salt', 'salt', 'salt', '<end>', 'salt', 'salt', 'salt', 'salt', 'salt', 'salt', 'salt', 'salt', 'salt', 'salt', 'salt', 'salt', '<end>', 'salt', 'salt', 'salt', 'salt', 'salt', 'salt', 'salt', 'salt', 'salt', 'salt', 'salt', 'salt', 'salt', '<end>', 'salt', 'salt', 'salt', 'salt', 'salt', 'salt', 'salt', 'salt', '<end>', 'salt', 'salt', 'salt', 'salt', 'salt', 'salt', 'salt', 'salt', 'salt', 'salt', 'salt', 'salt', 'salt', 'salt', 'salt', 'salt', 'salt', 'salt', 'salt', 'salt', 'salt', 'salt', 'salt', 'salt', 'salt', 'salt', 'salt', '<end>']\n",
      "3m 48s (- 59m 44s) (300 6%) 51.2074\n",
      "[]\n",
      "5m 1s (- 57m 47s) (400 8%) 56.0975\n",
      "[]\n",
      "6m 22s (- 57m 25s) (500 10%) 59.4758\n",
      "['combine', 'beans', 'beans', 'beans', 'beans', 'combine', 'beans', 'beans', 'beans', 'beans', 'beans', 'beans', 'combine', 'beans', 'beans', 'beans', 'beans', 'beans', 'beans', 'beans', 'beans', 'beans', 'green', 'beans', 'combine', 'beans', 'beans', 'beans', 'beans', 'beans', 'beans', 'beans', 'beans', 'beans', 'beans', 'beans', 'green', 'beans', 'beans', 'combine', 'beans', 'beans', 'beans', 'beans', 'beans', 'beans', 'beans', 'beans', 'beans', 'beans', 'beans', 'beans', 'beans', 'beans', 'beans', 'beans', 'beans', 'beans', 'green', 'beans', 'beans', 'combine', 'beans', 'beans', 'beans', 'beans', 'combine', 'beans', 'beans', 'beans', 'beans', 'beans', 'beans', 'beans', 'beans', 'beans', 'beans', 'combine', 'beans', 'beans', 'beans', 'beans', 'green', 'beans', 'beans', 'beans', 'beans', 'beans', 'combine']\n",
      "7m 42s (- 56m 29s) (600 12%) 64.3164\n",
      "['mushrooms', 'mushrooms', 'mushrooms', 'to', 'to', 'mushrooms', 'to', 'mushrooms', 'mushrooms', 'to', 'mushrooms', 'to', 'mushrooms', 'to', 'to', 'mushrooms', 'to', 'to', 'mushrooms', 'to', 'to', 'to', 'to', 'mushrooms', 'mushrooms', 'to', 'to', 'mushrooms', 'to', 'to', 'to', 'to', 'mushrooms', 'mushrooms', 'to', 'to', 'to', 'to', 'to', 'to', 'to', 'mushrooms', 'to', 'mushrooms', 'mushrooms', 'mushrooms', 'to', 'mushrooms', 'to', 'mushrooms', 'mushrooms', 'to', 'to', 'to', 'mushrooms', 'mushrooms', 'to', 'mushrooms', 'to', 'to', 'to', 'to', 'mushrooms', 'mushrooms', 'to', 'to', 'to', 'mushrooms', 'to', 'to', 'mushrooms', 'to', 'to', 'to', 'mushrooms', 'to', 'to', 'to', 'to', 'to', 'mushrooms']\n",
      "8m 57s (- 54m 58s) (700 14%) 58.2152\n",
      "['.', '.', '.', '.', '.', '.', '.', '.', '.', '.', '.', '.', '.', '.', '.', '.', '.', '.', '.', '.', '.', '.', '.', '.', '.', '.', '.', '.', '.', '.', '.', 'sauce', 'sauce', 'sauce', 'sauce', 'sauce', 'sauce', 'sauce', 'sauce', 'sauce', 'sauce', 'sauce', 'sauce', 'sauce', 'sauce', 'sauce', 'sauce', 'sauce', 'sauce', 'sauce', 'sauce', 'sauce', 'sauce', 'sauce', 'sauce', 'sauce', 'sauce', 'sauce', 'a', 'sauce', 'sauce', 'sauce', 'sauce', 'sauce', 'sauce', 'sauce', 'sauce', 'sauce', 'sauce', 'sauce', 'sauce', 'sauce', 'sauce', 'sauce', 'sauce', 'sauce', 'sauce', 'sauce', 'sauce', 'sauce', 'sauce', 'sauce', 'sauce', 'sauce', 'sauce', 'sauce', 'sauce', 'sauce', 'sauce', 'sauce', 'sauce', 'sauce', 'sauce', 'sauce', 'sauce', 'sauce', 'sauce', 'sauce', 'sauce', 'sauce', 'sauce', 'sauce', 'sauce', 'sauce', 'sauce', 'sauce', 'sauce', 'sauce', 'sauce', 'sauce', 'sauce', 'sauce', 'sauce', 'sauce', 'sauce', 'sauce', 'sauce', 'sauce', 'sauce', 'sauce', 'sauce', 'sauce', 'sauce', 'sauce', 'sauce', 'sauce', 'sauce', 'sauce', 'sauce', 'sauce', 'sauce', 'sauce', 'sauce', 'sauce', 'sauce', 'sauce', 'sauce', 'sauce', 'sauce', 'sauce', 'sauce']\n",
      "10m 15s (- 53m 50s) (800 16%) 62.7036\n",
      "['preheat', '.', '.', '.', '.', '.', 'cover', 'well', 'remove', 'well', 'well', 'well', 'well', 'well', 'remove', 'well', 'well', 'cover', 'remove', 'remove', 'well', 'well', 'remove', 'well', 'well', 'well', 'remove', 'well', 'remove', 'well', 'remove', 'remove', 'well', 'cover', 'remove', 'well', 'well', 'well', 'remove', 'well', 'well', 'well', 'remove', 'well', 'well', 'remove', 'well', 'remove', 'well', 'remove', 'remove', 'well', 'well', 'cover', 'well', 'well', 'well', 'well', 'well', 'well', 'cover', 'well', 'well', 'well', 'well', 'well', 'well', 'well', 'well', 'well', 'cover', 'well', 'well', 'well', 'well', 'cover', 'well', 'well', 'well', 'well', 'remove', 'well', 'well', 'cover', 'remove', 'well', 'well', 'well', 'cover', 'well', 'well', 'well', 'well', 'well', 'well', 'well', 'well', 'well', 'well', 'well', 'cover']\n",
      "11m 30s (- 52m 24s) (900 18%) 58.2187\n",
      "['it', 'it', 'it', 'it', 'meat', 'it', 'it', 'it', 'it', 'it', 'it', 'it', 'it', 'it', 'it', 'it', 'medium', 'it', 'medium', 'it', 'it', 'medium', 'it', 'it', 'medium', 'it', 'it', 'it', 'it', 'it', 'it', 'it', 'it', 'medium', 'it', 'it', 'it', 'medium', 'medium', 'it', 'it', 'medium', 'it', 'it', 'it', 'medium', 'it', 'until', 'it', 'it', 'medium', 'medium', 'it', 'it', 'it', 'it', 'medium', 'medium', 'it', 'it', 'it', 'it', 'it', 'it', 'medium', 'medium', 'it', 'until', 'it', 'it', 'it', 'it', 'it', 'it', 'until', 'it', 'it', 'it', 'it', 'it', 'it', 'it', 'medium', 'it', 'it', 'it', 'it', 'it', 'it', 'medium', 'it', 'it', 'medium', 'it', 'medium', 'it', 'it', 'until', 'it', 'it', 'it', 'medium', 'it', 'it', 'it', 'it', 'it', 'medium']\n",
      "12m 43s (- 50m 54s) (1000 20%) 58.6600\n",
      "['.', '.', '.', '.', '.', '.', '.', 'a', '.', '.', '.', '.', '.', '.', '.', '.', 'a', 'a', '.', '.', '.', 'a', '.', 'a', '.', 'a', '.', '.', '.', '.', '.', '.', '.', '.', '.', '.', '.', '.', 'a', '.', '.', '.', '.', '.', '.', '.', '.', 'a', '.', '.', '.', '.', '.', '.', '.', '.', '.', '.', '.', 'a', '.', '.', '.', 'a', '.', 'a', '.', '.', '.', 'a', '.', '.', '.', '.', '.', '.', '.', '.', '.', '.', 'a', '.', '.', '.', '.', '.', '.', '.', '.', 'a', '.', '.', '.', '.', '.', '.', '.', '.', '.', '.', '.', 'a', '.', '.', '.', '.', '.', '.', '.', 'a', '.', '.', '.', '.', '.', '.', '.', 'a', '.', '.', 'a']\n",
      "13m 56s (- 49m 26s) (1100 22%) 60.0493\n",
      "[]\n",
      "15m 12s (- 48m 8s) (1200 24%) 63.3251\n",
      "['pour', '.', '.', '.', '.', '.', '.', '.', '.', '.', '.', '.', '.', 'pour', 'is', 'is', 'is', 'is', 'is', 'is', 'pour', 'is', 'is', 'plate', 'is', 'is', 'is', 'pour', 'is', 'is', 'pour', 'is', 'is', 'is', 'plate', 'is', 'pour', 'is', 'is', 'is', 'is', 'is', 'is', 'is', 'is', 'is', 'pour', 'is', 'is', 'is', 'is', 'plate', 'is', 'is', 'is', 'plate', 'is', 'pour', 'is', 'is', 'plate', 'is', 'is', 'is', 'is', 'is', 'is', 'is', 'is', 'is', 'is', 'pour', 'is', 'is', 'is', 'is', 'is', 'pour', 'is', 'is', 'is', 'is', 'plate', 'is', 'is', 'pour']\n",
      "16m 29s (- 46m 57s) (1300 26%) 62.0899\n",
      "[]\n",
      "17m 49s (- 45m 50s) (1400 28%) 70.1063\n"
     ]
    },
    {
     "name": "stdout",
     "output_type": "stream",
     "text": [
      "['to', 'to', 'to', 'to', 'to', 'to', 'to', 'to', 'to', 'to', 'to', 'to', 'to', 'to', 'to', 'to', 'to', 'to', 'to', 'to', 'to', 'to', 'to', 'to', 'to', 'to', 'to', 'to', 'to', 'to', 'to', 'to', 'to', 'to', 'to', 'to', 'to', 'to', 'to', 'to', 'to', 'to', 'to', 'to', 'to', 'to', 'to', 'to', 'to', 'to', 'to', 'to', 'to', 'to', 'to', 'to', 'to', 'to', 'to', 'to', 'to', 'to', 'to', 'to', 'to', 'to', 'to', 'to', 'to', 'bacon', 'to', 'to', 'to']\n",
      "19m 10s (- 44m 43s) (1500 30%) 71.0018\n",
      "['melt', 'layer', 'bottom', 'layer', 'layer', 'layer', 'layer', 'layer', 'bottom', 'layer', 'layer', 'layer', 'layer', 'bottom', 'layer', 'layer', 'layer', 'layer', 'bottom', 'layer', 'bottom', 'layer', 'layer', 'layer', 'bottom', 'layer', 'bottom', 'layer', 'layer', 'layer', 'bottom', 'layer', 'a', 'layer', 'layer', 'layer', 'layer', 'layer', 'layer', 'bottom', 'layer', 'bottom', 'layer', 'bottom', 'layer', 'layer', 'layer', 'layer', 'bottom', 'layer', 'bottom', 'layer', 'layer', 'layer', 'layer', 'layer', 'layer', 'layer', 'layer', 'layer', 'layer', 'layer', 'layer', 'layer', 'layer', 'layer', 'bottom', 'layer', 'a', 'bottom', 'layer', 'bottom', 'layer', 'bottom', 'layer', 'layer', 'bottom', 'layer', 'a', 'bottom', 'layer', 'bottom', 'layer', 'layer', 'layer', 'layer', 'bottom', 'layer', 'a', 'bottom', 'layer', 'layer', 'layer', 'layer', 'layer', 'layer', 'bottom', 'layer', 'layer', 'layer', 'bottom', 'layer', 'bottom', 'layer', 'a', 'bottom', 'layer', 'bottom', 'layer', 'layer', 'layer', 'layer', 'layer', 'layer', 'bottom', 'layer', 'layer', 'layer', 'layer', 'bottom', 'bottom', 'layer', 'layer', 'layer', 'layer', 'layer', 'layer', 'layer', 'layer', 'bottom', 'layer', 'bottom', 'layer', 'layer', 'bottom', 'layer', 'layer', 'layer', 'layer', 'layer', 'bottom', 'layer', 'layer', 'layer', 'layer', 'bottom', 'layer', 'layer', 'layer', 'bottom', 'layer', 'a', 'bottom', 'layer', 'bottom']\n",
      "20m 31s (- 43m 36s) (1600 32%) 73.3610\n",
      "[]\n",
      "21m 53s (- 42m 30s) (1700 34%) 71.7977\n",
      "['until', 'the', 'the', 'the', 'the', 'the', 'the', 'the', 'the', 'the', 'the', 'the', 'the', 'the', 'the', 'the', 'the', 'the', 'the', 'the', 'the', 'the', 'the', 'the', 'the', 'the', 'the', 'the', 'the', 'the', 'the', 'the', 'the', 'the', 'the', 'the', 'the', 'the', 'the', 'the', 'the', 'the', 'the', 'the', 'the', 'the', 'the', 'the', 'the', 'the', 'the', 'the', 'the', 'the', 'the', 'the', 'the', 'the', 'the', 'the', 'the', 'the', 'the', 'the', 'the', 'the', 'the', 'the', 'the', 'the', 'the', 'the', 'the', 'the', 'the', 'the', 'the', 'the', 'the', 'the', 'the', 'the', 'the', 'the', 'the', 'the', 'the', 'the', 'the']\n",
      "23m 12s (- 41m 15s) (1800 36%) 74.5599\n",
      "[]\n",
      "24m 30s (- 39m 59s) (1900 38%) 65.3351\n",
      "[]\n",
      "25m 47s (- 38m 41s) (2000 40%) 72.8830\n",
      "['until', 'until', 'until', 'until', 'until', 'until', 'until', 'until', 'until', 'until', 'until', 'until', 'until', 'until', 'until', 'until', 'until', 'until', 'until', 'until', 'until', 'until', 'until', 'until', 'until', 'until', 'until', 'until', 'until', 'until', 'until', 'until', 'until', 'until', 'until', 'until', 'until', 'until', 'until', 'until', 'until', 'until', 'until', 'until', 'until', 'until', 'until', 'until', 'until', 'until', 'until', 'until', 'until', 'until', 'until', 'until', 'until', 'until', 'until', 'until', 'until', 'until', 'until', 'until', 'until', 'until', 'until', 'until', 'until', 'until', 'until', 'until', 'until', 'until', 'until', 'until', 'until', 'until', 'until', 'until', 'until', 'until', 'until', 'until', 'until']\n"
     ]
    }
   ],
   "source": [
    "hidden_size = 256\n",
    "encoder2 = EncoderRNN(len(vocab_ingrs.idx2word.keys()), hidden_size).to(device)\n",
    "attn_decoder2 = DecoderRNN(hidden_size, len(vocab_tokens.idx2word.keys())).to(device)\n",
    "\n",
    "trainIters(encoder2, attn_decoder2, 5000, print_every=100,attention=False)"
   ]
  },
  {
   "cell_type": "code",
   "execution_count": 31,
   "metadata": {},
   "outputs": [
    {
     "name": "stdout",
     "output_type": "stream",
     "text": [
      "> ['cream_cheese', 'sour_cream', 'ground_cumin', 'lime_zest', 'pepper', 'barbecue_sauce', 'tomatoes', 'yellow_peppers', 'green_onions', 'cheddar_cheese', 'tortilla_chips']\n",
      "= [['beat', 'cream', 'cheese', 'with', 'the', 'sour', 'cream', ',', 'cumin', ',', 'lime', 'zest', '.'], ['pepper', 'and', 'half', 'of', 'the', 'diana', 'sauce', 'until', 'smooth', '.'], ['spread', 'into', 'an', '11x7-inch', 'serving', 'dish', '.'], ['toss', 'the', 'remaining', 'diana', 'sauce', 'with', 'tomato', ',', 'yellow', 'pepper', 'and', 'half', 'the', 'green', 'onion', ';', 'spoon', 'evenly', 'over', 'the', 'cream', 'cheese', 'layer', '.'], ['sprinkle', 'with', 'cheddar', 'cheese', 'and', 'the', 'remaining', 'green', 'onions', '.'], ['serve', 'with', 'tortilla', 'chips', '.'], ['tip', ':', 'make', 'your', 'own', 'grilled', 'tortilla', 'chips', 'by', 'cutting', 'flour', 'tortillas', 'into', 'wedges', 'and', 'tossing', 'with', 'a', 'little', 'vegetable', 'oil', '.'], ['grill', 'over', 'medium-low', 'heat', 'until', 'golden', 'and', 'crisp', ',', 'or', 'bake', 'in', 'a', '350f', 'oven', 'until', 'evenly', 'toasted', '.']]\n",
      "< and breast . remove least breast minutes breast breast breast breast breast breast breast breast breast breast breast breast breast breast minutes breast minutes breast breast breast breast breast breast breast minutes breast breast minutes breast minutes breast breast breast breast breast minutes breast breast breast breast minutes breast breast breast breast breast minutes breast breast breast breast breast breast breast minutes breast breast breast breast breast breast breast breast breast minutes breast breast breast breast breast breast breast breast breast breast breast breast breast minutes breast breast minutes breast breast breast breast breast breast breast minutes breast breast breast breast breast minutes breast breast breast breast breast breast minutes breast breast breast breast breast breast breast breast breast breast breast breast minutes breast breast breast minutes breast breast breast breast breast breast breast breast breast minutes breast minutes breast breast breast minutes breast minutes breast breast breast minutes breast breast breast breast breast breast breast breast breast breast breast breast cheese breast minutes breast breast breast breast breast breast breast breast breast breast minutes breast breast breast breast breast breast get breast breast breast minutes breast breast minutes breast minutes breast breast breast minutes breast breast breast breast breast breast breast minutes breast and breast breast breast minutes breast breast breast breast breast minutes breast breast breast breast breast breast breast breast breast breast breast minutes breast breast breast breast breast breast breast breast minutes breast breast minutes breast breast breast breast breast breast breast minutes breast breast breast breast breast breast breast breast breast minutes breast breast minutes breast breast breast breast breast breast breast minutes breast minutes breast breast breast breast breast breast breast breast breast breast breast breast breast minutes breast breast breast breast breast breast breast breast breast breast breast minutes breast breast minutes breast\n",
      "\n",
      "> ['lean_ground_beef', 'fresh_white_breadcrumbs', 'garlic_clove', 'fresh_parsley', 'salt_and_pepper', 'egg', 'mozzarella_cheese', 'vegetable_oil', 'onion', 'tomatoes', 'spaghetti']\n",
      "= [['put', 'the', 'beef', ',', 'breadcrumbs', ',', 'garlic', ',', 'half', 'the', 'parsley', ',', 'saltand', 'pepper', 'into', 'a', 'bowl', '.'], ['add', 'the', 'egg', 'and', 'mix', 'well', '.'], ['cut', 'the', 'mozzarella', 'cheese', 'into', '16', 'small', 'cubes', '.'], ['take', 'a', 'heaped', 'teaspoonful', 'of', 'beef', 'mixture', 'and', 'form', 'it', 'into', 'a', 'ball', 'around', 'each', 'cube', 'of', 'cheese', '.'], ['heat', 'the', 'oil', 'in', 'a', 'large', 'covered', 'pan', ',', 'add', 'the', 'meat', 'balls', 'to', 'the', 'pan', ',', 'cover', 'and', 'cook', 'until', 'brown', 'on', 'all', 'sides', '.'], ['add', 'the', 'onion', 'to', 'the', 'pan', ',', 'cook', 'for', '2', 'to', '3', 'minutes', ',', 'then', 'add', 'the', 'tomatoes', 'and', 'juice', '.'], ['bring', 'up', 'to', 'a', 'simmering', 'point', ',', 'cover', 'and', 'cook', 'for', '30', 'minutes', '.'], ['uncover', 'pan', 'and', 'cook', 'for', 'a', 'further', '10', 'minutes', 'to', 'allow', 'the', 'sauce', 'to', 'reduce', 'and', 'thicken', 'slightly', '.'], ['while', 'the', 'meatballs', 'are', 'cooking', ',', 'cook', 'the', 'spaghetti', 'in', 'boiling', 'water', 'until', 'done', 'to', 'your', 'preference', '.'], ['drain', 'well', 'and', 'divide', 'among', '4', 'warmed', 'plates', '.'], ['divide', 'the', 'sauce', 'among', 'the', 'plates', 'of', 'spaghetti', 'and', 'then', 'sprinkle', 'with', 'the', 'remaining', 'parsley', '.']]\n",
      "< preheat and . <EOS>\n",
      "\n",
      "> ['low_-_fat_mayonnaise', 'orange_juice_concentrate', 'lime_juice', 'ground_cumin', 'hot_sauce', 'boneless_skinless_chicken_breasts', 'sourdough_bread', 'romaine_lettuce', 'tomatoes', 'avocado']\n",
      "= [['mix', 'together', 'the', 'mayo', ',', 'orange', 'juice', 'concentrate', ',', 'lime', 'juice', ',', 'cumin', ',', 'and', 'hot', 'sauce', 'in', 'a', 'small', 'bowl', '.'], ['set', 'aside', '.'], ['season', 'chicken', 'breasts', 'with', 'salt', 'and', 'pepper', '.'], ['cook', 'in', 'a', 'nonstick', 'skillet', 'coated', 'with', 'cooking', 'spray', 'over', 'a', 'medium-high', 'heat', 'for', '5', 'minutes', 'on', 'each', 'side', '.'], ['reduce', 'heat', 'to', 'low', '.'], ['cover', ',', 'cook', 'for', '5', 'more', 'minutes', 'or', 'until', 'done', '.'], ['remove', 'from', 'heat', 'and', 'cut', 'diagonally', 'across', 'the', 'grain', 'into', 'thin', 'slices', '.'], ['spread', '1', 'tablespoon', 'citrus', 'mayonnaise', 'on', 'each', 'of', 'the', 'four', 'bread', 'slices', '.'], ['top', 'with', 'lettuce', ',', 'chicken', ',', 'tomatoes', ',', 'avocado', ',', 'and', 'remaining', 'bread', 'slice', '.']]\n",
      "< preheat salt fold cheese honey lettuce salt fold cheese honey lettuce fold cheese honey lettuce <EOS>\n",
      "\n",
      "> ['apricot_preserves', 'soy_sauce', 'chicken_broth', 'vegetable_oil', 'cornstarch', 'garlic', 'ground_ginger', 'boneless_skinless_chicken_breasts', 'green_pepper', 'salted_cashews', 'cooked_rice']\n",
      "= [['in', 'a', 'large', 'bowl', ',', 'combine', 'the', 'first', 'seven', 'ingredients', '.'], ['add', 'chicken', 'and', 'toss', 'to', 'coat', '.'], ['transfer', 'to', 'a', 'shallow', 'microwave-safe', 'dish', '.'], ['cover', 'and', 'microwave', 'on', 'high', 'for', '3', 'minutes', ',', 'stirring', 'once', '.'], ['add', 'green', 'pepper', 'and', 'cashews', '.'], ['cover', 'and', 'microwave', 'on', 'high', 'for', '2-4', 'minutes', 'or', 'until', 'chicken', 'juices', 'run', 'clear', ',', 'stirring', 'once', '.'], ['let', 'stand', 'for', '3', 'minutes', '.'], ['serve', 'with', 'rice', '.'], ['editor', \"'s\", 'note', ':', 'this', 'recipe', 'was', 'tested', 'in', 'a', '1,100-watt', 'microwave', '.']]\n",
      "< preheat honey honey honey honey honey juice and honey and honey juice water minutes water minutes water minutes water minutes water minutes water minutes water minutes water minutes water minutes water minutes water minutes water minutes water minutes water minutes water minutes water minutes water minutes water minutes water minutes water minutes water minutes water minutes water minutes water minutes water minutes water minutes water minutes water minutes water minutes water minutes water minutes water minutes water minutes water minutes water minutes water minutes water minutes water minutes water minutes water minutes water minutes water minutes water minutes water minutes water minutes water minutes water minutes water minutes water minutes water minutes water minutes water minutes water minutes water minutes water minutes water minutes water minutes water minutes water minutes water minutes water minutes water minutes water minutes water minutes water minutes water minutes water minutes water minutes water minutes water minutes water minutes water minutes water minutes water minutes water minutes water minutes water minutes water minutes water minutes water minutes water minutes water minutes water minutes water minutes water minutes water minutes water minutes water minutes water minutes water minutes water minutes water minutes water minutes water minutes water minutes water minutes water minutes water minutes water minutes water minutes water minutes water minutes water minutes water minutes water minutes water minutes water minutes water minutes water minutes water minutes water minutes water minutes water minutes water minutes water minutes water minutes water minutes water minutes water minutes water minutes water minutes water minutes water minutes water minutes water minutes water minutes water minutes water minutes water minutes water minutes water minutes water minutes water minutes water minutes water minutes water minutes water minutes water minutes water minutes water minutes water minutes water minutes water minutes water minutes\n",
      "\n",
      "> ['eggs', 'vegetable_oil', 'beer', 'all_-_purpose_flour', 'assorted_herbs', 'coarse_salt', 'fresh_ground_pepper', 'lemon']\n",
      "= [['whisk', 'together', 'the', 'yolks', ',', 'oil', ',', 'and', 'beer', 'in', 'a', 'bowl', '.'], ['slowly', 'add', 'the', 'flour', ',', 'whisking', 'until', 'just', 'combined', '.'], ['set', 'aside', 'for', '20', 'minutes', '.'], ['wash', 'and', 'dry', 'the', 'herbs', '.'], ['whisk', 'the', 'egg', 'whites', 'to', 'soft', 'peaks', ';', 'fold', 'into', 'the', 'beer', 'batter', '.'], ['add', 'the', 'salt', 'and', 'pepper', '.'], ['in', 'a', 'heavy-bottomed', 'saucepan', ',', 'heat', '1', 'inch', 'oil', 'over', 'medium', 'heat', 'until', 'hot', 'but', 'not', 'smoking', ',', 'about', '375f', 'on', 'a', 'fry', 'thermometer', '.'], ['dip', 'each', 'herb', 'into', 'the', 'batter', ',', 'shaking', 'off', 'excess', ',', 'until', 'lightly', 'coated', '.'], ['place', 'the', 'herbs', 'in', 'the', 'oil', ',', 'turning', 'until', 'golden', ',', 'about', '1', 'minute', '.'], ['drain', 'on', 'paper', 'towels', ';', 'season', 'with', 'salt', '.'], ['serve', 'with', 'lemon', 'wedges', '.']]\n",
      "< bread stir bread stir bread stir bread stir bread stir bread stir bread stir bread stir bread stir bread stir bread stir bread stir bread stir bread stir bread stir bread stir bread stir bread stir bread stir bread stir bread stir bread stir bread stir bread stir bread stir bread stir bread stir bread stir bread stir bread stir bread stir bread stir bread stir bread stir bread stir bread stir bread stir bread stir bread stir bread stir bread stir bread stir bread stir bread stir bread stir bread stir bread stir bread stir bread stir bread stir bread stir bread stir bread stir bread stir bread stir bread stir bread stir bread stir bread stir bread stir bread stir bread stir bread stir bread stir bread stir bread stir bread stir bread stir bread stir bread stir bread stir bread stir bread stir bread stir bread stir bread stir bread stir bread stir bread stir bread stir bread stir bread stir bread stir bread stir bread stir bread stir bread stir bread stir bread stir bread stir bread stir bread stir bread stir bread stir bread stir bread stir bread stir bread stir bread stir bread stir bread stir bread stir bread stir bread stir bread stir bread stir bread stir bread stir bread stir bread stir bread stir bread stir bread stir bread stir bread stir bread stir bread stir bread stir bread stir bread stir bread stir bread stir bread stir bread stir bread stir bread stir bread stir bread stir bread stir bread stir bread stir bread stir bread stir bread stir bread stir bread stir bread stir bread stir bread stir bread stir bread stir bread stir bread stir bread stir bread stir bread stir bread stir bread stir bread stir bread stir\n",
      "\n",
      "> ['butter', 'rolled_oats', 'sugar', 'egg', 'vanilla', 'all_-_purpose_flour', 'salt', 'baking_powder']\n",
      "= [['line', 'a', 'cookie', 'sheet', 'with', 'foil', ';', 'lightly', 'butter', 'foil', '.'], ['set', 'aside', '.'], ['in', 'a', 'large', 'saucepan', ',', 'melt', 'butter', '.'], ['remove', 'saucepan', 'from', 'heat', '.'], ['stir', 'in', 'rolled', 'oats', ',', 'sugar', ',', 'egg', ',', 'and', 'vanilla', '.'], ['add', 'flour', ',', 'salt', ',', 'and', 'baking', 'powder', ';', 'mix', 'well', '.'], ['drop', 'rounded', 'teaspoons', 'of', 'cookie', 'batter', 'about', '3', 'inches', 'apart', 'onto', 'foil', '(', 'about', '9', 'cookies', 'on', 'a', 'medium', 'cookie', 'sheet', ')', '.'], ['spread', 'each', 'dollop', 'of', 'cookie', 'batter', 'slightly', 'to', 'distribute', 'the', 'oats', '.'], ['bake', 'in', 'a', '350', 'degree', 'f', 'oven', 'for', '9', 'to', '11', 'minutes', 'or', 'until', 'golden', 'brown', '.'], ['remove', 'from', 'the', 'oven', ';', 'let', 'cool', 'on', 'cookie', 'sheets', 'on', 'a', 'wire', 'rack', 'about', '10', 'minutes', 'or', 'until', 'the', 'cookies', 'are', 'set', '.'], ['remove', 'from', 'the', 'foil', '.']]\n",
      "< preheat mixture . remove and cut and cut and cut and cut and cut and cut and cut get get get get get get get get get minutes get get get get get get get get get minutes get get get get get get get minutes get get get get get get get mixture except get baking get get not remove mixture except get not remove mixture except get not remove mixture get not remove mixture get baking get baking get not remove mixture get not remove mixture except baking get not remove mixture except get not remove mixture get baking get not remove mixture get not remove mixture get not remove mixture except minutes get baking get not remove mixture except mixture get not remove mixture get not remove mixture get not remove mixture except get baking get not remove mixture except mixture get baking get not remove mixture except get baking get not remove mixture get baking get baking get not remove mixture get not remove mixture except baking get not remove mixture get not remove mixture get baking get not remove mixture get get baking get not remove mixture get not remove mixture get not remove mixture get not remove mixture except get not remove mixture get baking get not remove mixture get baking get not remove mixture except get not remove mixture except get baking get not remove mixture get not remove mixture get not remove mixture get baking get not remove mixture get not remove mixture get not remove mixture except baking get baking get not remove mixture get not remove mixture except mixture get not remove mixture except baking get not remove mixture get not remove mixture get mixture except get not remove mixture get not remove mixture get baking get not remove mixture\n",
      "\n",
      "> ['seasoned_croutons', 'pork_sausage', 'eggs', 'low_-_fat_milk', 'mushroom_soup', 'sliced_mushrooms', 'dry_mustard', 'cheddar_cheese']\n"
     ]
    },
    {
     "name": "stdout",
     "output_type": "stream",
     "text": [
      "= [['spread', 'croutons', 'in', 'a', 'lightly', 'greased', '13', 'x', '9', 'x', '2', 'inch', 'pan', '.'], ['set', 'aside', '.'], ['cook', 'sausage', ',', 'drain', '.'], ['crumble', '.'], ['sprinkle', 'sausage', 'over', 'croutons', '.'], ['combine', 'egg', ',', 'lowfat', 'milk', ',', 'soup', ',', 'mushrooms', ',', 'and', 'dry', 'mustard', '-', 'mix', 'well', 'and', 'pour', 'over', 'sausage', '.'], ['cover', 'and', 'chill', 'overnight', 'or', 'possibly', 'at', 'least', '8', 'hrs', '.'], ['remove', 'from', 'refrigerator', '-', 'let', 'stand', '30', 'min', '.'], ['bake', 'uncovered', 'at', '325', 'degrees', 'for', '50', 'to', '55', 'min', '.'], ['sprinkle', 'cheese', 'over', 'top', 'and', 'bake', 'an', 'additional', '5', 'min', 'or', 'possibly', 'till', 'cheese', 'melts', '.']]\n",
      "< and . grill and salt and and and and and honey with salt honey salt honey salt honey salt honey salt honey honey salt honey salt honey salt honey salt honey salt honey salt honey salt honey salt honey salt . honey salt honey salt honey salt honey salt honey salt honey salt honey salt honey salt honey salt honey salt . stir with salt honey salt honey salt honey salt honey salt honey salt honey salt honey salt honey salt honey salt honey salt honey honey salt honey salt honey honey salt honey salt honey salt honey salt honey salt honey salt honey salt honey salt honey salt honey salt honey salt honey salt honey salt with salt honey salt honey honey salt honey salt honey salt honey salt . honey salt honey salt honey salt honey salt honey salt honey salt honey salt honey salt honey salt honey salt honey salt honey salt honey salt honey salt honey salt honey salt honey salt honey salt honey salt honey salt honey salt honey salt honey salt honey salt honey salt with salt honey salt honey salt honey salt honey salt honey honey salt honey salt honey salt honey salt honey salt honey honey salt honey salt honey salt honey salt honey salt honey salt honey salt honey salt honey salt honey salt honey salt honey salt honey salt honey honey salt honey salt honey honey salt honey salt honey salt honey salt honey salt honey salt with salt honey salt honey salt honey salt honey salt honey salt honey salt honey salt honey salt honey salt honey salt honey salt honey salt honey honey honey salt honey salt honey honey honey salt honey salt honey salt honey salt honey salt honey salt honey salt honey salt honey salt honey\n",
      "\n",
      "> ['sirloin', 'fresh_broccoli_florets', 'onion', 'garlic', 'cornstarch', 'low_sodium_soy_sauce', 'cooking_sherry', 'honey', 'vegetable_oil', 'crushed_red_pepper_flakes']\n",
      "= [['cut', 'onion', 'and', 'beef', 'into', 'thin', 'strips', '(', 'beef', 'should', 'be', 'bite', 'size', ')', '.'], ['add', 'two', 'tbl', 'oil', 'to', 'hot', 'pan', 'or', 'wok', '.'], ['when', 'oil', 'is', 'hot', 'and', 'swirly', ',', 'add', 'garlic', 'and', 'onions', '.'], ['cook', 'two', 'minutes', 'or', 'until', 'onion', 'is', 'lightly', 'browned', '.'], ['add', 'florets', 'and', 'cook', 'two', 'minutes', '.'], ['add', 'sirloin', 'and', 'stir', 'fry', 'until', 'cooked', 'through', '.'], ['do', \"n't\", 'overcook', 'or', 'florets', 'will', 'be', 'mushy', '!'], ['meanwhile', ',', 'combine', 'sherry', ',', 'cornstarch', 'and', 'soy', '.'], ['turn', 'heat', 'off', 'and', 'drizzle', 'honey', 'all', 'over', 'stir', 'fry', '.'], ['add', 'soy', 'mixture', 'and', 'stir', '.'], ['stir', 'in', 'red', 'pepper', '.']]\n",
      "< juice cut juice get vegetable mixture get vegetable . get vegetable . get vegetable . juice get vegetable . get vegetable . get vegetable . get vegetable get vegetable get vegetable . get vegetable . get vegetable . get vegetable get vegetable . get vegetable . get vegetable . get vegetable . get vegetable get vegetable . get vegetable . get vegetable . get vegetable . get vegetable . get vegetable . get vegetable . get vegetable . get vegetable . get well get vegetable . get vegetable . get vegetable . get vegetable . get vegetable . get juice get vegetable . get vegetable get vegetable . get vegetable . remove get juice get vegetable get get vegetable get vegetable get vegetable get vegetable get vegetable get vegetable get vegetable get vegetable get vegetable get vegetable get juice get vegetable get vegetable get get vegetable get vegetable get vegetable get vegetable get vegetable get get vegetable get vegetable get get vegetable get vegetable get vegetable get vegetable get vegetable get vegetable get vegetable get vegetable get vegetable get vegetable get vegetable get vegetable get vegetable get vegetable get vegetable get vegetable get vegetable get vegetable get vegetable get vegetable get vegetable get vegetable get vegetable get juice get vegetable get vegetable get vegetable get vegetable get vegetable get vegetable get vegetable get vegetable get vegetable get vegetable get vegetable get vegetable get vegetable get vegetable get vegetable get vegetable get vegetable get vegetable get vegetable get vegetable get vegetable get vegetable get vegetable get vegetable get juice get vegetable get get vegetable get vegetable get vegetable get vegetable get vegetable get vegetable get vegetable get vegetable get vegetable get vegetable get juice get vegetable get vegetable get vegetable get vegetable get vegetable get juice get vegetable get vegetable get\n",
      "\n",
      "> ['pie_pastry', 'swiss_cheese', 'green_onions', 'eggs', 'half_-_and_-_half_cream', 'pimientos', 'salt', 'cayenne_pepper', 'parmesan_cheese']\n",
      "= [['heat', 'oven', 'to', '375', 'degrees', '.'], ['spray', '24', 'mini', 'muffin', 'tins', 'with', 'nonstick', 'cooking', 'spray', '.'], ['roll', 'out', 'the', 'dough', ',', 'then', 'cut', 'into', '24-26', '2-1/2-inch', 'rounds', '(', 'you', 'might', 'get', 'less', ')', '.'], ['press', 'one', 'round', 'into', 'the', 'bottom', 'and', 'sides', 'of', 'each', 'mini', 'muffin', 'tin', '.'], ['place', 'about', '1', 'tablespoon', 'of', 'shredded', 'cheese', 'in', 'the', 'bottom', 'of', 'the', 'crust', '.'], ['top', 'with', 'a', 'few', 'green', 'onions', ',', 'and', 'then', 'some', 'chopped', 'pimientos', '.'], ['in', 'a', 'small', 'bow', ',', 'whisk', 'together', 'the', 'eggs', ',', 'half', 'and', 'half', 'cream', ',', 'salt', ',', 'cayenne', 'and', 'parmesan', 'cheese', '.'], ['divide', 'the', 'mixture', 'between', 'each', 'muffin', 'tin', 'to', 'within', '1/4', 'inch', 'from', 'the', 'top', '.'], ['bake', '25-30', 'minutes', 'or', 'until', 'golden', 'brown', '.'], ['cool', '3', 'minutes', 'then', 'carefully', 'run', 'a', 'knife', 'around', 'the', 'quiches', 'and', 'lift', 'out', '.'], ['serve', 'warm', '.']]\n",
      "< and salt . get mixture cheese thoroughly thoroughly get cheese get cheese turkey cheese get cheese thoroughly thoroughly thoroughly cheese get cheese get cheese get cheese get cheese get cheese get cheese get cheese get cheese thoroughly cheese get cheese get cheese get cheese get cheese get cheese get cheese get cheese get cheese get cheese cheese get cheese get cheese get cheese get cheese get cheese turkey cheese turkey cheese get cheese get cheese get cheese get cheese get cheese get cheese get cheese get cheese thoroughly cheese get cheese get cheese get cheese get cheese get cheese get cheese get cheese get cheese get cheese get cheese turkey cheese get cheese turkey cheese get cheese turkey cheese get cheese get cheese get cheese get cheese thoroughly cheese get cheese thoroughly thoroughly cheese get cheese get cheese get cheese get cheese get cheese get cheese turkey cheese get cheese get cheese get cheese get cheese get cheese get cheese get cheese get cheese get cheese turkey cheese get cheese get cheese get cheese get cheese turkey cheese get cheese get cheese get cheese get cheese get cheese get cheese get cheese get cheese get cheese get cheese get cheese get cheese get cheese get cheese get cheese get cheese turkey cheese get cheese get cheese turkey cheese get cheese get cheese get cheese turkey cheese thoroughly cheese get cheese get cheese get cheese get cheese get cheese turkey cheese get cheese get cheese get cheese get cheese get cheese get cheese get cheese get cheese get cheese get cheese turkey cheese get cheese get cheese thoroughly get cheese get cheese get cheese thoroughly cheese get cheese turkey cheese get cheese get cheese get cheese get cheese get cheese get cheese get cheese get cheese turkey cheese get cheese get\n",
      "\n",
      "> ['sweet_potatoes', 'unsweetened_frozen_peach_slices', 'butter', 'lemon_juice', 'brown_sugar', 'ground_ginger', 'salt', 'coffee_-_flavored_liqueur', 'pecans']\n",
      "= [['preheat', 'oven', 'to', '350', 'degrees', 'f', '(', '175', 'degrees', 'c', ')', '.'], ['lightly', 'grease', 'a', '9x13-inch', 'baking', 'dish', '.'], ['arrange', 'half', 'the', 'sweet', 'potatoes', 'in', 'the', 'bottom', 'of', 'the', 'prepared', 'baking', 'dish', '.'], ['layer', 'with', 'half', 'of', 'the', 'peach', 'slices', 'and', 'dot', 'with', 'half', 'the', 'butter', '.'], ['repeat', 'layering', 'with', 'remaining', 'sweet', 'potatoes', 'and', 'peach', 'slices', 'and', 'sprinkle', 'with', 'lemon', 'juice', '.'], ['combine', 'the', 'brown', 'sugar', ',', 'ginger', ',', 'and', 'salt', 'and', 'mix', 'well', '.'], ['sprinkle', 'the', 'sugar', 'mixture', 'over', 'the', 'potatoes', 'and', 'peaches', '.'], ['dot', 'the', 'casserole', 'with', 'remaining', 'butter', ',', 'and', 'pour', 'in', 'the', 'liqueur', '(', 'see', 'cook', \"'s\", 'note', ')', '.'], ['cover', 'pan', 'with', 'aluminum', 'foil', '.'], ['bake', 'in', 'the', 'preheated', 'oven', 'until', 'sweet', 'potatoes', 'are', 'tender', ',', 'about', '1', 'hour', '.'], ['remove', 'foil', ',', 'sprinkle', 'with', 'pecans', ',', 'and', 'continue', 'baking', '10', 'to', '15', 'minutes', ',', 'until', 'pecans', 'are', 'toasted', 'and', 'fragrant', '.']]\n",
      "< stirring ; get . stir 4 . stir 4 . stir 4 . stir 4 . stir 4 . stir 4 . stir 4 ; get stirring 4 . stir 4 . stir 4 . stir 4 . stir 4 ; get stirring 4 . stir 4 . stir 4 . stir 4 . stir 4 . stir 4 . stir 4 . stir 4 . stir 4 . stir 4 . stir 4 . stir 4 . stir 4 . stir 4 . stir 4 . stir 4 . stir 4 . stir 4 . stir 4 . stir 4 . stir 4 . stir 4 . stir 4 . stir 4 . stir 4 . stir 4 . stir 4 . stir 4 . stir 4 ; get stirring 4 . stir 4 . stir 4 ; get . stir 4 ; get stirring 4 . stir 4 . stir 4 . stir 4 . stir 4 . stir 4 . stir 4 . stir 4 . stir 4 . stir 4 . stir 4 . stir 4 . stir 4 . stir 4 . stir 4 . stir 4 . stir 4 . stir 4 . stir 4 . stir 4 . stir 4 . stir 4 . stir 4 ; get thoroughly celery 4 . stir 4 . stir 4 . stir 4 . stir 4 . stir 4 . stir 4 . stir 4 . stir 4 ; get thoroughly celery 4 . stir 4 . stir 4 . stir 4 . stir 4 . stir 4 . stir 4 ; get . stir 4 . stir 4 . stir 4 . stir 4 . stir 4 . stir 4 . stir 4 . stir 4 . stir 4 ; get stirring 4 . stir\n",
      "\n"
     ]
    }
   ],
   "source": [
    "evaluateRandomly(encoder1, attn_decoder1)"
   ]
  },
  {
   "cell_type": "markdown",
   "metadata": {},
   "source": [
    "Visualizing Attention\n",
    "---------------------\n",
    "\n",
    "A useful property of the attention mechanism is its highly interpretable\n",
    "outputs. Because it is used to weight specific encoder outputs of the\n",
    "input sequence, we can imagine looking where the network is focused most\n",
    "at each time step.\n",
    "\n",
    "You could simply run ``plt.matshow(attentions)`` to see attention output\n",
    "displayed as a matrix, with the columns being input steps and rows being\n",
    "output steps:\n",
    "\n",
    "\n"
   ]
  },
  {
   "cell_type": "code",
   "execution_count": null,
   "metadata": {},
   "outputs": [],
   "source": [
    "output_words, attentions = evaluate(\n",
    "    encoder1, attn_decoder1, \"je suis trop froid .\")\n",
    "plt.matshow(attentions.numpy())"
   ]
  },
  {
   "cell_type": "markdown",
   "metadata": {},
   "source": [
    "For a better viewing experience we will do the extra work of adding axes\n",
    "and labels:\n",
    "\n",
    "\n"
   ]
  },
  {
   "cell_type": "code",
   "execution_count": null,
   "metadata": {},
   "outputs": [],
   "source": [
    "def showAttention(input_sentence, output_words, attentions):\n",
    "    # Set up figure with colorbar\n",
    "    fig = plt.figure()\n",
    "    ax = fig.add_subplot(111)\n",
    "    cax = ax.matshow(attentions.numpy(), cmap='bone')\n",
    "    fig.colorbar(cax)\n",
    "\n",
    "    # Set up axes\n",
    "    ax.set_xticklabels([''] + input_sentence.split(' ') +\n",
    "                       ['<EOS>'], rotation=90)\n",
    "    ax.set_yticklabels([''] + output_words)\n",
    "\n",
    "    # Show label at every tick\n",
    "    ax.xaxis.set_major_locator(ticker.MultipleLocator(1))\n",
    "    ax.yaxis.set_major_locator(ticker.MultipleLocator(1))\n",
    "\n",
    "    plt.show()\n",
    "\n",
    "\n",
    "def evaluateAndShowAttention(input_sentence):\n",
    "    output_words, attentions = evaluate(\n",
    "        encoder1, attn_decoder1, input_sentence)\n",
    "    print('input =', input_sentence)\n",
    "    print('output =', ' '.join(output_words))\n",
    "    showAttention(input_sentence, output_words, attentions)\n",
    "\n",
    "\n",
    "# evaluateAndShowAttention(\"elle a cinq ans de moins que moi .\")\n",
    "\n",
    "# evaluateAndShowAttention(\"elle est trop petit .\")\n",
    "\n",
    "# evaluateAndShowAttention(\"je ne crains pas de mourir .\")\n",
    "\n",
    "# evaluateAndShowAttention(\"c est un jeune directeur plein de talent .\")"
   ]
  },
  {
   "cell_type": "code",
   "execution_count": null,
   "metadata": {},
   "outputs": [],
   "source": []
  }
 ],
 "metadata": {
  "kernelspec": {
   "display_name": "Python 3",
   "language": "python",
   "name": "python3"
  },
  "language_info": {
   "codemirror_mode": {
    "name": "ipython",
    "version": 3
   },
   "file_extension": ".py",
   "mimetype": "text/x-python",
   "name": "python",
   "nbconvert_exporter": "python",
   "pygments_lexer": "ipython3",
   "version": "3.7.4"
  }
 },
 "nbformat": 4,
 "nbformat_minor": 1
}
